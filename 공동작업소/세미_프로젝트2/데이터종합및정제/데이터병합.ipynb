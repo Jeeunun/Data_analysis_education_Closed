{
 "cells": [
  {
   "cell_type": "code",
   "execution_count": 2,
   "metadata": {},
   "outputs": [],
   "source": [
    "import pandas as pd\n",
    "import numpy as np"
   ]
  },
  {
   "cell_type": "markdown",
   "metadata": {},
   "source": [
    "제주관광공사 데이터"
   ]
  },
  {
   "cell_type": "code",
   "execution_count": 3,
   "metadata": {},
   "outputs": [],
   "source": [
    "# 숙박업,관광지,음식점 모두 있음\n",
    "Data1=pd.read_excel('../Database/제주관광공사_제주관광정보시스템(VISIT JEJU)_콘텐츠_20230315.xlsx')"
   ]
  },
  {
   "cell_type": "markdown",
   "metadata": {},
   "source": [
    "문화빅데이터 데이터"
   ]
  },
  {
   "cell_type": "code",
   "execution_count": 4,
   "metadata": {},
   "outputs": [],
   "source": [
    "#숙박업 2022/10\n",
    "Data2=pd.read_csv('../Database/HW_LDGS_DAIL_MAX_AVRG_MIN_PRC_INFO_202212-10.csv')\n",
    "#숙박업 2022/03\n",
    "Data2_1=pd.read_csv('../Database/HW_LDGS_DAIL_MAX_AVRG_MIN_PRC_INFO_202303-11.csv')"
   ]
  },
  {
   "cell_type": "markdown",
   "metadata": {},
   "source": [
    "제주데이터허브 데이터"
   ]
  },
  {
   "cell_type": "code",
   "execution_count": 6,
   "metadata": {},
   "outputs": [],
   "source": [
    "#음식점 평점\n",
    "Data3=pd.read_csv('../Database/NXE_3rd_ORIGIN_NXEGGRESTRTAL_20210101000000.csv')"
   ]
  },
  {
   "cell_type": "code",
   "execution_count": 7,
   "metadata": {},
   "outputs": [],
   "source": [
    "#숙박업 평점\n",
    "Data4=pd.read_csv('../Database/NXE_3rd_ORIGIN_NXEGGSTAYNGAL_20210101000000.csv')"
   ]
  },
  {
   "cell_type": "code",
   "execution_count": 8,
   "metadata": {},
   "outputs": [],
   "source": [
    "#관광지 평점\n",
    "Data5=pd.read_csv('../Database/NXE_3rd_ORIGIN_NXEGGTRRSRTAL_20210101000000.csv')"
   ]
  },
  {
   "cell_type": "markdown",
   "metadata": {},
   "source": [
    "# 데이터를 정리해보자"
   ]
  },
  {
   "cell_type": "markdown",
   "metadata": {},
   "source": [
    "## 숙박(실패...)"
   ]
  },
  {
   "cell_type": "code",
   "execution_count": 9,
   "metadata": {},
   "outputs": [
    {
     "data": {
      "text/plain": [
       "array(['숙박', '음식점', '관광지', '테마여행', '축제/행사', '쇼핑', '기타'], dtype=object)"
      ]
     },
     "execution_count": 9,
     "metadata": {},
     "output_type": "execute_result"
    }
   ],
   "source": [
    "data1=pd.DataFrame(Data1)\n",
    "data1[\"콘텐츠분류\"].unique()"
   ]
  },
  {
   "cell_type": "code",
   "execution_count": 43,
   "metadata": {},
   "outputs": [],
   "source": [
    "data2=pd.DataFrame(Data2)\n",
    "cols=data2.columns\n",
    "data2_1=pd.DataFrame(Data2_1)"
   ]
  },
  {
   "cell_type": "code",
   "execution_count": 44,
   "metadata": {},
   "outputs": [],
   "source": [
    "data2=data2.drop(columns=[cols[1],cols[5],cols[6]]).rename(columns={cols[0]:'이름',cols[2]:\"지역1\",cols[3]:\"지역2\",cols[4]:\"주소\"})\n",
    "data2_1=data2_1.drop(columns=[cols[1],cols[5],cols[6]]).rename(columns={cols[0]:'이름',cols[2]:\"지역1\",cols[3]:\"지역2\",cols[4]:\"주소\"})"
   ]
  },
  {
   "cell_type": "code",
   "execution_count": 60,
   "metadata": {},
   "outputs": [],
   "source": [
    "data2=data2[data2[\"지역1\"]==\"제주\"]\n",
    "data2_1=data2_1[data2_1[\"지역1\"]==\"제주\"]"
   ]
  },
  {
   "cell_type": "code",
   "execution_count": 64,
   "metadata": {},
   "outputs": [],
   "source": [
    "step1=pd.concat([data2,data2_1])"
   ]
  },
  {
   "cell_type": "code",
   "execution_count": null,
   "metadata": {},
   "outputs": [],
   "source": [
    "step1.groupby(\"이름\")['MIN_PRC'].apply(np.min)"
   ]
  },
  {
   "cell_type": "code",
   "execution_count": null,
   "metadata": {},
   "outputs": [],
   "source": [
    "step1.groupby(\"이름\")['AVRG_PRC'].apply(np.mean)"
   ]
  },
  {
   "cell_type": "markdown",
   "metadata": {},
   "source": [
    "## 데이터 preprocessing"
   ]
  },
  {
   "cell_type": "code",
   "execution_count": 110,
   "metadata": {},
   "outputs": [],
   "source": [
    "data3=pd.DataFrame(Data3)\n",
    "data4=pd.DataFrame(Data4)\n",
    "data5=pd.DataFrame(Data5)"
   ]
  },
  {
   "cell_type": "code",
   "execution_count": 129,
   "metadata": {},
   "outputs": [],
   "source": [
    "add=[]\n",
    "for x in [data3,data4,data5]:\n",
    "    add.append(list(x.columns)) "
   ]
  },
  {
   "cell_type": "code",
   "execution_count": 141,
   "metadata": {},
   "outputs": [],
   "source": [
    "add=list(map(lambda x: dict(zip([\"이름\",\"구분\",\"평점\",\"day1\"],x)),add))"
   ]
  },
  {
   "cell_type": "code",
   "execution_count": 123,
   "metadata": {},
   "outputs": [],
   "source": [
    "result=[]\n",
    "for x in [data3,data4,data5]:\n",
    "    result.append(x.rename(columns=dict(zip(x.columns,[\"이름\",\"구분\",\"평점\",\"구분1\",\"day1\",\"day2\"]))).drop(columns=[\"구분1\",\"day2\"]))"
   ]
  },
  {
   "cell_type": "code",
   "execution_count": 154,
   "metadata": {},
   "outputs": [],
   "source": [
    "for i in range(3):\n",
    "    result[i].loc[len(result[2].index+1)]=add[i]"
   ]
  },
  {
   "cell_type": "code",
   "execution_count": 167,
   "metadata": {},
   "outputs": [],
   "source": [
    "for i in range(3):\n",
    "    result[i][\"평점\"]=result[i][\"평점\"].astype(\"float\")"
   ]
  },
  {
   "cell_type": "markdown",
   "metadata": {},
   "source": [
    "## 숙박"
   ]
  },
  {
   "cell_type": "code",
   "execution_count": 185,
   "metadata": {},
   "outputs": [],
   "source": [
    "test1=pd.DataFrame(result[1].groupby(\"이름\")[\"평점\"].mean())\n",
    "test1.index.name=\"기준\"\n",
    "test2=data1[data1[\"콘텐츠분류\"]==\"숙박\"].set_index(\"제목\")\n",
    "test2.index.name=\"기준\"\n",
    "test3=pd.merge(test2,test1,how=\"left\")"
   ]
  },
  {
   "cell_type": "code",
   "execution_count": 198,
   "metadata": {},
   "outputs": [],
   "source": [
    "test3.to_excel('../수정데이터/숙박(평점포함).xlsx')"
   ]
  },
  {
   "cell_type": "markdown",
   "metadata": {},
   "source": [
    "## 음식점"
   ]
  },
  {
   "cell_type": "code",
   "execution_count": 200,
   "metadata": {},
   "outputs": [],
   "source": [
    "test1=pd.DataFrame(result[0].groupby(\"이름\")[\"평점\"].mean())\n",
    "test1.index.name=\"기준\""
   ]
  },
  {
   "cell_type": "code",
   "execution_count": 203,
   "metadata": {},
   "outputs": [],
   "source": [
    "test2=data1[data1[\"콘텐츠분류\"]==\"음식점\"].set_index(\"제목\")\n",
    "test2.index.name=\"기준\""
   ]
  },
  {
   "cell_type": "code",
   "execution_count": 205,
   "metadata": {},
   "outputs": [],
   "source": [
    "test3=pd.merge(test2,test1,how=\"left\")"
   ]
  },
  {
   "cell_type": "code",
   "execution_count": 206,
   "metadata": {},
   "outputs": [],
   "source": [
    "test3.to_excel('../수정데이터/음식점(평점포함).xlsx')"
   ]
  },
  {
   "cell_type": "markdown",
   "metadata": {},
   "source": [
    "## 관광지"
   ]
  },
  {
   "cell_type": "code",
   "execution_count": 207,
   "metadata": {},
   "outputs": [],
   "source": [
    "test1=pd.DataFrame(result[2].groupby(\"이름\")[\"평점\"].mean())\n",
    "test1.index.name=\"기준\""
   ]
  },
  {
   "cell_type": "code",
   "execution_count": 210,
   "metadata": {},
   "outputs": [],
   "source": [
    "test2=data1[data1[\"콘텐츠분류\"]==\"관광지\"].set_index(\"제목\")\n",
    "test2.index.name=\"기준\""
   ]
  },
  {
   "cell_type": "code",
   "execution_count": 212,
   "metadata": {},
   "outputs": [],
   "source": [
    "test3=pd.merge(test2,test1,how=\"left\")"
   ]
  },
  {
   "cell_type": "code",
   "execution_count": 213,
   "metadata": {},
   "outputs": [],
   "source": [
    "test3.to_excel('../수정데이터/관광지(평점포함).xlsx')"
   ]
  },
  {
   "cell_type": "markdown",
   "metadata": {},
   "source": [
    "### 마지막 전처리"
   ]
  },
  {
   "cell_type": "code",
   "execution_count": null,
   "metadata": {},
   "outputs": [],
   "source": [
    "data=pd.DataFrame(A)\n",
    "drop_cols=[data.columns[i] for i in sum([list(range(26,42)),\n",
    "                                         list(range(51,73))],[])]\n",
    "drop_cols.extend(sum([\n",
    "[\"웹사용여부\",\"모바일사용여부\",\"작성상태\",'사용여부','공개여부','트립어드바이저코드','템플릿여부'],\n",
    "[\"콘텐츠아이디\",\"연관콘텐츠\",\"외부검색어\",'번역요청일시'],\n",
    "[\"언어\",\"작성상태_1\",\"수정자\",\"수정일시\",\"우편번호\"],\n",
    "[\"웹사용여부\",\"모바일사용여부\",\"작성상태\",'사용여부','공개여부','트립어드바이저코드','템플릿여부']],[]))\n",
    "Use_data=data.drop(columns=drop_cols)"
   ]
  },
  {
   "cell_type": "code",
   "execution_count": 214,
   "metadata": {},
   "outputs": [],
   "source": [
    "result={}\n",
    "for name in [\"숙박\",\"음식점\",\"관광지\"]:\n",
    "    data=pd.read_excel(f\"../수정데이터/{name}(평점포함).xlsx\")\n",
    "    drop_cols=[data.columns[i] for i in sum([list(range(26,42)),\n",
    "                                         list(range(51,73))],[])]\n",
    "    drop_cols.extend(sum([\n",
    "    [\"웹사용여부\",\"모바일사용여부\",\"작성상태\",'사용여부','공개여부','트립어드바이저코드','템플릿여부'],\n",
    "    [\"콘텐츠아이디\",\"연관콘텐츠\",\"외부검색어\",'번역요청일시'],\n",
    "    [\"언어\",\"작성상태_1\",\"수정자\",\"수정일시\",\"우편번호\"],\n",
    "    [\"웹사용여부\",\"모바일사용여부\",\"작성상태\",'사용여부','공개여부','트립어드바이저코드','템플릿여부']],[]))\n",
    "    Use_data=data.drop(columns=drop_cols)\n",
    "    Use_data=Use_data[(Use_data[\"지번주소\"].isna()==False)&(Use_data[\"도로명주소\"].isna()==False)]\n",
    "    result[name]=Use_data[Use_data[\"콘텐츠분류\"]==name]"
   ]
  },
  {
   "cell_type": "code",
   "execution_count": 216,
   "metadata": {},
   "outputs": [],
   "source": [
    "for name in result:\n",
    "    result[name].to_excel(f\"../수정데이터/{name}(최종).xlsx\")"
   ]
  },
  {
   "cell_type": "code",
   "execution_count": null,
   "metadata": {},
   "outputs": [],
   "source": []
  }
 ],
 "metadata": {
  "kernelspec": {
   "display_name": "Python 3",
   "language": "python",
   "name": "python3"
  },
  "language_info": {
   "codemirror_mode": {
    "name": "ipython",
    "version": 3
   },
   "file_extension": ".py",
   "mimetype": "text/x-python",
   "name": "python",
   "nbconvert_exporter": "python",
   "pygments_lexer": "ipython3",
   "version": "3.11.3"
  },
  "orig_nbformat": 4
 },
 "nbformat": 4,
 "nbformat_minor": 2
}
