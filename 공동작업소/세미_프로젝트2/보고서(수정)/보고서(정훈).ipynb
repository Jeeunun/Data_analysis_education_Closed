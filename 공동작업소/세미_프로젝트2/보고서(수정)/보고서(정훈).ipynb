{
 "cells": [
  {
   "cell_type": "markdown",
   "metadata": {},
   "source": [
    "> # <b>*세미프로젝트*<b> "
   ]
  },
  {
   "cell_type": "markdown",
   "metadata": {},
   "source": [
    "> ## <span style = 'font-size:40px'> <b>1. 분석개요<b> </span>"
   ]
  },
  {
   "cell_type": "markdown",
   "metadata": {},
   "source": [
    "### 1) 분석의 배경 및 목적 "
   ]
  },
  {
   "cell_type": "markdown",
   "metadata": {},
   "source": [
    "#### 주제선정 이유 : \n",
    "배경 > 관광산업이 주인 `제주도`에는 숙박, 관광, 식당 등 관광객이 선택할 수 있는 폭이 넓다. <br>\n",
    "정보의 홍수 속 관광객들은 어떤 기준으로 소비를 하는 것일까 궁금증을 갖게 되었다. <br>\n",
    "\n",
    "의문점 > \n",
    "2019년 한 조사에 따르면, 제주도 숙소를 선택하는 기준에 대해 `합리적인 가격`에 약 40%가 응답했다. <br>\n",
    "합리적인 가격 외에 숙소를 선택하는 기준은 무엇이 있을까? <br>"
   ]
  },
  {
   "cell_type": "markdown",
   "metadata": {},
   "source": [
    "#### 알고자 하는 내용: \n",
    "- 호텔의 평점을 소비자의 만족도라 가정했을 때, 소비자의 만족도에 영향을 미치는 요인은 무엇일까? <br>\n",
    "우리는  <Br>\n",
    "*(1) 호텔 평점에 영향을 미칠것으로 보이는 요인*   \n",
    "*(2) 호텔 평점과 공항과의 거리(소요시간)과의 관계*  \n",
    "*(3) 호텔 평점과 관광지와의 거리(소요시간)과의 관계* 를 알아보고 소비자의 만족도를 알아보고자 한다.\n",
    "- 호텔을 선택하는 기준 중 `합리적인 가격` 이외의 요인들을 살펴보고자 한다.    "
   ]
  },
  {
   "cell_type": "markdown",
   "metadata": {},
   "source": []
  }
 ],
 "metadata": {
  "kernelspec": {
   "display_name": "Python 3",
   "language": "python",
   "name": "python3"
  },
  "language_info": {
   "codemirror_mode": {
    "name": "ipython",
    "version": 3
   },
   "file_extension": ".py",
   "mimetype": "text/x-python",
   "name": "python",
   "nbconvert_exporter": "python",
   "pygments_lexer": "ipython3",
   "version": "3.11.3"
  },
  "orig_nbformat": 4
 },
 "nbformat": 4,
 "nbformat_minor": 2
}
