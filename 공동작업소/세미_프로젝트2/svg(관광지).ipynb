{
 "cells": [
  {
   "cell_type": "code",
   "execution_count": 1,
   "metadata": {},
   "outputs": [],
   "source": [
    "import pandas as pd\n",
    "import numpy as np\n",
    "add_url='C:/Users/SAMSUNG/Desktop/DataAnalysis/my_projects/02_semi_project2/'\n",
    "Data=pd.read_excel(\"C:/Users/SAMSUNG/Desktop/DataAnalysis/my_projects/02_semi_project2/관광지.xlsx\")\n",
    "data=pd.DataFrame(Data)"
   ]
  },
  {
   "cell_type": "markdown",
   "metadata": {},
   "source": [
    "> 겹치는게 없다.."
   ]
  },
  {
   "cell_type": "markdown",
   "metadata": {},
   "source": [
    "### 데이터 전처리\n",
    ">제주도 주소가 아닌 곳을 제외"
   ]
  },
  {
   "cell_type": "code",
   "execution_count": 2,
   "metadata": {},
   "outputs": [],
   "source": [
    "data=data[data[\"지번주소\"].str.find(\"제주특별\")!=-1]\n",
    "data.drop(columns=\"Unnamed: 0\",inplace=True)\n",
    "data[\"행정구역\"]=np.nan"
   ]
  },
  {
   "cell_type": "markdown",
   "metadata": {},
   "source": [
    "> 진짜 고생했네 ㅜㅜㅋㅋ"
   ]
  },
  {
   "cell_type": "code",
   "execution_count": 3,
   "metadata": {},
   "outputs": [],
   "source": [
    "행정구역 = {'구좌':'구좌',\n",
    "  '조천':'조천', \n",
    "  '화북': '동제주','봉개':'동제주', '회천':'동제주','용강':'동제주',\n",
    "  '오라':'중제주','아라':'중제주','오등':'중제주','화북':'중제주','이도':'중제주','건입':'중제주','삼도':'중제주','용담':'중제주','일도':'중제주', \n",
    "  '도두':'서제주','이호':'서제주','외도':'서제주','내도':'서제주','도평':'서제주','노형':'서제주','연동':'서제주','강정':'서제주','도순':'서제주',\n",
    "  '영남':'서제주','월평':'서제주','해안':'서제주', '노형':'서제주',\n",
    "  '애월' :'애월',\n",
    "  '성산':'성산',\n",
    "  '한림':'한림',\n",
    "  '표선':'표선',\n",
    "  '남원':'남원',\n",
    "  '한경':'한경',\n",
    "  '안덕':'안덕',\n",
    "  '영천':'동서귀','동흥':'동서귀','효돈':'동서귀','송산':'동서귀','신효':'동서귀','하효':'동서귀','서귀':'동서귀','보목':'동서귀','동홍':'동서귀',\n",
    "  '대천':'중서귀','대륜':'중서귀','서홍':'중서귀', '강정':'중서귀','법환':'중서귀','서호':'중서귀','호근':'중서귀',\n",
    "  '여래':'서서귀','중문':'서서귀','회수':'서서귀', '하원':'서서귀','대포':'서서귀', '색달':'서서귀', '하예':'서서귀', '상예':'서서귀',  \n",
    "  '대정':'대정'}"
   ]
  },
  {
   "cell_type": "code",
   "execution_count": 4,
   "metadata": {},
   "outputs": [],
   "source": [
    "def trans(x):\n",
    "    for i in 행정구역.keys():\n",
    "        try:\n",
    "            if i in x:\n",
    "                return 행정구역[i]\n",
    "        except:\n",
    "            break"
   ]
  },
  {
   "cell_type": "code",
   "execution_count": 5,
   "metadata": {},
   "outputs": [],
   "source": [
    "# 지번주소\n",
    "error=[]\n",
    "data[\"행정구역\"]=data[\"지번주소\"].apply(lambda x:trans(x))"
   ]
  },
  {
   "cell_type": "code",
   "execution_count": 6,
   "metadata": {},
   "outputs": [],
   "source": [
    "# 도로명주소\n",
    "data.loc[data[\"행정구역\"].isna(),\"행정구역\"]=data[data[\"행정구역\"].isna()].apply(lambda x:trans(x))"
   ]
  },
  {
   "cell_type": "markdown",
   "metadata": {},
   "source": [
    "### 시각화 작업"
   ]
  },
  {
   "cell_type": "code",
   "execution_count": 7,
   "metadata": {},
   "outputs": [],
   "source": [
    "from IPython.display import SVG\n",
    "from bs4 import BeautifulSoup\n",
    "import requests\n",
    "import pandas as pd\n",
    "import numpy as np\n",
    "import os"
   ]
  },
  {
   "cell_type": "markdown",
   "metadata": {},
   "source": [
    "#### 행정구역별"
   ]
  },
  {
   "cell_type": "code",
   "execution_count": 8,
   "metadata": {},
   "outputs": [],
   "source": [
    "colors = ['#ffeecc', '#ffd480', '#ffbb33', '#ffaa00', '#e69900']"
   ]
  },
  {
   "cell_type": "markdown",
   "metadata": {},
   "source": [
    "#### histogram 을 이용한 구간 설정\n",
    "> 좀더 상세히 혹은 덜 나눠야 보기 좋을듯 "
   ]
  },
  {
   "cell_type": "code",
   "execution_count": 9,
   "metadata": {},
   "outputs": [],
   "source": [
    "color_rule=pd.merge(pd.DataFrame(set(행정구역.values())).set_index(0),pd.DataFrame(data[\"행정구역\"].value_counts()),\n",
    "                    how=\"left\",left_index=True,right_index=True).fillna(0)"
   ]
  },
  {
   "cell_type": "code",
   "execution_count": 10,
   "metadata": {},
   "outputs": [],
   "source": [
    "x,y=np.histogram(color_rule[\"count\"].values,bins=5)"
   ]
  },
  {
   "cell_type": "code",
   "execution_count": 11,
   "metadata": {},
   "outputs": [
    {
     "data": {
      "text/plain": [
       "array([  0. ,  50.8, 101.6, 152.4, 203.2, 254. ])"
      ]
     },
     "execution_count": 11,
     "metadata": {},
     "output_type": "execute_result"
    }
   ],
   "source": [
    "y"
   ]
  },
  {
   "cell_type": "code",
   "execution_count": 12,
   "metadata": {},
   "outputs": [],
   "source": [
    "dc=dict(zip(y[:-1],colors))"
   ]
  },
  {
   "cell_type": "code",
   "execution_count": 13,
   "metadata": {},
   "outputs": [],
   "source": [
    "for name in color_rule.index:\n",
    "    for i in y[:-1]:\n",
    "        if color_rule.loc[name]['count']>=i:\n",
    "            color_rule.loc[name,'color_id']=i"
   ]
  },
  {
   "cell_type": "markdown",
   "metadata": {},
   "source": [
    "색상 입히기"
   ]
  },
  {
   "cell_type": "code",
   "execution_count": 14,
   "metadata": {},
   "outputs": [
    {
     "data": {
      "text/html": [
       "<div>\n",
       "<style scoped>\n",
       "    .dataframe tbody tr th:only-of-type {\n",
       "        vertical-align: middle;\n",
       "    }\n",
       "\n",
       "    .dataframe tbody tr th {\n",
       "        vertical-align: top;\n",
       "    }\n",
       "\n",
       "    .dataframe thead th {\n",
       "        text-align: right;\n",
       "    }\n",
       "</style>\n",
       "<table border=\"1\" class=\"dataframe\">\n",
       "  <thead>\n",
       "    <tr style=\"text-align: right;\">\n",
       "      <th></th>\n",
       "      <th>count</th>\n",
       "      <th>color_id</th>\n",
       "    </tr>\n",
       "    <tr>\n",
       "      <th>0</th>\n",
       "      <th></th>\n",
       "      <th></th>\n",
       "    </tr>\n",
       "  </thead>\n",
       "  <tbody>\n",
       "    <tr>\n",
       "      <th>안덕</th>\n",
       "      <td>104.0</td>\n",
       "      <td>101.6</td>\n",
       "    </tr>\n",
       "    <tr>\n",
       "      <th>한경</th>\n",
       "      <td>60.0</td>\n",
       "      <td>50.8</td>\n",
       "    </tr>\n",
       "    <tr>\n",
       "      <th>동제주</th>\n",
       "      <td>22.0</td>\n",
       "      <td>0.0</td>\n",
       "    </tr>\n",
       "    <tr>\n",
       "      <th>조천</th>\n",
       "      <td>98.0</td>\n",
       "      <td>50.8</td>\n",
       "    </tr>\n",
       "    <tr>\n",
       "      <th>중제주</th>\n",
       "      <td>108.0</td>\n",
       "      <td>101.6</td>\n",
       "    </tr>\n",
       "    <tr>\n",
       "      <th>애월</th>\n",
       "      <td>108.0</td>\n",
       "      <td>101.6</td>\n",
       "    </tr>\n",
       "    <tr>\n",
       "      <th>서서귀</th>\n",
       "      <td>0.0</td>\n",
       "      <td>0.0</td>\n",
       "    </tr>\n",
       "    <tr>\n",
       "      <th>남원</th>\n",
       "      <td>63.0</td>\n",
       "      <td>50.8</td>\n",
       "    </tr>\n",
       "    <tr>\n",
       "      <th>대정</th>\n",
       "      <td>0.0</td>\n",
       "      <td>0.0</td>\n",
       "    </tr>\n",
       "    <tr>\n",
       "      <th>서제주</th>\n",
       "      <td>95.0</td>\n",
       "      <td>50.8</td>\n",
       "    </tr>\n",
       "    <tr>\n",
       "      <th>표선</th>\n",
       "      <td>55.0</td>\n",
       "      <td>50.8</td>\n",
       "    </tr>\n",
       "    <tr>\n",
       "      <th>구좌</th>\n",
       "      <td>95.0</td>\n",
       "      <td>50.8</td>\n",
       "    </tr>\n",
       "    <tr>\n",
       "      <th>한림</th>\n",
       "      <td>68.0</td>\n",
       "      <td>50.8</td>\n",
       "    </tr>\n",
       "    <tr>\n",
       "      <th>중서귀</th>\n",
       "      <td>11.0</td>\n",
       "      <td>0.0</td>\n",
       "    </tr>\n",
       "    <tr>\n",
       "      <th>성산</th>\n",
       "      <td>67.0</td>\n",
       "      <td>50.8</td>\n",
       "    </tr>\n",
       "    <tr>\n",
       "      <th>동서귀</th>\n",
       "      <td>254.0</td>\n",
       "      <td>203.2</td>\n",
       "    </tr>\n",
       "  </tbody>\n",
       "</table>\n",
       "</div>"
      ],
      "text/plain": [
       "     count  color_id\n",
       "0                   \n",
       "안덕   104.0     101.6\n",
       "한경    60.0      50.8\n",
       "동제주   22.0       0.0\n",
       "조천    98.0      50.8\n",
       "중제주  108.0     101.6\n",
       "애월   108.0     101.6\n",
       "서서귀    0.0       0.0\n",
       "남원    63.0      50.8\n",
       "대정     0.0       0.0\n",
       "서제주   95.0      50.8\n",
       "표선    55.0      50.8\n",
       "구좌    95.0      50.8\n",
       "한림    68.0      50.8\n",
       "중서귀   11.0       0.0\n",
       "성산    67.0      50.8\n",
       "동서귀  254.0     203.2"
      ]
     },
     "execution_count": 14,
     "metadata": {},
     "output_type": "execute_result"
    }
   ],
   "source": [
    "color_rule"
   ]
  },
  {
   "cell_type": "code",
   "execution_count": 15,
   "metadata": {},
   "outputs": [],
   "source": [
    "with open(\"./제주.svg\",\"r\",encoding=\"utf-8\") as f:\n",
    "    jeju_map=f.readlines()"
   ]
  },
  {
   "cell_type": "code",
   "execution_count": 16,
   "metadata": {},
   "outputs": [],
   "source": [
    "for name in color_rule.index:\n",
    "    idx=[]\n",
    "    for i in range(len(jeju_map)):\n",
    "        if name in jeju_map[i]:\n",
    "            idx.append(i)\n",
    "    for j in map(lambda x:x+1,idx):\n",
    "        jeju_map[j]=jeju_map[j].replace(\"#eeeeee\",dc[color_rule.loc[name][\"color_id\"]])"
   ]
  },
  {
   "cell_type": "code",
   "execution_count": 17,
   "metadata": {},
   "outputs": [],
   "source": [
    "with open(\"관광지시각화test.html\",\"w\") as f:\n",
    "    for line in jeju_map:\n",
    "        f.write(line)"
   ]
  },
  {
   "cell_type": "code",
   "execution_count": 18,
   "metadata": {},
   "outputs": [
    {
     "data": {
      "text/plain": [
       "{'구좌',\n",
       " '남원',\n",
       " '대정',\n",
       " '동서귀',\n",
       " '동제주',\n",
       " '서서귀',\n",
       " '서제주',\n",
       " '성산',\n",
       " '안덕',\n",
       " '애월',\n",
       " '조천',\n",
       " '중서귀',\n",
       " '중제주',\n",
       " '표선',\n",
       " '한경',\n",
       " '한림'}"
      ]
     },
     "execution_count": 18,
     "metadata": {},
     "output_type": "execute_result"
    }
   ],
   "source": [
    "set(행정구역.values())"
   ]
  },
  {
   "cell_type": "code",
   "execution_count": 19,
   "metadata": {},
   "outputs": [
    {
     "data": {
      "text/plain": [
       "행정구역\n",
       "동서귀    254\n",
       "애월     108\n",
       "중제주    108\n",
       "안덕     104\n",
       "조천      98\n",
       "서제주     95\n",
       "구좌      95\n",
       "한림      68\n",
       "성산      67\n",
       "남원      63\n",
       "한경      60\n",
       "표선      55\n",
       "동제주     22\n",
       "중서귀     11\n",
       "Name: count, dtype: int64"
      ]
     },
     "execution_count": 19,
     "metadata": {},
     "output_type": "execute_result"
    }
   ],
   "source": [
    "data[\"행정구역\"].value_counts()"
   ]
  },
  {
   "cell_type": "code",
   "execution_count": null,
   "metadata": {},
   "outputs": [],
   "source": []
  }
 ],
 "metadata": {
  "kernelspec": {
   "display_name": "Python 3",
   "language": "python",
   "name": "python3"
  },
  "language_info": {
   "codemirror_mode": {
    "name": "ipython",
    "version": 3
   },
   "file_extension": ".py",
   "mimetype": "text/x-python",
   "name": "python",
   "nbconvert_exporter": "python",
   "pygments_lexer": "ipython3",
   "version": "3.11.3"
  },
  "orig_nbformat": 4
 },
 "nbformat": 4,
 "nbformat_minor": 2
}
