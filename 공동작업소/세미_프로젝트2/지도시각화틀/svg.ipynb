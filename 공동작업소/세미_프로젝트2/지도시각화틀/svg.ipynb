{
 "cells": [
  {
   "cell_type": "code",
   "execution_count": 7,
   "metadata": {},
   "outputs": [],
   "source": [
    "import pandas as pd\n",
    "# add_url='C:/Users/SAMSUNG/Desktop/DataAnalysis/my_projects/02_semi_project2/'\n",
    "Data=pd.read_excel(\"C:/Users/hanjieun_2/Desktop/데이터분석/공동작업소/세미_프로젝트2/숙박2.xlsx\")\n",
    "data=pd.DataFrame(Data)"
   ]
  },
  {
   "cell_type": "code",
   "execution_count": 11,
   "metadata": {},
   "outputs": [
    {
     "data": {
      "text/html": [
       "<div>\n",
       "<style scoped>\n",
       "    .dataframe tbody tr th:only-of-type {\n",
       "        vertical-align: middle;\n",
       "    }\n",
       "\n",
       "    .dataframe tbody tr th {\n",
       "        vertical-align: top;\n",
       "    }\n",
       "\n",
       "    .dataframe thead th {\n",
       "        text-align: right;\n",
       "    }\n",
       "</style>\n",
       "<table border=\"1\" class=\"dataframe\">\n",
       "  <thead>\n",
       "    <tr style=\"text-align: right;\">\n",
       "      <th></th>\n",
       "      <th>Unnamed: 0</th>\n",
       "      <th>place_name</th>\n",
       "      <th>address_name</th>\n",
       "    </tr>\n",
       "  </thead>\n",
       "  <tbody>\n",
       "    <tr>\n",
       "      <th>0</th>\n",
       "      <td>0</td>\n",
       "      <td>하니크라운호텔</td>\n",
       "      <td>제주특별자치도 제주시 이도일동 1315</td>\n",
       "    </tr>\n",
       "    <tr>\n",
       "      <th>1</th>\n",
       "      <td>1</td>\n",
       "      <td>제주썬호텔&amp;카지노</td>\n",
       "      <td>제주특별자치도 제주시 연동 291-30</td>\n",
       "    </tr>\n",
       "    <tr>\n",
       "      <th>2</th>\n",
       "      <td>2</td>\n",
       "      <td>제주로얄호텔</td>\n",
       "      <td>제주특별자치도 제주시 연동 272-34</td>\n",
       "    </tr>\n",
       "    <tr>\n",
       "      <th>3</th>\n",
       "      <td>3</td>\n",
       "      <td>제주팔레스호텔</td>\n",
       "      <td>제주특별자치도 제주시 삼도2동 1192-18</td>\n",
       "    </tr>\n",
       "    <tr>\n",
       "      <th>4</th>\n",
       "      <td>4</td>\n",
       "      <td>펄호텔 제주</td>\n",
       "      <td>제주특별자치도 제주시 연동 277-1</td>\n",
       "    </tr>\n",
       "    <tr>\n",
       "      <th>...</th>\n",
       "      <td>...</td>\n",
       "      <td>...</td>\n",
       "      <td>...</td>\n",
       "    </tr>\n",
       "    <tr>\n",
       "      <th>812</th>\n",
       "      <td>812</td>\n",
       "      <td>바이더힐펜션</td>\n",
       "      <td>제주특별자치도 제주시 애월읍 유수암리 2049-1</td>\n",
       "    </tr>\n",
       "    <tr>\n",
       "      <th>813</th>\n",
       "      <td>813</td>\n",
       "      <td>제주담스파빌</td>\n",
       "      <td>제주특별자치도 제주시 한림읍 금능리 1803-2</td>\n",
       "    </tr>\n",
       "    <tr>\n",
       "      <th>814</th>\n",
       "      <td>814</td>\n",
       "      <td>소서제주 745</td>\n",
       "      <td>제주특별자치도 제주시 애월읍 유수암리 719-9</td>\n",
       "    </tr>\n",
       "    <tr>\n",
       "      <th>815</th>\n",
       "      <td>815</td>\n",
       "      <td>브라운캐빈</td>\n",
       "      <td>제주특별자치도 제주시 애월읍 상가리 54-2</td>\n",
       "    </tr>\n",
       "    <tr>\n",
       "      <th>816</th>\n",
       "      <td>816</td>\n",
       "      <td>블루하와이리조트</td>\n",
       "      <td>제주특별자치도 제주시 한림읍 금능리 2005</td>\n",
       "    </tr>\n",
       "  </tbody>\n",
       "</table>\n",
       "<p>817 rows × 3 columns</p>\n",
       "</div>"
      ],
      "text/plain": [
       "     Unnamed: 0 place_name                 address_name\n",
       "0             0    하니크라운호텔        제주특별자치도 제주시 이도일동 1315\n",
       "1             1  제주썬호텔&카지노        제주특별자치도 제주시 연동 291-30\n",
       "2             2     제주로얄호텔        제주특별자치도 제주시 연동 272-34\n",
       "3             3    제주팔레스호텔     제주특별자치도 제주시 삼도2동 1192-18\n",
       "4             4     펄호텔 제주         제주특별자치도 제주시 연동 277-1\n",
       "..          ...        ...                          ...\n",
       "812         812     바이더힐펜션  제주특별자치도 제주시 애월읍 유수암리 2049-1\n",
       "813         813     제주담스파빌   제주특별자치도 제주시 한림읍 금능리 1803-2\n",
       "814         814   소서제주 745   제주특별자치도 제주시 애월읍 유수암리 719-9\n",
       "815         815      브라운캐빈     제주특별자치도 제주시 애월읍 상가리 54-2\n",
       "816         816   블루하와이리조트     제주특별자치도 제주시 한림읍 금능리 2005\n",
       "\n",
       "[817 rows x 3 columns]"
      ]
     },
     "execution_count": 11,
     "metadata": {},
     "output_type": "execute_result"
    }
   ],
   "source": [
    "data"
   ]
  },
  {
   "cell_type": "code",
   "execution_count": 18,
   "metadata": {},
   "outputs": [],
   "source": [
    "data.drop('Unnamed: 0',axis=1, inplace=True)"
   ]
  },
  {
   "cell_type": "code",
   "execution_count": 26,
   "metadata": {},
   "outputs": [],
   "source": [
    "data.rename(columns = {'place_name':'제목', 'address_name': '지번주소'}, inplace=True)"
   ]
  },
  {
   "cell_type": "code",
   "execution_count": 27,
   "metadata": {},
   "outputs": [
    {
     "data": {
      "text/html": [
       "<div>\n",
       "<style scoped>\n",
       "    .dataframe tbody tr th:only-of-type {\n",
       "        vertical-align: middle;\n",
       "    }\n",
       "\n",
       "    .dataframe tbody tr th {\n",
       "        vertical-align: top;\n",
       "    }\n",
       "\n",
       "    .dataframe thead th {\n",
       "        text-align: right;\n",
       "    }\n",
       "</style>\n",
       "<table border=\"1\" class=\"dataframe\">\n",
       "  <thead>\n",
       "    <tr style=\"text-align: right;\">\n",
       "      <th></th>\n",
       "      <th>제목</th>\n",
       "      <th>지번주소</th>\n",
       "    </tr>\n",
       "  </thead>\n",
       "  <tbody>\n",
       "    <tr>\n",
       "      <th>0</th>\n",
       "      <td>하니크라운호텔</td>\n",
       "      <td>제주특별자치도 제주시 이도일동 1315</td>\n",
       "    </tr>\n",
       "    <tr>\n",
       "      <th>1</th>\n",
       "      <td>제주썬호텔&amp;카지노</td>\n",
       "      <td>제주특별자치도 제주시 연동 291-30</td>\n",
       "    </tr>\n",
       "    <tr>\n",
       "      <th>2</th>\n",
       "      <td>제주로얄호텔</td>\n",
       "      <td>제주특별자치도 제주시 연동 272-34</td>\n",
       "    </tr>\n",
       "    <tr>\n",
       "      <th>3</th>\n",
       "      <td>제주팔레스호텔</td>\n",
       "      <td>제주특별자치도 제주시 삼도2동 1192-18</td>\n",
       "    </tr>\n",
       "    <tr>\n",
       "      <th>4</th>\n",
       "      <td>펄호텔 제주</td>\n",
       "      <td>제주특별자치도 제주시 연동 277-1</td>\n",
       "    </tr>\n",
       "    <tr>\n",
       "      <th>...</th>\n",
       "      <td>...</td>\n",
       "      <td>...</td>\n",
       "    </tr>\n",
       "    <tr>\n",
       "      <th>812</th>\n",
       "      <td>바이더힐펜션</td>\n",
       "      <td>제주특별자치도 제주시 애월읍 유수암리 2049-1</td>\n",
       "    </tr>\n",
       "    <tr>\n",
       "      <th>813</th>\n",
       "      <td>제주담스파빌</td>\n",
       "      <td>제주특별자치도 제주시 한림읍 금능리 1803-2</td>\n",
       "    </tr>\n",
       "    <tr>\n",
       "      <th>814</th>\n",
       "      <td>소서제주 745</td>\n",
       "      <td>제주특별자치도 제주시 애월읍 유수암리 719-9</td>\n",
       "    </tr>\n",
       "    <tr>\n",
       "      <th>815</th>\n",
       "      <td>브라운캐빈</td>\n",
       "      <td>제주특별자치도 제주시 애월읍 상가리 54-2</td>\n",
       "    </tr>\n",
       "    <tr>\n",
       "      <th>816</th>\n",
       "      <td>블루하와이리조트</td>\n",
       "      <td>제주특별자치도 제주시 한림읍 금능리 2005</td>\n",
       "    </tr>\n",
       "  </tbody>\n",
       "</table>\n",
       "<p>817 rows × 2 columns</p>\n",
       "</div>"
      ],
      "text/plain": [
       "            제목                         지번주소\n",
       "0      하니크라운호텔        제주특별자치도 제주시 이도일동 1315\n",
       "1    제주썬호텔&카지노        제주특별자치도 제주시 연동 291-30\n",
       "2       제주로얄호텔        제주특별자치도 제주시 연동 272-34\n",
       "3      제주팔레스호텔     제주특별자치도 제주시 삼도2동 1192-18\n",
       "4       펄호텔 제주         제주특별자치도 제주시 연동 277-1\n",
       "..         ...                          ...\n",
       "812     바이더힐펜션  제주특별자치도 제주시 애월읍 유수암리 2049-1\n",
       "813     제주담스파빌   제주특별자치도 제주시 한림읍 금능리 1803-2\n",
       "814   소서제주 745   제주특별자치도 제주시 애월읍 유수암리 719-9\n",
       "815      브라운캐빈     제주특별자치도 제주시 애월읍 상가리 54-2\n",
       "816   블루하와이리조트     제주특별자치도 제주시 한림읍 금능리 2005\n",
       "\n",
       "[817 rows x 2 columns]"
      ]
     },
     "execution_count": 27,
     "metadata": {},
     "output_type": "execute_result"
    }
   ],
   "source": [
    "data"
   ]
  },
  {
   "cell_type": "code",
   "execution_count": 21,
   "metadata": {},
   "outputs": [],
   "source": [
    "Data2=pd.read_excel(\"C:/Users/hanjieun_2/Desktop/데이터분석/공동작업소/세미_프로젝트2/숙박3-1.xlsx\")\n",
    "add_data=pd.DataFrame(Data2)\n",
    "add_data.drop(columns=add_data.columns[:2],inplace=True)\n",
    "add_data.rename(columns=dict(zip(add_data.columns,[\"제목\",\"지번주소\"])),inplace=True)"
   ]
  },
  {
   "cell_type": "code",
   "execution_count": 22,
   "metadata": {},
   "outputs": [
    {
     "data": {
      "text/html": [
       "<div>\n",
       "<style scoped>\n",
       "    .dataframe tbody tr th:only-of-type {\n",
       "        vertical-align: middle;\n",
       "    }\n",
       "\n",
       "    .dataframe tbody tr th {\n",
       "        vertical-align: top;\n",
       "    }\n",
       "\n",
       "    .dataframe thead th {\n",
       "        text-align: right;\n",
       "    }\n",
       "</style>\n",
       "<table border=\"1\" class=\"dataframe\">\n",
       "  <thead>\n",
       "    <tr style=\"text-align: right;\">\n",
       "      <th></th>\n",
       "      <th>제목</th>\n",
       "      <th>지번주소</th>\n",
       "    </tr>\n",
       "  </thead>\n",
       "  <tbody>\n",
       "    <tr>\n",
       "      <th>0</th>\n",
       "      <td>하니크라운호텔</td>\n",
       "      <td>제주특별자치도 제주시 이도일동 1315</td>\n",
       "    </tr>\n",
       "    <tr>\n",
       "      <th>1</th>\n",
       "      <td>제주썬호텔&amp;카지노</td>\n",
       "      <td>제주특별자치도 제주시 연동 291-30</td>\n",
       "    </tr>\n",
       "    <tr>\n",
       "      <th>2</th>\n",
       "      <td>제주로얄호텔</td>\n",
       "      <td>제주특별자치도 제주시 연동 272-34</td>\n",
       "    </tr>\n",
       "    <tr>\n",
       "      <th>3</th>\n",
       "      <td>제주팔레스호텔</td>\n",
       "      <td>제주특별자치도 제주시 삼도2동 1192-18</td>\n",
       "    </tr>\n",
       "    <tr>\n",
       "      <th>4</th>\n",
       "      <td>펄호텔 제주</td>\n",
       "      <td>제주특별자치도 제주시 연동 277-1</td>\n",
       "    </tr>\n",
       "    <tr>\n",
       "      <th>...</th>\n",
       "      <td>...</td>\n",
       "      <td>...</td>\n",
       "    </tr>\n",
       "    <tr>\n",
       "      <th>789</th>\n",
       "      <td>바이더힐펜션</td>\n",
       "      <td>제주특별자치도 제주시 애월읍 유수암리 2049-1</td>\n",
       "    </tr>\n",
       "    <tr>\n",
       "      <th>790</th>\n",
       "      <td>제주담스파빌</td>\n",
       "      <td>제주특별자치도 제주시 한림읍 금능리 1803-2</td>\n",
       "    </tr>\n",
       "    <tr>\n",
       "      <th>791</th>\n",
       "      <td>소서제주 745</td>\n",
       "      <td>제주특별자치도 제주시 애월읍 유수암리 719-9</td>\n",
       "    </tr>\n",
       "    <tr>\n",
       "      <th>792</th>\n",
       "      <td>브라운캐빈</td>\n",
       "      <td>제주특별자치도 제주시 애월읍 상가리 54-2</td>\n",
       "    </tr>\n",
       "    <tr>\n",
       "      <th>793</th>\n",
       "      <td>블루하와이리조트</td>\n",
       "      <td>제주특별자치도 제주시 한림읍 금능리 2005</td>\n",
       "    </tr>\n",
       "  </tbody>\n",
       "</table>\n",
       "<p>794 rows × 2 columns</p>\n",
       "</div>"
      ],
      "text/plain": [
       "            제목                         지번주소\n",
       "0      하니크라운호텔        제주특별자치도 제주시 이도일동 1315\n",
       "1    제주썬호텔&카지노        제주특별자치도 제주시 연동 291-30\n",
       "2       제주로얄호텔        제주특별자치도 제주시 연동 272-34\n",
       "3      제주팔레스호텔     제주특별자치도 제주시 삼도2동 1192-18\n",
       "4       펄호텔 제주         제주특별자치도 제주시 연동 277-1\n",
       "..         ...                          ...\n",
       "789     바이더힐펜션  제주특별자치도 제주시 애월읍 유수암리 2049-1\n",
       "790     제주담스파빌   제주특별자치도 제주시 한림읍 금능리 1803-2\n",
       "791   소서제주 745   제주특별자치도 제주시 애월읍 유수암리 719-9\n",
       "792      브라운캐빈     제주특별자치도 제주시 애월읍 상가리 54-2\n",
       "793   블루하와이리조트     제주특별자치도 제주시 한림읍 금능리 2005\n",
       "\n",
       "[794 rows x 2 columns]"
      ]
     },
     "execution_count": 22,
     "metadata": {},
     "output_type": "execute_result"
    }
   ],
   "source": [
    "add_data"
   ]
  },
  {
   "cell_type": "code",
   "execution_count": 31,
   "metadata": {},
   "outputs": [],
   "source": [
    "for name in add_data['제목']:\n",
    "    if name in data[\"제목\"]:\n",
    "        print(name)"
   ]
  },
  {
   "cell_type": "code",
   "execution_count": 32,
   "metadata": {},
   "outputs": [],
   "source": [
    "for name in add_data['지번주소']:\n",
    "    if name in data[\"지번주소\"]:\n",
    "        print(name)"
   ]
  },
  {
   "cell_type": "markdown",
   "metadata": {},
   "source": [
    "> 겹치는게 없다.."
   ]
  },
  {
   "cell_type": "code",
   "execution_count": null,
   "metadata": {},
   "outputs": [],
   "source": [
    "data=pd.merge(data,add_data,how=\"outer\")"
   ]
  },
  {
   "cell_type": "markdown",
   "metadata": {},
   "source": [
    "### 데이터 전처리\n",
    ">제주도 주소가 아닌 곳을 제외"
   ]
  },
  {
   "cell_type": "code",
   "execution_count": 219,
   "metadata": {},
   "outputs": [],
   "source": [
    "data=data[data[\"지번주소\"].str.find(\"제주특별\")!=-1]\n",
    "data.drop(columns=\"Unnamed: 0\",inplace=True)"
   ]
  },
  {
   "cell_type": "markdown",
   "metadata": {},
   "source": [
    "> 진짜 고생했네 ㅜㅜㅋㅋ"
   ]
  },
  {
   "cell_type": "code",
   "execution_count": 220,
   "metadata": {},
   "outputs": [],
   "source": [
    "행정구역 = {'구좌':'구좌',\n",
    "  '조천':'조천', \n",
    "  '화북': '동제주','봉개':'동제주', '회천':'동제주','용강':'동제주',\n",
    "  '오라':'중제주','아라':'중제주','오등':'중제주','화북':'중제주','이도':'중제주','건입':'중제주','삼도':'중제주','용담':'중제주','일도':'중제주', \n",
    "  '도두':'서제주','이호':'서제주','외도':'서제주','내도':'서제주','도평':'서제주','노형':'서제주','연동':'서제주','강정':'서제주','도순':'서제주',\n",
    "  '영남':'서제주','월평':'서제주','해안':'서제주', '노형':'서제주',\n",
    "  '애월' :'애월',\n",
    "  '성산':'성산',\n",
    "  '한림':'한림',\n",
    "  '표선':'표선',\n",
    "  '남원':'남원',\n",
    "  '한경':'한경',\n",
    "  '안덕':'안덕',\n",
    "  '영천':'동서귀','동흥':'동서귀','효돈':'동서귀','송산':'동서귀','신효':'동서귀','하효':'동서귀','서귀':'동서귀','보목':'동서귀','동홍':'동서귀',\n",
    "  '대천':'중서귀','대륜':'중서귀','서홍':'중서귀', '강정':'중서귀','법환':'중서귀','서호':'중서귀','호근':'중서귀',\n",
    "  '여래':'서서귀','중문':'서서귀','회수':'서서귀', '하원':'서서귀','대포':'서서귀', '색달':'서서귀', '하예':'서서귀', '상예':'서서귀',  \n",
    "  '대정':'대정'}"
   ]
  },
  {
   "cell_type": "code",
   "execution_count": null,
   "metadata": {},
   "outputs": [],
   "source": [
    "# 지번주소\n",
    "error=[]\n",
    "for i in data.index:\n",
    "    for x in 행정구역:\n",
    "        try:\n",
    "            if data.loc[i]['지번주소'].find(x)!=-1:\n",
    "                data.loc[i,\"행정구역\"]=행정구역[x]\n",
    "        except:\n",
    "            error.append(i)\n",
    "            print(data.loc[i]['지번주소'])"
   ]
  },
  {
   "cell_type": "code",
   "execution_count": 222,
   "metadata": {},
   "outputs": [],
   "source": [
    "# 도로명주소\n",
    "for i in data[data[\"행정구역\"].isna()].index:\n",
    "    for x in 행정구역:\n",
    "        try:\n",
    "            if data.loc[i]['지번주소'].find(x)!=-1:\n",
    "                data.loc[i,\"행정구역\"]=행정구역[x]\n",
    "        except:\n",
    "            error.append(i)\n",
    "            #print(data.loc[i]['지번주소'])"
   ]
  },
  {
   "cell_type": "markdown",
   "metadata": {},
   "source": [
    "### 시각화 작업"
   ]
  },
  {
   "cell_type": "code",
   "execution_count": 223,
   "metadata": {},
   "outputs": [],
   "source": [
    "from IPython.display import SVG\n",
    "from bs4 import BeautifulSoup\n",
    "import requests\n",
    "import pandas as pd\n",
    "import numpy as np\n",
    "import os"
   ]
  },
  {
   "cell_type": "markdown",
   "metadata": {},
   "source": [
    "#### 행정구역별"
   ]
  },
  {
   "cell_type": "code",
   "execution_count": 181,
   "metadata": {},
   "outputs": [],
   "source": [
    "colors = ['#ffeecc', '#ffd480', '#ffbb33', '#ffaa00', '#e69900']"
   ]
  },
  {
   "cell_type": "markdown",
   "metadata": {},
   "source": [
    "#### histogram 을 이용한 구간 설정\n",
    "> 좀더 상세히 혹은 덜 나눠야 보기 좋을듯 "
   ]
  },
  {
   "cell_type": "code",
   "execution_count": 182,
   "metadata": {},
   "outputs": [],
   "source": [
    "color_rule=pd.DataFrame(data[\"행정구역\"].value_counts())"
   ]
  },
  {
   "cell_type": "code",
   "execution_count": 183,
   "metadata": {},
   "outputs": [],
   "source": [
    "x,y=np.histogram(data[\"행정구역\"].value_counts().values,bins=5)"
   ]
  },
  {
   "cell_type": "code",
   "execution_count": 184,
   "metadata": {},
   "outputs": [],
   "source": [
    "dc=dict(zip(y[:-1],colors))"
   ]
  },
  {
   "cell_type": "code",
   "execution_count": 185,
   "metadata": {},
   "outputs": [],
   "source": [
    "for name in color_rule.index:\n",
    "    for i in y[:-1]:\n",
    "        if color_rule.loc[name]['count']>=i:\n",
    "            color_rule.loc[name,'color_id']=i"
   ]
  },
  {
   "cell_type": "code",
   "execution_count": 186,
   "metadata": {},
   "outputs": [
    {
     "data": {
      "text/plain": [
       "'#e69900'"
      ]
     },
     "execution_count": 186,
     "metadata": {},
     "output_type": "execute_result"
    }
   ],
   "source": [
    "dc[color_rule.loc[\"동서귀\",'color_id']]"
   ]
  },
  {
   "cell_type": "markdown",
   "metadata": {},
   "source": [
    "색상 입히기"
   ]
  },
  {
   "cell_type": "code",
   "execution_count": 247,
   "metadata": {},
   "outputs": [
    {
     "data": {
      "text/html": [
       "<div>\n",
       "<style scoped>\n",
       "    .dataframe tbody tr th:only-of-type {\n",
       "        vertical-align: middle;\n",
       "    }\n",
       "\n",
       "    .dataframe tbody tr th {\n",
       "        vertical-align: top;\n",
       "    }\n",
       "\n",
       "    .dataframe thead th {\n",
       "        text-align: right;\n",
       "    }\n",
       "</style>\n",
       "<table border=\"1\" class=\"dataframe\">\n",
       "  <thead>\n",
       "    <tr style=\"text-align: right;\">\n",
       "      <th></th>\n",
       "      <th>count</th>\n",
       "      <th>color_id</th>\n",
       "    </tr>\n",
       "    <tr>\n",
       "      <th>행정구역</th>\n",
       "      <th></th>\n",
       "      <th></th>\n",
       "    </tr>\n",
       "  </thead>\n",
       "  <tbody>\n",
       "    <tr>\n",
       "      <th>동서귀</th>\n",
       "      <td>576</td>\n",
       "      <td>461.8</td>\n",
       "    </tr>\n",
       "    <tr>\n",
       "      <th>서제주</th>\n",
       "      <td>235</td>\n",
       "      <td>233.4</td>\n",
       "    </tr>\n",
       "    <tr>\n",
       "      <th>애월</th>\n",
       "      <td>202</td>\n",
       "      <td>119.2</td>\n",
       "    </tr>\n",
       "    <tr>\n",
       "      <th>중제주</th>\n",
       "      <td>162</td>\n",
       "      <td>119.2</td>\n",
       "    </tr>\n",
       "    <tr>\n",
       "      <th>서서귀</th>\n",
       "      <td>149</td>\n",
       "      <td>119.2</td>\n",
       "    </tr>\n",
       "    <tr>\n",
       "      <th>구좌</th>\n",
       "      <td>145</td>\n",
       "      <td>119.2</td>\n",
       "    </tr>\n",
       "    <tr>\n",
       "      <th>한림</th>\n",
       "      <td>116</td>\n",
       "      <td>5.0</td>\n",
       "    </tr>\n",
       "    <tr>\n",
       "      <th>조천</th>\n",
       "      <td>90</td>\n",
       "      <td>5.0</td>\n",
       "    </tr>\n",
       "    <tr>\n",
       "      <th>중서귀</th>\n",
       "      <td>88</td>\n",
       "      <td>5.0</td>\n",
       "    </tr>\n",
       "    <tr>\n",
       "      <th>대정</th>\n",
       "      <td>49</td>\n",
       "      <td>5.0</td>\n",
       "    </tr>\n",
       "    <tr>\n",
       "      <th>한경</th>\n",
       "      <td>46</td>\n",
       "      <td>5.0</td>\n",
       "    </tr>\n",
       "    <tr>\n",
       "      <th>동제주</th>\n",
       "      <td>5</td>\n",
       "      <td>5.0</td>\n",
       "    </tr>\n",
       "  </tbody>\n",
       "</table>\n",
       "</div>"
      ],
      "text/plain": [
       "      count  color_id\n",
       "행정구역                 \n",
       "동서귀     576     461.8\n",
       "서제주     235     233.4\n",
       "애월      202     119.2\n",
       "중제주     162     119.2\n",
       "서서귀     149     119.2\n",
       "구좌      145     119.2\n",
       "한림      116       5.0\n",
       "조천       90       5.0\n",
       "중서귀      88       5.0\n",
       "대정       49       5.0\n",
       "한경       46       5.0\n",
       "동제주       5       5.0"
      ]
     },
     "execution_count": 247,
     "metadata": {},
     "output_type": "execute_result"
    }
   ],
   "source": [
    "color_rule"
   ]
  },
  {
   "cell_type": "code",
   "execution_count": 239,
   "metadata": {},
   "outputs": [],
   "source": [
    "with open(\"./제주.svg\",\"r\",encoding=\"utf-8\") as f:\n",
    "    jeju_map=f.readlines()"
   ]
  },
  {
   "cell_type": "code",
   "execution_count": 248,
   "metadata": {},
   "outputs": [],
   "source": [
    "for name in color_rule.index:\n",
    "    idx=[]\n",
    "    for i in range(len(jeju_map)):\n",
    "        if name in jeju_map[i]:\n",
    "            idx.append(i)\n",
    "    for j in map(lambda x:x+1,idx):\n",
    "        jeju_map[j]=jeju_map[j].replace(\"#eeeeee\",dc[color_rule.loc[name][\"color_id\"]])"
   ]
  },
  {
   "cell_type": "code",
   "execution_count": 251,
   "metadata": {},
   "outputs": [],
   "source": [
    "with open(\"호텔시각화test.html\",\"w\") as f:\n",
    "    for line in jeju_map:\n",
    "        f.write(line)"
   ]
  }
 ],
 "metadata": {
  "kernelspec": {
   "display_name": "Python 3",
   "language": "python",
   "name": "python3"
  },
  "language_info": {
   "codemirror_mode": {
    "name": "ipython",
    "version": 3
   },
   "file_extension": ".py",
   "mimetype": "text/x-python",
   "name": "python",
   "nbconvert_exporter": "python",
   "pygments_lexer": "ipython3",
   "version": "3.11.4"
  },
  "orig_nbformat": 4
 },
 "nbformat": 4,
 "nbformat_minor": 2
}
