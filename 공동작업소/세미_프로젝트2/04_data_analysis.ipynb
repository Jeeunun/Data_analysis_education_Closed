{
 "cells": [
  {
   "cell_type": "markdown",
   "metadata": {},
   "source": [
    ">## 데이터분석"
   ]
  },
  {
   "cell_type": "markdown",
   "metadata": {},
   "source": [
    "#### <b>*소비자의 `만족도`를 `평점`이라고 가정*</b> <br>\n",
    "-<b>*만족도의 요인 (가격, 제주공항과의 거리, 관광지와의 거리) 라고 할 때*<b><br>\n",
    "|`step1`| 호텔의 가격과 평점 데이터 가져오기 <br>|\n",
    "|----|------------------------------------------|\n",
    "|`step2`| 호텔의 평점과 가격의 상관관계 : 평점이 높으면 가격도 높은가? <br>|\n",
    "|`step3`| 호텔의 평점과 제주공항과의 거리와의 관계 : 제주공항과 거리가 가까울 수록 평점이 높은가? <br>|\n",
    "|`step4`| 호텔의 평점과 관광지와의 거리 상관관계: 관광지와 거리가 가까울 수록 평점이 높은가? <br>|"
   ]
  },
  {
   "cell_type": "markdown",
   "metadata": {},
   "source": [
    "> ### #00. 작업준비"
   ]
  },
  {
   "cell_type": "markdown",
   "metadata": {},
   "source": [
    "#### 필요한 패키지 설치"
   ]
  },
  {
   "cell_type": "code",
   "execution_count": 2,
   "metadata": {},
   "outputs": [],
   "source": [
    "import pandas as pd\n",
    "from pandas import DataFrame, melt, read_excel\n",
    "from matplotlib import pyplot as plt\n",
    "import seaborn as sb\n",
    "import numpy as np\n",
    "import folium\n",
    "from os import path, mkdir\n",
    "import base64\n",
    "\n",
    "import bs4\n",
    "import requests\n",
    "import json\n",
    "import simplejson\n",
    "\n",
    "import chromedriver_autoinstaller\n",
    "from selenium import webdriver\n",
    "from selenium.webdriver.support.ui import WebDriverWait\n",
    "from bs4 import BeautifulSoup"
   ]
  },
  {
   "cell_type": "markdown",
   "metadata": {},
   "source": [
    "> ### #01. 호텔의 가격과 평점 데이터"
   ]
  },
  {
   "cell_type": "markdown",
   "metadata": {},
   "source": [
    "#### 데이터 크롤링"
   ]
  },
  {
   "cell_type": "code",
   "execution_count": null,
   "metadata": {},
   "outputs": [],
   "source": []
  },
  {
   "cell_type": "markdown",
   "metadata": {},
   "source": [
    "#### 데이터 읽어오기"
   ]
  },
  {
   "cell_type": "code",
   "execution_count": null,
   "metadata": {},
   "outputs": [],
   "source": [
    "pr_star = pd.read_excel(\"호텔_평점.xlsx\")\n",
    "pr_star"
   ]
  },
  {
   "cell_type": "markdown",
   "metadata": {},
   "source": [
    "#### 데이터 정제"
   ]
  },
  {
   "cell_type": "code",
   "execution_count": null,
   "metadata": {},
   "outputs": [],
   "source": []
  },
  {
   "cell_type": "markdown",
   "metadata": {},
   "source": [
    "> ### #02. 호텔의 평점과 가격의 상관관계 : 평점이 높으면 가격도 높은가?"
   ]
  },
  {
   "cell_type": "code",
   "execution_count": null,
   "metadata": {},
   "outputs": [],
   "source": []
  },
  {
   "cell_type": "markdown",
   "metadata": {},
   "source": [
    "> ### #03. 호텔의 평점과 제주공항과의 거리와의 관계 : 제주공항과 거리가 가까울 수록 평점이 높은가?"
   ]
  },
  {
   "cell_type": "markdown",
   "metadata": {},
   "source": [
    "#### 카카오맵을 이용한 소요시간 측정 함수"
   ]
  },
  {
   "cell_type": "code",
   "execution_count": null,
   "metadata": {},
   "outputs": [],
   "source": [
    "def KAKAO(START,FINISH):\n",
    "\n",
    "    import bs4\n",
    "    import selenium\n",
    "    import chromedriver_autoinstaller\n",
    "    from selenium.webdriver.common.by import By\n",
    "    from selenium.webdriver.support.ui import WebDriverWait\n",
    "    from selenium.webdriver import Chrome\n",
    "    import time\n",
    "    from selenium.webdriver.common.keys import Keys\n",
    "    import datetime as dt\n",
    "\n",
    "    driver=Chrome()\n",
    "    time.sleep(3)\n",
    "    driver.get('https://map.kakao.com/')\n",
    "    try:\n",
    "        need_remove=WebDriverWait(driver,3).until(lambda x: x.find_element(By.CSS_SELECTOR,\".coach_layer.coach_layer_type1 .view_coach\"))\n",
    "        need_remove.click()\n",
    "    except:\n",
    "        pass\n",
    "    path_page=WebDriverWait(driver,3).until(lambda x: x.find_element(By.ID,\"search.tab2\"))\n",
    "    path_page.click()\n",
    "    try:  \n",
    "        need_remove2=WebDriverWait(driver,3).until(lambda x: x.find_element(By.CSS_SELECTOR,\".layer_body .desc_coach\"))\n",
    "        need_remove2.click()\n",
    "    except:\n",
    "        pass\n",
    "\n",
    "    start=WebDriverWait(driver,3).until(lambda x: x.find_element(By.CSS_SELECTOR,\".waypointWindow>input\"))\n",
    "    start.send_keys(Keys.ENTER)\n",
    "    start.click()\n",
    "    #_______________________________________________________________#\n",
    "    start2=WebDriverWait(driver,3).until(lambda x: x.find_element(By.CSS_SELECTOR,\".WaypointInput>input\"))\n",
    "    start2.send_keys(START) #출발지 입력\n",
    "    start2.send_keys(Keys.DOWN)\n",
    "    start2.send_keys(Keys.ENTER)\n",
    "    time.sleep(1)\n",
    "\n",
    "    finish=WebDriverWait(driver,3).until(lambda x: x.find_element(By.ID,\"info.route.waypointSuggest.input1\"))\n",
    "    finish.send_keys(\"메가스터디IT 강남점\") #도착지 입력\n",
    "    finish.send_keys(Keys.DOWN)\n",
    "    finish.send_keys(Keys.ENTER)\n",
    "    time.sleep(1)\n",
    "\n",
    "    texi=WebDriverWait(driver,3).until(lambda x: x.find_element(By.ID,\"cartab\"))\n",
    "    texi.click()\n",
    "    print(\"준비완료\")\n",
    "    #________________________<반복>________________________________________#\n",
    "    final={}\n",
    "    for finishs in FINISH:\n",
    "        try:\n",
    "            refinish1=WebDriverWait(driver,3).until(lambda x: x.find_element(By.CSS_SELECTOR,\"#info .WaypointBoxView.dest .waypointWindow .valueBox\"))\n",
    "            refinish1.click()\n",
    "            refinish2=WebDriverWait(driver,3).until(lambda x: x.find_element(By.ID,\"info.route.waypointSuggest.input1\"))\n",
    "            refinish2.clear()\n",
    "            refinish2.send_keys(finishs)\n",
    "            refinish2.send_keys(Keys.ENTER)\n",
    "            time.sleep(1)\n",
    "            texi.click()\n",
    "            time.sleep(1)\n",
    "            soup=bs4.BeautifulSoup(driver.page_source)\n",
    "            datas=soup.select(\".contents\")[0]\n",
    "            info=dict.fromkeys(['time','distance','toll','taxi','oil'])\n",
    "            for key in info:\n",
    "                info[key]=datas.select(f\".{key}\")[0].text        \n",
    "            final[finishs]=info\n",
    "            time.sleep(1)\n",
    "        except:\n",
    "            continue\n",
    "    return final"
   ]
  },
  {
   "cell_type": "markdown",
   "metadata": {},
   "source": [
    "#### 공항에서 호텔까지의 거리 측정"
   ]
  },
  {
   "cell_type": "markdown",
   "metadata": {},
   "source": [
    "호텔 리스트 불러오기"
   ]
  },
  {
   "cell_type": "code",
   "execution_count": null,
   "metadata": {},
   "outputs": [],
   "source": [
    "df = pd.read_excel('./숙박3-1.xlsx')\n",
    "df.drop('Unnamed: 0',axis=1,inplace=True)\n",
    "df"
   ]
  },
  {
   "cell_type": "markdown",
   "metadata": {},
   "source": [
    "공항(출발지) ~ 호텔(도착지) 소요시간 측정"
   ]
  },
  {
   "cell_type": "code",
   "execution_count": null,
   "metadata": {},
   "outputs": [],
   "source": [
    "hotel_distance = KAKAO('제주공항',df['address_name'])\n",
    "hotel_distance"
   ]
  },
  {
   "cell_type": "markdown",
   "metadata": {},
   "source": [
    "저장"
   ]
  },
  {
   "cell_type": "code",
   "execution_count": null,
   "metadata": {},
   "outputs": [],
   "source": [
    "with open(\"공항_호텔_거리\",\"w\",encoding=\"utf-8\") as f:\n",
    "    f.write(str(hotel_distance))"
   ]
  },
  {
   "cell_type": "markdown",
   "metadata": {},
   "source": [
    "분석결과"
   ]
  },
  {
   "cell_type": "markdown",
   "metadata": {},
   "source": []
  },
  {
   "cell_type": "markdown",
   "metadata": {},
   "source": [
    "> ### #04. 호텔의 평점과 관광지와의 거리 상관관계: 관광지와 거리가 가까울 수록 평점이 높은가? "
   ]
  },
  {
   "cell_type": "markdown",
   "metadata": {},
   "source": [
    "#### 카카오맵을 이용한 소요시간 측정 함수 (앞 참조)"
   ]
  },
  {
   "cell_type": "code",
   "execution_count": null,
   "metadata": {},
   "outputs": [],
   "source": [
    "# KAKAO함수"
   ]
  },
  {
   "cell_type": "markdown",
   "metadata": {},
   "source": [
    "#### 호텔과 관광지까지의 거리 측정"
   ]
  },
  {
   "cell_type": "code",
   "execution_count": null,
   "metadata": {},
   "outputs": [],
   "source": []
  },
  {
   "cell_type": "markdown",
   "metadata": {},
   "source": [
    "#### 호텔 평점 데이터"
   ]
  },
  {
   "cell_type": "code",
   "execution_count": null,
   "metadata": {},
   "outputs": [],
   "source": [
    "# 1번 참조"
   ]
  },
  {
   "cell_type": "markdown",
   "metadata": {},
   "source": [
    "#### 분석결과"
   ]
  },
  {
   "cell_type": "markdown",
   "metadata": {},
   "source": []
  }
 ],
 "metadata": {
  "kernelspec": {
   "display_name": "Python 3",
   "language": "python",
   "name": "python3"
  },
  "language_info": {
   "codemirror_mode": {
    "name": "ipython",
    "version": 3
   },
   "file_extension": ".py",
   "mimetype": "text/x-python",
   "name": "python",
   "nbconvert_exporter": "python",
   "pygments_lexer": "ipython3",
   "version": "3.11.4"
  },
  "orig_nbformat": 4
 },
 "nbformat": 4,
 "nbformat_minor": 2
}
