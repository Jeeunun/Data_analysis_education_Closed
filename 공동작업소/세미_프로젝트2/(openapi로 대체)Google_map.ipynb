{
 "cells": [
  {
   "cell_type": "markdown",
   "metadata": {},
   "source": [
    "> ## 공공데이터& 크롤링 데이터 합치기"
   ]
  },
  {
   "cell_type": "markdown",
   "metadata": {},
   "source": [
    "### #01.최종 호텔명 리스트를 구글맵을 통해 주소 추출(Selenium) \n",
    "##### : Selenium을 이용 => 구글맵에서 크롤링한 호텔의 이름을 검색해 주소 추출"
   ]
  },
  {
   "cell_type": "markdown",
   "metadata": {},
   "source": [
    "#### 필요한 패키지 설치"
   ]
  },
  {
   "cell_type": "code",
   "execution_count": 17,
   "metadata": {},
   "outputs": [],
   "source": [
    "import pandas as pd\n",
    "import numpy as np\n",
    "import selenium\n",
    "from selenium.webdriver.common.by  import By\n",
    "from selenium.webdriver.support.ui import WebDriverWait\n",
    "from selenium.webdriver import Chrome\n",
    "from selenium.webdriver.common.keys import Keys\n",
    "import time\n",
    "import bs4"
   ]
  },
  {
   "cell_type": "markdown",
   "metadata": {},
   "source": [
    "#### 객체 생성"
   ]
  },
  {
   "cell_type": "code",
   "execution_count": 25,
   "metadata": {},
   "outputs": [],
   "source": [
    "drv=Chrome()\n",
    "drv.get('https://www.google.co.kr/maps/?hl=ko&entry=ttu')\n",
    "#검색 시키기\n",
    "find=WebDriverWait(drv,1).until(lambda x:x.find_element(By.ID,\"searchboxinput\"))"
   ]
  },
  {
   "cell_type": "code",
   "execution_count": 33,
   "metadata": {},
   "outputs": [],
   "source": [
    "def google(x):\n",
    "    find.send_keys(x)\n",
    "    find.send_keys(Keys.PAGE_DOWN)\n",
    "    find.send_keys(Keys.ENTER)\n",
    "    time.sleep(3)\n",
    "    location=drv.current_url\n",
    "    # n1=drv.current_url.find(\"!3d\")\n",
    "    # n2=drv.current_url.find(\"!4d\")\n",
    "    # n3=drv.current_url.rfind(\"!\")\n",
    "    soup=bs4.BeautifulSoup(drv.page_source)\n",
    "    result={\n",
    "    \"위치\":location,\n",
    "    '주소':soup.select(\".m6QErb button\")}\n",
    "    find.clear()\n",
    "    return result "
   ]
  },
  {
   "cell_type": "code",
   "execution_count": null,
   "metadata": {},
   "outputs": [],
   "source": [
    "google()"
   ]
  },
  {
   "cell_type": "code",
   "execution_count": 20,
   "metadata": {},
   "outputs": [],
   "source": [
    "result={}\n",
    "for loc in []:\n",
    "    result[x]=google(loc)"
   ]
  },
  {
   "cell_type": "code",
   "execution_count": null,
   "metadata": {},
   "outputs": [],
   "source": [
    "find.send_keys(\"호텔더본제주\")\n",
    "find.send_keys(Keys.ENTER)\n",
    "n1=drv.current_url.find(\"3d\")\n",
    "n2=drv.current_url.find(\"!4d\")\n",
    "n3=drv.current_url.rfind(\"!\")"
   ]
  },
  {
   "cell_type": "code",
   "execution_count": 29,
   "metadata": {},
   "outputs": [
    {
     "data": {
      "text/plain": [
       "'d33.2594978'"
      ]
     },
     "execution_count": 29,
     "metadata": {},
     "output_type": "execute_result"
    }
   ],
   "source": [
    "drv.current_url[n1+2:n2]\n",
    "drv.current_url[n2+3:n3]"
   ]
  },
  {
   "cell_type": "code",
   "execution_count": 23,
   "metadata": {},
   "outputs": [],
   "source": [
    "soup=bs4.BeautifulSoup(drv.page_source)"
   ]
  },
  {
   "cell_type": "code",
   "execution_count": 24,
   "metadata": {},
   "outputs": [
    {
     "ename": "IndexError",
     "evalue": "list index out of range",
     "output_type": "error",
     "traceback": [
      "\u001b[1;31m---------------------------------------------------------------------------\u001b[0m",
      "\u001b[1;31mIndexError\u001b[0m                                Traceback (most recent call last)",
      "Cell \u001b[1;32mIn[24], line 1\u001b[0m\n\u001b[1;32m----> 1\u001b[0m soup\u001b[39m.\u001b[39;49mselect(\u001b[39m\"\u001b[39;49m\u001b[39m.m6QErb .RcCsl.fVHpi.w4vB1d.NOE9ve.M0S7ae.AG25L button\u001b[39;49m\u001b[39m\"\u001b[39;49m)[\u001b[39m0\u001b[39;49m]\u001b[39m.\u001b[39mtext\n",
      "\u001b[1;31mIndexError\u001b[0m: list index out of range"
     ]
    }
   ],
   "source": [
    "soup.select(\".m6QErb .RcCsl.fVHpi.w4vB1d.NOE9ve.M0S7ae.AG25L button\")[0].text"
   ]
  },
  {
   "cell_type": "code",
   "execution_count": 35,
   "metadata": {},
   "outputs": [],
   "source": [
    "find.clear()"
   ]
  }
 ],
 "metadata": {
  "kernelspec": {
   "display_name": "Python 3",
   "language": "python",
   "name": "python3"
  },
  "language_info": {
   "codemirror_mode": {
    "name": "ipython",
    "version": 3
   },
   "file_extension": ".py",
   "mimetype": "text/x-python",
   "name": "python",
   "nbconvert_exporter": "python",
   "pygments_lexer": "ipython3",
   "version": "3.11.4"
  },
  "orig_nbformat": 4
 },
 "nbformat": 4,
 "nbformat_minor": 2
}
