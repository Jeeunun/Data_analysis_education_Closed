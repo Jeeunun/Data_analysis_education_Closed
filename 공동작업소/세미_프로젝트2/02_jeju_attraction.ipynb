{
 "cells": [
  {
   "cell_type": "markdown",
   "metadata": {},
   "source": [
    "> ### #00. 작업준비"
   ]
  },
  {
   "cell_type": "markdown",
   "metadata": {},
   "source": [
    "#### 필요한 패키지 설치"
   ]
  },
  {
   "cell_type": "code",
   "execution_count": 1,
   "metadata": {},
   "outputs": [],
   "source": [
    "import pandas as pd\n",
    "from pandas import DataFrame, melt, read_excel\n",
    "from matplotlib import pyplot as plt\n",
    "import seaborn as sb\n",
    "import numpy as np\n",
    "import folium\n",
    "from os import path, mkdir\n",
    "import base64\n",
    "\n",
    "import bs4\n",
    "import requests\n",
    "import json\n",
    "import simplejson\n",
    "\n",
    "import chromedriver_autoinstaller\n",
    "from selenium import webdriver\n",
    "from selenium.webdriver.support.ui import WebDriverWait\n",
    "from bs4 import BeautifulSoup\n",
    "import time"
   ]
  },
  {
   "cell_type": "markdown",
   "metadata": {},
   "source": [
    "#### 공공데이터 읽어오기"
   ]
  },
  {
   "cell_type": "code",
   "execution_count": null,
   "metadata": {},
   "outputs": [],
   "source": []
  },
  {
   "cell_type": "markdown",
   "metadata": {},
   "source": [
    ">### #01. 제주도 관광지 공공데이터"
   ]
  },
  {
   "cell_type": "markdown",
   "metadata": {},
   "source": [
    "#### 데이터 전처리"
   ]
  },
  {
   "cell_type": "code",
   "execution_count": 6,
   "metadata": {},
   "outputs": [],
   "source": [
    "D=pd.read_excel(\"./.xlsx\")\n",
    "data=pd.DataFrame(D)"
   ]
  },
  {
   "cell_type": "code",
   "execution_count": 12,
   "metadata": {},
   "outputs": [],
   "source": [
    "# 저장한 파일 읽어오기\n",
    "D = pd.read_excel(\"./주소.xlsx\")\n",
    "attraction = pd.DataFrame(D)"
   ]
  },
  {
   "cell_type": "code",
   "execution_count": 13,
   "metadata": {},
   "outputs": [
    {
     "data": {
      "text/html": [
       "<div>\n",
       "<style scoped>\n",
       "    .dataframe tbody tr th:only-of-type {\n",
       "        vertical-align: middle;\n",
       "    }\n",
       "\n",
       "    .dataframe tbody tr th {\n",
       "        vertical-align: top;\n",
       "    }\n",
       "\n",
       "    .dataframe thead th {\n",
       "        text-align: right;\n",
       "    }\n",
       "</style>\n",
       "<table border=\"1\" class=\"dataframe\">\n",
       "  <thead>\n",
       "    <tr style=\"text-align: right;\">\n",
       "      <th></th>\n",
       "      <th>Unnamed: 0</th>\n",
       "      <th>0</th>\n",
       "    </tr>\n",
       "  </thead>\n",
       "  <tbody>\n",
       "    <tr>\n",
       "      <th>0</th>\n",
       "      <td>공천포</td>\n",
       "      <td>https://www.google.co.kr/maps/search/%EA%B3%B5...</td>\n",
       "    </tr>\n",
       "    <tr>\n",
       "      <th>1</th>\n",
       "      <td>제주민속촌</td>\n",
       "      <td>https://www.google.co.kr/maps/place/%EC%A0%9C%...</td>\n",
       "    </tr>\n",
       "    <tr>\n",
       "      <th>2</th>\n",
       "      <td>제주빅볼랜드</td>\n",
       "      <td>https://www.google.co.kr/maps/place/%EC%A0%9C%...</td>\n",
       "    </tr>\n",
       "    <tr>\n",
       "      <th>3</th>\n",
       "      <td>마오름(맞보기)(안덕)</td>\n",
       "      <td>https://www.google.co.kr/maps/search/%EB%A7%88...</td>\n",
       "    </tr>\n",
       "    <tr>\n",
       "      <th>4</th>\n",
       "      <td>과오름(큰오름, 샛오름, 말젯오름)</td>\n",
       "      <td>https://www.google.co.kr/maps/search/%EA%B3%BC...</td>\n",
       "    </tr>\n",
       "    <tr>\n",
       "      <th>...</th>\n",
       "      <td>...</td>\n",
       "      <td>...</td>\n",
       "    </tr>\n",
       "    <tr>\n",
       "      <th>401</th>\n",
       "      <td>남원 위미2리 어촌계</td>\n",
       "      <td>https://www.google.co.kr/maps/place/%EC%9C%84%...</td>\n",
       "    </tr>\n",
       "    <tr>\n",
       "      <th>402</th>\n",
       "      <td>팀케이</td>\n",
       "      <td>https://www.google.co.kr/maps/search/%ED%8C%80...</td>\n",
       "    </tr>\n",
       "    <tr>\n",
       "      <th>403</th>\n",
       "      <td>제주소주 코스모스밭</td>\n",
       "      <td>https://www.google.co.kr/maps/place/%EC%A0%9C%...</td>\n",
       "    </tr>\n",
       "    <tr>\n",
       "      <th>404</th>\n",
       "      <td>신엄포구</td>\n",
       "      <td>https://www.google.co.kr/maps/place/%EC%8B%A0%...</td>\n",
       "    </tr>\n",
       "    <tr>\n",
       "      <th>405</th>\n",
       "      <td>삼양방파제</td>\n",
       "      <td>https://www.google.co.kr/maps/place/%EC%82%BC%...</td>\n",
       "    </tr>\n",
       "  </tbody>\n",
       "</table>\n",
       "<p>406 rows × 2 columns</p>\n",
       "</div>"
      ],
      "text/plain": [
       "              Unnamed: 0                                                  0\n",
       "0                    공천포  https://www.google.co.kr/maps/search/%EA%B3%B5...\n",
       "1                  제주민속촌  https://www.google.co.kr/maps/place/%EC%A0%9C%...\n",
       "2                 제주빅볼랜드  https://www.google.co.kr/maps/place/%EC%A0%9C%...\n",
       "3           마오름(맞보기)(안덕)  https://www.google.co.kr/maps/search/%EB%A7%88...\n",
       "4    과오름(큰오름, 샛오름, 말젯오름)  https://www.google.co.kr/maps/search/%EA%B3%BC...\n",
       "..                   ...                                                ...\n",
       "401          남원 위미2리 어촌계  https://www.google.co.kr/maps/place/%EC%9C%84%...\n",
       "402                  팀케이  https://www.google.co.kr/maps/search/%ED%8C%80...\n",
       "403           제주소주 코스모스밭  https://www.google.co.kr/maps/place/%EC%A0%9C%...\n",
       "404                 신엄포구  https://www.google.co.kr/maps/place/%EC%8B%A0%...\n",
       "405                삼양방파제  https://www.google.co.kr/maps/place/%EC%82%BC%...\n",
       "\n",
       "[406 rows x 2 columns]"
      ]
     },
     "execution_count": 13,
     "metadata": {},
     "output_type": "execute_result"
    }
   ],
   "source": [
    "attraction"
   ]
  },
  {
   "cell_type": "code",
   "execution_count": null,
   "metadata": {},
   "outputs": [],
   "source": [
    "# 위도 경도를 통해 주소 도출\n",
    "for i in attraction.index:\n",
    "    try:\n",
    "        n=data.loc[i][0].find(\"!3d\")\n",
    "        m=data.loc[i][0].find(\"!4d\")\n",
    "        t=data.loc[i][0].rfind(\"!\")\n",
    "        data.loc[i][0]=(data.loc[i][0][n+3:m],data.loc[i][0][m+3:t])\n",
    "    except:\n",
    "        continue"
   ]
  },
  {
   "cell_type": "code",
   "execution_count": null,
   "metadata": {},
   "outputs": [],
   "source": []
  },
  {
   "cell_type": "code",
   "execution_count": null,
   "metadata": {},
   "outputs": [],
   "source": []
  },
  {
   "cell_type": "markdown",
   "metadata": {},
   "source": [
    "> ### #02. SVG 시각화"
   ]
  },
  {
   "cell_type": "markdown",
   "metadata": {},
   "source": [
    "#### SVG 시각화"
   ]
  },
  {
   "cell_type": "code",
   "execution_count": null,
   "metadata": {},
   "outputs": [],
   "source": []
  },
  {
   "cell_type": "markdown",
   "metadata": {},
   "source": [
    "#### 호텔 SVG 시각화와 비교 & 분석"
   ]
  },
  {
   "cell_type": "code",
   "execution_count": null,
   "metadata": {},
   "outputs": [],
   "source": []
  },
  {
   "cell_type": "markdown",
   "metadata": {},
   "source": [
    "#### 시각화 분석 결과"
   ]
  },
  {
   "cell_type": "markdown",
   "metadata": {},
   "source": []
  }
 ],
 "metadata": {
  "kernelspec": {
   "display_name": "Python 3",
   "language": "python",
   "name": "python3"
  },
  "language_info": {
   "codemirror_mode": {
    "name": "ipython",
    "version": 3
   },
   "file_extension": ".py",
   "mimetype": "text/x-python",
   "name": "python",
   "nbconvert_exporter": "python",
   "pygments_lexer": "ipython3",
   "version": "3.11.4"
  },
  "orig_nbformat": 4
 },
 "nbformat": 4,
 "nbformat_minor": 2
}
