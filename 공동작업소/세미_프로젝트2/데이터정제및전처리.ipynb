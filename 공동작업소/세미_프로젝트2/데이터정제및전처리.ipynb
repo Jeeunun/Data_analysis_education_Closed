{
 "cells": [
  {
   "cell_type": "code",
   "execution_count": 1,
   "metadata": {},
   "outputs": [],
   "source": [
    "import pandas as pd\n",
    "import numpy as np"
   ]
  },
  {
   "cell_type": "code",
   "execution_count": 6,
   "metadata": {},
   "outputs": [],
   "source": []
  },
  {
   "cell_type": "markdown",
   "metadata": {},
   "source": [
    "아래 코딩을 음식점,관광지에 동일 적용"
   ]
  },
  {
   "cell_type": "code",
   "execution_count": 7,
   "metadata": {},
   "outputs": [],
   "source": []
  },
  {
   "cell_type": "code",
   "execution_count": 8,
   "metadata": {},
   "outputs": [],
   "source": []
  },
  {
   "cell_type": "code",
   "execution_count": 11,
   "metadata": {},
   "outputs": [
    {
     "name": "stdout",
     "output_type": "stream",
     "text": [
      "숙박\n",
      "------------------------------\n",
      "<class 'pandas.core.frame.DataFrame'>\n",
      "Index: 8422 entries, 0 to 8500\n",
      "Data columns (total 19 columns):\n",
      " #   Column      Non-Null Count  Dtype         \n",
      "---  ------      --------------  -----         \n",
      " 0   Unnamed: 0  8422 non-null   int64         \n",
      " 1   콘텐츠분류       8422 non-null   object        \n",
      " 2   타이틀         8302 non-null   object        \n",
      " 3   지번주소        8422 non-null   object        \n",
      " 4   도로명주소       8422 non-null   object        \n",
      " 5   위도          8382 non-null   float64       \n",
      " 6   경도          8382 non-null   float64       \n",
      " 7   탐나오연동여부     8421 non-null   object        \n",
      " 8   평점          7715 non-null   float64       \n",
      " 9   소셜네트워크주소    1453 non-null   object        \n",
      " 10  조회수         8422 non-null   int64         \n",
      " 11  좋아요수        8422 non-null   int64         \n",
      " 12  리뷰수         8422 non-null   int64         \n",
      " 13  북마크수        8422 non-null   int64         \n",
      " 14  일정등록수       8422 non-null   int64         \n",
      " 15  다녀왔어요수      8422 non-null   int64         \n",
      " 16  등록일시        8422 non-null   datetime64[ns]\n",
      " 17  소셜네트워크공유수   8422 non-null   int64         \n",
      " 18  인기점수        8379 non-null   float64       \n",
      "dtypes: datetime64[ns](1), float64(4), int64(8), object(6)\n",
      "memory usage: 1.3+ MB\n",
      "None\n",
      "------------------------------\n",
      "음식점\n",
      "------------------------------\n",
      "<class 'pandas.core.frame.DataFrame'>\n",
      "Index: 24236 entries, 0 to 24969\n",
      "Data columns (total 19 columns):\n",
      " #   Column      Non-Null Count  Dtype         \n",
      "---  ------      --------------  -----         \n",
      " 0   Unnamed: 0  24236 non-null  int64         \n",
      " 1   콘텐츠분류       24236 non-null  object        \n",
      " 2   타이틀         24116 non-null  object        \n",
      " 3   지번주소        24236 non-null  object        \n",
      " 4   도로명주소       24236 non-null  object        \n",
      " 5   위도          24185 non-null  float64       \n",
      " 6   경도          24185 non-null  float64       \n",
      " 7   탐나오연동여부     24236 non-null  object        \n",
      " 8   평점          23742 non-null  float64       \n",
      " 9   소셜네트워크주소    4802 non-null   object        \n",
      " 10  조회수         24236 non-null  int64         \n",
      " 11  좋아요수        24236 non-null  int64         \n",
      " 12  리뷰수         24236 non-null  int64         \n",
      " 13  북마크수        24236 non-null  int64         \n",
      " 14  일정등록수       24236 non-null  int64         \n",
      " 15  다녀왔어요수      24236 non-null  int64         \n",
      " 16  등록일시        24236 non-null  datetime64[ns]\n",
      " 17  소셜네트워크공유수   24236 non-null  int64         \n",
      " 18  인기점수        24169 non-null  float64       \n",
      "dtypes: datetime64[ns](1), float64(4), int64(8), object(6)\n",
      "memory usage: 3.7+ MB\n",
      "None\n",
      "------------------------------\n",
      "관광지\n",
      "------------------------------\n",
      "<class 'pandas.core.frame.DataFrame'>\n",
      "Index: 11320 entries, 0 to 11520\n",
      "Data columns (total 19 columns):\n",
      " #   Column      Non-Null Count  Dtype         \n",
      "---  ------      --------------  -----         \n",
      " 0   Unnamed: 0  11320 non-null  int64         \n",
      " 1   콘텐츠분류       11320 non-null  object        \n",
      " 2   타이틀         11163 non-null  object        \n",
      " 3   지번주소        11320 non-null  object        \n",
      " 4   도로명주소       11320 non-null  object        \n",
      " 5   위도          11200 non-null  float64       \n",
      " 6   경도          11200 non-null  float64       \n",
      " 7   탐나오연동여부     11320 non-null  object        \n",
      " 8   평점          10939 non-null  float64       \n",
      " 9   소셜네트워크주소    875 non-null    object        \n",
      " 10  조회수         11320 non-null  int64         \n",
      " 11  좋아요수        11320 non-null  int64         \n",
      " 12  리뷰수         11320 non-null  int64         \n",
      " 13  북마크수        11320 non-null  int64         \n",
      " 14  일정등록수       11320 non-null  int64         \n",
      " 15  다녀왔어요수      11320 non-null  int64         \n",
      " 16  등록일시        11320 non-null  datetime64[ns]\n",
      " 17  소셜네트워크공유수   11320 non-null  int64         \n",
      " 18  인기점수        11197 non-null  float64       \n",
      "dtypes: datetime64[ns](1), float64(4), int64(8), object(6)\n",
      "memory usage: 1.7+ MB\n",
      "None\n",
      "------------------------------\n"
     ]
    }
   ],
   "source": []
  },
  {
   "cell_type": "code",
   "execution_count": 13,
   "metadata": {},
   "outputs": [
    {
     "name": "stdout",
     "output_type": "stream",
     "text": [
      "숙박\n",
      "Nan개수 :  120\n",
      "------------------------------\n",
      "음식점\n",
      "Nan개수 :  120\n",
      "------------------------------\n",
      "관광지\n",
      "Nan개수 :  157\n",
      "------------------------------\n"
     ]
    }
   ],
   "source": []
  },
  {
   "cell_type": "code",
   "execution_count": null,
   "metadata": {},
   "outputs": [],
   "source": []
  }
 ],
 "metadata": {
  "kernelspec": {
   "display_name": "Python 3",
   "language": "python",
   "name": "python3"
  },
  "language_info": {
   "codemirror_mode": {
    "name": "ipython",
    "version": 3
   },
   "file_extension": ".py",
   "mimetype": "text/x-python",
   "name": "python",
   "nbconvert_exporter": "python",
   "pygments_lexer": "ipython3",
   "version": "3.11.3"
  },
  "orig_nbformat": 4
 },
 "nbformat": 4,
 "nbformat_minor": 2
}
