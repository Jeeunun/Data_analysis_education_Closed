{
 "cells": [
  {
   "cell_type": "code",
   "execution_count": 1,
   "metadata": {},
   "outputs": [],
   "source": [
    "import pandas as pd\n",
    "import numpy as np\n",
    "import os\n",
    "import sys\n",
    "sys.path.append(os.path.dirname(os.getcwd()))\n",
    "import statsmodels.api as sm\n",
    "import statsmodels.formula.api as sf "
   ]
  },
  {
   "cell_type": "code",
   "execution_count": 3,
   "metadata": {},
   "outputs": [],
   "source": [
    "import chi2\n",
    "import Allogit"
   ]
  },
  {
   "cell_type": "code",
   "execution_count": 4,
   "metadata": {},
   "outputs": [],
   "source": [
    "col_base=[\"삶의 사다리 점수\",'(가)건강 만족도','(나)가족의 수입 만족도','(다)주거 환경 만족도','(라)가족관계 만족도','(마)직업 만족도','(바)사회적 친분관계 만족도','(사)여가생활 만족도']\n",
    "col_sub=[\"성별\",\"연령\",\"교육수준\",'근로유형']\n",
    "D=pd.read_excel(\"./카테고리_소분류완료.xlsx\",usecols=col_base+col_sub)"
   ]
  },
  {
   "cell_type": "code",
   "execution_count": 5,
   "metadata": {},
   "outputs": [],
   "source": [
    "data=pd.DataFrame(D)"
   ]
  },
  {
   "cell_type": "code",
   "execution_count": 6,
   "metadata": {},
   "outputs": [
    {
     "data": {
      "text/html": [
       "<div>\n",
       "<style scoped>\n",
       "    .dataframe tbody tr th:only-of-type {\n",
       "        vertical-align: middle;\n",
       "    }\n",
       "\n",
       "    .dataframe tbody tr th {\n",
       "        vertical-align: top;\n",
       "    }\n",
       "\n",
       "    .dataframe thead th {\n",
       "        text-align: right;\n",
       "    }\n",
       "</style>\n",
       "<table border=\"1\" class=\"dataframe\">\n",
       "  <thead>\n",
       "    <tr style=\"text-align: right;\">\n",
       "      <th></th>\n",
       "      <th>근로유형</th>\n",
       "      <th>삶의 사다리 점수</th>\n",
       "      <th>(가)건강 만족도</th>\n",
       "      <th>(나)가족의 수입 만족도</th>\n",
       "      <th>(다)주거 환경 만족도</th>\n",
       "      <th>(라)가족관계 만족도</th>\n",
       "      <th>(마)직업 만족도</th>\n",
       "      <th>(바)사회적 친분관계 만족도</th>\n",
       "      <th>(사)여가생활 만족도</th>\n",
       "      <th>성별</th>\n",
       "      <th>교육수준</th>\n",
       "      <th>연령</th>\n",
       "    </tr>\n",
       "  </thead>\n",
       "  <tbody>\n",
       "    <tr>\n",
       "      <th>0</th>\n",
       "      <td>4</td>\n",
       "      <td>6</td>\n",
       "      <td>2</td>\n",
       "      <td>1</td>\n",
       "      <td>3</td>\n",
       "      <td>3</td>\n",
       "      <td>2</td>\n",
       "      <td>3</td>\n",
       "      <td>3</td>\n",
       "      <td>2</td>\n",
       "      <td>4</td>\n",
       "      <td>78</td>\n",
       "    </tr>\n",
       "    <tr>\n",
       "      <th>1</th>\n",
       "      <td>1</td>\n",
       "      <td>5</td>\n",
       "      <td>2</td>\n",
       "      <td>4</td>\n",
       "      <td>4</td>\n",
       "      <td>4</td>\n",
       "      <td>4</td>\n",
       "      <td>4</td>\n",
       "      <td>4</td>\n",
       "      <td>1</td>\n",
       "      <td>3</td>\n",
       "      <td>75</td>\n",
       "    </tr>\n",
       "    <tr>\n",
       "      <th>2</th>\n",
       "      <td>1</td>\n",
       "      <td>4</td>\n",
       "      <td>5</td>\n",
       "      <td>2</td>\n",
       "      <td>4</td>\n",
       "      <td>2</td>\n",
       "      <td>4</td>\n",
       "      <td>4</td>\n",
       "      <td>3</td>\n",
       "      <td>1</td>\n",
       "      <td>7</td>\n",
       "      <td>81</td>\n",
       "    </tr>\n",
       "    <tr>\n",
       "      <th>3</th>\n",
       "      <td>1</td>\n",
       "      <td>4</td>\n",
       "      <td>2</td>\n",
       "      <td>2</td>\n",
       "      <td>3</td>\n",
       "      <td>2</td>\n",
       "      <td>3</td>\n",
       "      <td>2</td>\n",
       "      <td>2</td>\n",
       "      <td>2</td>\n",
       "      <td>3</td>\n",
       "      <td>83</td>\n",
       "    </tr>\n",
       "    <tr>\n",
       "      <th>4</th>\n",
       "      <td>4</td>\n",
       "      <td>9</td>\n",
       "      <td>4</td>\n",
       "      <td>2</td>\n",
       "      <td>4</td>\n",
       "      <td>2</td>\n",
       "      <td>4</td>\n",
       "      <td>3</td>\n",
       "      <td>4</td>\n",
       "      <td>1</td>\n",
       "      <td>3</td>\n",
       "      <td>59</td>\n",
       "    </tr>\n",
       "    <tr>\n",
       "      <th>...</th>\n",
       "      <td>...</td>\n",
       "      <td>...</td>\n",
       "      <td>...</td>\n",
       "      <td>...</td>\n",
       "      <td>...</td>\n",
       "      <td>...</td>\n",
       "      <td>...</td>\n",
       "      <td>...</td>\n",
       "      <td>...</td>\n",
       "      <td>...</td>\n",
       "      <td>...</td>\n",
       "      <td>...</td>\n",
       "    </tr>\n",
       "    <tr>\n",
       "      <th>3329</th>\n",
       "      <td>1</td>\n",
       "      <td>8</td>\n",
       "      <td>4</td>\n",
       "      <td>4</td>\n",
       "      <td>4</td>\n",
       "      <td>4</td>\n",
       "      <td>4</td>\n",
       "      <td>4</td>\n",
       "      <td>4</td>\n",
       "      <td>2</td>\n",
       "      <td>3</td>\n",
       "      <td>80</td>\n",
       "    </tr>\n",
       "    <tr>\n",
       "      <th>3330</th>\n",
       "      <td>1</td>\n",
       "      <td>9</td>\n",
       "      <td>4</td>\n",
       "      <td>4</td>\n",
       "      <td>4</td>\n",
       "      <td>4</td>\n",
       "      <td>4</td>\n",
       "      <td>4</td>\n",
       "      <td>3</td>\n",
       "      <td>2</td>\n",
       "      <td>3</td>\n",
       "      <td>80</td>\n",
       "    </tr>\n",
       "    <tr>\n",
       "      <th>3331</th>\n",
       "      <td>1</td>\n",
       "      <td>5</td>\n",
       "      <td>3</td>\n",
       "      <td>4</td>\n",
       "      <td>4</td>\n",
       "      <td>3</td>\n",
       "      <td>3</td>\n",
       "      <td>3</td>\n",
       "      <td>3</td>\n",
       "      <td>2</td>\n",
       "      <td>2</td>\n",
       "      <td>87</td>\n",
       "    </tr>\n",
       "    <tr>\n",
       "      <th>3332</th>\n",
       "      <td>1</td>\n",
       "      <td>8</td>\n",
       "      <td>4</td>\n",
       "      <td>3</td>\n",
       "      <td>4</td>\n",
       "      <td>4</td>\n",
       "      <td>4</td>\n",
       "      <td>4</td>\n",
       "      <td>4</td>\n",
       "      <td>2</td>\n",
       "      <td>3</td>\n",
       "      <td>80</td>\n",
       "    </tr>\n",
       "    <tr>\n",
       "      <th>3333</th>\n",
       "      <td>4</td>\n",
       "      <td>4</td>\n",
       "      <td>4</td>\n",
       "      <td>3</td>\n",
       "      <td>4</td>\n",
       "      <td>4</td>\n",
       "      <td>3</td>\n",
       "      <td>3</td>\n",
       "      <td>3</td>\n",
       "      <td>1</td>\n",
       "      <td>3</td>\n",
       "      <td>86</td>\n",
       "    </tr>\n",
       "  </tbody>\n",
       "</table>\n",
       "<p>3334 rows × 12 columns</p>\n",
       "</div>"
      ],
      "text/plain": [
       "      근로유형  삶의 사다리 점수  (가)건강 만족도  (나)가족의 수입 만족도  (다)주거 환경 만족도  (라)가족관계 만족도  \\\n",
       "0        4          6          2              1             3            3   \n",
       "1        1          5          2              4             4            4   \n",
       "2        1          4          5              2             4            2   \n",
       "3        1          4          2              2             3            2   \n",
       "4        4          9          4              2             4            2   \n",
       "...    ...        ...        ...            ...           ...          ...   \n",
       "3329     1          8          4              4             4            4   \n",
       "3330     1          9          4              4             4            4   \n",
       "3331     1          5          3              4             4            3   \n",
       "3332     1          8          4              3             4            4   \n",
       "3333     4          4          4              3             4            4   \n",
       "\n",
       "      (마)직업 만족도  (바)사회적 친분관계 만족도  (사)여가생활 만족도  성별  교육수준  연령  \n",
       "0             2                3            3   2     4  78  \n",
       "1             4                4            4   1     3  75  \n",
       "2             4                4            3   1     7  81  \n",
       "3             3                2            2   2     3  83  \n",
       "4             4                3            4   1     3  59  \n",
       "...         ...              ...          ...  ..   ...  ..  \n",
       "3329          4                4            4   2     3  80  \n",
       "3330          4                4            3   2     3  80  \n",
       "3331          3                3            3   2     2  87  \n",
       "3332          4                4            4   2     3  80  \n",
       "3333          3                3            3   1     3  86  \n",
       "\n",
       "[3334 rows x 12 columns]"
      ]
     },
     "execution_count": 6,
     "metadata": {},
     "output_type": "execute_result"
    }
   ],
   "source": [
    "data"
   ]
  },
  {
   "cell_type": "code",
   "execution_count": 8,
   "metadata": {},
   "outputs": [],
   "source": [
    "def trans(x):\n",
    "    if 0 <= x < 57:\n",
    "        return 1\n",
    "    elif 57 <= x < 74:\n",
    "        return 2\n",
    "    elif 74 <= x < 82:\n",
    "        return 3 \n",
    "    else:\n",
    "        return 4"
   ]
  },
  {
   "cell_type": "code",
   "execution_count": 9,
   "metadata": {},
   "outputs": [],
   "source": [
    "data['연령_구분'] = data['연령'].apply(trans)"
   ]
  },
  {
   "cell_type": "code",
   "execution_count": 10,
   "metadata": {},
   "outputs": [
    {
     "data": {
      "text/html": [
       "<div>\n",
       "<style scoped>\n",
       "    .dataframe tbody tr th:only-of-type {\n",
       "        vertical-align: middle;\n",
       "    }\n",
       "\n",
       "    .dataframe tbody tr th {\n",
       "        vertical-align: top;\n",
       "    }\n",
       "\n",
       "    .dataframe thead th {\n",
       "        text-align: right;\n",
       "    }\n",
       "</style>\n",
       "<table border=\"1\" class=\"dataframe\">\n",
       "  <thead>\n",
       "    <tr style=\"text-align: right;\">\n",
       "      <th></th>\n",
       "      <th>근로유형</th>\n",
       "      <th>삶의 사다리 점수</th>\n",
       "      <th>(가)건강 만족도</th>\n",
       "      <th>(나)가족의 수입 만족도</th>\n",
       "      <th>(다)주거 환경 만족도</th>\n",
       "      <th>(라)가족관계 만족도</th>\n",
       "      <th>(마)직업 만족도</th>\n",
       "      <th>(바)사회적 친분관계 만족도</th>\n",
       "      <th>(사)여가생활 만족도</th>\n",
       "      <th>성별</th>\n",
       "      <th>교육수준</th>\n",
       "      <th>연령</th>\n",
       "      <th>연령_구분</th>\n",
       "    </tr>\n",
       "  </thead>\n",
       "  <tbody>\n",
       "    <tr>\n",
       "      <th>0</th>\n",
       "      <td>4</td>\n",
       "      <td>6</td>\n",
       "      <td>2</td>\n",
       "      <td>1</td>\n",
       "      <td>3</td>\n",
       "      <td>3</td>\n",
       "      <td>2</td>\n",
       "      <td>3</td>\n",
       "      <td>3</td>\n",
       "      <td>2</td>\n",
       "      <td>4</td>\n",
       "      <td>78</td>\n",
       "      <td>3</td>\n",
       "    </tr>\n",
       "    <tr>\n",
       "      <th>1</th>\n",
       "      <td>1</td>\n",
       "      <td>5</td>\n",
       "      <td>2</td>\n",
       "      <td>4</td>\n",
       "      <td>4</td>\n",
       "      <td>4</td>\n",
       "      <td>4</td>\n",
       "      <td>4</td>\n",
       "      <td>4</td>\n",
       "      <td>1</td>\n",
       "      <td>3</td>\n",
       "      <td>75</td>\n",
       "      <td>3</td>\n",
       "    </tr>\n",
       "    <tr>\n",
       "      <th>2</th>\n",
       "      <td>1</td>\n",
       "      <td>4</td>\n",
       "      <td>5</td>\n",
       "      <td>2</td>\n",
       "      <td>4</td>\n",
       "      <td>2</td>\n",
       "      <td>4</td>\n",
       "      <td>4</td>\n",
       "      <td>3</td>\n",
       "      <td>1</td>\n",
       "      <td>7</td>\n",
       "      <td>81</td>\n",
       "      <td>3</td>\n",
       "    </tr>\n",
       "    <tr>\n",
       "      <th>3</th>\n",
       "      <td>1</td>\n",
       "      <td>4</td>\n",
       "      <td>2</td>\n",
       "      <td>2</td>\n",
       "      <td>3</td>\n",
       "      <td>2</td>\n",
       "      <td>3</td>\n",
       "      <td>2</td>\n",
       "      <td>2</td>\n",
       "      <td>2</td>\n",
       "      <td>3</td>\n",
       "      <td>83</td>\n",
       "      <td>4</td>\n",
       "    </tr>\n",
       "    <tr>\n",
       "      <th>4</th>\n",
       "      <td>4</td>\n",
       "      <td>9</td>\n",
       "      <td>4</td>\n",
       "      <td>2</td>\n",
       "      <td>4</td>\n",
       "      <td>2</td>\n",
       "      <td>4</td>\n",
       "      <td>3</td>\n",
       "      <td>4</td>\n",
       "      <td>1</td>\n",
       "      <td>3</td>\n",
       "      <td>59</td>\n",
       "      <td>2</td>\n",
       "    </tr>\n",
       "    <tr>\n",
       "      <th>...</th>\n",
       "      <td>...</td>\n",
       "      <td>...</td>\n",
       "      <td>...</td>\n",
       "      <td>...</td>\n",
       "      <td>...</td>\n",
       "      <td>...</td>\n",
       "      <td>...</td>\n",
       "      <td>...</td>\n",
       "      <td>...</td>\n",
       "      <td>...</td>\n",
       "      <td>...</td>\n",
       "      <td>...</td>\n",
       "      <td>...</td>\n",
       "    </tr>\n",
       "    <tr>\n",
       "      <th>3329</th>\n",
       "      <td>1</td>\n",
       "      <td>8</td>\n",
       "      <td>4</td>\n",
       "      <td>4</td>\n",
       "      <td>4</td>\n",
       "      <td>4</td>\n",
       "      <td>4</td>\n",
       "      <td>4</td>\n",
       "      <td>4</td>\n",
       "      <td>2</td>\n",
       "      <td>3</td>\n",
       "      <td>80</td>\n",
       "      <td>3</td>\n",
       "    </tr>\n",
       "    <tr>\n",
       "      <th>3330</th>\n",
       "      <td>1</td>\n",
       "      <td>9</td>\n",
       "      <td>4</td>\n",
       "      <td>4</td>\n",
       "      <td>4</td>\n",
       "      <td>4</td>\n",
       "      <td>4</td>\n",
       "      <td>4</td>\n",
       "      <td>3</td>\n",
       "      <td>2</td>\n",
       "      <td>3</td>\n",
       "      <td>80</td>\n",
       "      <td>3</td>\n",
       "    </tr>\n",
       "    <tr>\n",
       "      <th>3331</th>\n",
       "      <td>1</td>\n",
       "      <td>5</td>\n",
       "      <td>3</td>\n",
       "      <td>4</td>\n",
       "      <td>4</td>\n",
       "      <td>3</td>\n",
       "      <td>3</td>\n",
       "      <td>3</td>\n",
       "      <td>3</td>\n",
       "      <td>2</td>\n",
       "      <td>2</td>\n",
       "      <td>87</td>\n",
       "      <td>4</td>\n",
       "    </tr>\n",
       "    <tr>\n",
       "      <th>3332</th>\n",
       "      <td>1</td>\n",
       "      <td>8</td>\n",
       "      <td>4</td>\n",
       "      <td>3</td>\n",
       "      <td>4</td>\n",
       "      <td>4</td>\n",
       "      <td>4</td>\n",
       "      <td>4</td>\n",
       "      <td>4</td>\n",
       "      <td>2</td>\n",
       "      <td>3</td>\n",
       "      <td>80</td>\n",
       "      <td>3</td>\n",
       "    </tr>\n",
       "    <tr>\n",
       "      <th>3333</th>\n",
       "      <td>4</td>\n",
       "      <td>4</td>\n",
       "      <td>4</td>\n",
       "      <td>3</td>\n",
       "      <td>4</td>\n",
       "      <td>4</td>\n",
       "      <td>3</td>\n",
       "      <td>3</td>\n",
       "      <td>3</td>\n",
       "      <td>1</td>\n",
       "      <td>3</td>\n",
       "      <td>86</td>\n",
       "      <td>4</td>\n",
       "    </tr>\n",
       "  </tbody>\n",
       "</table>\n",
       "<p>3334 rows × 13 columns</p>\n",
       "</div>"
      ],
      "text/plain": [
       "      근로유형  삶의 사다리 점수  (가)건강 만족도  (나)가족의 수입 만족도  (다)주거 환경 만족도  (라)가족관계 만족도  \\\n",
       "0        4          6          2              1             3            3   \n",
       "1        1          5          2              4             4            4   \n",
       "2        1          4          5              2             4            2   \n",
       "3        1          4          2              2             3            2   \n",
       "4        4          9          4              2             4            2   \n",
       "...    ...        ...        ...            ...           ...          ...   \n",
       "3329     1          8          4              4             4            4   \n",
       "3330     1          9          4              4             4            4   \n",
       "3331     1          5          3              4             4            3   \n",
       "3332     1          8          4              3             4            4   \n",
       "3333     4          4          4              3             4            4   \n",
       "\n",
       "      (마)직업 만족도  (바)사회적 친분관계 만족도  (사)여가생활 만족도  성별  교육수준  연령  연령_구분  \n",
       "0             2                3            3   2     4  78      3  \n",
       "1             4                4            4   1     3  75      3  \n",
       "2             4                4            3   1     7  81      3  \n",
       "3             3                2            2   2     3  83      4  \n",
       "4             4                3            4   1     3  59      2  \n",
       "...         ...              ...          ...  ..   ...  ..    ...  \n",
       "3329          4                4            4   2     3  80      3  \n",
       "3330          4                4            3   2     3  80      3  \n",
       "3331          3                3            3   2     2  87      4  \n",
       "3332          4                4            4   2     3  80      3  \n",
       "3333          3                3            3   1     3  86      4  \n",
       "\n",
       "[3334 rows x 13 columns]"
      ]
     },
     "execution_count": 10,
     "metadata": {},
     "output_type": "execute_result"
    }
   ],
   "source": [
    "data"
   ]
  },
  {
   "cell_type": "code",
   "execution_count": 72,
   "metadata": {},
   "outputs": [
    {
     "data": {
      "text/plain": [
       "근로유형\n",
       "4    1652\n",
       "1    1330\n",
       "2     352\n",
       "Name: count, dtype: int64"
      ]
     },
     "execution_count": 72,
     "metadata": {},
     "output_type": "execute_result"
    }
   ],
   "source": [
    "data['근로유형'].value_counts()"
   ]
  },
  {
   "cell_type": "markdown",
   "metadata": {},
   "source": [
    "### 전체"
   ]
  },
  {
   "cell_type": "code",
   "execution_count": 11,
   "metadata": {},
   "outputs": [
    {
     "name": "stdout",
     "output_type": "stream",
     "text": [
      "Optimization terminated successfully.\n",
      "         Current function value: 0.541904\n",
      "         Iterations 6\n",
      "Optimization terminated successfully.\n",
      "         Current function value: 0.652613\n",
      "         Iterations 5\n",
      "Optimization terminated successfully.\n",
      "         Current function value: 0.652670\n",
      "         Iterations 5\n",
      "Optimization terminated successfully.\n",
      "         Current function value: 0.652935\n",
      "         Iterations 5\n",
      "Optimization terminated successfully.\n",
      "         Current function value: 0.653686\n",
      "         Iterations 5\n",
      "Optimization terminated successfully.\n",
      "         Current function value: 0.654799\n",
      "         Iterations 5\n",
      "Optimization terminated successfully.\n",
      "         Current function value: 0.517124\n",
      "         Iterations 6\n",
      "Optimization terminated successfully.\n",
      "         Current function value: 0.517368\n",
      "         Iterations 6\n",
      "Optimization terminated successfully.\n",
      "         Current function value: 0.518016\n",
      "         Iterations 6\n"
     ]
    }
   ],
   "source": [
    "전체 = Allogit.Lgt(data)"
   ]
  },
  {
   "cell_type": "markdown",
   "metadata": {},
   "source": [
    "#### 중상위"
   ]
  },
  {
   "cell_type": "code",
   "execution_count": 12,
   "metadata": {},
   "outputs": [
    {
     "name": "stdout",
     "output_type": "stream",
     "text": [
      "평균: 6.116076784643071\n"
     ]
    },
    {
     "data": {
      "text/html": [
       "<div>\n",
       "<style scoped>\n",
       "    .dataframe tbody tr th:only-of-type {\n",
       "        vertical-align: middle;\n",
       "    }\n",
       "\n",
       "    .dataframe tbody tr th {\n",
       "        vertical-align: top;\n",
       "    }\n",
       "\n",
       "    .dataframe thead th {\n",
       "        text-align: right;\n",
       "    }\n",
       "</style>\n",
       "<table border=\"1\" class=\"dataframe\">\n",
       "  <thead>\n",
       "    <tr style=\"text-align: right;\">\n",
       "      <th></th>\n",
       "      <th>(중상위, coef)</th>\n",
       "      <th>(중상위, pvalue)</th>\n",
       "    </tr>\n",
       "  </thead>\n",
       "  <tbody>\n",
       "    <tr>\n",
       "      <th>const</th>\n",
       "      <td>-9.622729</td>\n",
       "      <td>2.632948e-118</td>\n",
       "    </tr>\n",
       "    <tr>\n",
       "      <th>(가)건강 만족도</th>\n",
       "      <td>0.371857</td>\n",
       "      <td>4.696007e-16</td>\n",
       "    </tr>\n",
       "    <tr>\n",
       "      <th>(나)가족의 수입 만족도</th>\n",
       "      <td>0.274914</td>\n",
       "      <td>8.439821e-07</td>\n",
       "    </tr>\n",
       "    <tr>\n",
       "      <th>(다)주거 환경 만족도</th>\n",
       "      <td>0.257816</td>\n",
       "      <td>6.280581e-04</td>\n",
       "    </tr>\n",
       "    <tr>\n",
       "      <th>(라)가족관계 만족도</th>\n",
       "      <td>0.403394</td>\n",
       "      <td>1.122983e-07</td>\n",
       "    </tr>\n",
       "    <tr>\n",
       "      <th>(마)직업 만족도</th>\n",
       "      <td>0.308263</td>\n",
       "      <td>2.348552e-05</td>\n",
       "    </tr>\n",
       "    <tr>\n",
       "      <th>(바)사회적 친분관계 만족도</th>\n",
       "      <td>0.621741</td>\n",
       "      <td>4.665250e-14</td>\n",
       "    </tr>\n",
       "    <tr>\n",
       "      <th>(사)여가생활 만족도</th>\n",
       "      <td>0.461951</td>\n",
       "      <td>1.115545e-11</td>\n",
       "    </tr>\n",
       "  </tbody>\n",
       "</table>\n",
       "</div>"
      ],
      "text/plain": [
       "                 (중상위, coef)  (중상위, pvalue)\n",
       "const              -9.622729  2.632948e-118\n",
       "(가)건강 만족도           0.371857   4.696007e-16\n",
       "(나)가족의 수입 만족도       0.274914   8.439821e-07\n",
       "(다)주거 환경 만족도        0.257816   6.280581e-04\n",
       "(라)가족관계 만족도         0.403394   1.122983e-07\n",
       "(마)직업 만족도           0.308263   2.348552e-05\n",
       "(바)사회적 친분관계 만족도     0.621741   4.665250e-14\n",
       "(사)여가생활 만족도         0.461951   1.115545e-11"
      ]
     },
     "execution_count": 12,
     "metadata": {},
     "output_type": "execute_result"
    }
   ],
   "source": [
    "result=pd.merge(전체[\"중상위\"][0].params.to_frame(),전체[\"중상위\"][0].pvalues.to_frame(),right_index=True,left_index=True)\n",
    "result.rename(columns=dict(zip(result.columns,[(\"중상위\",\"coef\"),(\"중상위\",\"pvalue\")])),inplace=True)\n",
    "print('평균:',전체[\"중상위\"][1])\n",
    "result"
   ]
  },
  {
   "cell_type": "markdown",
   "metadata": {},
   "source": [
    "#### 최상위"
   ]
  },
  {
   "cell_type": "code",
   "execution_count": 13,
   "metadata": {},
   "outputs": [
    {
     "name": "stdout",
     "output_type": "stream",
     "text": [
      "평균: 7.824647887323944\n"
     ]
    },
    {
     "data": {
      "text/html": [
       "<div>\n",
       "<style scoped>\n",
       "    .dataframe tbody tr th:only-of-type {\n",
       "        vertical-align: middle;\n",
       "    }\n",
       "\n",
       "    .dataframe tbody tr th {\n",
       "        vertical-align: top;\n",
       "    }\n",
       "\n",
       "    .dataframe thead th {\n",
       "        text-align: right;\n",
       "    }\n",
       "</style>\n",
       "<table border=\"1\" class=\"dataframe\">\n",
       "  <thead>\n",
       "    <tr style=\"text-align: right;\">\n",
       "      <th></th>\n",
       "      <th>(최상위, coef)</th>\n",
       "      <th>(최상위, pvalue)</th>\n",
       "    </tr>\n",
       "  </thead>\n",
       "  <tbody>\n",
       "    <tr>\n",
       "      <th>const</th>\n",
       "      <td>-3.760402</td>\n",
       "      <td>1.134329e-13</td>\n",
       "    </tr>\n",
       "    <tr>\n",
       "      <th>(가)건강 만족도</th>\n",
       "      <td>0.248874</td>\n",
       "      <td>5.358255e-05</td>\n",
       "    </tr>\n",
       "    <tr>\n",
       "      <th>(라)가족관계 만족도</th>\n",
       "      <td>0.277623</td>\n",
       "      <td>7.146349e-03</td>\n",
       "    </tr>\n",
       "    <tr>\n",
       "      <th>(마)직업 만족도</th>\n",
       "      <td>0.572275</td>\n",
       "      <td>1.182699e-08</td>\n",
       "    </tr>\n",
       "  </tbody>\n",
       "</table>\n",
       "</div>"
      ],
      "text/plain": [
       "             (최상위, coef)  (최상위, pvalue)\n",
       "const          -3.760402   1.134329e-13\n",
       "(가)건강 만족도       0.248874   5.358255e-05\n",
       "(라)가족관계 만족도     0.277623   7.146349e-03\n",
       "(마)직업 만족도       0.572275   1.182699e-08"
      ]
     },
     "execution_count": 13,
     "metadata": {},
     "output_type": "execute_result"
    }
   ],
   "source": [
    "result=pd.merge(전체[\"최상위\"][0].params.to_frame(),전체[\"최상위\"][0].pvalues.to_frame(),right_index=True,left_index=True)\n",
    "result.rename(columns=dict(zip(result.columns,[(\"최상위\",\"coef\"),(\"최상위\",\"pvalue\")])),inplace=True)\n",
    "print('평균:',전체[\"최상위\"][1])\n",
    "result"
   ]
  },
  {
   "cell_type": "markdown",
   "metadata": {},
   "source": [
    "#### 최하위"
   ]
  },
  {
   "cell_type": "code",
   "execution_count": 14,
   "metadata": {},
   "outputs": [
    {
     "name": "stdout",
     "output_type": "stream",
     "text": [
      "평균: 4.848484848484849\n"
     ]
    },
    {
     "data": {
      "text/html": [
       "<div>\n",
       "<style scoped>\n",
       "    .dataframe tbody tr th:only-of-type {\n",
       "        vertical-align: middle;\n",
       "    }\n",
       "\n",
       "    .dataframe tbody tr th {\n",
       "        vertical-align: top;\n",
       "    }\n",
       "\n",
       "    .dataframe thead th {\n",
       "        text-align: right;\n",
       "    }\n",
       "</style>\n",
       "<table border=\"1\" class=\"dataframe\">\n",
       "  <thead>\n",
       "    <tr style=\"text-align: right;\">\n",
       "      <th></th>\n",
       "      <th>(최하위, coef)</th>\n",
       "      <th>(최하위, pvalue)</th>\n",
       "    </tr>\n",
       "  </thead>\n",
       "  <tbody>\n",
       "    <tr>\n",
       "      <th>const</th>\n",
       "      <td>-5.554574</td>\n",
       "      <td>2.784895e-43</td>\n",
       "    </tr>\n",
       "    <tr>\n",
       "      <th>(가)건강 만족도</th>\n",
       "      <td>0.458175</td>\n",
       "      <td>1.272288e-12</td>\n",
       "    </tr>\n",
       "    <tr>\n",
       "      <th>(나)가족의 수입 만족도</th>\n",
       "      <td>0.383834</td>\n",
       "      <td>1.112127e-06</td>\n",
       "    </tr>\n",
       "    <tr>\n",
       "      <th>(다)주거 환경 만족도</th>\n",
       "      <td>0.276803</td>\n",
       "      <td>1.061060e-03</td>\n",
       "    </tr>\n",
       "    <tr>\n",
       "      <th>(라)가족관계 만족도</th>\n",
       "      <td>0.527065</td>\n",
       "      <td>6.739643e-10</td>\n",
       "    </tr>\n",
       "    <tr>\n",
       "      <th>(사)여가생활 만족도</th>\n",
       "      <td>0.474266</td>\n",
       "      <td>6.586727e-08</td>\n",
       "    </tr>\n",
       "  </tbody>\n",
       "</table>\n",
       "</div>"
      ],
      "text/plain": [
       "               (최하위, coef)  (최하위, pvalue)\n",
       "const            -5.554574   2.784895e-43\n",
       "(가)건강 만족도         0.458175   1.272288e-12\n",
       "(나)가족의 수입 만족도     0.383834   1.112127e-06\n",
       "(다)주거 환경 만족도      0.276803   1.061060e-03\n",
       "(라)가족관계 만족도       0.527065   6.739643e-10\n",
       "(사)여가생활 만족도       0.474266   6.586727e-08"
      ]
     },
     "execution_count": 14,
     "metadata": {},
     "output_type": "execute_result"
    }
   ],
   "source": [
    "result=pd.merge(전체[\"최하위\"][0].params.to_frame(),전체[\"최하위\"][0].pvalues.to_frame(),right_index=True,left_index=True)\n",
    "result.rename(columns=dict(zip(result.columns,[(\"최하위\",\"coef\"),(\"최하위\",\"pvalue\")])),inplace=True)\n",
    "print('평균:',전체[\"최하위\"][1])\n",
    "result"
   ]
  },
  {
   "cell_type": "markdown",
   "metadata": {},
   "source": [
    "*******************************\n",
    "\n",
    "### 성별"
   ]
  },
  {
   "cell_type": "markdown",
   "metadata": {},
   "source": [
    "#### 성별과 삶의 사다리 점수간의 연관성"
   ]
  },
  {
   "cell_type": "code",
   "execution_count": 40,
   "metadata": {},
   "outputs": [
    {
     "data": {
      "text/plain": [
       "8.518074850606034e-05"
      ]
     },
     "execution_count": 40,
     "metadata": {},
     "output_type": "execute_result"
    }
   ],
   "source": [
    "# 카이제곱검정(독립성)\n",
    "chi2.chi2_try(data[[\"삶의 사다리 점수\",'성별']])[\"Pass\"][0][\"pvalue\"]"
   ]
  },
  {
   "cell_type": "markdown",
   "metadata": {},
   "source": [
    "> pass -> 독립적이다."
   ]
  },
  {
   "cell_type": "markdown",
   "metadata": {},
   "source": [
    "##### 성별 삶의 사다리 점수간의 관계\n",
    "\n",
    "> 분석방법 : <br>\n",
    "회귀계수의 pvalue가 0.05보다 높으면 높은 순으로 해당 column을 제거하고 다시 분석 <br>\n",
    "만약 남은 column은 최소 2개를 유지"
   ]
  },
  {
   "cell_type": "code",
   "execution_count": 41,
   "metadata": {},
   "outputs": [
    {
     "name": "stdout",
     "output_type": "stream",
     "text": [
      "Optimization terminated successfully.\n",
      "         Current function value: 0.549138\n",
      "         Iterations 6\n",
      "Optimization terminated successfully.\n",
      "         Current function value: 0.654511\n",
      "         Iterations 5\n",
      "Optimization terminated successfully.\n",
      "         Current function value: 0.654547\n",
      "         Iterations 5\n",
      "Optimization terminated successfully.\n",
      "         Current function value: 0.654914\n",
      "         Iterations 5\n",
      "Optimization terminated successfully.\n",
      "         Current function value: 0.655388\n",
      "         Iterations 5\n",
      "Optimization terminated successfully.\n",
      "         Current function value: 0.656727\n",
      "         Iterations 5\n",
      "Optimization terminated successfully.\n",
      "         Current function value: 0.658909\n",
      "         Iterations 5\n",
      "Optimization terminated successfully.\n",
      "         Current function value: 0.523871\n",
      "         Iterations 6\n",
      "Optimization terminated successfully.\n",
      "         Current function value: 0.523871\n",
      "         Iterations 6\n",
      "Optimization terminated successfully.\n",
      "         Current function value: 0.524941\n",
      "         Iterations 6\n",
      "Optimization terminated successfully.\n",
      "         Current function value: 0.524779\n",
      "         Iterations 6\n",
      "Optimization terminated successfully.\n",
      "         Current function value: 0.525232\n",
      "         Iterations 6\n",
      "Optimization terminated successfully.\n",
      "         Current function value: 0.644502\n",
      "         Iterations 5\n",
      "Optimization terminated successfully.\n",
      "         Current function value: 0.644770\n",
      "         Iterations 5\n",
      "Optimization terminated successfully.\n",
      "         Current function value: 0.645367\n",
      "         Iterations 5\n",
      "Optimization terminated successfully.\n",
      "         Current function value: 0.646416\n",
      "         Iterations 5\n",
      "Optimization terminated successfully.\n",
      "         Current function value: 0.647688\n",
      "         Iterations 5\n",
      "Optimization terminated successfully.\n",
      "         Current function value: 0.649338\n",
      "         Iterations 5\n",
      "Optimization terminated successfully.\n",
      "         Current function value: 0.496750\n",
      "         Iterations 6\n",
      "Optimization terminated successfully.\n",
      "         Current function value: 0.496942\n",
      "         Iterations 6\n",
      "Optimization terminated successfully.\n",
      "         Current function value: 0.498333\n",
      "         Iterations 6\n"
     ]
    }
   ],
   "source": [
    "# 모듈 적용\n",
    "성별 = Allogit.Lgt(data, '성별')"
   ]
  },
  {
   "cell_type": "markdown",
   "metadata": {},
   "source": [
    "#### 남자(성별1) 의 삶의 만족도\n",
    "\n",
    "\n",
    "|구분|기준(평균)|유효독립변수|\n",
    "|---|----|----|\n",
    "|최상위|7.86|직업만족도, 사회적친분관계만족도|\n",
    "|중상위|6.32|건강만족도, 가족수입만족도, 가족관계만족도, 직업만족도, 사회적친분관계만족도, 여가생활만족도|\n",
    "|최하위|4.87|건강만족도, 가족수입만족도, 가족관계만족도, 직업만족도, 여가생활만족도|"
   ]
  },
  {
   "cell_type": "markdown",
   "metadata": {},
   "source": [
    "중상위"
   ]
  },
  {
   "cell_type": "code",
   "execution_count": 45,
   "metadata": {},
   "outputs": [
    {
     "name": "stdout",
     "output_type": "stream",
     "text": [
      "평균: 6.32238547968885\n"
     ]
    },
    {
     "data": {
      "text/html": [
       "<div>\n",
       "<style scoped>\n",
       "    .dataframe tbody tr th:only-of-type {\n",
       "        vertical-align: middle;\n",
       "    }\n",
       "\n",
       "    .dataframe tbody tr th {\n",
       "        vertical-align: top;\n",
       "    }\n",
       "\n",
       "    .dataframe thead th {\n",
       "        text-align: right;\n",
       "    }\n",
       "</style>\n",
       "<table border=\"1\" class=\"dataframe\">\n",
       "  <thead>\n",
       "    <tr style=\"text-align: right;\">\n",
       "      <th></th>\n",
       "      <th>(중상위, coef)</th>\n",
       "      <th>(중상위, pvalue)</th>\n",
       "    </tr>\n",
       "  </thead>\n",
       "  <tbody>\n",
       "    <tr>\n",
       "      <th>const</th>\n",
       "      <td>-9.584380</td>\n",
       "      <td>7.203701e-51</td>\n",
       "    </tr>\n",
       "    <tr>\n",
       "      <th>(가)건강 만족도</th>\n",
       "      <td>0.389251</td>\n",
       "      <td>3.133086e-06</td>\n",
       "    </tr>\n",
       "    <tr>\n",
       "      <th>(나)가족의 수입 만족도</th>\n",
       "      <td>0.341571</td>\n",
       "      <td>2.709757e-04</td>\n",
       "    </tr>\n",
       "    <tr>\n",
       "      <th>(라)가족관계 만족도</th>\n",
       "      <td>0.505360</td>\n",
       "      <td>2.982049e-05</td>\n",
       "    </tr>\n",
       "    <tr>\n",
       "      <th>(마)직업 만족도</th>\n",
       "      <td>0.264722</td>\n",
       "      <td>3.444675e-02</td>\n",
       "    </tr>\n",
       "    <tr>\n",
       "      <th>(바)사회적 친분관계 만족도</th>\n",
       "      <td>0.620785</td>\n",
       "      <td>1.692580e-05</td>\n",
       "    </tr>\n",
       "    <tr>\n",
       "      <th>(사)여가생활 만족도</th>\n",
       "      <td>0.596090</td>\n",
       "      <td>3.482843e-07</td>\n",
       "    </tr>\n",
       "  </tbody>\n",
       "</table>\n",
       "</div>"
      ],
      "text/plain": [
       "                 (중상위, coef)  (중상위, pvalue)\n",
       "const              -9.584380   7.203701e-51\n",
       "(가)건강 만족도           0.389251   3.133086e-06\n",
       "(나)가족의 수입 만족도       0.341571   2.709757e-04\n",
       "(라)가족관계 만족도         0.505360   2.982049e-05\n",
       "(마)직업 만족도           0.264722   3.444675e-02\n",
       "(바)사회적 친분관계 만족도     0.620785   1.692580e-05\n",
       "(사)여가생활 만족도         0.596090   3.482843e-07"
      ]
     },
     "execution_count": 45,
     "metadata": {},
     "output_type": "execute_result"
    }
   ],
   "source": [
    "result=pd.merge(성별[1][\"중상위\"][0].params.to_frame(),성별[1][\"중상위\"][0].pvalues.to_frame(),right_index=True,left_index=True)\n",
    "result.rename(columns=dict(zip(result.columns,[(\"중상위\",\"coef\"),(\"중상위\",\"pvalue\")])),inplace=True)\n",
    "print('평균:',성별[1][\"중상위\"][1])\n",
    "result"
   ]
  },
  {
   "cell_type": "markdown",
   "metadata": {},
   "source": [
    "최상위"
   ]
  },
  {
   "cell_type": "code",
   "execution_count": 46,
   "metadata": {},
   "outputs": [
    {
     "name": "stdout",
     "output_type": "stream",
     "text": [
      "평균: 7.86096256684492\n"
     ]
    },
    {
     "data": {
      "text/html": [
       "<div>\n",
       "<style scoped>\n",
       "    .dataframe tbody tr th:only-of-type {\n",
       "        vertical-align: middle;\n",
       "    }\n",
       "\n",
       "    .dataframe tbody tr th {\n",
       "        vertical-align: top;\n",
       "    }\n",
       "\n",
       "    .dataframe thead th {\n",
       "        text-align: right;\n",
       "    }\n",
       "</style>\n",
       "<table border=\"1\" class=\"dataframe\">\n",
       "  <thead>\n",
       "    <tr style=\"text-align: right;\">\n",
       "      <th></th>\n",
       "      <th>(최상위, coef)</th>\n",
       "      <th>(최상위, pvalue)</th>\n",
       "    </tr>\n",
       "  </thead>\n",
       "  <tbody>\n",
       "    <tr>\n",
       "      <th>const</th>\n",
       "      <td>-3.367925</td>\n",
       "      <td>0.000014</td>\n",
       "    </tr>\n",
       "    <tr>\n",
       "      <th>(마)직업 만족도</th>\n",
       "      <td>0.492049</td>\n",
       "      <td>0.002621</td>\n",
       "    </tr>\n",
       "    <tr>\n",
       "      <th>(바)사회적 친분관계 만족도</th>\n",
       "      <td>0.501531</td>\n",
       "      <td>0.006273</td>\n",
       "    </tr>\n",
       "  </tbody>\n",
       "</table>\n",
       "</div>"
      ],
      "text/plain": [
       "                 (최상위, coef)  (최상위, pvalue)\n",
       "const              -3.367925       0.000014\n",
       "(마)직업 만족도           0.492049       0.002621\n",
       "(바)사회적 친분관계 만족도     0.501531       0.006273"
      ]
     },
     "execution_count": 46,
     "metadata": {},
     "output_type": "execute_result"
    }
   ],
   "source": [
    "result=pd.merge(성별[1][\"최상위\"][0].params.to_frame(),성별[1][\"최상위\"][0].pvalues.to_frame(),right_index=True,left_index=True)\n",
    "result.rename(columns=dict(zip(result.columns,[(\"최상위\",\"coef\"),(\"최상위\",\"pvalue\")])),inplace=True)\n",
    "print('평균:',성별[1][\"최상위\"][1])\n",
    "result"
   ]
  },
  {
   "cell_type": "markdown",
   "metadata": {},
   "source": [
    "최하위"
   ]
  },
  {
   "cell_type": "code",
   "execution_count": 47,
   "metadata": {},
   "outputs": [
    {
     "name": "stdout",
     "output_type": "stream",
     "text": [
      "평균: 4.874161073825503\n"
     ]
    },
    {
     "data": {
      "text/html": [
       "<div>\n",
       "<style scoped>\n",
       "    .dataframe tbody tr th:only-of-type {\n",
       "        vertical-align: middle;\n",
       "    }\n",
       "\n",
       "    .dataframe tbody tr th {\n",
       "        vertical-align: top;\n",
       "    }\n",
       "\n",
       "    .dataframe thead th {\n",
       "        text-align: right;\n",
       "    }\n",
       "</style>\n",
       "<table border=\"1\" class=\"dataframe\">\n",
       "  <thead>\n",
       "    <tr style=\"text-align: right;\">\n",
       "      <th></th>\n",
       "      <th>(최하위, coef)</th>\n",
       "      <th>(최하위, pvalue)</th>\n",
       "    </tr>\n",
       "  </thead>\n",
       "  <tbody>\n",
       "    <tr>\n",
       "      <th>const</th>\n",
       "      <td>-5.662483</td>\n",
       "      <td>2.116787e-16</td>\n",
       "    </tr>\n",
       "    <tr>\n",
       "      <th>(가)건강 만족도</th>\n",
       "      <td>0.363033</td>\n",
       "      <td>1.059092e-03</td>\n",
       "    </tr>\n",
       "    <tr>\n",
       "      <th>(나)가족의 수입 만족도</th>\n",
       "      <td>0.299622</td>\n",
       "      <td>2.842921e-02</td>\n",
       "    </tr>\n",
       "    <tr>\n",
       "      <th>(라)가족관계 만족도</th>\n",
       "      <td>0.549997</td>\n",
       "      <td>1.885211e-04</td>\n",
       "    </tr>\n",
       "    <tr>\n",
       "      <th>(마)직업 만족도</th>\n",
       "      <td>0.437515</td>\n",
       "      <td>8.214175e-03</td>\n",
       "    </tr>\n",
       "    <tr>\n",
       "      <th>(사)여가생활 만족도</th>\n",
       "      <td>0.511480</td>\n",
       "      <td>1.581884e-03</td>\n",
       "    </tr>\n",
       "  </tbody>\n",
       "</table>\n",
       "</div>"
      ],
      "text/plain": [
       "               (최하위, coef)  (최하위, pvalue)\n",
       "const            -5.662483   2.116787e-16\n",
       "(가)건강 만족도         0.363033   1.059092e-03\n",
       "(나)가족의 수입 만족도     0.299622   2.842921e-02\n",
       "(라)가족관계 만족도       0.549997   1.885211e-04\n",
       "(마)직업 만족도         0.437515   8.214175e-03\n",
       "(사)여가생활 만족도       0.511480   1.581884e-03"
      ]
     },
     "execution_count": 47,
     "metadata": {},
     "output_type": "execute_result"
    }
   ],
   "source": [
    "result=pd.merge(성별[1][\"최하위\"][0].params.to_frame(),성별[1][\"최하위\"][0].pvalues.to_frame(),right_index=True,left_index=True)\n",
    "result.rename(columns=dict(zip(result.columns,[(\"최하위\",\"coef\"),(\"최하위\",\"pvalue\")])),inplace=True)\n",
    "print('평균:',성별[1][\"최하위\"][1])\n",
    "result"
   ]
  },
  {
   "cell_type": "markdown",
   "metadata": {},
   "source": [
    "#### 여자 (성별2) 삶의 만족도 \n",
    "\n",
    "|구분|기준(평균)|유효독립변수|\n",
    "|---|----|----|\n",
    "|최상위|7.80|건강만족도, 직업만족도|\n",
    "|중상위|6.00|건강만족도, 가족수입만족도, 주거환경만족도, 가족관계만족도, 직업만족도, 사회적친분관계만족도, 여가생활만족도|\n",
    "|최하위|4.83|건강만족도, 가족수입만족도, 주거환경만족도, 가족관계만족도, 여가생활만족도|"
   ]
  },
  {
   "cell_type": "markdown",
   "metadata": {},
   "source": [
    "중상위"
   ]
  },
  {
   "cell_type": "code",
   "execution_count": 48,
   "metadata": {},
   "outputs": [
    {
     "name": "stdout",
     "output_type": "stream",
     "text": [
      "평균: 6.006430868167203\n"
     ]
    },
    {
     "data": {
      "text/html": [
       "<div>\n",
       "<style scoped>\n",
       "    .dataframe tbody tr th:only-of-type {\n",
       "        vertical-align: middle;\n",
       "    }\n",
       "\n",
       "    .dataframe tbody tr th {\n",
       "        vertical-align: top;\n",
       "    }\n",
       "\n",
       "    .dataframe thead th {\n",
       "        text-align: right;\n",
       "    }\n",
       "</style>\n",
       "<table border=\"1\" class=\"dataframe\">\n",
       "  <thead>\n",
       "    <tr style=\"text-align: right;\">\n",
       "      <th></th>\n",
       "      <th>(중상위, coef)</th>\n",
       "      <th>(중상위, pvalue)</th>\n",
       "    </tr>\n",
       "  </thead>\n",
       "  <tbody>\n",
       "    <tr>\n",
       "      <th>const</th>\n",
       "      <td>-9.489999</td>\n",
       "      <td>3.542018e-73</td>\n",
       "    </tr>\n",
       "    <tr>\n",
       "      <th>(가)건강 만족도</th>\n",
       "      <td>0.334136</td>\n",
       "      <td>8.796325e-09</td>\n",
       "    </tr>\n",
       "    <tr>\n",
       "      <th>(나)가족의 수입 만족도</th>\n",
       "      <td>0.248988</td>\n",
       "      <td>3.201531e-04</td>\n",
       "    </tr>\n",
       "    <tr>\n",
       "      <th>(다)주거 환경 만족도</th>\n",
       "      <td>0.370058</td>\n",
       "      <td>1.783788e-04</td>\n",
       "    </tr>\n",
       "    <tr>\n",
       "      <th>(라)가족관계 만족도</th>\n",
       "      <td>0.326228</td>\n",
       "      <td>9.514504e-04</td>\n",
       "    </tr>\n",
       "    <tr>\n",
       "      <th>(마)직업 만족도</th>\n",
       "      <td>0.337124</td>\n",
       "      <td>1.725991e-04</td>\n",
       "    </tr>\n",
       "    <tr>\n",
       "      <th>(바)사회적 친분관계 만족도</th>\n",
       "      <td>0.625106</td>\n",
       "      <td>5.475313e-10</td>\n",
       "    </tr>\n",
       "    <tr>\n",
       "      <th>(사)여가생활 만족도</th>\n",
       "      <td>0.399603</td>\n",
       "      <td>1.680369e-06</td>\n",
       "    </tr>\n",
       "  </tbody>\n",
       "</table>\n",
       "</div>"
      ],
      "text/plain": [
       "                 (중상위, coef)  (중상위, pvalue)\n",
       "const              -9.489999   3.542018e-73\n",
       "(가)건강 만족도           0.334136   8.796325e-09\n",
       "(나)가족의 수입 만족도       0.248988   3.201531e-04\n",
       "(다)주거 환경 만족도        0.370058   1.783788e-04\n",
       "(라)가족관계 만족도         0.326228   9.514504e-04\n",
       "(마)직업 만족도           0.337124   1.725991e-04\n",
       "(바)사회적 친분관계 만족도     0.625106   5.475313e-10\n",
       "(사)여가생활 만족도         0.399603   1.680369e-06"
      ]
     },
     "execution_count": 48,
     "metadata": {},
     "output_type": "execute_result"
    }
   ],
   "source": [
    "result=pd.merge(성별[2][\"중상위\"][0].params.to_frame(),성별[2][\"중상위\"][0].pvalues.to_frame(),right_index=True,left_index=True)\n",
    "result.rename(columns=dict(zip(result.columns,[(\"중상위\",\"coef\"),(\"중상위\",\"pvalue\")])),inplace=True)\n",
    "print('평균:',성별[2][\"중상위\"][1])\n",
    "result"
   ]
  },
  {
   "cell_type": "markdown",
   "metadata": {},
   "source": [
    "최상위"
   ]
  },
  {
   "cell_type": "code",
   "execution_count": 49,
   "metadata": {},
   "outputs": [
    {
     "name": "stdout",
     "output_type": "stream",
     "text": [
      "평균: 7.80093131548312\n"
     ]
    },
    {
     "data": {
      "text/html": [
       "<div>\n",
       "<style scoped>\n",
       "    .dataframe tbody tr th:only-of-type {\n",
       "        vertical-align: middle;\n",
       "    }\n",
       "\n",
       "    .dataframe tbody tr th {\n",
       "        vertical-align: top;\n",
       "    }\n",
       "\n",
       "    .dataframe thead th {\n",
       "        text-align: right;\n",
       "    }\n",
       "</style>\n",
       "<table border=\"1\" class=\"dataframe\">\n",
       "  <thead>\n",
       "    <tr style=\"text-align: right;\">\n",
       "      <th></th>\n",
       "      <th>(최상위, coef)</th>\n",
       "      <th>(최상위, pvalue)</th>\n",
       "    </tr>\n",
       "  </thead>\n",
       "  <tbody>\n",
       "    <tr>\n",
       "      <th>const</th>\n",
       "      <td>-3.076470</td>\n",
       "      <td>1.178519e-10</td>\n",
       "    </tr>\n",
       "    <tr>\n",
       "      <th>(가)건강 만족도</th>\n",
       "      <td>0.300262</td>\n",
       "      <td>1.358258e-04</td>\n",
       "    </tr>\n",
       "    <tr>\n",
       "      <th>(마)직업 만족도</th>\n",
       "      <td>0.638762</td>\n",
       "      <td>5.347840e-07</td>\n",
       "    </tr>\n",
       "  </tbody>\n",
       "</table>\n",
       "</div>"
      ],
      "text/plain": [
       "           (최상위, coef)  (최상위, pvalue)\n",
       "const        -3.076470   1.178519e-10\n",
       "(가)건강 만족도     0.300262   1.358258e-04\n",
       "(마)직업 만족도     0.638762   5.347840e-07"
      ]
     },
     "execution_count": 49,
     "metadata": {},
     "output_type": "execute_result"
    }
   ],
   "source": [
    "result=pd.merge(성별[2][\"최상위\"][0].params.to_frame(),성별[2][\"최상위\"][0].pvalues.to_frame(),right_index=True,left_index=True)\n",
    "result.rename(columns=dict(zip(result.columns,[(\"최상위\",\"coef\"),(\"최상위\",\"pvalue\")])),inplace=True)\n",
    "print('평균:',성별[2][\"최상위\"][1])\n",
    "result"
   ]
  },
  {
   "cell_type": "markdown",
   "metadata": {},
   "source": [
    "최하위"
   ]
  },
  {
   "cell_type": "code",
   "execution_count": 50,
   "metadata": {},
   "outputs": [
    {
     "name": "stdout",
     "output_type": "stream",
     "text": [
      "평균: 4.836874051593323\n"
     ]
    },
    {
     "data": {
      "text/html": [
       "<div>\n",
       "<style scoped>\n",
       "    .dataframe tbody tr th:only-of-type {\n",
       "        vertical-align: middle;\n",
       "    }\n",
       "\n",
       "    .dataframe tbody tr th {\n",
       "        vertical-align: top;\n",
       "    }\n",
       "\n",
       "    .dataframe thead th {\n",
       "        text-align: right;\n",
       "    }\n",
       "</style>\n",
       "<table border=\"1\" class=\"dataframe\">\n",
       "  <thead>\n",
       "    <tr style=\"text-align: right;\">\n",
       "      <th></th>\n",
       "      <th>(최하위, coef)</th>\n",
       "      <th>(최하위, pvalue)</th>\n",
       "    </tr>\n",
       "  </thead>\n",
       "  <tbody>\n",
       "    <tr>\n",
       "      <th>const</th>\n",
       "      <td>-5.569472</td>\n",
       "      <td>1.839365e-29</td>\n",
       "    </tr>\n",
       "    <tr>\n",
       "      <th>(가)건강 만족도</th>\n",
       "      <td>0.478376</td>\n",
       "      <td>8.801358e-09</td>\n",
       "    </tr>\n",
       "    <tr>\n",
       "      <th>(나)가족의 수입 만족도</th>\n",
       "      <td>0.409607</td>\n",
       "      <td>2.231913e-05</td>\n",
       "    </tr>\n",
       "    <tr>\n",
       "      <th>(다)주거 환경 만족도</th>\n",
       "      <td>0.290406</td>\n",
       "      <td>5.456154e-03</td>\n",
       "    </tr>\n",
       "    <tr>\n",
       "      <th>(라)가족관계 만족도</th>\n",
       "      <td>0.522633</td>\n",
       "      <td>9.969797e-07</td>\n",
       "    </tr>\n",
       "    <tr>\n",
       "      <th>(사)여가생활 만족도</th>\n",
       "      <td>0.430031</td>\n",
       "      <td>5.030215e-05</td>\n",
       "    </tr>\n",
       "  </tbody>\n",
       "</table>\n",
       "</div>"
      ],
      "text/plain": [
       "               (최하위, coef)  (최하위, pvalue)\n",
       "const            -5.569472   1.839365e-29\n",
       "(가)건강 만족도         0.478376   8.801358e-09\n",
       "(나)가족의 수입 만족도     0.409607   2.231913e-05\n",
       "(다)주거 환경 만족도      0.290406   5.456154e-03\n",
       "(라)가족관계 만족도       0.522633   9.969797e-07\n",
       "(사)여가생활 만족도       0.430031   5.030215e-05"
      ]
     },
     "execution_count": 50,
     "metadata": {},
     "output_type": "execute_result"
    }
   ],
   "source": [
    "result=pd.merge(성별[2][\"최하위\"][0].params.to_frame(),성별[2][\"최하위\"][0].pvalues.to_frame(),right_index=True,left_index=True)\n",
    "result.rename(columns=dict(zip(result.columns,[(\"최하위\",\"coef\"),(\"최하위\",\"pvalue\")])),inplace=True)\n",
    "print('평균:',성별[2][\"최하위\"][1])\n",
    "result"
   ]
  },
  {
   "cell_type": "markdown",
   "metadata": {},
   "source": [
    "*********************"
   ]
  },
  {
   "cell_type": "markdown",
   "metadata": {},
   "source": [
    "### 연령"
   ]
  },
  {
   "cell_type": "markdown",
   "metadata": {},
   "source": [
    "#### 연령과 삶의 만족도 사이의 관련성"
   ]
  },
  {
   "cell_type": "code",
   "execution_count": 52,
   "metadata": {},
   "outputs": [
    {
     "data": {
      "text/html": [
       "<div>\n",
       "<style scoped>\n",
       "    .dataframe tbody tr th:only-of-type {\n",
       "        vertical-align: middle;\n",
       "    }\n",
       "\n",
       "    .dataframe tbody tr th {\n",
       "        vertical-align: top;\n",
       "    }\n",
       "\n",
       "    .dataframe thead th {\n",
       "        text-align: right;\n",
       "    }\n",
       "</style>\n",
       "<table border=\"1\" class=\"dataframe\">\n",
       "  <thead>\n",
       "    <tr style=\"text-align: right;\">\n",
       "      <th></th>\n",
       "      <th>삶의 사다리 점수</th>\n",
       "      <th>연령_구분</th>\n",
       "    </tr>\n",
       "  </thead>\n",
       "  <tbody>\n",
       "    <tr>\n",
       "      <th>삶의 사다리 점수</th>\n",
       "      <td>1.000000</td>\n",
       "      <td>-0.181026</td>\n",
       "    </tr>\n",
       "    <tr>\n",
       "      <th>연령_구분</th>\n",
       "      <td>-0.181026</td>\n",
       "      <td>1.000000</td>\n",
       "    </tr>\n",
       "  </tbody>\n",
       "</table>\n",
       "</div>"
      ],
      "text/plain": [
       "           삶의 사다리 점수     연령_구분\n",
       "삶의 사다리 점수   1.000000 -0.181026\n",
       "연령_구분      -0.181026  1.000000"
      ]
     },
     "execution_count": 52,
     "metadata": {},
     "output_type": "execute_result"
    }
   ],
   "source": [
    "# 서열척도\n",
    "data[['삶의 사다리 점수','연령_구분']].corr(method='spearman')"
   ]
  },
  {
   "cell_type": "code",
   "execution_count": 54,
   "metadata": {},
   "outputs": [
    {
     "data": {
      "text/plain": [
       "3.1953872269176074e-19"
      ]
     },
     "execution_count": 54,
     "metadata": {},
     "output_type": "execute_result"
    }
   ],
   "source": [
    "# 카이제곱검정(독립성)\n",
    "chi2.chi2_try(data[[\"삶의 사다리 점수\",'연령_구분']])[\"type4\"][0][\"pvalue\"]"
   ]
  },
  {
   "cell_type": "markdown",
   "metadata": {},
   "source": [
    "> 독립적이지 않다"
   ]
  },
  {
   "cell_type": "markdown",
   "metadata": {},
   "source": [
    "#### 연령별 삶의 사다리 점수와의 관계\n",
    "\n",
    "> 분석방법 : <br>\n",
    "회귀계수의 pvalue가 0.05보다 높으면 높은 순으로 해당 column을 제거하고 다시 분석 <br>\n",
    "만약 남은 column은 최소 2개를 유지"
   ]
  },
  {
   "cell_type": "code",
   "execution_count": 56,
   "metadata": {},
   "outputs": [
    {
     "name": "stdout",
     "output_type": "stream",
     "text": [
      "Optimization terminated successfully.\n",
      "         Current function value: 0.564083\n",
      "         Iterations 6\n",
      "Optimization terminated successfully.\n",
      "         Current function value: 0.565167\n",
      "         Iterations 6\n",
      "Optimization terminated successfully.\n",
      "         Current function value: 0.566388\n",
      "         Iterations 6\n",
      "Optimization terminated successfully.\n",
      "         Current function value: 0.619588\n",
      "         Iterations 5\n",
      "Optimization terminated successfully.\n",
      "         Current function value: 0.620592\n",
      "         Iterations 5\n",
      "Optimization terminated successfully.\n",
      "         Current function value: 0.621618\n",
      "         Iterations 5\n",
      "Optimization terminated successfully.\n",
      "         Current function value: 0.623238\n",
      "         Iterations 5\n",
      "Optimization terminated successfully.\n",
      "         Current function value: 0.624966\n",
      "         Iterations 5\n",
      "Optimization terminated successfully.\n",
      "         Current function value: 0.628355\n",
      "         Iterations 5\n",
      "Optimization terminated successfully.\n",
      "         Current function value: 0.603530\n",
      "         Iterations 5\n",
      "Optimization terminated successfully.\n",
      "         Current function value: 0.603965\n",
      "         Iterations 5\n",
      "Optimization terminated successfully.\n",
      "         Current function value: 0.604671\n",
      "         Iterations 5\n",
      "Optimization terminated successfully.\n",
      "         Current function value: 0.606587\n",
      "         Iterations 5\n",
      "Optimization terminated successfully.\n",
      "         Current function value: 0.609812\n",
      "         Iterations 5\n",
      "Optimization terminated successfully.\n",
      "         Current function value: 0.615628\n",
      "         Iterations 5\n",
      "Optimization terminated successfully.\n",
      "         Current function value: 0.570917\n",
      "         Iterations 6\n",
      "Optimization terminated successfully.\n",
      "         Current function value: 0.571267\n",
      "         Iterations 6\n",
      "Optimization terminated successfully.\n",
      "         Current function value: 0.572807\n",
      "         Iterations 6\n",
      "Optimization terminated successfully.\n",
      "         Current function value: 0.562963\n",
      "         Iterations 6\n",
      "Optimization terminated successfully.\n",
      "         Current function value: 0.563253\n",
      "         Iterations 6\n",
      "Optimization terminated successfully.\n",
      "         Current function value: 0.564446\n",
      "         Iterations 6\n",
      "Optimization terminated successfully.\n",
      "         Current function value: 0.565828\n",
      "         Iterations 6\n",
      "Optimization terminated successfully.\n",
      "         Current function value: 0.636356\n",
      "         Iterations 5\n",
      "Optimization terminated successfully.\n",
      "         Current function value: 0.636411\n",
      "         Iterations 5\n",
      "Optimization terminated successfully.\n",
      "         Current function value: 0.636616\n",
      "         Iterations 5\n",
      "Optimization terminated successfully.\n",
      "         Current function value: 0.636898\n",
      "         Iterations 5\n",
      "Optimization terminated successfully.\n",
      "         Current function value: 0.637613\n",
      "         Iterations 5\n",
      "Optimization terminated successfully.\n",
      "         Current function value: 0.641696\n",
      "         Iterations 5\n",
      "Optimization terminated successfully.\n",
      "         Current function value: 0.522209\n",
      "         Iterations 6\n",
      "Optimization terminated successfully.\n",
      "         Current function value: 0.523198\n",
      "         Iterations 6\n",
      "Optimization terminated successfully.\n",
      "         Current function value: 0.633602\n",
      "         Iterations 5\n",
      "Optimization terminated successfully.\n",
      "         Current function value: 0.633714\n",
      "         Iterations 5\n",
      "Optimization terminated successfully.\n",
      "         Current function value: 0.633854\n",
      "         Iterations 5\n",
      "Optimization terminated successfully.\n",
      "         Current function value: 0.634239\n",
      "         Iterations 5\n",
      "Optimization terminated successfully.\n",
      "         Current function value: 0.634520\n",
      "         Iterations 5\n",
      "Optimization terminated successfully.\n",
      "         Current function value: 0.637101\n",
      "         Iterations 5\n",
      "Optimization terminated successfully.\n",
      "         Current function value: 0.518725\n",
      "         Iterations 6\n",
      "Optimization terminated successfully.\n",
      "         Current function value: 0.518919\n",
      "         Iterations 6\n",
      "Optimization terminated successfully.\n",
      "         Current function value: 0.521823\n",
      "         Iterations 6\n",
      "Optimization terminated successfully.\n",
      "         Current function value: 0.538913\n",
      "         Iterations 6\n",
      "Optimization terminated successfully.\n",
      "         Current function value: 0.540132\n",
      "         Iterations 6\n",
      "Optimization terminated successfully.\n",
      "         Current function value: 0.633146\n",
      "         Iterations 5\n",
      "Optimization terminated successfully.\n",
      "         Current function value: 0.633995\n",
      "         Iterations 5\n",
      "Optimization terminated successfully.\n",
      "         Current function value: 0.635100\n",
      "         Iterations 5\n",
      "Optimization terminated successfully.\n",
      "         Current function value: 0.637294\n",
      "         Iterations 5\n",
      "Optimization terminated successfully.\n",
      "         Current function value: 0.640138\n",
      "         Iterations 5\n",
      "Optimization terminated successfully.\n",
      "         Current function value: 0.584568\n",
      "         Iterations 6\n",
      "Optimization terminated successfully.\n",
      "         Current function value: 0.584657\n",
      "         Iterations 6\n",
      "Optimization terminated successfully.\n",
      "         Current function value: 0.587550\n",
      "         Iterations 6\n",
      "Optimization terminated successfully.\n",
      "         Current function value: 0.590350\n",
      "         Iterations 6\n"
     ]
    }
   ],
   "source": [
    "# 모듈 적용\n",
    "연령 = Allogit.Lgt(data, '연령_구분')"
   ]
  },
  {
   "cell_type": "markdown",
   "metadata": {},
   "source": [
    "##### 연령 1 (57세 미만)\n",
    "\n",
    "|구분|기준(평균)|유효독립변수|\n",
    "|---|----|----|\n",
    "|최상위|7.83|건강만족도, 가족관계만족도, 직업만족도|\n",
    "|중상위|6.60|건강만족도, 가족수입만족도, 가족관계만족도, 직업만족도, 사회적친분관계만족도, 여가생활만족도|\n",
    "|최하위|5.06|건강만족도, 주거환경만족도, 가족관계만족도, 직업만족도|\n"
   ]
  },
  {
   "cell_type": "markdown",
   "metadata": {},
   "source": [
    "중상위"
   ]
  },
  {
   "cell_type": "code",
   "execution_count": 57,
   "metadata": {},
   "outputs": [
    {
     "name": "stdout",
     "output_type": "stream",
     "text": [
      "평균: 6.6068376068376065\n"
     ]
    },
    {
     "data": {
      "text/html": [
       "<div>\n",
       "<style scoped>\n",
       "    .dataframe tbody tr th:only-of-type {\n",
       "        vertical-align: middle;\n",
       "    }\n",
       "\n",
       "    .dataframe tbody tr th {\n",
       "        vertical-align: top;\n",
       "    }\n",
       "\n",
       "    .dataframe thead th {\n",
       "        text-align: right;\n",
       "    }\n",
       "</style>\n",
       "<table border=\"1\" class=\"dataframe\">\n",
       "  <thead>\n",
       "    <tr style=\"text-align: right;\">\n",
       "      <th></th>\n",
       "      <th>(중상위, coef)</th>\n",
       "      <th>(중상위, pvalue)</th>\n",
       "    </tr>\n",
       "  </thead>\n",
       "  <tbody>\n",
       "    <tr>\n",
       "      <th>const</th>\n",
       "      <td>-9.064872</td>\n",
       "      <td>2.218849e-31</td>\n",
       "    </tr>\n",
       "    <tr>\n",
       "      <th>(가)건강 만족도</th>\n",
       "      <td>0.303628</td>\n",
       "      <td>3.079838e-03</td>\n",
       "    </tr>\n",
       "    <tr>\n",
       "      <th>(나)가족의 수입 만족도</th>\n",
       "      <td>0.349284</td>\n",
       "      <td>1.658692e-03</td>\n",
       "    </tr>\n",
       "    <tr>\n",
       "      <th>(라)가족관계 만족도</th>\n",
       "      <td>0.448194</td>\n",
       "      <td>2.831041e-03</td>\n",
       "    </tr>\n",
       "    <tr>\n",
       "      <th>(마)직업 만족도</th>\n",
       "      <td>0.378037</td>\n",
       "      <td>7.093828e-03</td>\n",
       "    </tr>\n",
       "    <tr>\n",
       "      <th>(바)사회적 친분관계 만족도</th>\n",
       "      <td>0.635721</td>\n",
       "      <td>1.457137e-04</td>\n",
       "    </tr>\n",
       "    <tr>\n",
       "      <th>(사)여가생활 만족도</th>\n",
       "      <td>0.502490</td>\n",
       "      <td>9.938797e-05</td>\n",
       "    </tr>\n",
       "  </tbody>\n",
       "</table>\n",
       "</div>"
      ],
      "text/plain": [
       "                 (중상위, coef)  (중상위, pvalue)\n",
       "const              -9.064872   2.218849e-31\n",
       "(가)건강 만족도           0.303628   3.079838e-03\n",
       "(나)가족의 수입 만족도       0.349284   1.658692e-03\n",
       "(라)가족관계 만족도         0.448194   2.831041e-03\n",
       "(마)직업 만족도           0.378037   7.093828e-03\n",
       "(바)사회적 친분관계 만족도     0.635721   1.457137e-04\n",
       "(사)여가생활 만족도         0.502490   9.938797e-05"
      ]
     },
     "execution_count": 57,
     "metadata": {},
     "output_type": "execute_result"
    }
   ],
   "source": [
    "result=pd.merge(연령[1][\"중상위\"][0].params.to_frame(),연령[1][\"중상위\"][0].pvalues.to_frame(),right_index=True,left_index=True)\n",
    "result.rename(columns=dict(zip(result.columns,[(\"중상위\",\"coef\"),(\"중상위\",\"pvalue\")])),inplace=True)\n",
    "print('평균:',연령[1][\"중상위\"][1])\n",
    "result"
   ]
  },
  {
   "cell_type": "markdown",
   "metadata": {},
   "source": [
    "최상위"
   ]
  },
  {
   "cell_type": "code",
   "execution_count": 58,
   "metadata": {},
   "outputs": [
    {
     "name": "stdout",
     "output_type": "stream",
     "text": [
      "평균: 7.831509846827133\n"
     ]
    },
    {
     "data": {
      "text/html": [
       "<div>\n",
       "<style scoped>\n",
       "    .dataframe tbody tr th:only-of-type {\n",
       "        vertical-align: middle;\n",
       "    }\n",
       "\n",
       "    .dataframe tbody tr th {\n",
       "        vertical-align: top;\n",
       "    }\n",
       "\n",
       "    .dataframe thead th {\n",
       "        text-align: right;\n",
       "    }\n",
       "</style>\n",
       "<table border=\"1\" class=\"dataframe\">\n",
       "  <thead>\n",
       "    <tr style=\"text-align: right;\">\n",
       "      <th></th>\n",
       "      <th>(최상위, coef)</th>\n",
       "      <th>(최상위, pvalue)</th>\n",
       "    </tr>\n",
       "  </thead>\n",
       "  <tbody>\n",
       "    <tr>\n",
       "      <th>const</th>\n",
       "      <td>-4.609483</td>\n",
       "      <td>0.000002</td>\n",
       "    </tr>\n",
       "    <tr>\n",
       "      <th>(가)건강 만족도</th>\n",
       "      <td>0.278883</td>\n",
       "      <td>0.032455</td>\n",
       "    </tr>\n",
       "    <tr>\n",
       "      <th>(라)가족관계 만족도</th>\n",
       "      <td>0.430027</td>\n",
       "      <td>0.021583</td>\n",
       "    </tr>\n",
       "    <tr>\n",
       "      <th>(마)직업 만족도</th>\n",
       "      <td>0.595584</td>\n",
       "      <td>0.000854</td>\n",
       "    </tr>\n",
       "  </tbody>\n",
       "</table>\n",
       "</div>"
      ],
      "text/plain": [
       "             (최상위, coef)  (최상위, pvalue)\n",
       "const          -4.609483       0.000002\n",
       "(가)건강 만족도       0.278883       0.032455\n",
       "(라)가족관계 만족도     0.430027       0.021583\n",
       "(마)직업 만족도       0.595584       0.000854"
      ]
     },
     "execution_count": 58,
     "metadata": {},
     "output_type": "execute_result"
    }
   ],
   "source": [
    "result=pd.merge(연령[1][\"최상위\"][0].params.to_frame(),연령[1][\"최상위\"][0].pvalues.to_frame(),right_index=True,left_index=True)\n",
    "result.rename(columns=dict(zip(result.columns,[(\"최상위\",\"coef\"),(\"최상위\",\"pvalue\")])),inplace=True)\n",
    "print('평균:',연령[1][\"최상위\"][1])\n",
    "result"
   ]
  },
  {
   "cell_type": "markdown",
   "metadata": {},
   "source": [
    "최하위"
   ]
  },
  {
   "cell_type": "code",
   "execution_count": 59,
   "metadata": {},
   "outputs": [
    {
     "name": "stdout",
     "output_type": "stream",
     "text": [
      "평균: 5.060773480662983\n"
     ]
    },
    {
     "data": {
      "text/html": [
       "<div>\n",
       "<style scoped>\n",
       "    .dataframe tbody tr th:only-of-type {\n",
       "        vertical-align: middle;\n",
       "    }\n",
       "\n",
       "    .dataframe tbody tr th {\n",
       "        vertical-align: top;\n",
       "    }\n",
       "\n",
       "    .dataframe thead th {\n",
       "        text-align: right;\n",
       "    }\n",
       "</style>\n",
       "<table border=\"1\" class=\"dataframe\">\n",
       "  <thead>\n",
       "    <tr style=\"text-align: right;\">\n",
       "      <th></th>\n",
       "      <th>(최하위, coef)</th>\n",
       "      <th>(최하위, pvalue)</th>\n",
       "    </tr>\n",
       "  </thead>\n",
       "  <tbody>\n",
       "    <tr>\n",
       "      <th>const</th>\n",
       "      <td>-6.441011</td>\n",
       "      <td>8.845207e-13</td>\n",
       "    </tr>\n",
       "    <tr>\n",
       "      <th>(가)건강 만족도</th>\n",
       "      <td>0.612764</td>\n",
       "      <td>7.912401e-06</td>\n",
       "    </tr>\n",
       "    <tr>\n",
       "      <th>(다)주거 환경 만족도</th>\n",
       "      <td>0.390259</td>\n",
       "      <td>2.585763e-02</td>\n",
       "    </tr>\n",
       "    <tr>\n",
       "      <th>(라)가족관계 만족도</th>\n",
       "      <td>0.532677</td>\n",
       "      <td>3.791971e-03</td>\n",
       "    </tr>\n",
       "    <tr>\n",
       "      <th>(마)직업 만족도</th>\n",
       "      <td>0.360555</td>\n",
       "      <td>4.191560e-02</td>\n",
       "    </tr>\n",
       "  </tbody>\n",
       "</table>\n",
       "</div>"
      ],
      "text/plain": [
       "              (최하위, coef)  (최하위, pvalue)\n",
       "const           -6.441011   8.845207e-13\n",
       "(가)건강 만족도        0.612764   7.912401e-06\n",
       "(다)주거 환경 만족도     0.390259   2.585763e-02\n",
       "(라)가족관계 만족도      0.532677   3.791971e-03\n",
       "(마)직업 만족도        0.360555   4.191560e-02"
      ]
     },
     "execution_count": 59,
     "metadata": {},
     "output_type": "execute_result"
    }
   ],
   "source": [
    "result=pd.merge(연령[1][\"최하위\"][0].params.to_frame(),연령[1][\"최하위\"][0].pvalues.to_frame(),right_index=True,left_index=True)\n",
    "result.rename(columns=dict(zip(result.columns,[(\"최하위\",\"coef\"),(\"최하위\",\"pvalue\")])),inplace=True)\n",
    "print('평균:',연령[1][\"최하위\"][1])\n",
    "result"
   ]
  },
  {
   "cell_type": "markdown",
   "metadata": {},
   "source": [
    "##### 연령 2 (57세이상 74세 미만)\n",
    "\n",
    "\n",
    "|구분|기준(평균)|유효독립변수|\n",
    "|---|----|----|\n",
    "|최상위|7.85|건강만족도, 직업만족도|\n",
    "|중상위|6.15|건강만족도, 가족수입만족도, 가족관계만족도, 직업만족도, 사회적친분관계만족도, 여가생활만족도|\n",
    "|최하위|4.77|건강만족도, 주거환경만족도, 가족관계만족도, 직업만족도, 여가생활만족도|"
   ]
  },
  {
   "cell_type": "code",
   "execution_count": 60,
   "metadata": {},
   "outputs": [
    {
     "name": "stdout",
     "output_type": "stream",
     "text": [
      "평균: 6.159952606635071\n"
     ]
    },
    {
     "data": {
      "text/html": [
       "<div>\n",
       "<style scoped>\n",
       "    .dataframe tbody tr th:only-of-type {\n",
       "        vertical-align: middle;\n",
       "    }\n",
       "\n",
       "    .dataframe tbody tr th {\n",
       "        vertical-align: top;\n",
       "    }\n",
       "\n",
       "    .dataframe thead th {\n",
       "        text-align: right;\n",
       "    }\n",
       "</style>\n",
       "<table border=\"1\" class=\"dataframe\">\n",
       "  <thead>\n",
       "    <tr style=\"text-align: right;\">\n",
       "      <th></th>\n",
       "      <th>(중상위, coef)</th>\n",
       "      <th>(중상위, pvalue)</th>\n",
       "    </tr>\n",
       "  </thead>\n",
       "  <tbody>\n",
       "    <tr>\n",
       "      <th>const</th>\n",
       "      <td>-9.978746</td>\n",
       "      <td>7.043182e-38</td>\n",
       "    </tr>\n",
       "    <tr>\n",
       "      <th>(가)건강 만족도</th>\n",
       "      <td>0.376456</td>\n",
       "      <td>9.086745e-05</td>\n",
       "    </tr>\n",
       "    <tr>\n",
       "      <th>(나)가족의 수입 만족도</th>\n",
       "      <td>0.301209</td>\n",
       "      <td>5.733046e-03</td>\n",
       "    </tr>\n",
       "    <tr>\n",
       "      <th>(라)가족관계 만족도</th>\n",
       "      <td>0.511241</td>\n",
       "      <td>3.032887e-04</td>\n",
       "    </tr>\n",
       "    <tr>\n",
       "      <th>(마)직업 만족도</th>\n",
       "      <td>0.512919</td>\n",
       "      <td>7.662303e-04</td>\n",
       "    </tr>\n",
       "    <tr>\n",
       "      <th>(바)사회적 친분관계 만족도</th>\n",
       "      <td>0.650392</td>\n",
       "      <td>1.474985e-04</td>\n",
       "    </tr>\n",
       "    <tr>\n",
       "      <th>(사)여가생활 만족도</th>\n",
       "      <td>0.451196</td>\n",
       "      <td>6.694513e-04</td>\n",
       "    </tr>\n",
       "  </tbody>\n",
       "</table>\n",
       "</div>"
      ],
      "text/plain": [
       "                 (중상위, coef)  (중상위, pvalue)\n",
       "const              -9.978746   7.043182e-38\n",
       "(가)건강 만족도           0.376456   9.086745e-05\n",
       "(나)가족의 수입 만족도       0.301209   5.733046e-03\n",
       "(라)가족관계 만족도         0.511241   3.032887e-04\n",
       "(마)직업 만족도           0.512919   7.662303e-04\n",
       "(바)사회적 친분관계 만족도     0.650392   1.474985e-04\n",
       "(사)여가생활 만족도         0.451196   6.694513e-04"
      ]
     },
     "execution_count": 60,
     "metadata": {},
     "output_type": "execute_result"
    }
   ],
   "source": [
    "result=pd.merge(연령[2][\"중상위\"][0].params.to_frame(),연령[2][\"중상위\"][0].pvalues.to_frame(),right_index=True,left_index=True)\n",
    "result.rename(columns=dict(zip(result.columns,[(\"중상위\",\"coef\"),(\"중상위\",\"pvalue\")])),inplace=True)\n",
    "print('평균:',연령[2][\"중상위\"][1])\n",
    "result"
   ]
  },
  {
   "cell_type": "code",
   "execution_count": 61,
   "metadata": {},
   "outputs": [
    {
     "name": "stdout",
     "output_type": "stream",
     "text": [
      "평균: 7.852631578947369\n"
     ]
    },
    {
     "data": {
      "text/html": [
       "<div>\n",
       "<style scoped>\n",
       "    .dataframe tbody tr th:only-of-type {\n",
       "        vertical-align: middle;\n",
       "    }\n",
       "\n",
       "    .dataframe tbody tr th {\n",
       "        vertical-align: top;\n",
       "    }\n",
       "\n",
       "    .dataframe thead th {\n",
       "        text-align: right;\n",
       "    }\n",
       "</style>\n",
       "<table border=\"1\" class=\"dataframe\">\n",
       "  <thead>\n",
       "    <tr style=\"text-align: right;\">\n",
       "      <th></th>\n",
       "      <th>(최상위, coef)</th>\n",
       "      <th>(최상위, pvalue)</th>\n",
       "    </tr>\n",
       "  </thead>\n",
       "  <tbody>\n",
       "    <tr>\n",
       "      <th>const</th>\n",
       "      <td>-4.285710</td>\n",
       "      <td>5.040125e-07</td>\n",
       "    </tr>\n",
       "    <tr>\n",
       "      <th>(가)건강 만족도</th>\n",
       "      <td>0.315353</td>\n",
       "      <td>1.313540e-02</td>\n",
       "    </tr>\n",
       "    <tr>\n",
       "      <th>(마)직업 만족도</th>\n",
       "      <td>0.947436</td>\n",
       "      <td>1.234432e-05</td>\n",
       "    </tr>\n",
       "  </tbody>\n",
       "</table>\n",
       "</div>"
      ],
      "text/plain": [
       "           (최상위, coef)  (최상위, pvalue)\n",
       "const        -4.285710   5.040125e-07\n",
       "(가)건강 만족도     0.315353   1.313540e-02\n",
       "(마)직업 만족도     0.947436   1.234432e-05"
      ]
     },
     "execution_count": 61,
     "metadata": {},
     "output_type": "execute_result"
    }
   ],
   "source": [
    "result=pd.merge(연령[2][\"최상위\"][0].params.to_frame(),연령[2][\"최상위\"][0].pvalues.to_frame(),right_index=True,left_index=True)\n",
    "result.rename(columns=dict(zip(result.columns,[(\"최상위\",\"coef\"),(\"최상위\",\"pvalue\")])),inplace=True)\n",
    "print('평균:',연령[2][\"최상위\"][1])\n",
    "result"
   ]
  },
  {
   "cell_type": "code",
   "execution_count": 62,
   "metadata": {},
   "outputs": [
    {
     "name": "stdout",
     "output_type": "stream",
     "text": [
      "평균: 4.773706896551724\n"
     ]
    },
    {
     "data": {
      "text/html": [
       "<div>\n",
       "<style scoped>\n",
       "    .dataframe tbody tr th:only-of-type {\n",
       "        vertical-align: middle;\n",
       "    }\n",
       "\n",
       "    .dataframe tbody tr th {\n",
       "        vertical-align: top;\n",
       "    }\n",
       "\n",
       "    .dataframe thead th {\n",
       "        text-align: right;\n",
       "    }\n",
       "</style>\n",
       "<table border=\"1\" class=\"dataframe\">\n",
       "  <thead>\n",
       "    <tr style=\"text-align: right;\">\n",
       "      <th></th>\n",
       "      <th>(최하위, coef)</th>\n",
       "      <th>(최하위, pvalue)</th>\n",
       "    </tr>\n",
       "  </thead>\n",
       "  <tbody>\n",
       "    <tr>\n",
       "      <th>const</th>\n",
       "      <td>-5.878995</td>\n",
       "      <td>1.419959e-13</td>\n",
       "    </tr>\n",
       "    <tr>\n",
       "      <th>(가)건강 만족도</th>\n",
       "      <td>0.482039</td>\n",
       "      <td>2.080078e-04</td>\n",
       "    </tr>\n",
       "    <tr>\n",
       "      <th>(다)주거 환경 만족도</th>\n",
       "      <td>0.342532</td>\n",
       "      <td>3.348697e-02</td>\n",
       "    </tr>\n",
       "    <tr>\n",
       "      <th>(라)가족관계 만족도</th>\n",
       "      <td>0.358843</td>\n",
       "      <td>2.119350e-02</td>\n",
       "    </tr>\n",
       "    <tr>\n",
       "      <th>(마)직업 만족도</th>\n",
       "      <td>0.417702</td>\n",
       "      <td>2.491516e-02</td>\n",
       "    </tr>\n",
       "    <tr>\n",
       "      <th>(사)여가생활 만족도</th>\n",
       "      <td>0.575968</td>\n",
       "      <td>1.261239e-03</td>\n",
       "    </tr>\n",
       "  </tbody>\n",
       "</table>\n",
       "</div>"
      ],
      "text/plain": [
       "              (최하위, coef)  (최하위, pvalue)\n",
       "const           -5.878995   1.419959e-13\n",
       "(가)건강 만족도        0.482039   2.080078e-04\n",
       "(다)주거 환경 만족도     0.342532   3.348697e-02\n",
       "(라)가족관계 만족도      0.358843   2.119350e-02\n",
       "(마)직업 만족도        0.417702   2.491516e-02\n",
       "(사)여가생활 만족도      0.575968   1.261239e-03"
      ]
     },
     "execution_count": 62,
     "metadata": {},
     "output_type": "execute_result"
    }
   ],
   "source": [
    "result=pd.merge(연령[2][\"최하위\"][0].params.to_frame(),연령[2][\"최하위\"][0].pvalues.to_frame(),right_index=True,left_index=True)\n",
    "result.rename(columns=dict(zip(result.columns,[(\"최하위\",\"coef\"),(\"최하위\",\"pvalue\")])),inplace=True)\n",
    "print('평균:',연령[2][\"최하위\"][1])\n",
    "result"
   ]
  },
  {
   "cell_type": "markdown",
   "metadata": {},
   "source": [
    "##### 연령 3 (74세이상 82세미만)\n",
    "\n",
    "\n",
    "|구분|기준(평균)|유효독립변수|\n",
    "|---|----|----|\n",
    "|최상위|7.18|가족수입만족도, 사회적 친분관계 만족도|\n",
    "|중상위|5.91|건강만족도, 주거환경만족도, 가족관계만족도, 직업만족도, 여가생활만족도|\n",
    "|최하위|4.23|건강만족도, 가족관계만족도|"
   ]
  },
  {
   "cell_type": "code",
   "execution_count": 63,
   "metadata": {},
   "outputs": [
    {
     "name": "stdout",
     "output_type": "stream",
     "text": [
      "평균: 5.915032679738562\n"
     ]
    },
    {
     "data": {
      "text/html": [
       "<div>\n",
       "<style scoped>\n",
       "    .dataframe tbody tr th:only-of-type {\n",
       "        vertical-align: middle;\n",
       "    }\n",
       "\n",
       "    .dataframe tbody tr th {\n",
       "        vertical-align: top;\n",
       "    }\n",
       "\n",
       "    .dataframe thead th {\n",
       "        text-align: right;\n",
       "    }\n",
       "</style>\n",
       "<table border=\"1\" class=\"dataframe\">\n",
       "  <thead>\n",
       "    <tr style=\"text-align: right;\">\n",
       "      <th></th>\n",
       "      <th>(중상위, coef)</th>\n",
       "      <th>(중상위, pvalue)</th>\n",
       "    </tr>\n",
       "  </thead>\n",
       "  <tbody>\n",
       "    <tr>\n",
       "      <th>const</th>\n",
       "      <td>-7.469693</td>\n",
       "      <td>1.611744e-24</td>\n",
       "    </tr>\n",
       "    <tr>\n",
       "      <th>(가)건강 만족도</th>\n",
       "      <td>0.437629</td>\n",
       "      <td>6.935316e-06</td>\n",
       "    </tr>\n",
       "    <tr>\n",
       "      <th>(다)주거 환경 만족도</th>\n",
       "      <td>0.438939</td>\n",
       "      <td>2.678076e-03</td>\n",
       "    </tr>\n",
       "    <tr>\n",
       "      <th>(라)가족관계 만족도</th>\n",
       "      <td>0.429615</td>\n",
       "      <td>3.137430e-03</td>\n",
       "    </tr>\n",
       "    <tr>\n",
       "      <th>(마)직업 만족도</th>\n",
       "      <td>0.319306</td>\n",
       "      <td>2.498441e-02</td>\n",
       "    </tr>\n",
       "    <tr>\n",
       "      <th>(사)여가생활 만족도</th>\n",
       "      <td>0.743138</td>\n",
       "      <td>2.205214e-08</td>\n",
       "    </tr>\n",
       "  </tbody>\n",
       "</table>\n",
       "</div>"
      ],
      "text/plain": [
       "              (중상위, coef)  (중상위, pvalue)\n",
       "const           -7.469693   1.611744e-24\n",
       "(가)건강 만족도        0.437629   6.935316e-06\n",
       "(다)주거 환경 만족도     0.438939   2.678076e-03\n",
       "(라)가족관계 만족도      0.429615   3.137430e-03\n",
       "(마)직업 만족도        0.319306   2.498441e-02\n",
       "(사)여가생활 만족도      0.743138   2.205214e-08"
      ]
     },
     "execution_count": 63,
     "metadata": {},
     "output_type": "execute_result"
    }
   ],
   "source": [
    "result=pd.merge(연령[3][\"중상위\"][0].params.to_frame(),연령[3][\"중상위\"][0].pvalues.to_frame(),right_index=True,left_index=True)\n",
    "result.rename(columns=dict(zip(result.columns,[(\"중상위\",\"coef\"),(\"중상위\",\"pvalue\")])),inplace=True)\n",
    "print('평균:',연령[3][\"중상위\"][1])\n",
    "result"
   ]
  },
  {
   "cell_type": "code",
   "execution_count": 64,
   "metadata": {},
   "outputs": [
    {
     "name": "stdout",
     "output_type": "stream",
     "text": [
      "평균: 7.18348623853211\n"
     ]
    },
    {
     "data": {
      "text/html": [
       "<div>\n",
       "<style scoped>\n",
       "    .dataframe tbody tr th:only-of-type {\n",
       "        vertical-align: middle;\n",
       "    }\n",
       "\n",
       "    .dataframe tbody tr th {\n",
       "        vertical-align: top;\n",
       "    }\n",
       "\n",
       "    .dataframe thead th {\n",
       "        text-align: right;\n",
       "    }\n",
       "</style>\n",
       "<table border=\"1\" class=\"dataframe\">\n",
       "  <thead>\n",
       "    <tr style=\"text-align: right;\">\n",
       "      <th></th>\n",
       "      <th>(최상위, coef)</th>\n",
       "      <th>(최상위, pvalue)</th>\n",
       "    </tr>\n",
       "  </thead>\n",
       "  <tbody>\n",
       "    <tr>\n",
       "      <th>const</th>\n",
       "      <td>-3.949046</td>\n",
       "      <td>3.770238e-07</td>\n",
       "    </tr>\n",
       "    <tr>\n",
       "      <th>(나)가족의 수입 만족도</th>\n",
       "      <td>0.438839</td>\n",
       "      <td>7.061161e-04</td>\n",
       "    </tr>\n",
       "    <tr>\n",
       "      <th>(바)사회적 친분관계 만족도</th>\n",
       "      <td>0.528785</td>\n",
       "      <td>4.530713e-03</td>\n",
       "    </tr>\n",
       "  </tbody>\n",
       "</table>\n",
       "</div>"
      ],
      "text/plain": [
       "                 (최상위, coef)  (최상위, pvalue)\n",
       "const              -3.949046   3.770238e-07\n",
       "(나)가족의 수입 만족도       0.438839   7.061161e-04\n",
       "(바)사회적 친분관계 만족도     0.528785   4.530713e-03"
      ]
     },
     "execution_count": 64,
     "metadata": {},
     "output_type": "execute_result"
    }
   ],
   "source": [
    "result=pd.merge(연령[3][\"최상위\"][0].params.to_frame(),연령[3][\"최상위\"][0].pvalues.to_frame(),right_index=True,left_index=True)\n",
    "result.rename(columns=dict(zip(result.columns,[(\"최상위\",\"coef\"),(\"최상위\",\"pvalue\")])),inplace=True)\n",
    "print('평균:',연령[3][\"최상위\"][1])\n",
    "result"
   ]
  },
  {
   "cell_type": "code",
   "execution_count": 65,
   "metadata": {},
   "outputs": [
    {
     "name": "stdout",
     "output_type": "stream",
     "text": [
      "평균: 4.23404255319149\n"
     ]
    },
    {
     "data": {
      "text/html": [
       "<div>\n",
       "<style scoped>\n",
       "    .dataframe tbody tr th:only-of-type {\n",
       "        vertical-align: middle;\n",
       "    }\n",
       "\n",
       "    .dataframe tbody tr th {\n",
       "        vertical-align: top;\n",
       "    }\n",
       "\n",
       "    .dataframe thead th {\n",
       "        text-align: right;\n",
       "    }\n",
       "</style>\n",
       "<table border=\"1\" class=\"dataframe\">\n",
       "  <thead>\n",
       "    <tr style=\"text-align: right;\">\n",
       "      <th></th>\n",
       "      <th>(최하위, coef)</th>\n",
       "      <th>(최하위, pvalue)</th>\n",
       "    </tr>\n",
       "  </thead>\n",
       "  <tbody>\n",
       "    <tr>\n",
       "      <th>const</th>\n",
       "      <td>-4.483854</td>\n",
       "      <td>3.965739e-09</td>\n",
       "    </tr>\n",
       "    <tr>\n",
       "      <th>(가)건강 만족도</th>\n",
       "      <td>0.524223</td>\n",
       "      <td>2.542290e-04</td>\n",
       "    </tr>\n",
       "    <tr>\n",
       "      <th>(라)가족관계 만족도</th>\n",
       "      <td>0.978510</td>\n",
       "      <td>1.113842e-07</td>\n",
       "    </tr>\n",
       "  </tbody>\n",
       "</table>\n",
       "</div>"
      ],
      "text/plain": [
       "             (최하위, coef)  (최하위, pvalue)\n",
       "const          -4.483854   3.965739e-09\n",
       "(가)건강 만족도       0.524223   2.542290e-04\n",
       "(라)가족관계 만족도     0.978510   1.113842e-07"
      ]
     },
     "execution_count": 65,
     "metadata": {},
     "output_type": "execute_result"
    }
   ],
   "source": [
    "result=pd.merge(연령[3][\"최하위\"][0].params.to_frame(),연령[3][\"최하위\"][0].pvalues.to_frame(),right_index=True,left_index=True)\n",
    "result.rename(columns=dict(zip(result.columns,[(\"최하위\",\"coef\"),(\"최하위\",\"pvalue\")])),inplace=True)\n",
    "print('평균:',연령[3][\"최하위\"][1])\n",
    "result"
   ]
  },
  {
   "cell_type": "markdown",
   "metadata": {},
   "source": [
    "##### 연령 4 (82세이상)\n",
    "\n",
    "|구분|기준(평균)|유효독립변수|\n",
    "|---|----|----|\n",
    "|최상위|7.07|가족수입만족도, 주거환경만족도, 직업만족도, 사회적친분관계만족도|\n",
    "|중상위|5.80|건강만족도, 가족수입만족도, 가족관계만족도, 사회적친분관계만족도, 여가생활만족도|\n",
    "|최하위|4.24|가족수입만족도, 가족관계만족도|"
   ]
  },
  {
   "cell_type": "code",
   "execution_count": 66,
   "metadata": {},
   "outputs": [
    {
     "name": "stdout",
     "output_type": "stream",
     "text": [
      "평균: 5.801324503311259\n"
     ]
    },
    {
     "data": {
      "text/html": [
       "<div>\n",
       "<style scoped>\n",
       "    .dataframe tbody tr th:only-of-type {\n",
       "        vertical-align: middle;\n",
       "    }\n",
       "\n",
       "    .dataframe tbody tr th {\n",
       "        vertical-align: top;\n",
       "    }\n",
       "\n",
       "    .dataframe thead th {\n",
       "        text-align: right;\n",
       "    }\n",
       "</style>\n",
       "<table border=\"1\" class=\"dataframe\">\n",
       "  <thead>\n",
       "    <tr style=\"text-align: right;\">\n",
       "      <th></th>\n",
       "      <th>(중상위, coef)</th>\n",
       "      <th>(중상위, pvalue)</th>\n",
       "    </tr>\n",
       "  </thead>\n",
       "  <tbody>\n",
       "    <tr>\n",
       "      <th>const</th>\n",
       "      <td>-7.436361</td>\n",
       "      <td>2.489096e-29</td>\n",
       "    </tr>\n",
       "    <tr>\n",
       "      <th>(가)건강 만족도</th>\n",
       "      <td>0.436304</td>\n",
       "      <td>4.218651e-06</td>\n",
       "    </tr>\n",
       "    <tr>\n",
       "      <th>(나)가족의 수입 만족도</th>\n",
       "      <td>0.461787</td>\n",
       "      <td>2.734577e-05</td>\n",
       "    </tr>\n",
       "    <tr>\n",
       "      <th>(라)가족관계 만족도</th>\n",
       "      <td>0.514443</td>\n",
       "      <td>2.206654e-04</td>\n",
       "    </tr>\n",
       "    <tr>\n",
       "      <th>(바)사회적 친분관계 만족도</th>\n",
       "      <td>0.579192</td>\n",
       "      <td>4.940359e-05</td>\n",
       "    </tr>\n",
       "    <tr>\n",
       "      <th>(사)여가생활 만족도</th>\n",
       "      <td>0.389232</td>\n",
       "      <td>4.380461e-03</td>\n",
       "    </tr>\n",
       "  </tbody>\n",
       "</table>\n",
       "</div>"
      ],
      "text/plain": [
       "                 (중상위, coef)  (중상위, pvalue)\n",
       "const              -7.436361   2.489096e-29\n",
       "(가)건강 만족도           0.436304   4.218651e-06\n",
       "(나)가족의 수입 만족도       0.461787   2.734577e-05\n",
       "(라)가족관계 만족도         0.514443   2.206654e-04\n",
       "(바)사회적 친분관계 만족도     0.579192   4.940359e-05\n",
       "(사)여가생활 만족도         0.389232   4.380461e-03"
      ]
     },
     "execution_count": 66,
     "metadata": {},
     "output_type": "execute_result"
    }
   ],
   "source": [
    "result=pd.merge(연령[4][\"중상위\"][0].params.to_frame(),연령[4][\"중상위\"][0].pvalues.to_frame(),right_index=True,left_index=True)\n",
    "result.rename(columns=dict(zip(result.columns,[(\"중상위\",\"coef\"),(\"중상위\",\"pvalue\")])),inplace=True)\n",
    "print('평균:',연령[4][\"중상위\"][1])\n",
    "result"
   ]
  },
  {
   "cell_type": "code",
   "execution_count": 67,
   "metadata": {},
   "outputs": [
    {
     "name": "stdout",
     "output_type": "stream",
     "text": [
      "평균: 7.070140280561122\n"
     ]
    },
    {
     "data": {
      "text/html": [
       "<div>\n",
       "<style scoped>\n",
       "    .dataframe tbody tr th:only-of-type {\n",
       "        vertical-align: middle;\n",
       "    }\n",
       "\n",
       "    .dataframe tbody tr th {\n",
       "        vertical-align: top;\n",
       "    }\n",
       "\n",
       "    .dataframe thead th {\n",
       "        text-align: right;\n",
       "    }\n",
       "</style>\n",
       "<table border=\"1\" class=\"dataframe\">\n",
       "  <thead>\n",
       "    <tr style=\"text-align: right;\">\n",
       "      <th></th>\n",
       "      <th>(최상위, coef)</th>\n",
       "      <th>(최상위, pvalue)</th>\n",
       "    </tr>\n",
       "  </thead>\n",
       "  <tbody>\n",
       "    <tr>\n",
       "      <th>const</th>\n",
       "      <td>-7.461788</td>\n",
       "      <td>3.757009e-10</td>\n",
       "    </tr>\n",
       "    <tr>\n",
       "      <th>(나)가족의 수입 만족도</th>\n",
       "      <td>0.454524</td>\n",
       "      <td>1.485615e-03</td>\n",
       "    </tr>\n",
       "    <tr>\n",
       "      <th>(다)주거 환경 만족도</th>\n",
       "      <td>0.545060</td>\n",
       "      <td>2.649869e-02</td>\n",
       "    </tr>\n",
       "    <tr>\n",
       "      <th>(마)직업 만족도</th>\n",
       "      <td>0.410929</td>\n",
       "      <td>2.801210e-02</td>\n",
       "    </tr>\n",
       "    <tr>\n",
       "      <th>(바)사회적 친분관계 만족도</th>\n",
       "      <td>0.441538</td>\n",
       "      <td>3.153358e-02</td>\n",
       "    </tr>\n",
       "  </tbody>\n",
       "</table>\n",
       "</div>"
      ],
      "text/plain": [
       "                 (최상위, coef)  (최상위, pvalue)\n",
       "const              -7.461788   3.757009e-10\n",
       "(나)가족의 수입 만족도       0.454524   1.485615e-03\n",
       "(다)주거 환경 만족도        0.545060   2.649869e-02\n",
       "(마)직업 만족도           0.410929   2.801210e-02\n",
       "(바)사회적 친분관계 만족도     0.441538   3.153358e-02"
      ]
     },
     "execution_count": 67,
     "metadata": {},
     "output_type": "execute_result"
    }
   ],
   "source": [
    "result=pd.merge(연령[4][\"최상위\"][0].params.to_frame(),연령[4][\"최상위\"][0].pvalues.to_frame(),right_index=True,left_index=True)\n",
    "result.rename(columns=dict(zip(result.columns,[(\"최상위\",\"coef\"),(\"최상위\",\"pvalue\")])),inplace=True)\n",
    "print('평균:',연령[4][\"최상위\"][1])\n",
    "result"
   ]
  },
  {
   "cell_type": "code",
   "execution_count": 68,
   "metadata": {},
   "outputs": [
    {
     "name": "stdout",
     "output_type": "stream",
     "text": [
      "평균: 4.245700245700245\n"
     ]
    },
    {
     "data": {
      "text/html": [
       "<div>\n",
       "<style scoped>\n",
       "    .dataframe tbody tr th:only-of-type {\n",
       "        vertical-align: middle;\n",
       "    }\n",
       "\n",
       "    .dataframe tbody tr th {\n",
       "        vertical-align: top;\n",
       "    }\n",
       "\n",
       "    .dataframe thead th {\n",
       "        text-align: right;\n",
       "    }\n",
       "</style>\n",
       "<table border=\"1\" class=\"dataframe\">\n",
       "  <thead>\n",
       "    <tr style=\"text-align: right;\">\n",
       "      <th></th>\n",
       "      <th>(최하위, coef)</th>\n",
       "      <th>(최하위, pvalue)</th>\n",
       "    </tr>\n",
       "  </thead>\n",
       "  <tbody>\n",
       "    <tr>\n",
       "      <th>const</th>\n",
       "      <td>-3.543926</td>\n",
       "      <td>1.652640e-07</td>\n",
       "    </tr>\n",
       "    <tr>\n",
       "      <th>(나)가족의 수입 만족도</th>\n",
       "      <td>0.650089</td>\n",
       "      <td>3.673685e-05</td>\n",
       "    </tr>\n",
       "    <tr>\n",
       "      <th>(라)가족관계 만족도</th>\n",
       "      <td>0.538793</td>\n",
       "      <td>1.617563e-03</td>\n",
       "    </tr>\n",
       "  </tbody>\n",
       "</table>\n",
       "</div>"
      ],
      "text/plain": [
       "               (최하위, coef)  (최하위, pvalue)\n",
       "const            -3.543926   1.652640e-07\n",
       "(나)가족의 수입 만족도     0.650089   3.673685e-05\n",
       "(라)가족관계 만족도       0.538793   1.617563e-03"
      ]
     },
     "execution_count": 68,
     "metadata": {},
     "output_type": "execute_result"
    }
   ],
   "source": [
    "result=pd.merge(연령[4][\"최하위\"][0].params.to_frame(),연령[4][\"최하위\"][0].pvalues.to_frame(),right_index=True,left_index=True)\n",
    "result.rename(columns=dict(zip(result.columns,[(\"최하위\",\"coef\"),(\"최하위\",\"pvalue\")])),inplace=True)\n",
    "print('평균:',연령[4][\"최하위\"][1])\n",
    "result"
   ]
  },
  {
   "cell_type": "markdown",
   "metadata": {},
   "source": [
    "**********************"
   ]
  },
  {
   "cell_type": "markdown",
   "metadata": {},
   "source": [
    "### 근로유형\n",
    "\n",
    "#### 근로유형과 삶의 만족도 사이의 연관성"
   ]
  },
  {
   "cell_type": "code",
   "execution_count": 70,
   "metadata": {},
   "outputs": [
    {
     "data": {
      "text/plain": [
       "2.8004248616211663e-40"
      ]
     },
     "execution_count": 70,
     "metadata": {},
     "output_type": "execute_result"
    }
   ],
   "source": [
    "# 카이제곱검정(독립성)\n",
    "chi2.chi2_try(data[[\"삶의 사다리 점수\",'근로유형']])[\"type4\"][0][\"pvalue\"]"
   ]
  },
  {
   "cell_type": "markdown",
   "metadata": {},
   "source": [
    "> 독립적이지 않다"
   ]
  },
  {
   "cell_type": "markdown",
   "metadata": {},
   "source": [
    "#### 근로유형 별 삶의 사다리 점수 간의 관계\n",
    "\n",
    "> 분석방법 : <br>\n",
    "회귀계수의 pvalue가 0.05보다 높으면 높은 순으로 해당 column을 제거하고 다시 분석 <br>\n",
    "만약 남은 column은 최소 2개를 유지"
   ]
  },
  {
   "cell_type": "code",
   "execution_count": 71,
   "metadata": {},
   "outputs": [
    {
     "name": "stdout",
     "output_type": "stream",
     "text": [
      "Optimization terminated successfully.\n",
      "         Current function value: 0.547676\n",
      "         Iterations 6\n",
      "Optimization terminated successfully.\n",
      "         Current function value: 0.592087\n",
      "         Iterations 6\n",
      "Optimization terminated successfully.\n",
      "         Current function value: 0.592144\n",
      "         Iterations 6\n",
      "Optimization terminated successfully.\n",
      "         Current function value: 0.592221\n",
      "         Iterations 6\n",
      "Optimization terminated successfully.\n",
      "         Current function value: 0.592351\n",
      "         Iterations 6\n",
      "Optimization terminated successfully.\n",
      "         Current function value: 0.593818\n",
      "         Iterations 6\n",
      "Optimization terminated successfully.\n",
      "         Current function value: 0.614370\n",
      "         Iterations 5\n",
      "Optimization terminated successfully.\n",
      "         Current function value: 0.614539\n",
      "         Iterations 5\n",
      "Optimization terminated successfully.\n",
      "         Current function value: 0.616299\n",
      "         Iterations 5\n",
      "Optimization terminated successfully.\n",
      "         Current function value: 0.618530\n",
      "         Iterations 5\n",
      "Optimization terminated successfully.\n",
      "         Current function value: 0.568138\n",
      "         Iterations 6\n",
      "Optimization terminated successfully.\n",
      "         Current function value: 0.569246\n",
      "         Iterations 6\n",
      "Optimization terminated successfully.\n",
      "         Current function value: 0.630087\n",
      "         Iterations 5\n",
      "Optimization terminated successfully.\n",
      "         Current function value: 0.630087\n",
      "         Iterations 5\n",
      "Optimization terminated successfully.\n",
      "         Current function value: 0.631821\n",
      "         Iterations 5\n",
      "Optimization terminated successfully.\n",
      "         Current function value: 0.620826\n",
      "         Iterations 5\n",
      "Optimization terminated successfully.\n",
      "         Current function value: 0.620831\n",
      "         Iterations 5\n",
      "Optimization terminated successfully.\n",
      "         Current function value: 0.620893\n",
      "         Iterations 5\n",
      "Optimization terminated successfully.\n",
      "         Current function value: 0.623564\n",
      "         Iterations 5\n",
      "Optimization terminated successfully.\n",
      "         Current function value: 0.568140\n",
      "         Iterations 6\n",
      "Optimization terminated successfully.\n",
      "         Current function value: 0.568309\n",
      "         Iterations 6\n",
      "Optimization terminated successfully.\n",
      "         Current function value: 0.570056\n",
      "         Iterations 6\n",
      "Optimization terminated successfully.\n",
      "         Current function value: 0.573224\n",
      "         Iterations 6\n",
      "Optimization terminated successfully.\n",
      "         Current function value: 0.641454\n",
      "         Iterations 5\n",
      "Optimization terminated successfully.\n",
      "         Current function value: 0.641460\n",
      "         Iterations 5\n",
      "Optimization terminated successfully.\n",
      "         Current function value: 0.641468\n",
      "         Iterations 5\n",
      "Optimization terminated successfully.\n",
      "         Current function value: 0.641692\n",
      "         Iterations 5\n",
      "Optimization terminated successfully.\n",
      "         Current function value: 0.641989\n",
      "         Iterations 5\n",
      "Optimization terminated successfully.\n",
      "         Current function value: 0.642492\n",
      "         Iterations 5\n",
      "Optimization terminated successfully.\n",
      "         Current function value: 0.650098\n",
      "         Iterations 5\n",
      "Optimization terminated successfully.\n",
      "         Current function value: 0.650132\n",
      "         Iterations 5\n",
      "Optimization terminated successfully.\n",
      "         Current function value: 0.650221\n",
      "         Iterations 5\n",
      "Optimization terminated successfully.\n",
      "         Current function value: 0.650468\n",
      "         Iterations 5\n",
      "Optimization terminated successfully.\n",
      "         Current function value: 0.651235\n",
      "         Iterations 5\n",
      "Optimization terminated successfully.\n",
      "         Current function value: 0.652872\n",
      "         Iterations 5\n"
     ]
    }
   ],
   "source": [
    "# 모듈 적용\n",
    "근로유형 = Allogit.Lgt(data, '근로유형')"
   ]
  },
  {
   "cell_type": "markdown",
   "metadata": {},
   "source": [
    "#### 근로유형1  (임금근로자)\n",
    "\n",
    "|구분|기준(평균)|유효독립변수|\n",
    "|---|----|----|\n",
    "|최상위|7.85|건강만족도, 주거환경만족도, 가족관계만족도, 직업만족도, 사회적친분관계만족도|\n",
    "|중상위|6.55|건강만족도, 가족수입만족도, 가족관계만족도, 직업만족도, 사회적친분관계만족도, 여가생활만족도|\n",
    "|최하위|5.00|건강만족도, 가족수입만족도, 가족관계만족도, 여가생활만족도|"
   ]
  },
  {
   "cell_type": "markdown",
   "metadata": {},
   "source": [
    "중상위"
   ]
  },
  {
   "cell_type": "code",
   "execution_count": 73,
   "metadata": {},
   "outputs": [
    {
     "name": "stdout",
     "output_type": "stream",
     "text": [
      "평균: 6.559398496240601\n"
     ]
    },
    {
     "data": {
      "text/html": [
       "<div>\n",
       "<style scoped>\n",
       "    .dataframe tbody tr th:only-of-type {\n",
       "        vertical-align: middle;\n",
       "    }\n",
       "\n",
       "    .dataframe tbody tr th {\n",
       "        vertical-align: top;\n",
       "    }\n",
       "\n",
       "    .dataframe thead th {\n",
       "        text-align: right;\n",
       "    }\n",
       "</style>\n",
       "<table border=\"1\" class=\"dataframe\">\n",
       "  <thead>\n",
       "    <tr style=\"text-align: right;\">\n",
       "      <th></th>\n",
       "      <th>(중상위, coef)</th>\n",
       "      <th>(중상위, pvalue)</th>\n",
       "    </tr>\n",
       "  </thead>\n",
       "  <tbody>\n",
       "    <tr>\n",
       "      <th>const</th>\n",
       "      <td>-8.893496</td>\n",
       "      <td>1.189279e-44</td>\n",
       "    </tr>\n",
       "    <tr>\n",
       "      <th>(가)건강 만족도</th>\n",
       "      <td>0.344747</td>\n",
       "      <td>6.333349e-06</td>\n",
       "    </tr>\n",
       "    <tr>\n",
       "      <th>(나)가족의 수입 만족도</th>\n",
       "      <td>0.258273</td>\n",
       "      <td>2.926885e-03</td>\n",
       "    </tr>\n",
       "    <tr>\n",
       "      <th>(라)가족관계 만족도</th>\n",
       "      <td>0.558525</td>\n",
       "      <td>1.857158e-06</td>\n",
       "    </tr>\n",
       "    <tr>\n",
       "      <th>(마)직업 만족도</th>\n",
       "      <td>0.280575</td>\n",
       "      <td>1.743231e-02</td>\n",
       "    </tr>\n",
       "    <tr>\n",
       "      <th>(바)사회적 친분관계 만족도</th>\n",
       "      <td>0.582464</td>\n",
       "      <td>9.892537e-06</td>\n",
       "    </tr>\n",
       "    <tr>\n",
       "      <th>(사)여가생활 만족도</th>\n",
       "      <td>0.493322</td>\n",
       "      <td>2.816560e-06</td>\n",
       "    </tr>\n",
       "  </tbody>\n",
       "</table>\n",
       "</div>"
      ],
      "text/plain": [
       "                 (중상위, coef)  (중상위, pvalue)\n",
       "const              -8.893496   1.189279e-44\n",
       "(가)건강 만족도           0.344747   6.333349e-06\n",
       "(나)가족의 수입 만족도       0.258273   2.926885e-03\n",
       "(라)가족관계 만족도         0.558525   1.857158e-06\n",
       "(마)직업 만족도           0.280575   1.743231e-02\n",
       "(바)사회적 친분관계 만족도     0.582464   9.892537e-06\n",
       "(사)여가생활 만족도         0.493322   2.816560e-06"
      ]
     },
     "execution_count": 73,
     "metadata": {},
     "output_type": "execute_result"
    }
   ],
   "source": [
    "result=pd.merge(근로유형[1][\"중상위\"][0].params.to_frame(),근로유형[1][\"중상위\"][0].pvalues.to_frame(),right_index=True,left_index=True)\n",
    "result.rename(columns=dict(zip(result.columns,[(\"중상위\",\"coef\"),(\"중상위\",\"pvalue\")])),inplace=True)\n",
    "print('평균:',근로유형[1][\"중상위\"][1])\n",
    "result"
   ]
  },
  {
   "cell_type": "markdown",
   "metadata": {},
   "source": [
    "최상위"
   ]
  },
  {
   "cell_type": "code",
   "execution_count": 74,
   "metadata": {},
   "outputs": [
    {
     "name": "stdout",
     "output_type": "stream",
     "text": [
      "평균: 7.857734806629834\n"
     ]
    },
    {
     "data": {
      "text/html": [
       "<div>\n",
       "<style scoped>\n",
       "    .dataframe tbody tr th:only-of-type {\n",
       "        vertical-align: middle;\n",
       "    }\n",
       "\n",
       "    .dataframe tbody tr th {\n",
       "        vertical-align: top;\n",
       "    }\n",
       "\n",
       "    .dataframe thead th {\n",
       "        text-align: right;\n",
       "    }\n",
       "</style>\n",
       "<table border=\"1\" class=\"dataframe\">\n",
       "  <thead>\n",
       "    <tr style=\"text-align: right;\">\n",
       "      <th></th>\n",
       "      <th>(최상위, coef)</th>\n",
       "      <th>(최상위, pvalue)</th>\n",
       "    </tr>\n",
       "  </thead>\n",
       "  <tbody>\n",
       "    <tr>\n",
       "      <th>const</th>\n",
       "      <td>-6.668041</td>\n",
       "      <td>4.265465e-11</td>\n",
       "    </tr>\n",
       "    <tr>\n",
       "      <th>(가)건강 만족도</th>\n",
       "      <td>0.243444</td>\n",
       "      <td>1.214715e-02</td>\n",
       "    </tr>\n",
       "    <tr>\n",
       "      <th>(다)주거 환경 만족도</th>\n",
       "      <td>0.333812</td>\n",
       "      <td>2.592742e-02</td>\n",
       "    </tr>\n",
       "    <tr>\n",
       "      <th>(라)가족관계 만족도</th>\n",
       "      <td>0.429689</td>\n",
       "      <td>8.818183e-03</td>\n",
       "    </tr>\n",
       "    <tr>\n",
       "      <th>(마)직업 만족도</th>\n",
       "      <td>0.459488</td>\n",
       "      <td>4.748289e-03</td>\n",
       "    </tr>\n",
       "    <tr>\n",
       "      <th>(바)사회적 친분관계 만족도</th>\n",
       "      <td>0.373167</td>\n",
       "      <td>4.574321e-02</td>\n",
       "    </tr>\n",
       "  </tbody>\n",
       "</table>\n",
       "</div>"
      ],
      "text/plain": [
       "                 (최상위, coef)  (최상위, pvalue)\n",
       "const              -6.668041   4.265465e-11\n",
       "(가)건강 만족도           0.243444   1.214715e-02\n",
       "(다)주거 환경 만족도        0.333812   2.592742e-02\n",
       "(라)가족관계 만족도         0.429689   8.818183e-03\n",
       "(마)직업 만족도           0.459488   4.748289e-03\n",
       "(바)사회적 친분관계 만족도     0.373167   4.574321e-02"
      ]
     },
     "execution_count": 74,
     "metadata": {},
     "output_type": "execute_result"
    }
   ],
   "source": [
    "result=pd.merge(근로유형[1][\"최상위\"][0].params.to_frame(),근로유형[1][\"최상위\"][0].pvalues.to_frame(),right_index=True,left_index=True)\n",
    "result.rename(columns=dict(zip(result.columns,[(\"최상위\",\"coef\"),(\"최상위\",\"pvalue\")])),inplace=True)\n",
    "print('평균:',근로유형[1][\"최상위\"][1])\n",
    "result"
   ]
  },
  {
   "cell_type": "markdown",
   "metadata": {},
   "source": [
    "최하위"
   ]
  },
  {
   "cell_type": "code",
   "execution_count": 75,
   "metadata": {},
   "outputs": [
    {
     "name": "stdout",
     "output_type": "stream",
     "text": [
      "평균: 5.008250825082508\n"
     ]
    },
    {
     "data": {
      "text/html": [
       "<div>\n",
       "<style scoped>\n",
       "    .dataframe tbody tr th:only-of-type {\n",
       "        vertical-align: middle;\n",
       "    }\n",
       "\n",
       "    .dataframe tbody tr th {\n",
       "        vertical-align: top;\n",
       "    }\n",
       "\n",
       "    .dataframe thead th {\n",
       "        text-align: right;\n",
       "    }\n",
       "</style>\n",
       "<table border=\"1\" class=\"dataframe\">\n",
       "  <thead>\n",
       "    <tr style=\"text-align: right;\">\n",
       "      <th></th>\n",
       "      <th>(최하위, coef)</th>\n",
       "      <th>(최하위, pvalue)</th>\n",
       "    </tr>\n",
       "  </thead>\n",
       "  <tbody>\n",
       "    <tr>\n",
       "      <th>const</th>\n",
       "      <td>-5.105340</td>\n",
       "      <td>4.583905e-15</td>\n",
       "    </tr>\n",
       "    <tr>\n",
       "      <th>(가)건강 만족도</th>\n",
       "      <td>0.418092</td>\n",
       "      <td>7.814980e-05</td>\n",
       "    </tr>\n",
       "    <tr>\n",
       "      <th>(나)가족의 수입 만족도</th>\n",
       "      <td>0.335786</td>\n",
       "      <td>3.635406e-03</td>\n",
       "    </tr>\n",
       "    <tr>\n",
       "      <th>(라)가족관계 만족도</th>\n",
       "      <td>0.349406</td>\n",
       "      <td>1.514276e-02</td>\n",
       "    </tr>\n",
       "    <tr>\n",
       "      <th>(사)여가생활 만족도</th>\n",
       "      <td>0.409932</td>\n",
       "      <td>3.280928e-03</td>\n",
       "    </tr>\n",
       "  </tbody>\n",
       "</table>\n",
       "</div>"
      ],
      "text/plain": [
       "               (최하위, coef)  (최하위, pvalue)\n",
       "const            -5.105340   4.583905e-15\n",
       "(가)건강 만족도         0.418092   7.814980e-05\n",
       "(나)가족의 수입 만족도     0.335786   3.635406e-03\n",
       "(라)가족관계 만족도       0.349406   1.514276e-02\n",
       "(사)여가생활 만족도       0.409932   3.280928e-03"
      ]
     },
     "execution_count": 75,
     "metadata": {},
     "output_type": "execute_result"
    }
   ],
   "source": [
    "result=pd.merge(근로유형[1][\"최하위\"][0].params.to_frame(),근로유형[1][\"최하위\"][0].pvalues.to_frame(),right_index=True,left_index=True)\n",
    "result.rename(columns=dict(zip(result.columns,[(\"최하위\",\"coef\"),(\"최하위\",\"pvalue\")])),inplace=True)\n",
    "print('평균:',근로유형[1][\"최하위\"][1])\n",
    "result"
   ]
  },
  {
   "cell_type": "markdown",
   "metadata": {},
   "source": [
    "#### 근로유형2 (자영업, 고용주)\n",
    "\n",
    "|구분|기준(평균)|유효독립변수|\n",
    "|---|----|----|\n",
    "|최상위|7.91|가족수입만족도, 직업만족도|\n",
    "|중상위|6.45|건강만족도, 가족수입만족도, 직업만족도, 여가생활만족도|\n",
    "|최하위|5.33|건강만족도, 가족수입만족도|"
   ]
  },
  {
   "cell_type": "markdown",
   "metadata": {},
   "source": [
    "중상위"
   ]
  },
  {
   "cell_type": "code",
   "execution_count": 76,
   "metadata": {},
   "outputs": [
    {
     "name": "stdout",
     "output_type": "stream",
     "text": [
      "평균: 6.457386363636363\n"
     ]
    },
    {
     "data": {
      "text/html": [
       "<div>\n",
       "<style scoped>\n",
       "    .dataframe tbody tr th:only-of-type {\n",
       "        vertical-align: middle;\n",
       "    }\n",
       "\n",
       "    .dataframe tbody tr th {\n",
       "        vertical-align: top;\n",
       "    }\n",
       "\n",
       "    .dataframe thead th {\n",
       "        text-align: right;\n",
       "    }\n",
       "</style>\n",
       "<table border=\"1\" class=\"dataframe\">\n",
       "  <thead>\n",
       "    <tr style=\"text-align: right;\">\n",
       "      <th></th>\n",
       "      <th>(중상위, coef)</th>\n",
       "      <th>(중상위, pvalue)</th>\n",
       "    </tr>\n",
       "  </thead>\n",
       "  <tbody>\n",
       "    <tr>\n",
       "      <th>const</th>\n",
       "      <td>-7.304047</td>\n",
       "      <td>4.160572e-14</td>\n",
       "    </tr>\n",
       "    <tr>\n",
       "      <th>(가)건강 만족도</th>\n",
       "      <td>0.471743</td>\n",
       "      <td>1.342053e-03</td>\n",
       "    </tr>\n",
       "    <tr>\n",
       "      <th>(나)가족의 수입 만족도</th>\n",
       "      <td>0.574768</td>\n",
       "      <td>1.597539e-04</td>\n",
       "    </tr>\n",
       "    <tr>\n",
       "      <th>(마)직업 만족도</th>\n",
       "      <td>0.596162</td>\n",
       "      <td>8.017580e-03</td>\n",
       "    </tr>\n",
       "    <tr>\n",
       "      <th>(사)여가생활 만족도</th>\n",
       "      <td>0.515392</td>\n",
       "      <td>7.509921e-03</td>\n",
       "    </tr>\n",
       "  </tbody>\n",
       "</table>\n",
       "</div>"
      ],
      "text/plain": [
       "               (중상위, coef)  (중상위, pvalue)\n",
       "const            -7.304047   4.160572e-14\n",
       "(가)건강 만족도         0.471743   1.342053e-03\n",
       "(나)가족의 수입 만족도     0.574768   1.597539e-04\n",
       "(마)직업 만족도         0.596162   8.017580e-03\n",
       "(사)여가생활 만족도       0.515392   7.509921e-03"
      ]
     },
     "execution_count": 76,
     "metadata": {},
     "output_type": "execute_result"
    }
   ],
   "source": [
    "result=pd.merge(근로유형[2][\"중상위\"][0].params.to_frame(),근로유형[2][\"중상위\"][0].pvalues.to_frame(),right_index=True,left_index=True)\n",
    "result.rename(columns=dict(zip(result.columns,[(\"중상위\",\"coef\"),(\"중상위\",\"pvalue\")])),inplace=True)\n",
    "print('평균:',근로유형[2][\"중상위\"][1])\n",
    "result"
   ]
  },
  {
   "cell_type": "markdown",
   "metadata": {},
   "source": [
    "최상위"
   ]
  },
  {
   "cell_type": "code",
   "execution_count": 77,
   "metadata": {},
   "outputs": [
    {
     "name": "stdout",
     "output_type": "stream",
     "text": [
      "평균: 7.915032679738562\n"
     ]
    },
    {
     "data": {
      "text/html": [
       "<div>\n",
       "<style scoped>\n",
       "    .dataframe tbody tr th:only-of-type {\n",
       "        vertical-align: middle;\n",
       "    }\n",
       "\n",
       "    .dataframe tbody tr th {\n",
       "        vertical-align: top;\n",
       "    }\n",
       "\n",
       "    .dataframe thead th {\n",
       "        text-align: right;\n",
       "    }\n",
       "</style>\n",
       "<table border=\"1\" class=\"dataframe\">\n",
       "  <thead>\n",
       "    <tr style=\"text-align: right;\">\n",
       "      <th></th>\n",
       "      <th>(최상위, coef)</th>\n",
       "      <th>(최상위, pvalue)</th>\n",
       "    </tr>\n",
       "  </thead>\n",
       "  <tbody>\n",
       "    <tr>\n",
       "      <th>const</th>\n",
       "      <td>-3.729256</td>\n",
       "      <td>0.005382</td>\n",
       "    </tr>\n",
       "    <tr>\n",
       "      <th>(나)가족의 수입 만족도</th>\n",
       "      <td>0.294616</td>\n",
       "      <td>0.158613</td>\n",
       "    </tr>\n",
       "    <tr>\n",
       "      <th>(마)직업 만족도</th>\n",
       "      <td>0.835046</td>\n",
       "      <td>0.016870</td>\n",
       "    </tr>\n",
       "  </tbody>\n",
       "</table>\n",
       "</div>"
      ],
      "text/plain": [
       "               (최상위, coef)  (최상위, pvalue)\n",
       "const            -3.729256       0.005382\n",
       "(나)가족의 수입 만족도     0.294616       0.158613\n",
       "(마)직업 만족도         0.835046       0.016870"
      ]
     },
     "execution_count": 77,
     "metadata": {},
     "output_type": "execute_result"
    }
   ],
   "source": [
    "result=pd.merge(근로유형[2][\"최상위\"][0].params.to_frame(),근로유형[2][\"최상위\"][0].pvalues.to_frame(),right_index=True,left_index=True)\n",
    "result.rename(columns=dict(zip(result.columns,[(\"최상위\",\"coef\"),(\"최상위\",\"pvalue\")])),inplace=True)\n",
    "print('평균:',근로유형[2][\"최상위\"][1])\n",
    "result"
   ]
  },
  {
   "cell_type": "markdown",
   "metadata": {},
   "source": [
    "최하위"
   ]
  },
  {
   "cell_type": "code",
   "execution_count": 78,
   "metadata": {},
   "outputs": [
    {
     "name": "stdout",
     "output_type": "stream",
     "text": [
      "평균: 5.336683417085427\n"
     ]
    },
    {
     "data": {
      "text/html": [
       "<div>\n",
       "<style scoped>\n",
       "    .dataframe tbody tr th:only-of-type {\n",
       "        vertical-align: middle;\n",
       "    }\n",
       "\n",
       "    .dataframe tbody tr th {\n",
       "        vertical-align: top;\n",
       "    }\n",
       "\n",
       "    .dataframe thead th {\n",
       "        text-align: right;\n",
       "    }\n",
       "</style>\n",
       "<table border=\"1\" class=\"dataframe\">\n",
       "  <thead>\n",
       "    <tr style=\"text-align: right;\">\n",
       "      <th></th>\n",
       "      <th>(최하위, coef)</th>\n",
       "      <th>(최하위, pvalue)</th>\n",
       "    </tr>\n",
       "  </thead>\n",
       "  <tbody>\n",
       "    <tr>\n",
       "      <th>const</th>\n",
       "      <td>-3.831471</td>\n",
       "      <td>0.000310</td>\n",
       "    </tr>\n",
       "    <tr>\n",
       "      <th>(가)건강 만족도</th>\n",
       "      <td>0.410711</td>\n",
       "      <td>0.015626</td>\n",
       "    </tr>\n",
       "    <tr>\n",
       "      <th>(라)가족관계 만족도</th>\n",
       "      <td>0.696835</td>\n",
       "      <td>0.005588</td>\n",
       "    </tr>\n",
       "  </tbody>\n",
       "</table>\n",
       "</div>"
      ],
      "text/plain": [
       "             (최하위, coef)  (최하위, pvalue)\n",
       "const          -3.831471       0.000310\n",
       "(가)건강 만족도       0.410711       0.015626\n",
       "(라)가족관계 만족도     0.696835       0.005588"
      ]
     },
     "execution_count": 78,
     "metadata": {},
     "output_type": "execute_result"
    }
   ],
   "source": [
    "result=pd.merge(근로유형[2][\"최하위\"][0].params.to_frame(),근로유형[2][\"최하위\"][0].pvalues.to_frame(),right_index=True,left_index=True)\n",
    "result.rename(columns=dict(zip(result.columns,[(\"최하위\",\"coef\"),(\"최하위\",\"pvalue\")])),inplace=True)\n",
    "print('평균:',근로유형[2][\"최하위\"][1])\n",
    "result"
   ]
  },
  {
   "cell_type": "markdown",
   "metadata": {},
   "source": [
    "#### 근로유형 4 (미취업자)\n",
    "\n",
    "|구분|기준(평균)|유효독립변수|\n",
    "|---|----|----|\n",
    "|최상위|7.10|건강만족도, 직업만족도, 사회적친분관계만족도|\n",
    "|중상위|5.68|건강만족도, 가족수입만족도, 주거환경만족도, 가족관계만족도, 직업만족도, 사회적친분관계만족도, 여가생활만족도|\n",
    "|최하위|4.14|건강만족도, 가족수입만족도, 가족관계만족도, 여가생활만족도|"
   ]
  },
  {
   "cell_type": "markdown",
   "metadata": {},
   "source": [
    "중상위"
   ]
  },
  {
   "cell_type": "code",
   "execution_count": 79,
   "metadata": {},
   "outputs": [
    {
     "name": "stdout",
     "output_type": "stream",
     "text": [
      "평균: 5.686440677966102\n"
     ]
    },
    {
     "data": {
      "text/html": [
       "<div>\n",
       "<style scoped>\n",
       "    .dataframe tbody tr th:only-of-type {\n",
       "        vertical-align: middle;\n",
       "    }\n",
       "\n",
       "    .dataframe tbody tr th {\n",
       "        vertical-align: top;\n",
       "    }\n",
       "\n",
       "    .dataframe thead th {\n",
       "        text-align: right;\n",
       "    }\n",
       "</style>\n",
       "<table border=\"1\" class=\"dataframe\">\n",
       "  <thead>\n",
       "    <tr style=\"text-align: right;\">\n",
       "      <th></th>\n",
       "      <th>(중상위, coef)</th>\n",
       "      <th>(중상위, pvalue)</th>\n",
       "    </tr>\n",
       "  </thead>\n",
       "  <tbody>\n",
       "    <tr>\n",
       "      <th>const</th>\n",
       "      <td>-8.671703</td>\n",
       "      <td>1.198559e-63</td>\n",
       "    </tr>\n",
       "    <tr>\n",
       "      <th>(가)건강 만족도</th>\n",
       "      <td>0.389271</td>\n",
       "      <td>9.678143e-09</td>\n",
       "    </tr>\n",
       "    <tr>\n",
       "      <th>(나)가족의 수입 만족도</th>\n",
       "      <td>0.309267</td>\n",
       "      <td>1.381922e-04</td>\n",
       "    </tr>\n",
       "    <tr>\n",
       "      <th>(다)주거 환경 만족도</th>\n",
       "      <td>0.356536</td>\n",
       "      <td>4.430405e-04</td>\n",
       "    </tr>\n",
       "    <tr>\n",
       "      <th>(라)가족관계 만족도</th>\n",
       "      <td>0.412590</td>\n",
       "      <td>3.554395e-05</td>\n",
       "    </tr>\n",
       "    <tr>\n",
       "      <th>(마)직업 만족도</th>\n",
       "      <td>0.315710</td>\n",
       "      <td>2.125929e-03</td>\n",
       "    </tr>\n",
       "    <tr>\n",
       "      <th>(바)사회적 친분관계 만족도</th>\n",
       "      <td>0.418369</td>\n",
       "      <td>4.509994e-05</td>\n",
       "    </tr>\n",
       "    <tr>\n",
       "      <th>(사)여가생활 만족도</th>\n",
       "      <td>0.522014</td>\n",
       "      <td>8.411211e-08</td>\n",
       "    </tr>\n",
       "  </tbody>\n",
       "</table>\n",
       "</div>"
      ],
      "text/plain": [
       "                 (중상위, coef)  (중상위, pvalue)\n",
       "const              -8.671703   1.198559e-63\n",
       "(가)건강 만족도           0.389271   9.678143e-09\n",
       "(나)가족의 수입 만족도       0.309267   1.381922e-04\n",
       "(다)주거 환경 만족도        0.356536   4.430405e-04\n",
       "(라)가족관계 만족도         0.412590   3.554395e-05\n",
       "(마)직업 만족도           0.315710   2.125929e-03\n",
       "(바)사회적 친분관계 만족도     0.418369   4.509994e-05\n",
       "(사)여가생활 만족도         0.522014   8.411211e-08"
      ]
     },
     "execution_count": 79,
     "metadata": {},
     "output_type": "execute_result"
    }
   ],
   "source": [
    "result=pd.merge(근로유형[4][\"중상위\"][0].params.to_frame(),근로유형[4][\"중상위\"][0].pvalues.to_frame(),right_index=True,left_index=True)\n",
    "result.rename(columns=dict(zip(result.columns,[(\"중상위\",\"coef\"),(\"중상위\",\"pvalue\")])),inplace=True)\n",
    "print('평균:',근로유형[4][\"중상위\"][1])\n",
    "result"
   ]
  },
  {
   "cell_type": "markdown",
   "metadata": {},
   "source": [
    "최상위"
   ]
  },
  {
   "cell_type": "code",
   "execution_count": 80,
   "metadata": {},
   "outputs": [
    {
     "name": "stdout",
     "output_type": "stream",
     "text": [
      "평균: 7.108139534883721\n"
     ]
    },
    {
     "data": {
      "text/html": [
       "<div>\n",
       "<style scoped>\n",
       "    .dataframe tbody tr th:only-of-type {\n",
       "        vertical-align: middle;\n",
       "    }\n",
       "\n",
       "    .dataframe tbody tr th {\n",
       "        vertical-align: top;\n",
       "    }\n",
       "\n",
       "    .dataframe thead th {\n",
       "        text-align: right;\n",
       "    }\n",
       "</style>\n",
       "<table border=\"1\" class=\"dataframe\">\n",
       "  <thead>\n",
       "    <tr style=\"text-align: right;\">\n",
       "      <th></th>\n",
       "      <th>(최상위, coef)</th>\n",
       "      <th>(최상위, pvalue)</th>\n",
       "    </tr>\n",
       "  </thead>\n",
       "  <tbody>\n",
       "    <tr>\n",
       "      <th>const</th>\n",
       "      <td>-4.945855</td>\n",
       "      <td>1.278305e-15</td>\n",
       "    </tr>\n",
       "    <tr>\n",
       "      <th>(가)건강 만족도</th>\n",
       "      <td>0.289366</td>\n",
       "      <td>5.116434e-04</td>\n",
       "    </tr>\n",
       "    <tr>\n",
       "      <th>(마)직업 만족도</th>\n",
       "      <td>0.521778</td>\n",
       "      <td>6.524780e-05</td>\n",
       "    </tr>\n",
       "    <tr>\n",
       "      <th>(바)사회적 친분관계 만족도</th>\n",
       "      <td>0.421105</td>\n",
       "      <td>3.301151e-03</td>\n",
       "    </tr>\n",
       "  </tbody>\n",
       "</table>\n",
       "</div>"
      ],
      "text/plain": [
       "                 (최상위, coef)  (최상위, pvalue)\n",
       "const              -4.945855   1.278305e-15\n",
       "(가)건강 만족도           0.289366   5.116434e-04\n",
       "(마)직업 만족도           0.521778   6.524780e-05\n",
       "(바)사회적 친분관계 만족도     0.421105   3.301151e-03"
      ]
     },
     "execution_count": 80,
     "metadata": {},
     "output_type": "execute_result"
    }
   ],
   "source": [
    "result=pd.merge(근로유형[4][\"최상위\"][0].params.to_frame(),근로유형[4][\"최상위\"][0].pvalues.to_frame(),right_index=True,left_index=True)\n",
    "result.rename(columns=dict(zip(result.columns,[(\"최상위\",\"coef\"),(\"최상위\",\"pvalue\")])),inplace=True)\n",
    "print('평균:',근로유형[4][\"최상위\"][1])\n",
    "result"
   ]
  },
  {
   "cell_type": "markdown",
   "metadata": {},
   "source": [
    "최하위"
   ]
  },
  {
   "cell_type": "code",
   "execution_count": 81,
   "metadata": {},
   "outputs": [
    {
     "name": "stdout",
     "output_type": "stream",
     "text": [
      "평균: 4.142676767676767\n"
     ]
    },
    {
     "data": {
      "text/html": [
       "<div>\n",
       "<style scoped>\n",
       "    .dataframe tbody tr th:only-of-type {\n",
       "        vertical-align: middle;\n",
       "    }\n",
       "\n",
       "    .dataframe tbody tr th {\n",
       "        vertical-align: top;\n",
       "    }\n",
       "\n",
       "    .dataframe thead th {\n",
       "        text-align: right;\n",
       "    }\n",
       "</style>\n",
       "<table border=\"1\" class=\"dataframe\">\n",
       "  <thead>\n",
       "    <tr style=\"text-align: right;\">\n",
       "      <th></th>\n",
       "      <th>(최하위, coef)</th>\n",
       "      <th>(최하위, pvalue)</th>\n",
       "    </tr>\n",
       "  </thead>\n",
       "  <tbody>\n",
       "    <tr>\n",
       "      <th>const</th>\n",
       "      <td>-5.033055</td>\n",
       "      <td>4.963571e-21</td>\n",
       "    </tr>\n",
       "    <tr>\n",
       "      <th>(가)건강 만족도</th>\n",
       "      <td>0.217385</td>\n",
       "      <td>2.380675e-02</td>\n",
       "    </tr>\n",
       "    <tr>\n",
       "      <th>(나)가족의 수입 만족도</th>\n",
       "      <td>0.476105</td>\n",
       "      <td>2.947986e-05</td>\n",
       "    </tr>\n",
       "    <tr>\n",
       "      <th>(라)가족관계 만족도</th>\n",
       "      <td>0.574412</td>\n",
       "      <td>1.456060e-06</td>\n",
       "    </tr>\n",
       "    <tr>\n",
       "      <th>(사)여가생활 만족도</th>\n",
       "      <td>0.471841</td>\n",
       "      <td>1.838054e-04</td>\n",
       "    </tr>\n",
       "  </tbody>\n",
       "</table>\n",
       "</div>"
      ],
      "text/plain": [
       "               (최하위, coef)  (최하위, pvalue)\n",
       "const            -5.033055   4.963571e-21\n",
       "(가)건강 만족도         0.217385   2.380675e-02\n",
       "(나)가족의 수입 만족도     0.476105   2.947986e-05\n",
       "(라)가족관계 만족도       0.574412   1.456060e-06\n",
       "(사)여가생활 만족도       0.471841   1.838054e-04"
      ]
     },
     "execution_count": 81,
     "metadata": {},
     "output_type": "execute_result"
    }
   ],
   "source": [
    "result=pd.merge(근로유형[4][\"최하위\"][0].params.to_frame(),근로유형[4][\"최하위\"][0].pvalues.to_frame(),right_index=True,left_index=True)\n",
    "result.rename(columns=dict(zip(result.columns,[(\"최하위\",\"coef\"),(\"최하위\",\"pvalue\")])),inplace=True)\n",
    "print('평균:',근로유형[4][\"최하위\"][1])\n",
    "result"
   ]
  },
  {
   "cell_type": "markdown",
   "metadata": {},
   "source": [
    "**************"
   ]
  },
  {
   "cell_type": "markdown",
   "metadata": {},
   "source": [
    "### 교육수준"
   ]
  },
  {
   "cell_type": "markdown",
   "metadata": {},
   "source": [
    "##### 교육수준과 삶의 만족도 사이의 연관성"
   ]
  },
  {
   "cell_type": "code",
   "execution_count": 15,
   "metadata": {},
   "outputs": [
    {
     "data": {
      "text/html": [
       "<div>\n",
       "<style scoped>\n",
       "    .dataframe tbody tr th:only-of-type {\n",
       "        vertical-align: middle;\n",
       "    }\n",
       "\n",
       "    .dataframe tbody tr th {\n",
       "        vertical-align: top;\n",
       "    }\n",
       "\n",
       "    .dataframe thead th {\n",
       "        text-align: right;\n",
       "    }\n",
       "</style>\n",
       "<table border=\"1\" class=\"dataframe\">\n",
       "  <thead>\n",
       "    <tr style=\"text-align: right;\">\n",
       "      <th></th>\n",
       "      <th>삶의 사다리 점수</th>\n",
       "      <th>교육수준</th>\n",
       "    </tr>\n",
       "  </thead>\n",
       "  <tbody>\n",
       "    <tr>\n",
       "      <th>삶의 사다리 점수</th>\n",
       "      <td>1.000000</td>\n",
       "      <td>0.232986</td>\n",
       "    </tr>\n",
       "    <tr>\n",
       "      <th>교육수준</th>\n",
       "      <td>0.232986</td>\n",
       "      <td>1.000000</td>\n",
       "    </tr>\n",
       "  </tbody>\n",
       "</table>\n",
       "</div>"
      ],
      "text/plain": [
       "           삶의 사다리 점수      교육수준\n",
       "삶의 사다리 점수   1.000000  0.232986\n",
       "교육수준        0.232986  1.000000"
      ]
     },
     "execution_count": 15,
     "metadata": {},
     "output_type": "execute_result"
    }
   ],
   "source": [
    "# 서열척도\n",
    "data[['삶의 사다리 점수','교육수준']].corr(method='spearman')"
   ]
  },
  {
   "cell_type": "code",
   "execution_count": 16,
   "metadata": {},
   "outputs": [
    {
     "data": {
      "text/plain": [
       "9.068242536445476e-32"
      ]
     },
     "execution_count": 16,
     "metadata": {},
     "output_type": "execute_result"
    }
   ],
   "source": [
    "# 카이제곱검정(독립성)\n",
    "chi2.chi2_try(data[[\"삶의 사다리 점수\",'교육수준']])[\"type4\"][0][\"pvalue\"]"
   ]
  },
  {
   "cell_type": "markdown",
   "metadata": {},
   "source": [
    "> 독립적이지 않다"
   ]
  },
  {
   "cell_type": "markdown",
   "metadata": {},
   "source": [
    "##### 교육수준별 삶의 사다리 점수간의 관계\n",
    "\n",
    "> 분석방법 : <br>\n",
    "회귀계수의 pvalue가 0.05보다 높으면 높은 순으로 해당 column을 제거하고 다시 분석 <br>\n",
    "만약 남은 column은 최소 2개를 유지"
   ]
  },
  {
   "cell_type": "code",
   "execution_count": 17,
   "metadata": {},
   "outputs": [
    {
     "name": "stdout",
     "output_type": "stream",
     "text": [
      "Optimization terminated successfully.\n",
      "         Current function value: 0.553254\n",
      "         Iterations 6\n",
      "Optimization terminated successfully.\n",
      "         Current function value: 0.555247\n",
      "         Iterations 6\n",
      "Optimization terminated successfully.\n",
      "         Current function value: 0.557538\n",
      "         Iterations 6\n",
      "Optimization terminated successfully.\n",
      "         Current function value: 0.561872\n",
      "         Iterations 6\n",
      "Optimization terminated successfully.\n",
      "         Current function value: 0.648605\n",
      "         Iterations 5\n",
      "Optimization terminated successfully.\n",
      "         Current function value: 0.648816\n",
      "         Iterations 5\n",
      "Optimization terminated successfully.\n",
      "         Current function value: 0.649314\n",
      "         Iterations 5\n",
      "Optimization terminated successfully.\n",
      "         Current function value: 0.650114\n",
      "         Iterations 5\n",
      "Optimization terminated successfully.\n",
      "         Current function value: 0.653045\n",
      "         Iterations 5\n",
      "Optimization terminated successfully.\n",
      "         Current function value: 0.657150\n",
      "         Iterations 5\n",
      "Optimization terminated successfully.\n",
      "         Current function value: 0.510714\n",
      "         Iterations 6\n",
      "Optimization terminated successfully.\n",
      "         Current function value: 0.511375\n",
      "         Iterations 6\n",
      "Optimization terminated successfully.\n",
      "         Current function value: 0.514283\n",
      "         Iterations 6\n",
      "Optimization terminated successfully.\n",
      "         Current function value: 0.518436\n",
      "         Iterations 6\n",
      "Optimization terminated successfully.\n",
      "         Current function value: 0.524035\n",
      "         Iterations 6\n",
      "Optimization terminated successfully.\n",
      "         Current function value: 0.563440\n",
      "         Iterations 6\n",
      "Optimization terminated successfully.\n",
      "         Current function value: 0.565130\n",
      "         Iterations 6\n",
      "Optimization terminated successfully.\n",
      "         Current function value: 0.582936\n",
      "         Iterations 6\n",
      "Optimization terminated successfully.\n",
      "         Current function value: 0.583080\n",
      "         Iterations 6\n",
      "Optimization terminated successfully.\n",
      "         Current function value: 0.583787\n",
      "         Iterations 6\n",
      "Optimization terminated successfully.\n",
      "         Current function value: 0.584510\n",
      "         Iterations 6\n",
      "Optimization terminated successfully.\n",
      "         Current function value: 0.585829\n",
      "         Iterations 6\n",
      "Optimization terminated successfully.\n",
      "         Current function value: 0.588215\n",
      "         Iterations 6\n",
      "Optimization terminated successfully.\n",
      "         Current function value: 0.618272\n",
      "         Iterations 5\n",
      "Optimization terminated successfully.\n",
      "         Current function value: 0.618341\n",
      "         Iterations 5\n",
      "Optimization terminated successfully.\n",
      "         Current function value: 0.619200\n",
      "         Iterations 5\n",
      "Optimization terminated successfully.\n",
      "         Current function value: 0.620821\n",
      "         Iterations 5\n",
      "Optimization terminated successfully.\n",
      "         Current function value: 0.484029\n",
      "         Iterations 6\n",
      "Optimization terminated successfully.\n",
      "         Current function value: 0.484288\n",
      "         Iterations 6\n",
      "Optimization terminated successfully.\n",
      "         Current function value: 0.485058\n",
      "         Iterations 6\n",
      "Optimization terminated successfully.\n",
      "         Current function value: 0.610725\n",
      "         Iterations 5\n",
      "Optimization terminated successfully.\n",
      "         Current function value: 0.611319\n",
      "         Iterations 5\n",
      "Optimization terminated successfully.\n",
      "         Current function value: 0.612091\n",
      "         Iterations 5\n",
      "Optimization terminated successfully.\n",
      "         Current function value: 0.614347\n",
      "         Iterations 5\n",
      "Optimization terminated successfully.\n",
      "         Current function value: 0.617410\n",
      "         Iterations 5\n",
      "Optimization terminated successfully.\n",
      "         Current function value: 0.621253\n",
      "         Iterations 5\n",
      "Optimization terminated successfully.\n",
      "         Current function value: 0.535469\n",
      "         Iterations 6\n",
      "Optimization terminated successfully.\n",
      "         Current function value: 0.536706\n",
      "         Iterations 6\n",
      "Optimization terminated successfully.\n",
      "         Current function value: 0.539162\n",
      "         Iterations 6\n",
      "Optimization terminated successfully.\n",
      "         Current function value: 0.546800\n",
      "         Iterations 6\n",
      "Optimization terminated successfully.\n",
      "         Current function value: 0.550808\n",
      "         Iterations 6\n",
      "Optimization terminated successfully.\n",
      "         Current function value: 0.540776\n",
      "         Iterations 6\n",
      "Optimization terminated successfully.\n",
      "         Current function value: 0.541226\n",
      "         Iterations 6\n",
      "Optimization terminated successfully.\n",
      "         Current function value: 0.541942\n",
      "         Iterations 6\n",
      "Optimization terminated successfully.\n",
      "         Current function value: 0.542569\n",
      "         Iterations 6\n",
      "Optimization terminated successfully.\n",
      "         Current function value: 0.549900\n",
      "         Iterations 6\n",
      "Optimization terminated successfully.\n",
      "         Current function value: 0.625350\n",
      "         Iterations 6\n",
      "Optimization terminated successfully.\n",
      "         Current function value: 0.626080\n",
      "         Iterations 6\n",
      "Optimization terminated successfully.\n",
      "         Current function value: 0.628957\n",
      "         Iterations 6\n",
      "Optimization terminated successfully.\n",
      "         Current function value: 0.634824\n",
      "         Iterations 5\n",
      "Optimization terminated successfully.\n",
      "         Current function value: 0.645346\n",
      "         Iterations 5\n",
      "Optimization terminated successfully.\n",
      "         Current function value: 0.661111\n",
      "         Iterations 5\n",
      "Optimization terminated successfully.\n",
      "         Current function value: 0.635797\n",
      "         Iterations 5\n",
      "Optimization terminated successfully.\n",
      "         Current function value: 0.635811\n",
      "         Iterations 5\n",
      "Optimization terminated successfully.\n",
      "         Current function value: 0.636079\n",
      "         Iterations 5\n",
      "Optimization terminated successfully.\n",
      "         Current function value: 0.636749\n",
      "         Iterations 5\n",
      "Optimization terminated successfully.\n",
      "         Current function value: 0.638907\n",
      "         Iterations 5\n",
      "Optimization terminated successfully.\n",
      "         Current function value: 0.641950\n",
      "         Iterations 5\n",
      "Optimization terminated successfully.\n",
      "         Current function value: 0.565986\n",
      "         Iterations 6\n",
      "Optimization terminated successfully.\n",
      "         Current function value: 0.568021\n",
      "         Iterations 6\n",
      "Optimization terminated successfully.\n",
      "         Current function value: 0.643445\n",
      "         Iterations 5\n",
      "Optimization terminated successfully.\n",
      "         Current function value: 0.643449\n",
      "         Iterations 5\n",
      "Optimization terminated successfully.\n",
      "         Current function value: 0.643481\n",
      "         Iterations 5\n",
      "Optimization terminated successfully.\n",
      "         Current function value: 0.644741\n",
      "         Iterations 5\n",
      "Optimization terminated successfully.\n",
      "         Current function value: 0.646044\n",
      "         Iterations 5\n",
      "Optimization terminated successfully.\n",
      "         Current function value: 0.650951\n",
      "         Iterations 5\n",
      "Optimization terminated successfully.\n",
      "         Current function value: 0.474612\n",
      "         Iterations 6\n",
      "Optimization terminated successfully.\n",
      "         Current function value: 0.476149\n",
      "         Iterations 6\n",
      "Optimization terminated successfully.\n",
      "         Current function value: 0.477490\n",
      "         Iterations 6\n",
      "Optimization terminated successfully.\n",
      "         Current function value: 0.479146\n",
      "         Iterations 6\n",
      "Optimization terminated successfully.\n",
      "         Current function value: 0.571845\n",
      "         Iterations 6\n",
      "Optimization terminated successfully.\n",
      "         Current function value: 0.572123\n",
      "         Iterations 6\n",
      "Optimization terminated successfully.\n",
      "         Current function value: 0.572567\n",
      "         Iterations 6\n",
      "Optimization terminated successfully.\n",
      "         Current function value: 0.575704\n",
      "         Iterations 6\n",
      "Optimization terminated successfully.\n",
      "         Current function value: 0.539294\n",
      "         Iterations 6\n",
      "Optimization terminated successfully.\n",
      "         Current function value: 0.539717\n",
      "         Iterations 6\n",
      "Optimization terminated successfully.\n",
      "         Current function value: 0.541107\n",
      "         Iterations 6\n",
      "Optimization terminated successfully.\n",
      "         Current function value: 0.543672\n",
      "         Iterations 6\n",
      "Optimization terminated successfully.\n",
      "         Current function value: 0.545662\n",
      "         Iterations 6\n",
      "Optimization terminated successfully.\n",
      "         Current function value: 0.549025\n",
      "         Iterations 6\n",
      "Optimization terminated successfully.\n",
      "         Current function value: 0.640980\n",
      "         Iterations 5\n",
      "Optimization terminated successfully.\n",
      "         Current function value: 0.641071\n",
      "         Iterations 5\n",
      "Optimization terminated successfully.\n",
      "         Current function value: 0.641454\n",
      "         Iterations 5\n",
      "Optimization terminated successfully.\n",
      "         Current function value: 0.642328\n",
      "         Iterations 5\n",
      "Optimization terminated successfully.\n",
      "         Current function value: 0.643958\n",
      "         Iterations 5\n",
      "Optimization terminated successfully.\n",
      "         Current function value: 0.650489\n",
      "         Iterations 5\n"
     ]
    }
   ],
   "source": [
    "# 모듈 적용\n",
    "교육수준 = Allogit.Lgt(data, '교육수준')"
   ]
  },
  {
   "cell_type": "markdown",
   "metadata": {},
   "source": [
    "##### 교육수준 2 : 무학\n",
    "\n",
    "|구분|기준(평균)|유효독립변수|\n",
    "|---|----|----|\n",
    "|최상위|7.10|가족수입만족도, 사회적친분관계만족도|\n",
    "|중상위|5.56|건강만족도, 가족수입만족도, 사회적친분관계만족도, 여가생활만족도|\n",
    "|최하위|4.09|가족수입만족도, 주거환경만족도|"
   ]
  },
  {
   "cell_type": "markdown",
   "metadata": {},
   "source": [
    "중상위"
   ]
  },
  {
   "cell_type": "code",
   "execution_count": 19,
   "metadata": {},
   "outputs": [
    {
     "name": "stdout",
     "output_type": "stream",
     "text": [
      "평균: 5.560311284046692\n"
     ]
    },
    {
     "data": {
      "text/html": [
       "<div>\n",
       "<style scoped>\n",
       "    .dataframe tbody tr th:only-of-type {\n",
       "        vertical-align: middle;\n",
       "    }\n",
       "\n",
       "    .dataframe tbody tr th {\n",
       "        vertical-align: top;\n",
       "    }\n",
       "\n",
       "    .dataframe thead th {\n",
       "        text-align: right;\n",
       "    }\n",
       "</style>\n",
       "<table border=\"1\" class=\"dataframe\">\n",
       "  <thead>\n",
       "    <tr style=\"text-align: right;\">\n",
       "      <th></th>\n",
       "      <th>(중상위, coef)</th>\n",
       "      <th>(중상위, pvalue)</th>\n",
       "    </tr>\n",
       "  </thead>\n",
       "  <tbody>\n",
       "    <tr>\n",
       "      <th>const</th>\n",
       "      <td>-6.354932</td>\n",
       "      <td>3.174635e-19</td>\n",
       "    </tr>\n",
       "    <tr>\n",
       "      <th>(가)건강 만족도</th>\n",
       "      <td>0.576536</td>\n",
       "      <td>4.935974e-06</td>\n",
       "    </tr>\n",
       "    <tr>\n",
       "      <th>(나)가족의 수입 만족도</th>\n",
       "      <td>0.486149</td>\n",
       "      <td>7.103450e-04</td>\n",
       "    </tr>\n",
       "    <tr>\n",
       "      <th>(바)사회적 친분관계 만족도</th>\n",
       "      <td>0.625167</td>\n",
       "      <td>7.132104e-04</td>\n",
       "    </tr>\n",
       "    <tr>\n",
       "      <th>(사)여가생활 만족도</th>\n",
       "      <td>0.429370</td>\n",
       "      <td>1.425509e-02</td>\n",
       "    </tr>\n",
       "  </tbody>\n",
       "</table>\n",
       "</div>"
      ],
      "text/plain": [
       "                 (중상위, coef)  (중상위, pvalue)\n",
       "const              -6.354932   3.174635e-19\n",
       "(가)건강 만족도           0.576536   4.935974e-06\n",
       "(나)가족의 수입 만족도       0.486149   7.103450e-04\n",
       "(바)사회적 친분관계 만족도     0.625167   7.132104e-04\n",
       "(사)여가생활 만족도         0.429370   1.425509e-02"
      ]
     },
     "execution_count": 19,
     "metadata": {},
     "output_type": "execute_result"
    }
   ],
   "source": [
    "result=pd.merge(교육수준[2][\"중상위\"][0].params.to_frame(),교육수준[2][\"중상위\"][0].pvalues.to_frame(),right_index=True,left_index=True)\n",
    "result.rename(columns=dict(zip(result.columns,[(\"중상위\",\"coef\"),(\"중상위\",\"pvalue\")])),inplace=True)\n",
    "print('평균:',교육수준[2][\"중상위\"][1])\n",
    "result"
   ]
  },
  {
   "cell_type": "markdown",
   "metadata": {},
   "source": [
    "최상위"
   ]
  },
  {
   "cell_type": "code",
   "execution_count": 20,
   "metadata": {},
   "outputs": [
    {
     "name": "stdout",
     "output_type": "stream",
     "text": [
      "평균: 7.108\n"
     ]
    },
    {
     "data": {
      "text/html": [
       "<div>\n",
       "<style scoped>\n",
       "    .dataframe tbody tr th:only-of-type {\n",
       "        vertical-align: middle;\n",
       "    }\n",
       "\n",
       "    .dataframe tbody tr th {\n",
       "        vertical-align: top;\n",
       "    }\n",
       "\n",
       "    .dataframe thead th {\n",
       "        text-align: right;\n",
       "    }\n",
       "</style>\n",
       "<table border=\"1\" class=\"dataframe\">\n",
       "  <thead>\n",
       "    <tr style=\"text-align: right;\">\n",
       "      <th></th>\n",
       "      <th>(최상위, coef)</th>\n",
       "      <th>(최상위, pvalue)</th>\n",
       "    </tr>\n",
       "  </thead>\n",
       "  <tbody>\n",
       "    <tr>\n",
       "      <th>const</th>\n",
       "      <td>-6.571894</td>\n",
       "      <td>1.663667e-07</td>\n",
       "    </tr>\n",
       "    <tr>\n",
       "      <th>(나)가족의 수입 만족도</th>\n",
       "      <td>0.875105</td>\n",
       "      <td>4.227774e-05</td>\n",
       "    </tr>\n",
       "    <tr>\n",
       "      <th>(바)사회적 친분관계 만족도</th>\n",
       "      <td>0.787632</td>\n",
       "      <td>6.253928e-03</td>\n",
       "    </tr>\n",
       "  </tbody>\n",
       "</table>\n",
       "</div>"
      ],
      "text/plain": [
       "                 (최상위, coef)  (최상위, pvalue)\n",
       "const              -6.571894   1.663667e-07\n",
       "(나)가족의 수입 만족도       0.875105   4.227774e-05\n",
       "(바)사회적 친분관계 만족도     0.787632   6.253928e-03"
      ]
     },
     "execution_count": 20,
     "metadata": {},
     "output_type": "execute_result"
    }
   ],
   "source": [
    "result=pd.merge(교육수준[2][\"최상위\"][0].params.to_frame(),교육수준[2][\"최상위\"][0].pvalues.to_frame(),right_index=True,left_index=True)\n",
    "result.rename(columns=dict(zip(result.columns,[(\"최상위\",\"coef\"),(\"최상위\",\"pvalue\")])),inplace=True)\n",
    "print('평균:',교육수준[2][\"최상위\"][1])\n",
    "result"
   ]
  },
  {
   "cell_type": "markdown",
   "metadata": {},
   "source": [
    "최하위"
   ]
  },
  {
   "cell_type": "code",
   "execution_count": 21,
   "metadata": {},
   "outputs": [
    {
     "name": "stdout",
     "output_type": "stream",
     "text": [
      "평균: 4.09469696969697\n"
     ]
    },
    {
     "data": {
      "text/html": [
       "<div>\n",
       "<style scoped>\n",
       "    .dataframe tbody tr th:only-of-type {\n",
       "        vertical-align: middle;\n",
       "    }\n",
       "\n",
       "    .dataframe tbody tr th {\n",
       "        vertical-align: top;\n",
       "    }\n",
       "\n",
       "    .dataframe thead th {\n",
       "        text-align: right;\n",
       "    }\n",
       "</style>\n",
       "<table border=\"1\" class=\"dataframe\">\n",
       "  <thead>\n",
       "    <tr style=\"text-align: right;\">\n",
       "      <th></th>\n",
       "      <th>(최하위, coef)</th>\n",
       "      <th>(최하위, pvalue)</th>\n",
       "    </tr>\n",
       "  </thead>\n",
       "  <tbody>\n",
       "    <tr>\n",
       "      <th>const</th>\n",
       "      <td>-2.937042</td>\n",
       "      <td>0.000053</td>\n",
       "    </tr>\n",
       "    <tr>\n",
       "      <th>(나)가족의 수입 만족도</th>\n",
       "      <td>0.690001</td>\n",
       "      <td>0.000453</td>\n",
       "    </tr>\n",
       "    <tr>\n",
       "      <th>(다)주거 환경 만족도</th>\n",
       "      <td>0.297056</td>\n",
       "      <td>0.129961</td>\n",
       "    </tr>\n",
       "  </tbody>\n",
       "</table>\n",
       "</div>"
      ],
      "text/plain": [
       "               (최하위, coef)  (최하위, pvalue)\n",
       "const            -2.937042       0.000053\n",
       "(나)가족의 수입 만족도     0.690001       0.000453\n",
       "(다)주거 환경 만족도      0.297056       0.129961"
      ]
     },
     "execution_count": 21,
     "metadata": {},
     "output_type": "execute_result"
    }
   ],
   "source": [
    "result=pd.merge(교육수준[2][\"최하위\"][0].params.to_frame(),교육수준[2][\"최하위\"][0].pvalues.to_frame(),right_index=True,left_index=True)\n",
    "result.rename(columns=dict(zip(result.columns,[(\"최하위\",\"coef\"),(\"최하위\",\"pvalue\")])),inplace=True)\n",
    "print('평균:',교육수준[2][\"최하위\"][1])\n",
    "result"
   ]
  },
  {
   "cell_type": "markdown",
   "metadata": {},
   "source": [
    "#### 교육수준 4 : 중학교\n",
    "\n",
    "|구분|기준(평균)|유효독립변수|\n",
    "|---|----|----|\n",
    "|최상위|7.79|가족수입만족도, 직업만족도|\n",
    "|중상위|6.00|건강만족도, 주거환경만족도, 직업만족도, 사회적친분관계만족도|\n",
    "|최하위|4.83|건강만족도, 직업만족도, 가족관계만족도|"
   ]
  },
  {
   "cell_type": "markdown",
   "metadata": {},
   "source": [
    "중상위"
   ]
  },
  {
   "cell_type": "code",
   "execution_count": 22,
   "metadata": {},
   "outputs": [
    {
     "name": "stdout",
     "output_type": "stream",
     "text": [
      "평균: 6.0\n"
     ]
    },
    {
     "data": {
      "text/html": [
       "<div>\n",
       "<style scoped>\n",
       "    .dataframe tbody tr th:only-of-type {\n",
       "        vertical-align: middle;\n",
       "    }\n",
       "\n",
       "    .dataframe tbody tr th {\n",
       "        vertical-align: top;\n",
       "    }\n",
       "\n",
       "    .dataframe thead th {\n",
       "        text-align: right;\n",
       "    }\n",
       "</style>\n",
       "<table border=\"1\" class=\"dataframe\">\n",
       "  <thead>\n",
       "    <tr style=\"text-align: right;\">\n",
       "      <th></th>\n",
       "      <th>(중상위, coef)</th>\n",
       "      <th>(중상위, pvalue)</th>\n",
       "    </tr>\n",
       "  </thead>\n",
       "  <tbody>\n",
       "    <tr>\n",
       "      <th>const</th>\n",
       "      <td>-8.437494</td>\n",
       "      <td>1.990746e-15</td>\n",
       "    </tr>\n",
       "    <tr>\n",
       "      <th>(가)건강 만족도</th>\n",
       "      <td>0.296341</td>\n",
       "      <td>1.700898e-02</td>\n",
       "    </tr>\n",
       "    <tr>\n",
       "      <th>(다)주거 환경 만족도</th>\n",
       "      <td>0.584653</td>\n",
       "      <td>6.441249e-03</td>\n",
       "    </tr>\n",
       "    <tr>\n",
       "      <th>(마)직업 만족도</th>\n",
       "      <td>0.616620</td>\n",
       "      <td>1.649362e-03</td>\n",
       "    </tr>\n",
       "    <tr>\n",
       "      <th>(바)사회적 친분관계 만족도</th>\n",
       "      <td>0.775872</td>\n",
       "      <td>8.257791e-04</td>\n",
       "    </tr>\n",
       "  </tbody>\n",
       "</table>\n",
       "</div>"
      ],
      "text/plain": [
       "                 (중상위, coef)  (중상위, pvalue)\n",
       "const              -8.437494   1.990746e-15\n",
       "(가)건강 만족도           0.296341   1.700898e-02\n",
       "(다)주거 환경 만족도        0.584653   6.441249e-03\n",
       "(마)직업 만족도           0.616620   1.649362e-03\n",
       "(바)사회적 친분관계 만족도     0.775872   8.257791e-04"
      ]
     },
     "execution_count": 22,
     "metadata": {},
     "output_type": "execute_result"
    }
   ],
   "source": [
    "result=pd.merge(교육수준[4][\"중상위\"][0].params.to_frame(),교육수준[4][\"중상위\"][0].pvalues.to_frame(),right_index=True,left_index=True)\n",
    "result.rename(columns=dict(zip(result.columns,[(\"중상위\",\"coef\"),(\"중상위\",\"pvalue\")])),inplace=True)\n",
    "print('평균:',교육수준[4][\"중상위\"][1])\n",
    "result"
   ]
  },
  {
   "cell_type": "markdown",
   "metadata": {},
   "source": [
    "최상위"
   ]
  },
  {
   "cell_type": "code",
   "execution_count": 23,
   "metadata": {},
   "outputs": [
    {
     "name": "stdout",
     "output_type": "stream",
     "text": [
      "평균: 7.795180722891566\n"
     ]
    },
    {
     "data": {
      "text/html": [
       "<div>\n",
       "<style scoped>\n",
       "    .dataframe tbody tr th:only-of-type {\n",
       "        vertical-align: middle;\n",
       "    }\n",
       "\n",
       "    .dataframe tbody tr th {\n",
       "        vertical-align: top;\n",
       "    }\n",
       "\n",
       "    .dataframe thead th {\n",
       "        text-align: right;\n",
       "    }\n",
       "</style>\n",
       "<table border=\"1\" class=\"dataframe\">\n",
       "  <thead>\n",
       "    <tr style=\"text-align: right;\">\n",
       "      <th></th>\n",
       "      <th>(최상위, coef)</th>\n",
       "      <th>(최상위, pvalue)</th>\n",
       "    </tr>\n",
       "  </thead>\n",
       "  <tbody>\n",
       "    <tr>\n",
       "      <th>const</th>\n",
       "      <td>-2.874327</td>\n",
       "      <td>0.012515</td>\n",
       "    </tr>\n",
       "    <tr>\n",
       "      <th>(나)가족의 수입 만족도</th>\n",
       "      <td>0.281469</td>\n",
       "      <td>0.122037</td>\n",
       "    </tr>\n",
       "    <tr>\n",
       "      <th>(마)직업 만족도</th>\n",
       "      <td>0.613123</td>\n",
       "      <td>0.032543</td>\n",
       "    </tr>\n",
       "  </tbody>\n",
       "</table>\n",
       "</div>"
      ],
      "text/plain": [
       "               (최상위, coef)  (최상위, pvalue)\n",
       "const            -2.874327       0.012515\n",
       "(나)가족의 수입 만족도     0.281469       0.122037\n",
       "(마)직업 만족도         0.613123       0.032543"
      ]
     },
     "execution_count": 23,
     "metadata": {},
     "output_type": "execute_result"
    }
   ],
   "source": [
    "result=pd.merge(교육수준[4][\"최상위\"][0].params.to_frame(),교육수준[4][\"최상위\"][0].pvalues.to_frame(),right_index=True,left_index=True)\n",
    "result.rename(columns=dict(zip(result.columns,[(\"최상위\",\"coef\"),(\"최상위\",\"pvalue\")])),inplace=True)\n",
    "print('평균:',교육수준[4][\"최상위\"][1])\n",
    "result"
   ]
  },
  {
   "cell_type": "markdown",
   "metadata": {},
   "source": [
    "최하위"
   ]
  },
  {
   "cell_type": "code",
   "execution_count": 24,
   "metadata": {},
   "outputs": [
    {
     "name": "stdout",
     "output_type": "stream",
     "text": [
      "평균: 4.8359375\n"
     ]
    },
    {
     "data": {
      "text/html": [
       "<div>\n",
       "<style scoped>\n",
       "    .dataframe tbody tr th:only-of-type {\n",
       "        vertical-align: middle;\n",
       "    }\n",
       "\n",
       "    .dataframe tbody tr th {\n",
       "        vertical-align: top;\n",
       "    }\n",
       "\n",
       "    .dataframe thead th {\n",
       "        text-align: right;\n",
       "    }\n",
       "</style>\n",
       "<table border=\"1\" class=\"dataframe\">\n",
       "  <thead>\n",
       "    <tr style=\"text-align: right;\">\n",
       "      <th></th>\n",
       "      <th>(최하위, coef)</th>\n",
       "      <th>(최하위, pvalue)</th>\n",
       "    </tr>\n",
       "  </thead>\n",
       "  <tbody>\n",
       "    <tr>\n",
       "      <th>const</th>\n",
       "      <td>-4.506955</td>\n",
       "      <td>0.000002</td>\n",
       "    </tr>\n",
       "    <tr>\n",
       "      <th>(가)건강 만족도</th>\n",
       "      <td>0.407276</td>\n",
       "      <td>0.021763</td>\n",
       "    </tr>\n",
       "    <tr>\n",
       "      <th>(라)가족관계 만족도</th>\n",
       "      <td>0.543770</td>\n",
       "      <td>0.016897</td>\n",
       "    </tr>\n",
       "    <tr>\n",
       "      <th>(마)직업 만족도</th>\n",
       "      <td>0.785703</td>\n",
       "      <td>0.000582</td>\n",
       "    </tr>\n",
       "  </tbody>\n",
       "</table>\n",
       "</div>"
      ],
      "text/plain": [
       "             (최하위, coef)  (최하위, pvalue)\n",
       "const          -4.506955       0.000002\n",
       "(가)건강 만족도       0.407276       0.021763\n",
       "(라)가족관계 만족도     0.543770       0.016897\n",
       "(마)직업 만족도       0.785703       0.000582"
      ]
     },
     "execution_count": 24,
     "metadata": {},
     "output_type": "execute_result"
    }
   ],
   "source": [
    "result=pd.merge(교육수준[4][\"최하위\"][0].params.to_frame(),교육수준[4][\"최하위\"][0].pvalues.to_frame(),right_index=True,left_index=True)\n",
    "result.rename(columns=dict(zip(result.columns,[(\"최하위\",\"coef\"),(\"최하위\",\"pvalue\")])),inplace=True)\n",
    "print('평균:',교육수준[4][\"최하위\"][1])\n",
    "result"
   ]
  },
  {
   "cell_type": "markdown",
   "metadata": {},
   "source": [
    "#### 교육수준 5 : 고등학교\n",
    "\n",
    "|구분|기준(평균)|유효독립변수|\n",
    "|---|----|----|\n",
    "|최상위|7.82|가족관계만족도, 직업만족도|\n",
    "|중상위|6.27|건강만족도, 가족수입만족도, 가족관계만족도, 직업만족도,사회적친분관계만족도, 여가생활만족도|\n",
    "|최하위|4.83|건강만족도, 가족수입만족도, 가족관계만족도, 여가생활만족도|\n"
   ]
  },
  {
   "cell_type": "code",
   "execution_count": 25,
   "metadata": {},
   "outputs": [
    {
     "name": "stdout",
     "output_type": "stream",
     "text": [
      "평균: 6.273584905660377\n"
     ]
    },
    {
     "data": {
      "text/html": [
       "<div>\n",
       "<style scoped>\n",
       "    .dataframe tbody tr th:only-of-type {\n",
       "        vertical-align: middle;\n",
       "    }\n",
       "\n",
       "    .dataframe tbody tr th {\n",
       "        vertical-align: top;\n",
       "    }\n",
       "\n",
       "    .dataframe thead th {\n",
       "        text-align: right;\n",
       "    }\n",
       "</style>\n",
       "<table border=\"1\" class=\"dataframe\">\n",
       "  <thead>\n",
       "    <tr style=\"text-align: right;\">\n",
       "      <th></th>\n",
       "      <th>(중상위, coef)</th>\n",
       "      <th>(중상위, pvalue)</th>\n",
       "    </tr>\n",
       "  </thead>\n",
       "  <tbody>\n",
       "    <tr>\n",
       "      <th>const</th>\n",
       "      <td>-7.971771</td>\n",
       "      <td>8.620384e-24</td>\n",
       "    </tr>\n",
       "    <tr>\n",
       "      <th>(가)건강 만족도</th>\n",
       "      <td>0.371946</td>\n",
       "      <td>3.736275e-04</td>\n",
       "    </tr>\n",
       "    <tr>\n",
       "      <th>(나)가족의 수입 만족도</th>\n",
       "      <td>0.262130</td>\n",
       "      <td>2.276492e-02</td>\n",
       "    </tr>\n",
       "    <tr>\n",
       "      <th>(라)가족관계 만족도</th>\n",
       "      <td>0.428108</td>\n",
       "      <td>8.401742e-03</td>\n",
       "    </tr>\n",
       "    <tr>\n",
       "      <th>(마)직업 만족도</th>\n",
       "      <td>0.343833</td>\n",
       "      <td>2.679742e-02</td>\n",
       "    </tr>\n",
       "    <tr>\n",
       "      <th>(바)사회적 친분관계 만족도</th>\n",
       "      <td>0.510015</td>\n",
       "      <td>4.453146e-03</td>\n",
       "    </tr>\n",
       "    <tr>\n",
       "      <th>(사)여가생활 만족도</th>\n",
       "      <td>0.362898</td>\n",
       "      <td>1.104182e-02</td>\n",
       "    </tr>\n",
       "  </tbody>\n",
       "</table>\n",
       "</div>"
      ],
      "text/plain": [
       "                 (중상위, coef)  (중상위, pvalue)\n",
       "const              -7.971771   8.620384e-24\n",
       "(가)건강 만족도           0.371946   3.736275e-04\n",
       "(나)가족의 수입 만족도       0.262130   2.276492e-02\n",
       "(라)가족관계 만족도         0.428108   8.401742e-03\n",
       "(마)직업 만족도           0.343833   2.679742e-02\n",
       "(바)사회적 친분관계 만족도     0.510015   4.453146e-03\n",
       "(사)여가생활 만족도         0.362898   1.104182e-02"
      ]
     },
     "execution_count": 25,
     "metadata": {},
     "output_type": "execute_result"
    }
   ],
   "source": [
    "result=pd.merge(교육수준[5][\"중상위\"][0].params.to_frame(),교육수준[5][\"중상위\"][0].pvalues.to_frame(),right_index=True,left_index=True)\n",
    "result.rename(columns=dict(zip(result.columns,[(\"중상위\",\"coef\"),(\"중상위\",\"pvalue\")])),inplace=True)\n",
    "print('평균:',교육수준[5][\"중상위\"][1])\n",
    "result"
   ]
  },
  {
   "cell_type": "code",
   "execution_count": 26,
   "metadata": {},
   "outputs": [
    {
     "name": "stdout",
     "output_type": "stream",
     "text": [
      "평균: 7.824104234527687\n"
     ]
    },
    {
     "data": {
      "text/html": [
       "<div>\n",
       "<style scoped>\n",
       "    .dataframe tbody tr th:only-of-type {\n",
       "        vertical-align: middle;\n",
       "    }\n",
       "\n",
       "    .dataframe tbody tr th {\n",
       "        vertical-align: top;\n",
       "    }\n",
       "\n",
       "    .dataframe thead th {\n",
       "        text-align: right;\n",
       "    }\n",
       "</style>\n",
       "<table border=\"1\" class=\"dataframe\">\n",
       "  <thead>\n",
       "    <tr style=\"text-align: right;\">\n",
       "      <th></th>\n",
       "      <th>(최상위, coef)</th>\n",
       "      <th>(최상위, pvalue)</th>\n",
       "    </tr>\n",
       "  </thead>\n",
       "  <tbody>\n",
       "    <tr>\n",
       "      <th>const</th>\n",
       "      <td>-4.071515</td>\n",
       "      <td>0.000137</td>\n",
       "    </tr>\n",
       "    <tr>\n",
       "      <th>(라)가족관계 만족도</th>\n",
       "      <td>0.447633</td>\n",
       "      <td>0.045747</td>\n",
       "    </tr>\n",
       "    <tr>\n",
       "      <th>(마)직업 만족도</th>\n",
       "      <td>0.702589</td>\n",
       "      <td>0.000696</td>\n",
       "    </tr>\n",
       "  </tbody>\n",
       "</table>\n",
       "</div>"
      ],
      "text/plain": [
       "             (최상위, coef)  (최상위, pvalue)\n",
       "const          -4.071515       0.000137\n",
       "(라)가족관계 만족도     0.447633       0.045747\n",
       "(마)직업 만족도       0.702589       0.000696"
      ]
     },
     "execution_count": 26,
     "metadata": {},
     "output_type": "execute_result"
    }
   ],
   "source": [
    "result=pd.merge(교육수준[5][\"최상위\"][0].params.to_frame(),교육수준[5][\"최상위\"][0].pvalues.to_frame(),right_index=True,left_index=True)\n",
    "result.rename(columns=dict(zip(result.columns,[(\"최상위\",\"coef\"),(\"최상위\",\"pvalue\")])),inplace=True)\n",
    "print('평균:',교육수준[5][\"최상위\"][1])\n",
    "result"
   ]
  },
  {
   "cell_type": "code",
   "execution_count": 27,
   "metadata": {},
   "outputs": [
    {
     "name": "stdout",
     "output_type": "stream",
     "text": [
      "평균: 4.826747720364741\n"
     ]
    },
    {
     "data": {
      "text/html": [
       "<div>\n",
       "<style scoped>\n",
       "    .dataframe tbody tr th:only-of-type {\n",
       "        vertical-align: middle;\n",
       "    }\n",
       "\n",
       "    .dataframe tbody tr th {\n",
       "        vertical-align: top;\n",
       "    }\n",
       "\n",
       "    .dataframe thead th {\n",
       "        text-align: right;\n",
       "    }\n",
       "</style>\n",
       "<table border=\"1\" class=\"dataframe\">\n",
       "  <thead>\n",
       "    <tr style=\"text-align: right;\">\n",
       "      <th></th>\n",
       "      <th>(최하위, coef)</th>\n",
       "      <th>(최하위, pvalue)</th>\n",
       "    </tr>\n",
       "  </thead>\n",
       "  <tbody>\n",
       "    <tr>\n",
       "      <th>const</th>\n",
       "      <td>-6.365368</td>\n",
       "      <td>1.309001e-11</td>\n",
       "    </tr>\n",
       "    <tr>\n",
       "      <th>(가)건강 만족도</th>\n",
       "      <td>0.467999</td>\n",
       "      <td>2.547244e-03</td>\n",
       "    </tr>\n",
       "    <tr>\n",
       "      <th>(나)가족의 수입 만족도</th>\n",
       "      <td>0.465892</td>\n",
       "      <td>7.155997e-03</td>\n",
       "    </tr>\n",
       "    <tr>\n",
       "      <th>(라)가족관계 만족도</th>\n",
       "      <td>0.668726</td>\n",
       "      <td>8.664228e-04</td>\n",
       "    </tr>\n",
       "    <tr>\n",
       "      <th>(사)여가생활 만족도</th>\n",
       "      <td>0.808223</td>\n",
       "      <td>7.759557e-05</td>\n",
       "    </tr>\n",
       "  </tbody>\n",
       "</table>\n",
       "</div>"
      ],
      "text/plain": [
       "               (최하위, coef)  (최하위, pvalue)\n",
       "const            -6.365368   1.309001e-11\n",
       "(가)건강 만족도         0.467999   2.547244e-03\n",
       "(나)가족의 수입 만족도     0.465892   7.155997e-03\n",
       "(라)가족관계 만족도       0.668726   8.664228e-04\n",
       "(사)여가생활 만족도       0.808223   7.759557e-05"
      ]
     },
     "execution_count": 27,
     "metadata": {},
     "output_type": "execute_result"
    }
   ],
   "source": [
    "result=pd.merge(교육수준[5][\"최하위\"][0].params.to_frame(),교육수준[5][\"최하위\"][0].pvalues.to_frame(),right_index=True,left_index=True)\n",
    "result.rename(columns=dict(zip(result.columns,[(\"최하위\",\"coef\"),(\"최하위\",\"pvalue\")])),inplace=True)\n",
    "print('평균:',교육수준[5][\"최하위\"][1])\n",
    "result"
   ]
  },
  {
   "cell_type": "markdown",
   "metadata": {},
   "source": [
    "#### 교육수준 6 : 전문대학교\n",
    "\n",
    "|구분|기준(평균)|유효독립변수|\n",
    "|---|----|----|\n",
    "|최상위|7.82|주거환경만족도, 사회적친분관계만족도|\n",
    "|중상위|6.56|건강만족도, 가족관계만족도, 직업만족도, 여가생활만족도|\n",
    "|최하위|5.19|건강만족도, 주거환경만족도|"
   ]
  },
  {
   "cell_type": "code",
   "execution_count": 28,
   "metadata": {},
   "outputs": [
    {
     "name": "stdout",
     "output_type": "stream",
     "text": [
      "평균: 6.5636363636363635\n"
     ]
    },
    {
     "data": {
      "text/html": [
       "<div>\n",
       "<style scoped>\n",
       "    .dataframe tbody tr th:only-of-type {\n",
       "        vertical-align: middle;\n",
       "    }\n",
       "\n",
       "    .dataframe tbody tr th {\n",
       "        vertical-align: top;\n",
       "    }\n",
       "\n",
       "    .dataframe thead th {\n",
       "        text-align: right;\n",
       "    }\n",
       "</style>\n",
       "<table border=\"1\" class=\"dataframe\">\n",
       "  <thead>\n",
       "    <tr style=\"text-align: right;\">\n",
       "      <th></th>\n",
       "      <th>(중상위, coef)</th>\n",
       "      <th>(중상위, pvalue)</th>\n",
       "    </tr>\n",
       "  </thead>\n",
       "  <tbody>\n",
       "    <tr>\n",
       "      <th>const</th>\n",
       "      <td>-9.427310</td>\n",
       "      <td>4.997413e-10</td>\n",
       "    </tr>\n",
       "    <tr>\n",
       "      <th>(가)건강 만족도</th>\n",
       "      <td>0.401476</td>\n",
       "      <td>3.400939e-02</td>\n",
       "    </tr>\n",
       "    <tr>\n",
       "      <th>(라)가족관계 만족도</th>\n",
       "      <td>1.077867</td>\n",
       "      <td>3.766684e-04</td>\n",
       "    </tr>\n",
       "    <tr>\n",
       "      <th>(사)여가생활 만족도</th>\n",
       "      <td>1.146627</td>\n",
       "      <td>5.584562e-06</td>\n",
       "    </tr>\n",
       "  </tbody>\n",
       "</table>\n",
       "</div>"
      ],
      "text/plain": [
       "             (중상위, coef)  (중상위, pvalue)\n",
       "const          -9.427310   4.997413e-10\n",
       "(가)건강 만족도       0.401476   3.400939e-02\n",
       "(라)가족관계 만족도     1.077867   3.766684e-04\n",
       "(사)여가생활 만족도     1.146627   5.584562e-06"
      ]
     },
     "execution_count": 28,
     "metadata": {},
     "output_type": "execute_result"
    }
   ],
   "source": [
    "result=pd.merge(교육수준[6][\"중상위\"][0].params.to_frame(),교육수준[6][\"중상위\"][0].pvalues.to_frame(),right_index=True,left_index=True)\n",
    "result.rename(columns=dict(zip(result.columns,[(\"중상위\",\"coef\"),(\"중상위\",\"pvalue\")])),inplace=True)\n",
    "print('평균:',교육수준[6][\"중상위\"][1])\n",
    "result"
   ]
  },
  {
   "cell_type": "code",
   "execution_count": 29,
   "metadata": {},
   "outputs": [
    {
     "name": "stdout",
     "output_type": "stream",
     "text": [
      "평균: 7.817391304347826\n"
     ]
    },
    {
     "data": {
      "text/html": [
       "<div>\n",
       "<style scoped>\n",
       "    .dataframe tbody tr th:only-of-type {\n",
       "        vertical-align: middle;\n",
       "    }\n",
       "\n",
       "    .dataframe tbody tr th {\n",
       "        vertical-align: top;\n",
       "    }\n",
       "\n",
       "    .dataframe thead th {\n",
       "        text-align: right;\n",
       "    }\n",
       "</style>\n",
       "<table border=\"1\" class=\"dataframe\">\n",
       "  <thead>\n",
       "    <tr style=\"text-align: right;\">\n",
       "      <th></th>\n",
       "      <th>(최상위, coef)</th>\n",
       "      <th>(최상위, pvalue)</th>\n",
       "    </tr>\n",
       "  </thead>\n",
       "  <tbody>\n",
       "    <tr>\n",
       "      <th>const</th>\n",
       "      <td>-4.264837</td>\n",
       "      <td>0.029444</td>\n",
       "    </tr>\n",
       "    <tr>\n",
       "      <th>(다)주거 환경 만족도</th>\n",
       "      <td>0.561946</td>\n",
       "      <td>0.120883</td>\n",
       "    </tr>\n",
       "    <tr>\n",
       "      <th>(바)사회적 친분관계 만족도</th>\n",
       "      <td>0.623166</td>\n",
       "      <td>0.118344</td>\n",
       "    </tr>\n",
       "  </tbody>\n",
       "</table>\n",
       "</div>"
      ],
      "text/plain": [
       "                 (최상위, coef)  (최상위, pvalue)\n",
       "const              -4.264837       0.029444\n",
       "(다)주거 환경 만족도        0.561946       0.120883\n",
       "(바)사회적 친분관계 만족도     0.623166       0.118344"
      ]
     },
     "execution_count": 29,
     "metadata": {},
     "output_type": "execute_result"
    }
   ],
   "source": [
    "result=pd.merge(교육수준[6][\"최상위\"][0].params.to_frame(),교육수준[6][\"최상위\"][0].pvalues.to_frame(),right_index=True,left_index=True)\n",
    "result.rename(columns=dict(zip(result.columns,[(\"최상위\",\"coef\"),(\"최상위\",\"pvalue\")])),inplace=True)\n",
    "print('평균:',교육수준[6][\"최상위\"][1])\n",
    "result"
   ]
  },
  {
   "cell_type": "code",
   "execution_count": 30,
   "metadata": {},
   "outputs": [
    {
     "name": "stdout",
     "output_type": "stream",
     "text": [
      "평균: 5.190476190476191\n"
     ]
    },
    {
     "data": {
      "text/html": [
       "<div>\n",
       "<style scoped>\n",
       "    .dataframe tbody tr th:only-of-type {\n",
       "        vertical-align: middle;\n",
       "    }\n",
       "\n",
       "    .dataframe tbody tr th {\n",
       "        vertical-align: top;\n",
       "    }\n",
       "\n",
       "    .dataframe thead th {\n",
       "        text-align: right;\n",
       "    }\n",
       "</style>\n",
       "<table border=\"1\" class=\"dataframe\">\n",
       "  <thead>\n",
       "    <tr style=\"text-align: right;\">\n",
       "      <th></th>\n",
       "      <th>(최하위, coef)</th>\n",
       "      <th>(최하위, pvalue)</th>\n",
       "    </tr>\n",
       "  </thead>\n",
       "  <tbody>\n",
       "    <tr>\n",
       "      <th>const</th>\n",
       "      <td>-3.884696</td>\n",
       "      <td>0.002402</td>\n",
       "    </tr>\n",
       "    <tr>\n",
       "      <th>(가)건강 만족도</th>\n",
       "      <td>0.364382</td>\n",
       "      <td>0.107971</td>\n",
       "    </tr>\n",
       "    <tr>\n",
       "      <th>(다)주거 환경 만족도</th>\n",
       "      <td>0.764576</td>\n",
       "      <td>0.012562</td>\n",
       "    </tr>\n",
       "  </tbody>\n",
       "</table>\n",
       "</div>"
      ],
      "text/plain": [
       "              (최하위, coef)  (최하위, pvalue)\n",
       "const           -3.884696       0.002402\n",
       "(가)건강 만족도        0.364382       0.107971\n",
       "(다)주거 환경 만족도     0.764576       0.012562"
      ]
     },
     "execution_count": 30,
     "metadata": {},
     "output_type": "execute_result"
    }
   ],
   "source": [
    "result=pd.merge(교육수준[6][\"최하위\"][0].params.to_frame(),교육수준[6][\"최하위\"][0].pvalues.to_frame(),right_index=True,left_index=True)\n",
    "result.rename(columns=dict(zip(result.columns,[(\"최하위\",\"coef\"),(\"최하위\",\"pvalue\")])),inplace=True)\n",
    "print('평균:',교육수준[6][\"최하위\"][1])\n",
    "result"
   ]
  },
  {
   "cell_type": "markdown",
   "metadata": {},
   "source": [
    "#### 교육수준 7 : 대학교, 대학원\n",
    "\n",
    "|구분|기준(평균)|유효독립변수|\n",
    "|---|----|----|\n",
    "|최상위|7.88|건강만족도, 직업만족도|\n",
    "|중상위|6.84|건강만족도, 가족관계만족도, 직업만족도, 여가생활만족도|\n",
    "|최하위|5.11|건강만족도, 가족관계만족도, 직업만족도|"
   ]
  },
  {
   "cell_type": "code",
   "execution_count": 31,
   "metadata": {},
   "outputs": [
    {
     "name": "stdout",
     "output_type": "stream",
     "text": [
      "평균: 6.840319361277445\n"
     ]
    },
    {
     "data": {
      "text/html": [
       "<div>\n",
       "<style scoped>\n",
       "    .dataframe tbody tr th:only-of-type {\n",
       "        vertical-align: middle;\n",
       "    }\n",
       "\n",
       "    .dataframe tbody tr th {\n",
       "        vertical-align: top;\n",
       "    }\n",
       "\n",
       "    .dataframe thead th {\n",
       "        text-align: right;\n",
       "    }\n",
       "</style>\n",
       "<table border=\"1\" class=\"dataframe\">\n",
       "  <thead>\n",
       "    <tr style=\"text-align: right;\">\n",
       "      <th></th>\n",
       "      <th>(중상위, coef)</th>\n",
       "      <th>(중상위, pvalue)</th>\n",
       "    </tr>\n",
       "  </thead>\n",
       "  <tbody>\n",
       "    <tr>\n",
       "      <th>const</th>\n",
       "      <td>-9.932521</td>\n",
       "      <td>8.343999e-23</td>\n",
       "    </tr>\n",
       "    <tr>\n",
       "      <th>(가)건강 만족도</th>\n",
       "      <td>0.490168</td>\n",
       "      <td>4.176774e-04</td>\n",
       "    </tr>\n",
       "    <tr>\n",
       "      <th>(나)가족의 수입 만족도</th>\n",
       "      <td>0.445126</td>\n",
       "      <td>2.335360e-03</td>\n",
       "    </tr>\n",
       "    <tr>\n",
       "      <th>(마)직업 만족도</th>\n",
       "      <td>0.432126</td>\n",
       "      <td>2.543542e-02</td>\n",
       "    </tr>\n",
       "    <tr>\n",
       "      <th>(바)사회적 친분관계 만족도</th>\n",
       "      <td>1.022166</td>\n",
       "      <td>7.670179e-06</td>\n",
       "    </tr>\n",
       "    <tr>\n",
       "      <th>(사)여가생활 만족도</th>\n",
       "      <td>0.547874</td>\n",
       "      <td>2.865501e-03</td>\n",
       "    </tr>\n",
       "  </tbody>\n",
       "</table>\n",
       "</div>"
      ],
      "text/plain": [
       "                 (중상위, coef)  (중상위, pvalue)\n",
       "const              -9.932521   8.343999e-23\n",
       "(가)건강 만족도           0.490168   4.176774e-04\n",
       "(나)가족의 수입 만족도       0.445126   2.335360e-03\n",
       "(마)직업 만족도           0.432126   2.543542e-02\n",
       "(바)사회적 친분관계 만족도     1.022166   7.670179e-06\n",
       "(사)여가생활 만족도         0.547874   2.865501e-03"
      ]
     },
     "execution_count": 31,
     "metadata": {},
     "output_type": "execute_result"
    }
   ],
   "source": [
    "result=pd.merge(교육수준[7][\"중상위\"][0].params.to_frame(),교육수준[7][\"중상위\"][0].pvalues.to_frame(),right_index=True,left_index=True)\n",
    "result.rename(columns=dict(zip(result.columns,[(\"중상위\",\"coef\"),(\"중상위\",\"pvalue\")])),inplace=True)\n",
    "print('평균:',교육수준[7][\"중상위\"][1])\n",
    "result"
   ]
  },
  {
   "cell_type": "code",
   "execution_count": 32,
   "metadata": {},
   "outputs": [
    {
     "name": "stdout",
     "output_type": "stream",
     "text": [
      "평균: 7.884615384615385\n"
     ]
    },
    {
     "data": {
      "text/html": [
       "<div>\n",
       "<style scoped>\n",
       "    .dataframe tbody tr th:only-of-type {\n",
       "        vertical-align: middle;\n",
       "    }\n",
       "\n",
       "    .dataframe tbody tr th {\n",
       "        vertical-align: top;\n",
       "    }\n",
       "\n",
       "    .dataframe thead th {\n",
       "        text-align: right;\n",
       "    }\n",
       "</style>\n",
       "<table border=\"1\" class=\"dataframe\">\n",
       "  <thead>\n",
       "    <tr style=\"text-align: right;\">\n",
       "      <th></th>\n",
       "      <th>(최상위, coef)</th>\n",
       "      <th>(최상위, pvalue)</th>\n",
       "    </tr>\n",
       "  </thead>\n",
       "  <tbody>\n",
       "    <tr>\n",
       "      <th>const</th>\n",
       "      <td>-3.521750</td>\n",
       "      <td>0.000391</td>\n",
       "    </tr>\n",
       "    <tr>\n",
       "      <th>(가)건강 만족도</th>\n",
       "      <td>0.301784</td>\n",
       "      <td>0.068432</td>\n",
       "    </tr>\n",
       "    <tr>\n",
       "      <th>(마)직업 만족도</th>\n",
       "      <td>0.801506</td>\n",
       "      <td>0.000835</td>\n",
       "    </tr>\n",
       "  </tbody>\n",
       "</table>\n",
       "</div>"
      ],
      "text/plain": [
       "           (최상위, coef)  (최상위, pvalue)\n",
       "const        -3.521750       0.000391\n",
       "(가)건강 만족도     0.301784       0.068432\n",
       "(마)직업 만족도     0.801506       0.000835"
      ]
     },
     "execution_count": 32,
     "metadata": {},
     "output_type": "execute_result"
    }
   ],
   "source": [
    "result=pd.merge(교육수준[7][\"최상위\"][0].params.to_frame(),교육수준[7][\"최상위\"][0].pvalues.to_frame(),right_index=True,left_index=True)\n",
    "result.rename(columns=dict(zip(result.columns,[(\"최상위\",\"coef\"),(\"최상위\",\"pvalue\")])),inplace=True)\n",
    "print('평균:',교육수준[7][\"최상위\"][1])\n",
    "result"
   ]
  },
  {
   "cell_type": "code",
   "execution_count": 33,
   "metadata": {},
   "outputs": [
    {
     "name": "stdout",
     "output_type": "stream",
     "text": [
      "평균: 5.116402116402116\n"
     ]
    },
    {
     "data": {
      "text/html": [
       "<div>\n",
       "<style scoped>\n",
       "    .dataframe tbody tr th:only-of-type {\n",
       "        vertical-align: middle;\n",
       "    }\n",
       "\n",
       "    .dataframe tbody tr th {\n",
       "        vertical-align: top;\n",
       "    }\n",
       "\n",
       "    .dataframe thead th {\n",
       "        text-align: right;\n",
       "    }\n",
       "</style>\n",
       "<table border=\"1\" class=\"dataframe\">\n",
       "  <thead>\n",
       "    <tr style=\"text-align: right;\">\n",
       "      <th></th>\n",
       "      <th>(최하위, coef)</th>\n",
       "      <th>(최하위, pvalue)</th>\n",
       "    </tr>\n",
       "  </thead>\n",
       "  <tbody>\n",
       "    <tr>\n",
       "      <th>const</th>\n",
       "      <td>-6.468334</td>\n",
       "      <td>1.739787e-08</td>\n",
       "    </tr>\n",
       "    <tr>\n",
       "      <th>(가)건강 만족도</th>\n",
       "      <td>0.727041</td>\n",
       "      <td>1.619591e-04</td>\n",
       "    </tr>\n",
       "    <tr>\n",
       "      <th>(라)가족관계 만족도</th>\n",
       "      <td>0.728220</td>\n",
       "      <td>3.079104e-03</td>\n",
       "    </tr>\n",
       "    <tr>\n",
       "      <th>(마)직업 만족도</th>\n",
       "      <td>0.551056</td>\n",
       "      <td>2.306483e-02</td>\n",
       "    </tr>\n",
       "  </tbody>\n",
       "</table>\n",
       "</div>"
      ],
      "text/plain": [
       "             (최하위, coef)  (최하위, pvalue)\n",
       "const          -6.468334   1.739787e-08\n",
       "(가)건강 만족도       0.727041   1.619591e-04\n",
       "(라)가족관계 만족도     0.728220   3.079104e-03\n",
       "(마)직업 만족도       0.551056   2.306483e-02"
      ]
     },
     "execution_count": 33,
     "metadata": {},
     "output_type": "execute_result"
    }
   ],
   "source": [
    "result=pd.merge(교육수준[7][\"최하위\"][0].params.to_frame(),교육수준[7][\"최하위\"][0].pvalues.to_frame(),right_index=True,left_index=True)\n",
    "result.rename(columns=dict(zip(result.columns,[(\"최하위\",\"coef\"),(\"최하위\",\"pvalue\")])),inplace=True)\n",
    "print('평균:',교육수준[7][\"최하위\"][1])\n",
    "result"
   ]
  },
  {
   "cell_type": "code",
   "execution_count": null,
   "metadata": {},
   "outputs": [],
   "source": []
  }
 ],
 "metadata": {
  "kernelspec": {
   "display_name": "Python 3",
   "language": "python",
   "name": "python3"
  },
  "language_info": {
   "codemirror_mode": {
    "name": "ipython",
    "version": 3
   },
   "file_extension": ".py",
   "mimetype": "text/x-python",
   "name": "python",
   "nbconvert_exporter": "python",
   "pygments_lexer": "ipython3",
   "version": "3.11.4"
  },
  "orig_nbformat": 4
 },
 "nbformat": 4,
 "nbformat_minor": 2
}
