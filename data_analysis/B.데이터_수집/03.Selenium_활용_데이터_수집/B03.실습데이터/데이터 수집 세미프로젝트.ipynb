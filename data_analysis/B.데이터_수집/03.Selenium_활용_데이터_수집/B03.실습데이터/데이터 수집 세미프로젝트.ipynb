{
 "cells": [
  {
   "attachments": {},
   "cell_type": "markdown",
   "metadata": {},
   "source": [
    "#### << 스트리밍 유료 서비스 사이트에서 수집된 데이터로 아티스트의 인적사항을 크롤링하기 >> "
   ]
  },
  {
   "attachments": {},
   "cell_type": "markdown",
   "metadata": {},
   "source": [
    "#### (1) 2023 주간차트 가수 수집 \n",
    "데이터 수집 : request.get(url) => 멜론, 벅스, 지니, 유튜브 뮤직\n",
    "데이터 수집 방법 : 웹페이지 데이터 수집\n",
    "\n",
    "#### (2) 수집된 데이터(아티스트 명) => 가수의 인적사항을 크롤링\n",
    "데이터 수집: request.get(url) => 나무위키\n",
    "칼럼 : 이름, 생년월일, 타입(그룹 or 솔로), 학력, 소속사, mbti, 인스타그램주소\n",
    "\n",
    "\n",
    "pd.date_range()"
   ]
  },
  {
   "attachments": {},
   "cell_type": "markdown",
   "metadata": {},
   "source": [
    "(1) 음원사이트에서 주간차트 데이터 수집"
   ]
  },
  {
   "cell_type": "code",
   "execution_count": null,
   "metadata": {},
   "outputs": [],
   "source": [
    "#1) 패키지 import\n",
    "import requests\n",
    "import chromedriver_autoinstaller \n",
    "from bs4 import BeautifulSoup\n",
    "from pandas import DataFrame\n",
    "import time \n",
    "import datetime as dt"
   ]
  },
  {
   "cell_type": "code",
   "execution_count": null,
   "metadata": {},
   "outputs": [],
   "source": [
    "#2) chrome web browser 가동하기 ??\n",
    "# -1. 크롬 드라이버 자동 설치\n",
    "chromedriver_autoinstaller.install()\n",
    "# -2. 크롬 드라이버를 통해 크롬 실행 (= driver 객체는 chrome 자체)\n",
    "driver = webdriver.Chrome()\n",
    "# -3. 크롬 브라우저가 준비될때까지 최대 5초씩 대기\n",
    "driver.implicitly_wait(5)"
   ]
  },
  {
   "cell_type": "code",
   "execution_count": null,
   "metadata": {},
   "outputs": [],
   "source": [
    "# 3) 객체만들기 /웹사이트 주소 url / request\n",
    "userAgent = \"Mozilla/5.0 (Windows NT 10.0; Win64; x64) AppleWebKit/537.36 (KHTML, like Gecko) Chrome/114.0.0.0 Safari/537.36\"\n",
    "\n",
    "session = requests.Session()\n",
    "\n",
    "session.headers.update({\n",
    "    \"Referer\" : \"\",\n",
    "    \"user-Agent\" : userAgent\n",
    "})\n",
    "\n",
    "Melon = \"https://www.melon.com/chart/week/index.htm\"\n",
    "Bugs = \"https://music.bugs.co.kr/chart/track/week/total?chartdate={}\"\n",
    "Genie = \"https://www.genie.co.kr/chart/top200?ditc=W&rtm=N&ymd={}\"\n",
    "YouTubeMusic = \n",
    "\n",
    "Music_Website = [Melon, Bugs, Genie, YouTubeMusic]\n",
    "for m in Music_Website:\n",
    "    r = session.get(m)\n",
    "    if r.status_code != 200:\n",
    "        msg = \"[%d Error] %s 에러가 발생함\" %(r.status_code, r.reason)\n",
    "        raise Exception(msg)\n",
    "\n",
    "r.encoding = 'utf-8'\n",
    "soup = BeautifulSoup(r.text)\n",
    "soup"
   ]
  },
  {
   "cell_type": "code",
   "execution_count": null,
   "metadata": {},
   "outputs": [],
   "source": [
    "# 4) 음원사이트에서 추출할 데이터 (순위, 노래제목, 가수의 이름) (시간적 범위...)\n",
    "# 각 요소의 클래스명 추출\n",
    "멜론 : \n",
    "벅스 : 순위 \".ranking\"[0].text.strip() / 노래제목 \"p.title\"[0].text.strip() / 가수이름 \"p.artist\"[0].text.strip()\n",
    "지니 : 순위 \".number\"[0].text.strip() / 노래제목 \".info > .title ellipsis\"[0].text.strip() / 가수이름 \".info > .artist ellipsis\"[0].text.strip()\n",
    "\n",
    "# 1. 순위 / 노래제목 / 가수이름\n",
    "ranking = soup.select('')[0].text.strip()\n",
    "titles = soup.select('')[0].text.strip()\n",
    "artists = soup.select('')[0].text.strip()\n",
    "\n",
    "for r in range(len(ranking)):\n",
    "    titles = titles[r].soup.select('')[0].text.strip('/n')\n",
    "    artists = artists[r].soup.select('')[0].text.strip('/n')\n",
    "    print(\"%d위 - %d : %d\" %(r+1, titles, artists))\n",
    "\n",
    "Weeks_Chart = {\"순위\":r+1, \"제목\":titles, \"가수\":artists}\n",
    "\n",
    "# 2. 시간\n"
   ]
  },
  {
   "cell_type": "code",
   "execution_count": null,
   "metadata": {},
   "outputs": [],
   "source": [
    "# 5) 데이터 저장\n",
    "df = DataFrame(Weeks_Chart)\n",
    "df.to_excel(\"주간차트.xlsx\")\n",
    "df"
   ]
  },
  {
   "attachments": {},
   "cell_type": "markdown",
   "metadata": {},
   "source": [
    "(2) 수집된 데이터로 가수의 인적사항 조사하기"
   ]
  },
  {
   "cell_type": "code",
   "execution_count": null,
   "metadata": {},
   "outputs": [],
   "source": []
  }
 ],
 "metadata": {
  "language_info": {
   "name": "python"
  },
  "orig_nbformat": 4
 },
 "nbformat": 4,
 "nbformat_minor": 2
}
