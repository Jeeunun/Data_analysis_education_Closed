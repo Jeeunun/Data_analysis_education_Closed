{
 "cells": [
  {
   "cell_type": "code",
   "execution_count": 8,
   "metadata": {},
   "outputs": [],
   "source": [
    "# 1) 패키지 참조\n",
    "# chromeDriver 자동 설치 모듈\n",
    "import chromedriver_autoinstaller\n",
    "# chrome을 제어하기 위한 객체(webdriver)\n",
    "from selenium import webdriver\n",
    "# chrome이 웹페이지 로딩을 완료할 때까지 최대 n초간 대기\n",
    "from selenium.webdriver.support.ui import WebDriverWait\n",
    "# 원하는 부분을 추출할 수 있는 방식을 지정하는 객체\n",
    "from selenium.webdriver.common.by import By\n",
    "from bs4 import BeautifulSoup\n",
    "from pandas import DataFrame\n",
    "# 파이썬 프로그램에 지정된 시간동안 랙을 거는 기능을 위해 사용\n",
    "import time"
   ]
  },
  {
   "cell_type": "code",
   "execution_count": 9,
   "metadata": {},
   "outputs": [],
   "source": [
    "# 2) 크롬 브라우저 가동\n",
    "# 크롬 드라이버 자동 설치\n",
    "chromedriver_autoinstaller.install()\n",
    "# 크롬 드라이버를 통해 크롬 실행 => driver 자체가 chrome\n",
    "driver = webdriver.Chrome()\n",
    "# 크롬 브라우저가 준비될 때까지 최대 5초간 대기\n",
    "driver.implicitly_wait(5)"
   ]
  },
  {
   "cell_type": "code",
   "execution_count": 10,
   "metadata": {},
   "outputs": [],
   "source": [
    "# 3) 크롬 브라우저의 페이지 이동\n",
    "driver.get(\"https://nid.naver.com/nidlogin.login?mode=form&url=https://www.naver.com/\")\n",
    "time.sleep(1)"
   ]
  },
  {
   "attachments": {},
   "cell_type": "markdown",
   "metadata": {},
   "source": [
    "webdriver.wait 크롬브라우저 대기시킴\n",
    "while (조건이 True) <-> until(조건이 false인 경우에 반복한다.)\n",
    "element(=tag)"
   ]
  },
  {
   "cell_type": "code",
   "execution_count": 11,
   "metadata": {},
   "outputs": [],
   "source": [
    "# 4) 아이디 비밀번호 입력\n",
    "# CSS_SELECTOR에 의해 '#id'(id태그이용)값을 추출(By)한 element가 존재하지 않을 때까지 반복(until)할때까지 크롬브라우저 3초대기(webdriverwait)\n",
    "id_input = WebDriverWait(driver, 3).until(lambda x: x.find_element(By.CSS_SELECTOR, '#id'))\n",
    "id_input.send_keys(\"hwill1113\")\n",
    "\n",
    "# CSS_SELECTOR에 의해 '#pw'(id태그이용)값을 추출(By)한 element가 존재하지 않을 때까지 반복(until)할때까지 크롬브라우저 3초대기(webdriverwait)\n",
    "pw_input = WebDriverWait(driver, 3).until(lambda x: x.find_element(By.CSS_SELECTOR, \"#pw\"))\n",
    "pw_input.send_keys(\"Hanwd201621613\")\n",
    "\n",
    "# 5)로그인 버튼 누르기\n",
    "# CSS_SELECTOR에 의해 '.btn_login'(클래스)값을 추출(By)한 element가 존재하지 않을 때까지 반복(until)할때까지 크롬브라우저 3초대기(webdriverwait)\n",
    "login_button = WebDriverWait(driver, 3).until(lambda x: x.find_element(By.CSS_SELECTOR, \".btn_login\"))\n",
    "login_button.click()\n",
    "time.sleep(3)\n",
    "\n",
    "# 6) 로그인 시에만 접근 가능한 페이지로 이동\n",
    "driver.get('https://order.pay.naver.com/home')\n",
    "time.sleep(1)"
   ]
  },
  {
   "attachments": {},
   "cell_type": "markdown",
   "metadata": {},
   "source": [
    "네이버 페이 결제내역으로 가서 자신이 1년동안 결제한 금액의 총합을 그래프로 그리시오."
   ]
  }
 ],
 "metadata": {
  "kernelspec": {
   "display_name": "Python 3",
   "language": "python",
   "name": "python3"
  },
  "language_info": {
   "codemirror_mode": {
    "name": "ipython",
    "version": 3
   },
   "file_extension": ".py",
   "mimetype": "text/x-python",
   "name": "python",
   "nbconvert_exporter": "python",
   "pygments_lexer": "ipython3",
   "version": "3.11.4"
  },
  "orig_nbformat": 4
 },
 "nbformat": 4,
 "nbformat_minor": 2
}
