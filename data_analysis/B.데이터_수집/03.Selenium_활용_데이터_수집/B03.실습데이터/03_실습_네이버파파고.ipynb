{
 "cells": [
  {
   "cell_type": "code",
   "execution_count": 5,
   "metadata": {},
   "outputs": [],
   "source": [
    "# 1) 패키지 참조\n",
    "# chromeDriver 자동 설치 모듈\n",
    "import chromedriver_autoinstaller\n",
    "# chrome을 제어하기 위한 객체(webdriver)\n",
    "from selenium import webdriver\n",
    "# chrome이 웹페이지 로딩을 완료할 때까지 최대 n초간 대기\n",
    "from selenium.webdriver.support.ui import WebDriverWait\n",
    "# 원하는 부분을 추출할 수 있는 방식을 지정하는 객체\n",
    "from selenium.webdriver.common.by import By\n",
    "from bs4 import BeautifulSoup\n",
    "from pandas import DataFrame\n",
    "# 파이썬 프로그램에 지정된 시간동안 랙을 거는 기능을 위해 사용\n",
    "import time\n",
    "import datetime as dt"
   ]
  },
  {
   "cell_type": "code",
   "execution_count": null,
   "metadata": {},
   "outputs": [],
   "source": [
    "# 2) 번역할 파일 가져오기\n",
    "source = None \n",
    "#-> 왜 쓰는 걸까? with구문이 없어도 source가 존재할 수 있으니까. \n",
    "with open('news.txt','r', encoding='utf-8') as f:\n",
    "    source = f.readlines()\n",
    "\n",
    "source"
   ]
  },
  {
   "cell_type": "code",
   "execution_count": 7,
   "metadata": {},
   "outputs": [],
   "source": [
    "# 3) 웹 브라우저 준비\n",
    "# -1. 크롬드라이버 자동 설치\n",
    "chromedriver_autoinstaller.install()\n",
    "# -2. driver = chrome의 객체로서 사용\n",
    "driver = webdriver.Chrome()\n",
    "# -3. 크롬브라우저가 준비될 때까지 최대 5초씩 대기\n",
    "driver.implicitly_wait(5)\n",
    "# -4. 파파고 페이지로 이동\n",
    "driver.get(\"https://papago.naver.com/\")\n",
    "time.sleep(3)"
   ]
  },
  {
   "cell_type": "code",
   "execution_count": 8,
   "metadata": {},
   "outputs": [
    {
     "name": "stdout",
     "output_type": "stream",
     "text": [
      "------작업이 종료되었습니다.--------\n"
     ]
    }
   ],
   "source": [
    "# 4) 번역 수행하기\n",
    "# -1. 번역 결과를 담을 파일 준비 (현재날짜를 파일명으로 함 = datetime모듈)\n",
    "fileName = dt.datetime.now().strftime(\"%y%m%d_%H%M%S.md\") #마크다운\n",
    "# -2. 파일 쓰기모드로 불러오기 -> 행 별로 반복문 실행\n",
    "with open(fileName, \"w\", encoding='utf-8') as f:\n",
    "    for s in source:\n",
    "        s = s.strip()\n",
    "        if not s: # 번역할 내용이 없으면 반복문 계속 실행\n",
    "            continue\n",
    "        # print(s)\n",
    "\n",
    "        # <번역할 원문 입력하는 요소> 취득\n",
    "        # CSS_SELECTOR에 의해 #txtSource 값을 추출한 element값이 없을때까지 반복문 실행 => driver(chrome)은 반복문 실행동안 3초 대기\n",
    "        txtSource = WebDriverWait(driver, 3).until(lambda x : x.find_element(By.CSS_SELECTOR, \"#txtSource\"))\n",
    "        #기존 입력내용을 삭제\n",
    "        txtSource.clear()\n",
    "        #번역할 한 행을 입력요소에 키보드로 입력(각각의 행을 웹브라우저에 send)\n",
    "        txtSource.send_keys(s)\n",
    "\n",
    "        # <번역하기 버튼요소> 취득\n",
    "        # CSS_SELECTOR에 의해 #btnTranslate 값을 추출한 element값이 없을때까지 반복문 실행 => driver(chrome)은 반복문 실행동안 3초 대기\n",
    "        btnTranslate = WebDriverWait(driver, 3).until(lambda x : x.find_element(By.CSS_SELECTOR, \"#btnTranslate\"))\n",
    "        #번역버튼 클릭\n",
    "        btnTranslate.click()\n",
    "        #번역이 되는 동안 1초대기\n",
    "        time.sleep(1)\n",
    "\n",
    "        # -------------------------\n",
    "        # <번역결과가 표시될 요소> 취득\n",
    "        # CSS_SELECTOR에 의해 #txtTarget 값을 추출한 element값이 없을때까지 반복문 실행 => driver(chrome)은 반복문 실행동안 3초 대기\n",
    "        txtTarget = WebDriverWait(driver, 3).until(lambda x : x.find_element(By.CSS_SELECTOR, \"#txtTarget\"))\n",
    "        # 번역결과 가져오기\n",
    "        CurrentTrans = txtTarget.text.strip()\n",
    "        # print(CurrentTrans)\n",
    "        # 번역이 되는 동안 1초대기\n",
    "        time.sleep(1)\n",
    "\n",
    "        # while True: ->왜? \n",
    "            #<번역 결과가 표시될 요소> 취득\n",
    "            # txtTarget = WebDriverWait(driver, 3).until(lambda x : x.find_element(By.CSS_SELECTOR, \"#txtTarget\"))\n",
    "            #번역결과 가져오기\n",
    "            # CurrentTrans = txtTarget.text.strip()\n",
    "            #가져온 내용이 있고, 이번 번역 결과가 이전 번역 결과와 다르다면 반복 중단\n",
    "            # if CurrentTrans and CurrentTrans != prevTrans:\n",
    "            #     prevTrans = CurrentTrans\n",
    "            #     break\n",
    "        # -----------------------\n",
    "        # 번역결과를 파일에 기록\n",
    "        f.write(s)\n",
    "        f.write(\"\\n\\n\")\n",
    "        f.write(\"> \")\n",
    "        f.write(CurrentTrans)\n",
    "        f.write(\"\\n\\n\")\n",
    "        \n",
    "print(\"------작업이 종료되었습니다.--------\")"
   ]
  }
 ],
 "metadata": {
  "kernelspec": {
   "display_name": "Python 3",
   "language": "python",
   "name": "python3"
  },
  "language_info": {
   "codemirror_mode": {
    "name": "ipython",
    "version": 3
   },
   "file_extension": ".py",
   "mimetype": "text/x-python",
   "name": "python",
   "nbconvert_exporter": "python",
   "pygments_lexer": "ipython3",
   "version": "3.11.4"
  },
  "orig_nbformat": 4
 },
 "nbformat": 4,
 "nbformat_minor": 2
}
