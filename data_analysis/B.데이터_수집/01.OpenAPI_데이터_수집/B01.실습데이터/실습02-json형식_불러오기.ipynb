{
 "cells": [
  {
   "cell_type": "code",
   "execution_count": 1,
   "metadata": {},
   "outputs": [],
   "source": [
    "# requests는 웹 상의 데이터를 요청하는 기능\n",
    "import requests\n",
    "# json은 딕셔너리로 변환하는 기능(내장함수)\n",
    "import json"
   ]
  },
  {
   "cell_type": "code",
   "execution_count": 2,
   "metadata": {},
   "outputs": [],
   "source": [
    "url = \"https://data.hossam.kr/sample.json\"\n",
    "#(json은 원하는 정보만 & 딕셔너리 형태로 - 내용만 디자인X)"
   ]
  },
  {
   "cell_type": "code",
   "execution_count": 3,
   "metadata": {},
   "outputs": [],
   "source": [
    "session = requests.Session()\n",
    "session.headers.update ({\n",
    "    \"Referer\" : \"\",\n",
    "    \"User-Agent\" : \"Mozilla/5.0 (Windows NT 10.0; Win64; x64) AppleWebKit/537.36 (KHTML, like Gecko) Chrome/114.0.0.0 Safari/537.36\" })"
   ]
  },
  {
   "cell_type": "code",
   "execution_count": 4,
   "metadata": {},
   "outputs": [],
   "source": [
    "r = session.get(url)\n",
    "# if, 가져오고자 하는 컨텐츠가 텍스트 형식이 아닌 경우 stream 파라미터 추가\n",
    "# r = session.get(url, stream = True)\n",
    "if r.status_code != 200:\n",
    "    msg =  \"[%d Error] %s 에러가 발생함\" % (r.status_code, r.reason)\n",
    "    raise Exception(msg)"
   ]
  },
  {
   "cell_type": "code",
   "execution_count": 6,
   "metadata": {},
   "outputs": [
    {
     "name": "stdout",
     "output_type": "stream",
     "text": [
      "<class 'dict'>\n",
      "{'name': '갤럭시 S6', 'type': '삼성', 'img': 'http://itpaper.co.kr/demo/app/img/GalaxyS6.png'}\n"
     ]
    }
   ],
   "source": [
    "data = json.loads(r.text)\n",
    "print(type(data))\n",
    "print(data)"
   ]
  }
 ],
 "metadata": {
  "kernelspec": {
   "display_name": "Python 3",
   "language": "python",
   "name": "python3"
  },
  "language_info": {
   "codemirror_mode": {
    "name": "ipython",
    "version": 3
   },
   "file_extension": ".py",
   "mimetype": "text/x-python",
   "name": "python",
   "nbconvert_exporter": "python",
   "pygments_lexer": "ipython3",
   "version": "3.11.4"
  },
  "orig_nbformat": 4
 },
 "nbformat": 4,
 "nbformat_minor": 2
}
