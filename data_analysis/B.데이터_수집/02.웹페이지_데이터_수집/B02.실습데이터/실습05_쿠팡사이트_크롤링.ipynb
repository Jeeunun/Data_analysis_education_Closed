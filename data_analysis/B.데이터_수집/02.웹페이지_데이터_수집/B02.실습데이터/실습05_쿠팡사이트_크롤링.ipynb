{
 "cells": [
  {
   "attachments": {},
   "cell_type": "markdown",
   "metadata": {},
   "source": [
    " URL은 쿠팡에서 \"노트북\" 키워드로 검색된 상품 목록에 대한 주소이다.\n",
    "이 주소의 웹 페이지로부터 상품의 이름, 가격, 할인율, 할인가, 별점, 리뷰수, 상품이미지의 경로를 수집하여 엑셀 파일로 저장하시오."
   ]
  },
  {
   "cell_type": "code",
   "execution_count": 1,
   "metadata": {},
   "outputs": [
    {
     "name": "stdout",
     "output_type": "stream",
     "text": [
      "Requirement already satisfied: beautifulsoup4 in c:\\users\\한지은\\appdata\\local\\packages\\pythonsoftwarefoundation.python.3.11_qbz5n2kfra8p0\\localcache\\local-packages\\python311\\site-packages (4.12.2)\n",
      "Requirement already satisfied: soupsieve>1.2 in c:\\users\\한지은\\appdata\\local\\packages\\pythonsoftwarefoundation.python.3.11_qbz5n2kfra8p0\\localcache\\local-packages\\python311\\site-packages (from beautifulsoup4) (2.4.1)\n"
     ]
    }
   ],
   "source": [
    "! pip install --upgrade beautifulsoup4"
   ]
  },
  {
   "cell_type": "code",
   "execution_count": 2,
   "metadata": {},
   "outputs": [],
   "source": [
    "# 웹브라우저 ->(request)-> 웹서버\n",
    "# 웹서버 -> (contents) -> 웹브라우저\n",
    "# contents : json인경우, dictionary변환 / html+css인 경우, beautifulsoup 내용추출\n",
    "import requests\n",
    "from bs4 import BeautifulSoup\n",
    "from pandas import DataFrame"
   ]
  },
  {
   "attachments": {},
   "cell_type": "markdown",
   "metadata": {},
   "source": [
    "#모듈이 모여있는 것 = 라이브러리\n",
    "#라이브러리를 배포를 목적으로 압축한 것 = 패키지\n",
    "#모듈 < 라이브러리 < 패키지\n",
    "\n",
    "모든 컴퓨터에 부여되는 인터넷상의 주소 = ip address\n",
    "pc에 naver.com url 입력시 -> DNS에 전송된다. (DNS는 IP와 도메인주소 매칭 데이터를 다룬다.) -> 매칭되는 IP주소를 다시 pc에 전송."
   ]
  },
  {
   "cell_type": "code",
   "execution_count": 3,
   "metadata": {},
   "outputs": [],
   "source": [
    "#수집할 컨텐츠가 있는 웹페이지의 주소 (\"~? :실제 주소\" + \"?~\":query string )\n",
    "# query string : 변수이름=값 & 변수이름=값... (한글은 x -> url encoding)\n",
    "# https:// :프로토콜(통신방식에 대한 규약,규격) (일반웹 : http:// <-> 보안웹: https://)\n",
    "# www.coupang.com : 도메인 = 컴퓨터 주소\n",
    "# np/search : 파일 경로\n",
    "\n",
    "#1) 수집할 url 주소\n",
    "url = \"https://www.coupang.com/np/search?q=%EB%85%B8%ED%8A%B8%EB%B6%81&listSize=72&channel=user\"\n",
    "\n",
    "#2) 브라우저 버전정보\n",
    "# if 접속객체 없이 request.get(url주소) 요청시, 해당 url에서는 정보를 주지 않음.\n",
    "# 대부분의 url에서는 접속한 디바이스를 판단. = UserAgent\n",
    "UserAgent = \"Mozilla/5.0 (Windows NT 10.0; Win64; x64) AppleWebKit/537.36 (KHTML, like Gecko) Chrome/114.0.0.0 Safari/537.36\"\n",
    "\n",
    "#3) 접속객체 생성 및 부가정보 삽입하기\n",
    "# useragent를 request객체에 실어 보내려면 접속객체를 만들어야 함 = session\n",
    "session = requests.Session()\n",
    "session.headers.update({\n",
    "    \"Referer\" : \"\",\n",
    "    \"User-Agent\" : UserAgent,\n",
    "    \"Accept-Language\": \"ko-KR,ko;q=0.8,en-US;q=0.5,en;q=0.3\"\n",
    "})\n",
    "\n",
    "#4) 생성한 접속객체를 활용하여 API에 접속 & 접속 실패시 오류메세지 출력\n",
    "r = requests.get(url)\n",
    "if r.status_code != 200 :\n",
    "    msg = \"[%d Error] %s 에러가 발생함\"  %(r.status_code, r.reason)\n",
    "    raise Exception(msg)\n",
    "\n",
    "#5) 인코딩 형식 지정하여 beautifulsoup 객체를 생성\n",
    "# beautifulsoup = 원하는 데이터를 추출하고 객체로\n",
    "r.encoding = \"uft-8\"\n",
    "soup = BeautifulSoup(r.text)\n",
    "soup"
   ]
  },
  {
   "cell_type": "code",
   "execution_count": null,
   "metadata": {},
   "outputs": [],
   "source": [
    "# 가격(base-value), 할인율(instant-discount-rate), 할인가(price-value), 별점(rating), 리뷰수(others-info), 상품이미지(search-product-wrap)#상품의 이름(name), \n",
    "#클래스(class = \".\")로 추출\n",
    "\n",
    "#6) 추출할 데이터를 저장할 빈 리스트 만들기\n",
    "result = []\n",
    "\n",
    "#7) .search-product-wrap 클래스만 select => product만 추출\n",
    "# select의 검색결과는 항상 리스트 형식.\n",
    "product = soup.select(\".search-product-wrap\")\n",
    "product"
   ]
  },
  {
   "cell_type": "code",
   "execution_count": null,
   "metadata": {},
   "outputs": [],
   "source": [
    "#8) product에서 원하는 데이터만 추출 (클래스형식 이용)\n",
    "for p in product:\n",
    "    nameEl = p.select(\".name\")\n",
    "    if nameEl:\n",
    "        name = name[0].text.strip()\n",
    "    else:\n",
    "        name = None\n",
    "\n",
    "    basePriceEl = p.select(\".base-price\")\n",
    "    if basePriceEl:\n",
    "        basePrice = int(basePriceEl[0].text.strip().replace(\",\",\"\"))\n",
    "    else:\n",
    "        basePrice = None\n",
    "\n",
    "    discountEl = p.select(\".instant-discount-rate\")\n",
    "    if discountEl:\n",
    "        discount = int(discountEl[0].text.strip().replace(\"%\",\"\"))/100\n",
    "    else:\n",
    "        price = None\n",
    "\n",
    "    ratingEl = p.select(\".rating\")\n",
    "    if ratingEl:\n",
    "        rating = float(ratingEl[0].text.strip())\n",
    "    else:\n",
    "        rating = None\n",
    "    \n",
    "    reviewEl = p.select(\".rating-total-count\")\n",
    "    if reviewEl:\n",
    "        review = reviewEl[0].text.strip()\n",
    "        review = int(review[1:-1])\n",
    "    else:\n",
    "        review = None\n",
    "    \n",
    "    imageEl = p.select(\".search-product-wrap-img\")\n",
    "    if imageEl:\n",
    "        if \"data-img-scr\" in imageEl[0].attrs:\n",
    "            image = \"https:\" + imageEl[0].attrs['data-img-src']\n",
    "        else:\n",
    "            image = \"https:\" + imageEl[0].attrs['src'] \n",
    "    else:\n",
    "        image = None\n",
    "\n",
    "    if not basePrice and not price:\n",
    "        continue\n",
    "\n",
    "    item = {\n",
    "        \"상품명\" : name,\n",
    "        \"가격\" : basePrice,\n",
    "        \"할인율\" : discount,\n",
    "        \"할인가\" : price,\n",
    "        \"별점\" : rating,\n",
    "        \"리뷰수\" : review,\n",
    "        \"상품이미지\" : image\n",
    "    }\n",
    "\n",
    "#9) 빈 리스트에 추출한 데이터를 append + dataframe으로 표시\n",
    "    result.append(item)\n",
    "    df = DataFrame(result)\n",
    "    df"
   ]
  },
  {
   "attachments": {},
   "cell_type": "markdown",
   "metadata": {},
   "source": [
    " 객체지향 언어 \n",
    " 객체를 구성하는 것은 데이터(변수)와 기능(함수) -> 객체.메서드() 또는 객체.변수\n",
    "\n",
    " * 객체(object)\n",
    " - 프로그램에서 저장되는 모든 데이터\n",
    " - 각 객체는 신원(identity), 타입(class) 값을 가진다.\n",
    "\n",
    " * 객체의 신원?\n",
    " - 객체가 메모리에 저장된 위치를 가리키는 포인터\n",
    "\n",
    " * 객체의 타입?\n",
    " - 객체의 내부적인 표현형태와 객체가 지원하는 메서드 및 연산들\n",
    " - 특정 타입의 객체가 생성되면 그 객체를 그 타입의 인스턴스(instance)라 부름\n",
    "\n",
    " * 객체의 속성와 메서드\n",
    " - 속성 : 객체와 연결된 값\n",
    " - 메서드 : 호출될 때 객체에 대해 특정연산을 수행하는 함수.\n",
    "\n"
   ]
  }
 ],
 "metadata": {
  "kernelspec": {
   "display_name": "Python 3",
   "language": "python",
   "name": "python3"
  },
  "language_info": {
   "codemirror_mode": {
    "name": "ipython",
    "version": 3
   },
   "file_extension": ".py",
   "mimetype": "text/x-python",
   "name": "python",
   "nbconvert_exporter": "python",
   "pygments_lexer": "ipython3",
   "version": "3.11.4"
  },
  "orig_nbformat": 4
 },
 "nbformat": 4,
 "nbformat_minor": 2
}
