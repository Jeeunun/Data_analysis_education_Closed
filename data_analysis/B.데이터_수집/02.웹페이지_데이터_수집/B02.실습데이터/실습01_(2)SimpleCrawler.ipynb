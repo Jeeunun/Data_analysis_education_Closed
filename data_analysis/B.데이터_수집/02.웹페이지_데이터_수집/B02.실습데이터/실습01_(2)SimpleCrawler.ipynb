{
 "cells": [
  {
   "cell_type": "code",
   "execution_count": null,
   "metadata": {},
   "outputs": [],
   "source": [
    "! pip install --upgrade beautifulsoup4"
   ]
  },
  {
   "cell_type": "code",
   "execution_count": 10,
   "metadata": {},
   "outputs": [],
   "source": [
    "import requests\n",
    "from bs4 import BeautifulSoup"
   ]
  },
  {
   "cell_type": "code",
   "execution_count": 11,
   "metadata": {},
   "outputs": [],
   "source": [
    "userAgent = \"Mozilla/5.0 (Windows NT 10.0; Win64; x64) AppleWebKit/537.36 (KHTML, like Gecko) Chrome/114.0.0.0 Safari/537.36\""
   ]
  },
  {
   "cell_type": "code",
   "execution_count": 12,
   "metadata": {},
   "outputs": [],
   "source": [
    "session = requests.Session()\n",
    "\n",
    "session.headers.update({\n",
    "    \"Referer\" : \"\",\n",
    "    \"user-Agent\" : userAgent\n",
    "})"
   ]
  },
  {
   "cell_type": "code",
   "execution_count": 13,
   "metadata": {},
   "outputs": [],
   "source": [
    "url = \"https://data.hossam.kr/sample.html\""
   ]
  },
  {
   "cell_type": "code",
   "execution_count": 14,
   "metadata": {},
   "outputs": [],
   "source": [
    "r = session.get(url)\n",
    "if r.status_code != 200:\n",
    "    msg = \"[%d Error] %s 에러가 발생함\" %(r.status_code, r.reason)\n",
    "    raise Exception(msg)"
   ]
  },
  {
   "cell_type": "code",
   "execution_count": 15,
   "metadata": {},
   "outputs": [
    {
     "data": {
      "text/plain": [
       "<!DOCTYPE html>\n",
       "\n",
       "<html lang=\"en\">\n",
       "<head>\n",
       "<meta charset=\"utf-8\"/>\n",
       "<meta content=\"width=device-width, initial-scale=1.0\" name=\"viewport\"/>\n",
       "<title>Document</title>\n",
       "<style>\n",
       "        /* HTML 태그 방식 */\n",
       "        h1 { color: #f0f; }\n",
       "        h2 { color: #06f; }\n",
       "\n",
       "        /** Class 방식 */\n",
       "        .myclass { color: #f00; }\n",
       "\n",
       "        /** id 방식 */\n",
       "        #myid { color: #f60; }\n",
       "\n",
       "        /** 자식 선택자  */\n",
       "        .syllabus > li > ol > li {\n",
       "            text-decoration: underline;\n",
       "        }\n",
       "\n",
       "        /** 자손 선택자 */\n",
       "        .syllabus ol {\n",
       "            font-weight: bold;\n",
       "        }\n",
       "\n",
       "        .part1 {\n",
       "            background-color: #eeeeee;\n",
       "        }\n",
       "\n",
       "        .part2 {\n",
       "            background-color: #d5d5d5;\n",
       "        }\n",
       "\n",
       "        /** 특정 대상을 구체적으로 명시  */\n",
       "        div.sub.part1 {\n",
       "            border: 1px dotted #000;\n",
       "        }\n",
       "\n",
       "        div.sub.part2#hello {\n",
       "            border: 1px solid #555;\n",
       "        }\n",
       "\n",
       "        /** 특정 속성을 갖고 있는 요소  */\n",
       "        a[href] {\n",
       "            font-size: 20px;\n",
       "        }\n",
       "\n",
       "        /** 특정 속성 값에 대한 적용  */\n",
       "        a[href='#'] {\n",
       "            color: green;\n",
       "        }\n",
       "    </style>\n",
       "</head>\n",
       "<body>\n",
       "<h1>Hello World</h1>\n",
       "<a>link0</a>\n",
       "<a href=\"#\">link1</a>\n",
       "<a href=\"https://www.naver.com\">link2</a>\n",
       "<h2 id=\"myid\">Python</h2>\n",
       "<div class=\"sub part1\">\n",
       "<ul class=\"syllabus\">\n",
       "<li>변수와 데이터 타입</li>\n",
       "<li class=\"myclass\">연산자</li>\n",
       "<li>\n",
       "                연속성 자료형\n",
       "                <ol>\n",
       "<li>리스트(list)</li>\n",
       "<li>딕셔너리(dict)</li>\n",
       "<li>집합(set)</li>\n",
       "</ol>\n",
       "</li>\n",
       "<li>프로그램 흐름제어</li>\n",
       "<li>함수</li>\n",
       "</ul>\n",
       "</div>\n",
       "<h2>Data Analysis</h2>\n",
       "<div class=\"sub part2\" id=\"hello\">\n",
       "<ul>\n",
       "<li>데이터 수집</li>\n",
       "<li class=\"myclass\">데이터 전처리</li>\n",
       "<li>\n",
       "                탐색적 데이터 분석\n",
       "                <ol class=\"myclass\">\n",
       "<li>기초통계</li>\n",
       "<li>데이터 시각화</li>\n",
       "</ol>\n",
       "</li>\n",
       "<li>확증적 데이터 분석</li>\n",
       "<li>데이터 마이닝</li>\n",
       "</ul>\n",
       "</div>\n",
       "</body>\n",
       "</html>"
      ]
     },
     "execution_count": 15,
     "metadata": {},
     "output_type": "execute_result"
    }
   ],
   "source": [
    "r.encoding = 'utf-8'\n",
    "soup = BeautifulSoup(r.text)\n",
    "soup"
   ]
  },
  {
   "cell_type": "code",
   "execution_count": 20,
   "metadata": {},
   "outputs": [
    {
     "name": "stdout",
     "output_type": "stream",
     "text": [
      "Hello World\n"
     ]
    }
   ],
   "source": [
    "#태그로 추출\n",
    "test1 = soup.select(\"h1\")\n",
    "test1\n",
    "h1 = test1[0]\n",
    "h1\n",
    "print(h1.text.strip())"
   ]
  },
  {
   "cell_type": "code",
   "execution_count": 22,
   "metadata": {},
   "outputs": [
    {
     "name": "stdout",
     "output_type": "stream",
     "text": [
      "연산자\n",
      "데이터 전처리\n",
      "기초통계\n",
      "데이터 시각화\n"
     ]
    }
   ],
   "source": [
    "#클래스로 추출\n",
    "test2 = soup.select(\".myclass\")\n",
    "test2\n",
    "for i in test2:\n",
    "    print(i.text.strip())"
   ]
  },
  {
   "cell_type": "code",
   "execution_count": 24,
   "metadata": {},
   "outputs": [
    {
     "name": "stdout",
     "output_type": "stream",
     "text": [
      "Python\n"
     ]
    }
   ],
   "source": [
    "#ID로 추출\n",
    "test3 = soup.select(\"#myid\")\n",
    "test3\n",
    "print(test3[0].text.strip())"
   ]
  }
 ],
 "metadata": {
  "kernelspec": {
   "display_name": "Python 3",
   "language": "python",
   "name": "python3"
  },
  "language_info": {
   "codemirror_mode": {
    "name": "ipython",
    "version": 3
   },
   "file_extension": ".py",
   "mimetype": "text/x-python",
   "name": "python",
   "nbconvert_exporter": "python",
   "pygments_lexer": "ipython3",
   "version": "3.11.4"
  },
  "orig_nbformat": 4
 },
 "nbformat": 4,
 "nbformat_minor": 2
}
