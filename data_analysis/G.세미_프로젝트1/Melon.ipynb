{
 "cells": [
  {
   "attachments": {},
   "cell_type": "markdown",
   "metadata": {},
   "source": [
    "#### Melon "
   ]
  },
  {
   "cell_type": "code",
   "execution_count": 5,
   "metadata": {},
   "outputs": [],
   "source": [
    "import datetime as dt\n",
    "import pandas as pd\n",
    "import time\n",
    "import bs4\n",
    "import requests"
   ]
  },
  {
   "cell_type": "code",
   "execution_count": 6,
   "metadata": {},
   "outputs": [],
   "source": [
    "session = requests.Session()\n",
    "session.headers.update({\n",
    "    \"Referer\":\"\",\n",
    "    \"user-Agent\":\"Mozilla/5.0 (Windows NT 10.0; Win64; x64) AppleWebKit/537.36 (KHTML, like Gecko) Chrome/114.0.0.0 Safari/537.36\"\n",
    "})"
   ]
  },
  {
   "cell_type": "code",
   "execution_count": 7,
   "metadata": {},
   "outputs": [],
   "source": [
    "def transtime(x):\n",
    "    return \"\".join(str(x).split(\" \")[0].split(\"-\"))"
   ]
  },
  {
   "cell_type": "code",
   "execution_count": null,
   "metadata": {},
   "outputs": [],
   "source": [
    "days_start = list(map(transtime,pd.date_range(pd.to_datetime('20230102'),dt.datetime.now(), freq='7D')))[:-1]\n",
    "days_end = list(map(transtime,pd.date_range(pd.to_datetime('20230108'),dt.datetime.now(), freq='7D')))\n",
    "# print(len(days_start),len(days_end))\n",
    "Melon = {}\n",
    "\n",
    "    # for day in range(pd.to_datetime('20230102'), dt.datetime.now(), 6):\n",
    "    #     dd = day.split('-')\n",
    "    #     print(dd) #'2023' '01' '02'\n",
    "    #     mon = dd[1]\n",
    "    #     start = day\n",
    "    #     end = day + 6\n",
    "for i in range(len(days_start)):\n",
    "    mon = days_start[4:6]\n",
    "    start = days_start[i]\n",
    "    end = days_end[i]\n",
    "    \n",
    "    url = f\"https://www.melon.com/chart/search/list.htm?chartType=WE&age=2020&year=2023&mon={mon}&day={start}%5E{end}&classCd=DM0000&startDay={start}&endDay={end}&moved=Y\"\n",
    "\n",
    "    \n",
    "    ranking_data=[]\n",
    "    \n",
    "    Melon =requests.get(url)\n",
    "    time.sleep(2)\n",
    "    soup = bs4.BeautifulSoup(Melon.text)\n",
    "    print(soup)\n",
    "\n",
    "    # for data in soup.select(\".t_left\"):\n",
    "    #     print(data)\n",
    "        # insert_data ={}    \n",
    "        # insert_data[\"ranking\"]=soup.select(\".rank top\")[0].text.strip()     \n",
    "        # insert_data[\"title\"]=soup.select(\".ellipsis.rank01\")[0].text.strip()\n",
    "        # insert_data[\"artist\"]=soup.select(\".ellipsis.rank02\")[0].text.strip()\n",
    "        # ranking_data.append(insert_data)\n",
    "        # print(ranking_data)"
   ]
  },
  {
   "cell_type": "code",
   "execution_count": 24,
   "metadata": {},
   "outputs": [],
   "source": [
    "r=session.get('https://www.melon.com/chart/search/list.htm?chartType=WE&age=2020&year=2023&mon=01&day=20230102%5E20230108&classCd=DM0000&startDay=20230102&endDay=20230108&moved=Y')"
   ]
  },
  {
   "cell_type": "code",
   "execution_count": 25,
   "metadata": {},
   "outputs": [
    {
     "data": {
      "text/plain": [
       "''"
      ]
     },
     "execution_count": 25,
     "metadata": {},
     "output_type": "execute_result"
    }
   ],
   "source": [
    "r.text"
   ]
  },
  {
   "cell_type": "code",
   "execution_count": 20,
   "metadata": {},
   "outputs": [],
   "source": [
    "soup=bs4.BeautifulSoup(r.text)"
   ]
  },
  {
   "cell_type": "code",
   "execution_count": 22,
   "metadata": {},
   "outputs": [
    {
     "data": {
      "text/plain": []
     },
     "execution_count": 22,
     "metadata": {},
     "output_type": "execute_result"
    }
   ],
   "source": [
    "soup"
   ]
  },
  {
   "cell_type": "code",
   "execution_count": 21,
   "metadata": {},
   "outputs": [],
   "source": [
    "for data in soup.select(\".t_left\"):\n",
    "    print(data)\n",
    "    insert_data ={}    \n",
    "    insert_data[\"ranking\"]=soup.select(\".rank top\")[0].text.strip()     \n",
    "    insert_data[\"title\"]=soup.select(\".ellipsis.rank01\")[0].text.strip()\n",
    "    insert_data[\"artist\"]=soup.select(\".ellipsis.rank02\")[0].text.strip()\n",
    "    ranking_data.append(insert_data)\n",
    "    print(ranking_data)"
   ]
  },
  {
   "cell_type": "code",
   "execution_count": null,
   "metadata": {},
   "outputs": [],
   "source": []
  },
  {
   "cell_type": "code",
   "execution_count": null,
   "metadata": {},
   "outputs": [],
   "source": [
    "M = pd.DataFrame(Melon)\n",
    "M.to_csv(\"Melon.csv\")"
   ]
  },
  {
   "attachments": {},
   "cell_type": "markdown",
   "metadata": {},
   "source": [
    "테스트"
   ]
  },
  {
   "cell_type": "code",
   "execution_count": null,
   "metadata": {},
   "outputs": [],
   "source": [
    "import datetime as dt\n",
    "import pandas as pd\n",
    "import time\n",
    "import bs4\n",
    "import requests\n",
    "url = \"https://www.melon.com/chart/search/list.htm?chartType=WE&age=2020&year=2023&mon=01&day=20230109%5E20230108&classCd=DM0000&startDay=20230109&endDay=20230115&moved=Y\"\n",
    "\n",
    "r = requests.session()\n",
    "r.encoding = \"utf-8\"\n",
    "soup = bs4.BeautifulSoup()\n",
    "ranking = soup.select(\".t_left.rank top\")\n",
    "ranking"
   ]
  },
  {
   "cell_type": "code",
   "execution_count": null,
   "metadata": {},
   "outputs": [],
   "source": [
    "[0].text.split()[0]\n",
    "[0].text.strip()\n",
    "[0].text.strip()\n"
   ]
  }
 ],
 "metadata": {
  "kernelspec": {
   "display_name": "Python 3",
   "language": "python",
   "name": "python3"
  },
  "language_info": {
   "codemirror_mode": {
    "name": "ipython",
    "version": 3
   },
   "file_extension": ".py",
   "mimetype": "text/x-python",
   "name": "python",
   "nbconvert_exporter": "python",
   "pygments_lexer": "ipython3",
   "version": "3.11.4"
  },
  "orig_nbformat": 4
 },
 "nbformat": 4,
 "nbformat_minor": 2
}
