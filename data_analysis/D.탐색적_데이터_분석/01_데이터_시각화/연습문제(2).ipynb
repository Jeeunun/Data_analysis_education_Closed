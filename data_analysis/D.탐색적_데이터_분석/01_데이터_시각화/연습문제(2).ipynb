{
 "cells": [
  {
   "attachments": {},
   "cell_type": "markdown",
   "metadata": {},
   "source": [
    "#### 패키지 설치"
   ]
  },
  {
   "cell_type": "code",
   "execution_count": 2,
   "metadata": {},
   "outputs": [],
   "source": [
    "import datetime as dt\n",
    "import pandas as pd\n",
    "import time\n",
    "from pandas import read_excel, DataFrame"
   ]
  },
  {
   "attachments": {},
   "cell_type": "markdown",
   "metadata": {},
   "source": [
    "#### 데이터 가져오기"
   ]
  },
  {
   "cell_type": "code",
   "execution_count": 3,
   "metadata": {},
   "outputs": [
    {
     "data": {
      "text/html": [
       "<div>\n",
       "<style scoped>\n",
       "    .dataframe tbody tr th:only-of-type {\n",
       "        vertical-align: middle;\n",
       "    }\n",
       "\n",
       "    .dataframe tbody tr th {\n",
       "        vertical-align: top;\n",
       "    }\n",
       "\n",
       "    .dataframe thead th {\n",
       "        text-align: right;\n",
       "    }\n",
       "</style>\n",
       "<table border=\"1\" class=\"dataframe\">\n",
       "  <thead>\n",
       "    <tr style=\"text-align: right;\">\n",
       "      <th></th>\n",
       "      <th>서울시 기준일</th>\n",
       "      <th>서울 확진자</th>\n",
       "      <th>서울시 일일 확진</th>\n",
       "      <th>서울시 사망</th>\n",
       "      <th>전국 확진</th>\n",
       "      <th>전국 일일 확진</th>\n",
       "      <th>전국 사망</th>\n",
       "    </tr>\n",
       "  </thead>\n",
       "  <tbody>\n",
       "    <tr>\n",
       "      <th>0</th>\n",
       "      <td>2023-05-31</td>\n",
       "      <td>6204277</td>\n",
       "      <td>5987.0</td>\n",
       "      <td>6492</td>\n",
       "      <td>31703511.0</td>\n",
       "      <td>24411.0</td>\n",
       "      <td>34784</td>\n",
       "    </tr>\n",
       "    <tr>\n",
       "      <th>1</th>\n",
       "      <td>2023-05-30</td>\n",
       "      <td>6198290</td>\n",
       "      <td>3326.0</td>\n",
       "      <td>6486</td>\n",
       "      <td>31679100.0</td>\n",
       "      <td>13529.0</td>\n",
       "      <td>34767</td>\n",
       "    </tr>\n",
       "    <tr>\n",
       "      <th>2</th>\n",
       "      <td>2023-05-29</td>\n",
       "      <td>6194964</td>\n",
       "      <td>1393.0</td>\n",
       "      <td>6485</td>\n",
       "      <td>31665571.0</td>\n",
       "      <td>6868.0</td>\n",
       "      <td>34760</td>\n",
       "    </tr>\n",
       "    <tr>\n",
       "      <th>3</th>\n",
       "      <td>2023-05-28</td>\n",
       "      <td>6194964</td>\n",
       "      <td>1393.0</td>\n",
       "      <td>6485</td>\n",
       "      <td>31665571.0</td>\n",
       "      <td>6868.0</td>\n",
       "      <td>34760</td>\n",
       "    </tr>\n",
       "    <tr>\n",
       "      <th>4</th>\n",
       "      <td>2023-05-27</td>\n",
       "      <td>6191196</td>\n",
       "      <td>4078.0</td>\n",
       "      <td>6485</td>\n",
       "      <td>31647238.0</td>\n",
       "      <td>17796.0</td>\n",
       "      <td>34784</td>\n",
       "    </tr>\n",
       "    <tr>\n",
       "      <th>...</th>\n",
       "      <td>...</td>\n",
       "      <td>...</td>\n",
       "      <td>...</td>\n",
       "      <td>...</td>\n",
       "      <td>...</td>\n",
       "      <td>...</td>\n",
       "      <td>...</td>\n",
       "    </tr>\n",
       "    <tr>\n",
       "      <th>1207</th>\n",
       "      <td>2020-02-09</td>\n",
       "      <td>10</td>\n",
       "      <td>0.0</td>\n",
       "      <td>0</td>\n",
       "      <td>27.0</td>\n",
       "      <td>0.0</td>\n",
       "      <td>0</td>\n",
       "    </tr>\n",
       "    <tr>\n",
       "      <th>1208</th>\n",
       "      <td>2020-02-08</td>\n",
       "      <td>10</td>\n",
       "      <td>0.0</td>\n",
       "      <td>0</td>\n",
       "      <td>24.0</td>\n",
       "      <td>0.0</td>\n",
       "      <td>0</td>\n",
       "    </tr>\n",
       "    <tr>\n",
       "      <th>1209</th>\n",
       "      <td>2020-02-07</td>\n",
       "      <td>10</td>\n",
       "      <td>0.0</td>\n",
       "      <td>0</td>\n",
       "      <td>24.0</td>\n",
       "      <td>0.0</td>\n",
       "      <td>0</td>\n",
       "    </tr>\n",
       "    <tr>\n",
       "      <th>1210</th>\n",
       "      <td>2020-02-06</td>\n",
       "      <td>11</td>\n",
       "      <td>0.0</td>\n",
       "      <td>0</td>\n",
       "      <td>24.0</td>\n",
       "      <td>0.0</td>\n",
       "      <td>0</td>\n",
       "    </tr>\n",
       "    <tr>\n",
       "      <th>1211</th>\n",
       "      <td>2020-02-05</td>\n",
       "      <td>8</td>\n",
       "      <td>0.0</td>\n",
       "      <td>0</td>\n",
       "      <td>18.0</td>\n",
       "      <td>0.0</td>\n",
       "      <td>0</td>\n",
       "    </tr>\n",
       "  </tbody>\n",
       "</table>\n",
       "<p>1212 rows × 7 columns</p>\n",
       "</div>"
      ],
      "text/plain": [
       "        서울시 기준일   서울 확진자  서울시 일일 확진  서울시 사망       전국 확진  전국 일일 확진  전국 사망\n",
       "0    2023-05-31  6204277     5987.0    6492  31703511.0   24411.0  34784\n",
       "1    2023-05-30  6198290     3326.0    6486  31679100.0   13529.0  34767\n",
       "2    2023-05-29  6194964     1393.0    6485  31665571.0    6868.0  34760\n",
       "3    2023-05-28  6194964     1393.0    6485  31665571.0    6868.0  34760\n",
       "4    2023-05-27  6191196     4078.0    6485  31647238.0   17796.0  34784\n",
       "...         ...      ...        ...     ...         ...       ...    ...\n",
       "1207 2020-02-09       10        0.0       0        27.0       0.0      0\n",
       "1208 2020-02-08       10        0.0       0        24.0       0.0      0\n",
       "1209 2020-02-07       10        0.0       0        24.0       0.0      0\n",
       "1210 2020-02-06       11        0.0       0        24.0       0.0      0\n",
       "1211 2020-02-05        8        0.0       0        18.0       0.0      0\n",
       "\n",
       "[1212 rows x 7 columns]"
      ]
     },
     "execution_count": 3,
     "metadata": {},
     "output_type": "execute_result"
    }
   ],
   "source": [
    "df = read_excel(\"https://data.hossam.kr/D01/covid19.xlsx\")\n",
    "df"
   ]
  },
  {
   "cell_type": "code",
   "execution_count": 5,
   "metadata": {},
   "outputs": [],
   "source": [
    "df.sort_values('서울시 기준일', ascending=True,inplace=True)"
   ]
  },
  {
   "cell_type": "code",
   "execution_count": 16,
   "metadata": {},
   "outputs": [
    {
     "data": {
      "text/html": [
       "<div>\n",
       "<style scoped>\n",
       "    .dataframe tbody tr th:only-of-type {\n",
       "        vertical-align: middle;\n",
       "    }\n",
       "\n",
       "    .dataframe tbody tr th {\n",
       "        vertical-align: top;\n",
       "    }\n",
       "\n",
       "    .dataframe thead th {\n",
       "        text-align: right;\n",
       "    }\n",
       "</style>\n",
       "<table border=\"1\" class=\"dataframe\">\n",
       "  <thead>\n",
       "    <tr style=\"text-align: right;\">\n",
       "      <th></th>\n",
       "      <th>서울시 기준일</th>\n",
       "      <th>서울 확진자</th>\n",
       "      <th>서울시 일일 확진</th>\n",
       "      <th>서울시 사망</th>\n",
       "      <th>전국 확진</th>\n",
       "      <th>전국 일일 확진</th>\n",
       "      <th>전국 사망</th>\n",
       "    </tr>\n",
       "    <tr>\n",
       "      <th>temp</th>\n",
       "      <th></th>\n",
       "      <th></th>\n",
       "      <th></th>\n",
       "      <th></th>\n",
       "      <th></th>\n",
       "      <th></th>\n",
       "      <th></th>\n",
       "    </tr>\n",
       "  </thead>\n",
       "  <tbody>\n",
       "    <tr>\n",
       "      <th>0</th>\n",
       "      <td>2020-02-05</td>\n",
       "      <td>8</td>\n",
       "      <td>0.0</td>\n",
       "      <td>0</td>\n",
       "      <td>18.0</td>\n",
       "      <td>0.0</td>\n",
       "      <td>0</td>\n",
       "    </tr>\n",
       "    <tr>\n",
       "      <th>1</th>\n",
       "      <td>2020-02-06</td>\n",
       "      <td>11</td>\n",
       "      <td>0.0</td>\n",
       "      <td>0</td>\n",
       "      <td>24.0</td>\n",
       "      <td>0.0</td>\n",
       "      <td>0</td>\n",
       "    </tr>\n",
       "    <tr>\n",
       "      <th>2</th>\n",
       "      <td>2020-02-07</td>\n",
       "      <td>10</td>\n",
       "      <td>0.0</td>\n",
       "      <td>0</td>\n",
       "      <td>24.0</td>\n",
       "      <td>0.0</td>\n",
       "      <td>0</td>\n",
       "    </tr>\n",
       "    <tr>\n",
       "      <th>3</th>\n",
       "      <td>2020-02-08</td>\n",
       "      <td>10</td>\n",
       "      <td>0.0</td>\n",
       "      <td>0</td>\n",
       "      <td>24.0</td>\n",
       "      <td>0.0</td>\n",
       "      <td>0</td>\n",
       "    </tr>\n",
       "    <tr>\n",
       "      <th>4</th>\n",
       "      <td>2020-02-09</td>\n",
       "      <td>10</td>\n",
       "      <td>0.0</td>\n",
       "      <td>0</td>\n",
       "      <td>27.0</td>\n",
       "      <td>0.0</td>\n",
       "      <td>0</td>\n",
       "    </tr>\n",
       "    <tr>\n",
       "      <th>...</th>\n",
       "      <td>...</td>\n",
       "      <td>...</td>\n",
       "      <td>...</td>\n",
       "      <td>...</td>\n",
       "      <td>...</td>\n",
       "      <td>...</td>\n",
       "      <td>...</td>\n",
       "    </tr>\n",
       "    <tr>\n",
       "      <th>1207</th>\n",
       "      <td>2023-05-27</td>\n",
       "      <td>6191196</td>\n",
       "      <td>4078.0</td>\n",
       "      <td>6485</td>\n",
       "      <td>31647238.0</td>\n",
       "      <td>17796.0</td>\n",
       "      <td>34784</td>\n",
       "    </tr>\n",
       "    <tr>\n",
       "      <th>1208</th>\n",
       "      <td>2023-05-28</td>\n",
       "      <td>6194964</td>\n",
       "      <td>1393.0</td>\n",
       "      <td>6485</td>\n",
       "      <td>31665571.0</td>\n",
       "      <td>6868.0</td>\n",
       "      <td>34760</td>\n",
       "    </tr>\n",
       "    <tr>\n",
       "      <th>1209</th>\n",
       "      <td>2023-05-29</td>\n",
       "      <td>6194964</td>\n",
       "      <td>1393.0</td>\n",
       "      <td>6485</td>\n",
       "      <td>31665571.0</td>\n",
       "      <td>6868.0</td>\n",
       "      <td>34760</td>\n",
       "    </tr>\n",
       "    <tr>\n",
       "      <th>1210</th>\n",
       "      <td>2023-05-30</td>\n",
       "      <td>6198290</td>\n",
       "      <td>3326.0</td>\n",
       "      <td>6486</td>\n",
       "      <td>31679100.0</td>\n",
       "      <td>13529.0</td>\n",
       "      <td>34767</td>\n",
       "    </tr>\n",
       "    <tr>\n",
       "      <th>1211</th>\n",
       "      <td>2023-05-31</td>\n",
       "      <td>6204277</td>\n",
       "      <td>5987.0</td>\n",
       "      <td>6492</td>\n",
       "      <td>31703511.0</td>\n",
       "      <td>24411.0</td>\n",
       "      <td>34784</td>\n",
       "    </tr>\n",
       "  </tbody>\n",
       "</table>\n",
       "<p>1212 rows × 7 columns</p>\n",
       "</div>"
      ],
      "text/plain": [
       "        서울시 기준일   서울 확진자  서울시 일일 확진  서울시 사망       전국 확진  전국 일일 확진  전국 사망\n",
       "temp                                                                    \n",
       "0    2020-02-05        8        0.0       0        18.0       0.0      0\n",
       "1    2020-02-06       11        0.0       0        24.0       0.0      0\n",
       "2    2020-02-07       10        0.0       0        24.0       0.0      0\n",
       "3    2020-02-08       10        0.0       0        24.0       0.0      0\n",
       "4    2020-02-09       10        0.0       0        27.0       0.0      0\n",
       "...         ...      ...        ...     ...         ...       ...    ...\n",
       "1207 2023-05-27  6191196     4078.0    6485  31647238.0   17796.0  34784\n",
       "1208 2023-05-28  6194964     1393.0    6485  31665571.0    6868.0  34760\n",
       "1209 2023-05-29  6194964     1393.0    6485  31665571.0    6868.0  34760\n",
       "1210 2023-05-30  6198290     3326.0    6486  31679100.0   13529.0  34767\n",
       "1211 2023-05-31  6204277     5987.0    6492  31703511.0   24411.0  34784\n",
       "\n",
       "[1212 rows x 7 columns]"
      ]
     },
     "execution_count": 16,
     "metadata": {},
     "output_type": "execute_result"
    }
   ],
   "source": [
    "df[\"temp\"]=range(len(df))\n",
    "df.set_index(\"temp\",inplace=True)\n",
    "df.reindex(None) #???"
   ]
  },
  {
   "cell_type": "code",
   "execution_count": null,
   "metadata": {},
   "outputs": [],
   "source": []
  },
  {
   "attachments": {},
   "cell_type": "markdown",
   "metadata": {},
   "source": [
    "#### 날짜 데이터 처리\n",
    "- 사용자로부터 날짜를 yyyymmdd의 8자리 문자열로 입력받은 후 그 날짜를 시작으로 1주일간의 데이터를 추출하시오."
   ]
  },
  {
   "cell_type": "code",
   "execution_count": 28,
   "metadata": {},
   "outputs": [
    {
     "data": {
      "text/plain": [
       "str"
      ]
     },
     "execution_count": 28,
     "metadata": {},
     "output_type": "execute_result"
    }
   ],
   "source": [
    "# datetime형식을 문자로 바꿔주는 함수식\n",
    "def transtime(x):\n",
    "    return \"\".join(str(x).split(\" \")[0].split(\"-\"))\n",
    "\n",
    "# 날짜 데이터 문자열 리스트로 만들기\n",
    "date = list(map(transtime,df['서울시 기준일']))\n",
    "date.sort()\n",
    "\n",
    "# type(date[date.index('20200218')+7])\n",
    "\n",
    "# 사용자로부터 문자열 입력(input값) -> +6D 까지의 날짜 범위 제시 (input.index + )\n",
    "wanted_date = (input('날짜를 입력하세요: '))\n",
    "weekData = []\n",
    "for d in range(wanted_date,date[date.index(wanted_date)+7]):\n",
    "    weekData.append(d)\n",
    "weekData"
   ]
  },
  {
   "attachments": {},
   "cell_type": "markdown",
   "metadata": {},
   "source": [
    "### 시각화"
   ]
  },
  {
   "attachments": {},
   "cell_type": "markdown",
   "metadata": {},
   "source": [
    "- 2행 1열의 서브플롯을 만들고 각각의 그래프 영역에 대한 twinx를 생성하시오."
   ]
  },
  {
   "attachments": {},
   "cell_type": "markdown",
   "metadata": {},
   "source": [
    "- 누적 확진자는 y축을 왼쪽으로 설정한 막대그래프로 표시하고 일일 확진자는 y축을 오른쪽으로 설정한 시계열 그래프로 생성해야 합니다."
   ]
  },
  {
   "attachments": {},
   "cell_type": "markdown",
   "metadata": {},
   "source": [
    "- seaborn을 활용하여 구현하세요."
   ]
  },
  {
   "cell_type": "code",
   "execution_count": 13,
   "metadata": {},
   "outputs": [],
   "source": [
    "# 패키지 설치\n",
    "from matplotlib import pyplot as plt\n",
    "import seaborn as sb"
   ]
  },
  {
   "cell_type": "code",
   "execution_count": 18,
   "metadata": {},
   "outputs": [
    {
     "data": {
      "image/png": "[encoded data removed]",
      "text/plain": [
       "<Figure size 1000x500 with 4 Axes>"
      ]
     },
     "metadata": {},
     "output_type": "display_data"
    }
   ],
   "source": [
    "# 2행 1열 서브플롯 만들기\n",
    "fig, (ax1, ax2) = plt.subplots(2,1) \n",
    "ax3 = ax1.twinx()\n",
    "ax4 = ax2.twinx()\n",
    "\n",
    "# 그래프 전역 설정\n",
    "plt.rcParams['font.family'] = 'Malgun Gothic'\n",
    "plt.rcParams['font.size'] = 12\n",
    "plt.rcParams['figure.figsize'] = (10,5)\n",
    "plt.rcParams['axes.unicode_minus'] = False"
   ]
  },
  {
   "attachments": {},
   "cell_type": "markdown",
   "metadata": {},
   "source": [
    "- 첫 번째 영역에는 서울시의 누적 확진자와 일일 확진자 변동 추이를 확인할 수 있는 시각화 자료를 생성하시오."
   ]
  },
  {
   "cell_type": "code",
   "execution_count": null,
   "metadata": {},
   "outputs": [],
   "source": [
    "sb.barplot(data=df, x=weekData, y='서울 확진자', color='#ff6600', ax=ax1)\n",
    "sb.lineplot(data=df, x=weekData, y='서울시 일일 확진', color='#0066ff', ax=ax3)\n",
    "\n",
    "plt.title('서울시 누적.일일 확진자 변동 추이')\n",
    "plt.legend()\n",
    "plt.show()\n",
    "plt.close()"
   ]
  },
  {
   "attachments": {},
   "cell_type": "markdown",
   "metadata": {},
   "source": [
    "- 두 번째 영역에는 전국에 대한 누적 확진자와 일일 확진자 변동 추이를 확인할 수 있는 시각화 자료를 생성하시오."
   ]
  },
  {
   "cell_type": "code",
   "execution_count": null,
   "metadata": {},
   "outputs": [],
   "source": [
    "sb.barplot(data=df, x=weekData, y='전국 확진', color='#ff6600', ax=ax2)\n",
    "sb.lineplot(data=df, x=weekData, y='전국 일일 확진', color='#0066ff', ax=ax4)\n",
    "\n",
    "plt.title('서울시 누적.일일 확진자 변동 추이')\n",
    "plt.legend()\n",
    "plt.show()\n",
    "plt.close()"
   ]
  },
  {
   "attachments": {},
   "cell_type": "markdown",
   "metadata": {},
   "source": []
  }
 ],
 "metadata": {
  "kernelspec": {
   "display_name": "Python 3",
   "language": "python",
   "name": "python3"
  },
  "language_info": {
   "codemirror_mode": {
    "name": "ipython",
    "version": 3
   },
   "file_extension": ".py",
   "mimetype": "text/x-python",
   "name": "python",
   "nbconvert_exporter": "python",
   "pygments_lexer": "ipython3",
   "version": "3.11.4"
  },
  "orig_nbformat": 4
 },
 "nbformat": 4,
 "nbformat_minor": 2
}
