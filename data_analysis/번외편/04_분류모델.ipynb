{
 "cells": [
  {
   "cell_type": "markdown",
   "metadata": {},
   "source": [
    "# 코로나 이후 매출증감 여부 모델\n",
    "\n",
    "## #01. 패키지 설치"
   ]
  },
  {
   "cell_type": "code",
   "execution_count": 2,
   "metadata": {},
   "outputs": [],
   "source": [
    "import sys\n",
    "sys.path.append('../')\n",
    "import helper\n",
    "\n",
    "import numpy as np\n",
    "from pandas import read_excel, DataFrame, get_dummies\n",
    "from matplotlib import pyplot as plt\n",
    "import seaborn as sb\n",
    "\n",
    "from sklearn.model_selection import train_test_split\n",
    "from sklearn.preprocessing import StandardScaler\n",
    "\n",
    "from tensorflow.keras.models import Sequential\n",
    "from tensorflow.keras.layers import Dense\n",
    "from tensorflow.keras.callbacks import EarlyStopping\n",
    "from tensorflow.keras.callbacks import ReduceLROnPlateau"
   ]
  },
  {
   "cell_type": "markdown",
   "metadata": {},
   "source": [
    "## #02. 데이터셋 준비하기"
   ]
  },
  {
   "cell_type": "code",
   "execution_count": 3,
   "metadata": {},
   "outputs": [
    {
     "name": "stdout",
     "output_type": "stream",
     "text": [
      "<class 'pandas.core.frame.DataFrame'>\n",
      "RangeIndex: 1009 entries, 0 to 1008\n",
      "Data columns (total 10 columns):\n",
      " #   Column       Non-Null Count  Dtype  \n",
      "---  ------       --------------  -----  \n",
      " 0   상권_코드        1009 non-null   int64  \n",
      " 1   상권_코드_명      1009 non-null   object \n",
      " 2   점포수_x        1009 non-null   float64\n",
      " 3   도심_x         1009 non-null   int64  \n",
      " 4   총_직장_인구_수_x  1009 non-null   float64\n",
      " 5   총_생활인구_수_x   1009 non-null   float64\n",
      " 6   점포수_y        1009 non-null   float64\n",
      " 7   총_직장_인구_수_y  1009 non-null   int64  \n",
      " 8   총_생활인구_수_y   1009 non-null   float64\n",
      " 9   매출증감         1009 non-null   int64  \n",
      "dtypes: float64(5), int64(4), object(1)\n",
      "memory usage: 79.0+ KB\n"
     ]
    }
   ],
   "source": [
    "origin = read_excel(\"tdf.xlsx\")\n",
    "origin.info()"
   ]
  },
  {
   "cell_type": "markdown",
   "metadata": {},
   "source": [
    "## #03. 데이터 전처리\n",
    "\n",
    "### 결측치 확인"
   ]
  },
  {
   "cell_type": "code",
   "execution_count": 4,
   "metadata": {},
   "outputs": [
    {
     "data": {
      "text/plain": [
       "상권_코드          0\n",
       "상권_코드_명        0\n",
       "점포수_x          0\n",
       "도심_x           0\n",
       "총_직장_인구_수_x    0\n",
       "총_생활인구_수_x     0\n",
       "점포수_y          0\n",
       "총_직장_인구_수_y    0\n",
       "총_생활인구_수_y     0\n",
       "매출증감           0\n",
       "dtype: int64"
      ]
     },
     "execution_count": 4,
     "metadata": {},
     "output_type": "execute_result"
    }
   ],
   "source": [
    "origin.isna().sum()"
   ]
  },
  {
   "cell_type": "markdown",
   "metadata": {},
   "source": [
    "## #04. 탐색적 데이터 분석\n",
    "> 앞 과정에서 이미 수행하였으므로 생략"
   ]
  },
  {
   "cell_type": "markdown",
   "metadata": {},
   "source": [
    "## #05. 데이터셋 분할하기\n",
    "\n",
    "### 랜덤시드 고정"
   ]
  },
  {
   "cell_type": "code",
   "execution_count": 5,
   "metadata": {},
   "outputs": [],
   "source": [
    "np.random.seed(777)"
   ]
  },
  {
   "cell_type": "markdown",
   "metadata": {},
   "source": [
    "### 훈련데이터(독립변수)와 레이블(종속변수) 구분하기"
   ]
  },
  {
   "cell_type": "code",
   "execution_count": 6,
   "metadata": {},
   "outputs": [
    {
     "data": {
      "text/html": [
       "<div>\n",
       "<style scoped>\n",
       "    .dataframe tbody tr th:only-of-type {\n",
       "        vertical-align: middle;\n",
       "    }\n",
       "\n",
       "    .dataframe tbody tr th {\n",
       "        vertical-align: top;\n",
       "    }\n",
       "\n",
       "    .dataframe thead th {\n",
       "        text-align: right;\n",
       "    }\n",
       "</style>\n",
       "<table border=\"1\" class=\"dataframe\">\n",
       "  <thead>\n",
       "    <tr style=\"text-align: right;\">\n",
       "      <th></th>\n",
       "      <th>점포수_x</th>\n",
       "      <th>도심_x</th>\n",
       "      <th>총_직장_인구_수_x</th>\n",
       "      <th>총_생활인구_수_x</th>\n",
       "      <th>점포수_y</th>\n",
       "      <th>총_직장_인구_수_y</th>\n",
       "      <th>총_생활인구_수_y</th>\n",
       "    </tr>\n",
       "  </thead>\n",
       "  <tbody>\n",
       "    <tr>\n",
       "      <th>0</th>\n",
       "      <td>6.825688</td>\n",
       "      <td>1</td>\n",
       "      <td>21133.770642</td>\n",
       "      <td>1.063927e+06</td>\n",
       "      <td>6.564356</td>\n",
       "      <td>13700</td>\n",
       "      <td>1.108208e+06</td>\n",
       "    </tr>\n",
       "    <tr>\n",
       "      <th>1</th>\n",
       "      <td>4.519231</td>\n",
       "      <td>1</td>\n",
       "      <td>10343.230769</td>\n",
       "      <td>3.304633e+06</td>\n",
       "      <td>4.493333</td>\n",
       "      <td>11773</td>\n",
       "      <td>3.704169e+06</td>\n",
       "    </tr>\n",
       "    <tr>\n",
       "      <th>2</th>\n",
       "      <td>7.094340</td>\n",
       "      <td>1</td>\n",
       "      <td>43510.654088</td>\n",
       "      <td>2.169122e+06</td>\n",
       "      <td>7.382550</td>\n",
       "      <td>39506</td>\n",
       "      <td>1.775981e+06</td>\n",
       "    </tr>\n",
       "    <tr>\n",
       "      <th>3</th>\n",
       "      <td>4.418182</td>\n",
       "      <td>1</td>\n",
       "      <td>8267.454545</td>\n",
       "      <td>2.516156e+06</td>\n",
       "      <td>4.390000</td>\n",
       "      <td>1696</td>\n",
       "      <td>3.109088e+06</td>\n",
       "    </tr>\n",
       "    <tr>\n",
       "      <th>4</th>\n",
       "      <td>3.263158</td>\n",
       "      <td>1</td>\n",
       "      <td>2711.131579</td>\n",
       "      <td>3.022949e+05</td>\n",
       "      <td>3.417910</td>\n",
       "      <td>4252</td>\n",
       "      <td>4.745286e+05</td>\n",
       "    </tr>\n",
       "  </tbody>\n",
       "</table>\n",
       "</div>"
      ],
      "text/plain": [
       "      점포수_x  도심_x   총_직장_인구_수_x    총_생활인구_수_x     점포수_y  총_직장_인구_수_y  \\\n",
       "0  6.825688     1  21133.770642  1.063927e+06  6.564356        13700   \n",
       "1  4.519231     1  10343.230769  3.304633e+06  4.493333        11773   \n",
       "2  7.094340     1  43510.654088  2.169122e+06  7.382550        39506   \n",
       "3  4.418182     1   8267.454545  2.516156e+06  4.390000         1696   \n",
       "4  3.263158     1   2711.131579  3.022949e+05  3.417910         4252   \n",
       "\n",
       "     총_생활인구_수_y  \n",
       "0  1.108208e+06  \n",
       "1  3.704169e+06  \n",
       "2  1.775981e+06  \n",
       "3  3.109088e+06  \n",
       "4  4.745286e+05  "
      ]
     },
     "execution_count": 6,
     "metadata": {},
     "output_type": "execute_result"
    }
   ],
   "source": [
    "x = origin.drop(['상권_코드', '상권_코드_명', '매출증감'], axis=1)\n",
    "x.head()"
   ]
  },
  {
   "cell_type": "code",
   "execution_count": 7,
   "metadata": {},
   "outputs": [
    {
     "data": {
      "text/plain": [
       "0       0\n",
       "1       0\n",
       "2       0\n",
       "3       0\n",
       "4       0\n",
       "       ..\n",
       "1004    0\n",
       "1005    1\n",
       "1006    0\n",
       "1007    0\n",
       "1008    1\n",
       "Name: 매출증감, Length: 1009, dtype: int64"
      ]
     },
     "execution_count": 7,
     "metadata": {},
     "output_type": "execute_result"
    }
   ],
   "source": [
    "y = origin['매출증감']\n",
    "y"
   ]
  },
  {
   "cell_type": "markdown",
   "metadata": {},
   "source": [
    "### 데이터 표준화\n",
    "\n",
    "#### 명목형 변수를 제거한 임시 데이터 생성"
   ]
  },
  {
   "cell_type": "code",
   "execution_count": 8,
   "metadata": {},
   "outputs": [
    {
     "data": {
      "text/html": [
       "<div>\n",
       "<style scoped>\n",
       "    .dataframe tbody tr th:only-of-type {\n",
       "        vertical-align: middle;\n",
       "    }\n",
       "\n",
       "    .dataframe tbody tr th {\n",
       "        vertical-align: top;\n",
       "    }\n",
       "\n",
       "    .dataframe thead th {\n",
       "        text-align: right;\n",
       "    }\n",
       "</style>\n",
       "<table border=\"1\" class=\"dataframe\">\n",
       "  <thead>\n",
       "    <tr style=\"text-align: right;\">\n",
       "      <th></th>\n",
       "      <th>점포수_x</th>\n",
       "      <th>총_직장_인구_수_x</th>\n",
       "      <th>총_생활인구_수_x</th>\n",
       "      <th>점포수_y</th>\n",
       "      <th>총_직장_인구_수_y</th>\n",
       "      <th>총_생활인구_수_y</th>\n",
       "    </tr>\n",
       "  </thead>\n",
       "  <tbody>\n",
       "    <tr>\n",
       "      <th>0</th>\n",
       "      <td>6.825688</td>\n",
       "      <td>21133.770642</td>\n",
       "      <td>1.063927e+06</td>\n",
       "      <td>6.564356</td>\n",
       "      <td>13700</td>\n",
       "      <td>1.108208e+06</td>\n",
       "    </tr>\n",
       "    <tr>\n",
       "      <th>1</th>\n",
       "      <td>4.519231</td>\n",
       "      <td>10343.230769</td>\n",
       "      <td>3.304633e+06</td>\n",
       "      <td>4.493333</td>\n",
       "      <td>11773</td>\n",
       "      <td>3.704169e+06</td>\n",
       "    </tr>\n",
       "    <tr>\n",
       "      <th>2</th>\n",
       "      <td>7.094340</td>\n",
       "      <td>43510.654088</td>\n",
       "      <td>2.169122e+06</td>\n",
       "      <td>7.382550</td>\n",
       "      <td>39506</td>\n",
       "      <td>1.775981e+06</td>\n",
       "    </tr>\n",
       "    <tr>\n",
       "      <th>3</th>\n",
       "      <td>4.418182</td>\n",
       "      <td>8267.454545</td>\n",
       "      <td>2.516156e+06</td>\n",
       "      <td>4.390000</td>\n",
       "      <td>1696</td>\n",
       "      <td>3.109088e+06</td>\n",
       "    </tr>\n",
       "    <tr>\n",
       "      <th>4</th>\n",
       "      <td>3.263158</td>\n",
       "      <td>2711.131579</td>\n",
       "      <td>3.022949e+05</td>\n",
       "      <td>3.417910</td>\n",
       "      <td>4252</td>\n",
       "      <td>4.745286e+05</td>\n",
       "    </tr>\n",
       "    <tr>\n",
       "      <th>...</th>\n",
       "      <td>...</td>\n",
       "      <td>...</td>\n",
       "      <td>...</td>\n",
       "      <td>...</td>\n",
       "      <td>...</td>\n",
       "      <td>...</td>\n",
       "    </tr>\n",
       "    <tr>\n",
       "      <th>1004</th>\n",
       "      <td>3.347826</td>\n",
       "      <td>1999.320652</td>\n",
       "      <td>4.004372e+06</td>\n",
       "      <td>3.603659</td>\n",
       "      <td>2122</td>\n",
       "      <td>5.776149e+06</td>\n",
       "    </tr>\n",
       "    <tr>\n",
       "      <th>1005</th>\n",
       "      <td>4.018072</td>\n",
       "      <td>4313.216867</td>\n",
       "      <td>7.342383e+05</td>\n",
       "      <td>4.311765</td>\n",
       "      <td>966</td>\n",
       "      <td>1.371762e+06</td>\n",
       "    </tr>\n",
       "    <tr>\n",
       "      <th>1006</th>\n",
       "      <td>5.335484</td>\n",
       "      <td>4582.309677</td>\n",
       "      <td>5.981897e+06</td>\n",
       "      <td>5.780303</td>\n",
       "      <td>2503</td>\n",
       "      <td>7.212605e+06</td>\n",
       "    </tr>\n",
       "    <tr>\n",
       "      <th>1007</th>\n",
       "      <td>4.771084</td>\n",
       "      <td>5432.831325</td>\n",
       "      <td>6.812592e+06</td>\n",
       "      <td>4.650685</td>\n",
       "      <td>6064</td>\n",
       "      <td>8.757489e+06</td>\n",
       "    </tr>\n",
       "    <tr>\n",
       "      <th>1008</th>\n",
       "      <td>3.274194</td>\n",
       "      <td>3262.266129</td>\n",
       "      <td>7.048270e+06</td>\n",
       "      <td>4.024390</td>\n",
       "      <td>2748</td>\n",
       "      <td>9.605700e+06</td>\n",
       "    </tr>\n",
       "  </tbody>\n",
       "</table>\n",
       "<p>1009 rows × 6 columns</p>\n",
       "</div>"
      ],
      "text/plain": [
       "         점포수_x   총_직장_인구_수_x    총_생활인구_수_x     점포수_y  총_직장_인구_수_y  \\\n",
       "0     6.825688  21133.770642  1.063927e+06  6.564356        13700   \n",
       "1     4.519231  10343.230769  3.304633e+06  4.493333        11773   \n",
       "2     7.094340  43510.654088  2.169122e+06  7.382550        39506   \n",
       "3     4.418182   8267.454545  2.516156e+06  4.390000         1696   \n",
       "4     3.263158   2711.131579  3.022949e+05  3.417910         4252   \n",
       "...        ...           ...           ...       ...          ...   \n",
       "1004  3.347826   1999.320652  4.004372e+06  3.603659         2122   \n",
       "1005  4.018072   4313.216867  7.342383e+05  4.311765          966   \n",
       "1006  5.335484   4582.309677  5.981897e+06  5.780303         2503   \n",
       "1007  4.771084   5432.831325  6.812592e+06  4.650685         6064   \n",
       "1008  3.274194   3262.266129  7.048270e+06  4.024390         2748   \n",
       "\n",
       "        총_생활인구_수_y  \n",
       "0     1.108208e+06  \n",
       "1     3.704169e+06  \n",
       "2     1.775981e+06  \n",
       "3     3.109088e+06  \n",
       "4     4.745286e+05  \n",
       "...            ...  \n",
       "1004  5.776149e+06  \n",
       "1005  1.371762e+06  \n",
       "1006  7.212605e+06  \n",
       "1007  8.757489e+06  \n",
       "1008  9.605700e+06  \n",
       "\n",
       "[1009 rows x 6 columns]"
      ]
     },
     "execution_count": 8,
     "metadata": {},
     "output_type": "execute_result"
    }
   ],
   "source": [
    "tmp = x.drop('도심_x', axis=1)\n",
    "tmp"
   ]
  },
  {
   "cell_type": "markdown",
   "metadata": {},
   "source": [
    "#### 임시 데이터프레임을 활용하여 표준화"
   ]
  },
  {
   "cell_type": "code",
   "execution_count": 9,
   "metadata": {},
   "outputs": [
    {
     "data": {
      "text/html": [
       "<div>\n",
       "<style scoped>\n",
       "    .dataframe tbody tr th:only-of-type {\n",
       "        vertical-align: middle;\n",
       "    }\n",
       "\n",
       "    .dataframe tbody tr th {\n",
       "        vertical-align: top;\n",
       "    }\n",
       "\n",
       "    .dataframe thead th {\n",
       "        text-align: right;\n",
       "    }\n",
       "</style>\n",
       "<table border=\"1\" class=\"dataframe\">\n",
       "  <thead>\n",
       "    <tr style=\"text-align: right;\">\n",
       "      <th></th>\n",
       "      <th>점포수_x</th>\n",
       "      <th>총_직장_인구_수_x</th>\n",
       "      <th>총_생활인구_수_x</th>\n",
       "      <th>점포수_y</th>\n",
       "      <th>총_직장_인구_수_y</th>\n",
       "      <th>총_생활인구_수_y</th>\n",
       "    </tr>\n",
       "  </thead>\n",
       "  <tbody>\n",
       "    <tr>\n",
       "      <th>0</th>\n",
       "      <td>1.466482</td>\n",
       "      <td>1.423805</td>\n",
       "      <td>-1.635368</td>\n",
       "      <td>1.082146</td>\n",
       "      <td>0.790915</td>\n",
       "      <td>-1.809769</td>\n",
       "    </tr>\n",
       "    <tr>\n",
       "      <th>1</th>\n",
       "      <td>0.114631</td>\n",
       "      <td>0.317615</td>\n",
       "      <td>-0.133935</td>\n",
       "      <td>-0.064296</td>\n",
       "      <td>0.578999</td>\n",
       "      <td>-0.461570</td>\n",
       "    </tr>\n",
       "    <tr>\n",
       "      <th>2</th>\n",
       "      <td>1.623943</td>\n",
       "      <td>3.717765</td>\n",
       "      <td>-0.894809</td>\n",
       "      <td>1.535069</td>\n",
       "      <td>3.628849</td>\n",
       "      <td>-1.462965</td>\n",
       "    </tr>\n",
       "    <tr>\n",
       "      <th>3</th>\n",
       "      <td>0.055405</td>\n",
       "      <td>0.104818</td>\n",
       "      <td>-0.662271</td>\n",
       "      <td>-0.121498</td>\n",
       "      <td>-0.529187</td>\n",
       "      <td>-0.770622</td>\n",
       "    </tr>\n",
       "    <tr>\n",
       "      <th>4</th>\n",
       "      <td>-0.621573</td>\n",
       "      <td>-0.464787</td>\n",
       "      <td>-2.145716</td>\n",
       "      <td>-0.659611</td>\n",
       "      <td>-0.248099</td>\n",
       "      <td>-2.138868</td>\n",
       "    </tr>\n",
       "    <tr>\n",
       "      <th>...</th>\n",
       "      <td>...</td>\n",
       "      <td>...</td>\n",
       "      <td>...</td>\n",
       "      <td>...</td>\n",
       "      <td>...</td>\n",
       "      <td>...</td>\n",
       "    </tr>\n",
       "    <tr>\n",
       "      <th>1004</th>\n",
       "      <td>-0.571948</td>\n",
       "      <td>-0.537758</td>\n",
       "      <td>0.334939</td>\n",
       "      <td>-0.556788</td>\n",
       "      <td>-0.482339</td>\n",
       "      <td>0.614503</td>\n",
       "    </tr>\n",
       "    <tr>\n",
       "      <th>1005</th>\n",
       "      <td>-0.179106</td>\n",
       "      <td>-0.300550</td>\n",
       "      <td>-1.856283</td>\n",
       "      <td>-0.164806</td>\n",
       "      <td>-0.609466</td>\n",
       "      <td>-1.672894</td>\n",
       "    </tr>\n",
       "    <tr>\n",
       "      <th>1006</th>\n",
       "      <td>0.593050</td>\n",
       "      <td>-0.272964</td>\n",
       "      <td>1.660022</td>\n",
       "      <td>0.648123</td>\n",
       "      <td>-0.440440</td>\n",
       "      <td>1.360518</td>\n",
       "    </tr>\n",
       "    <tr>\n",
       "      <th>1007</th>\n",
       "      <td>0.262246</td>\n",
       "      <td>-0.185773</td>\n",
       "      <td>2.216647</td>\n",
       "      <td>0.022808</td>\n",
       "      <td>-0.048830</td>\n",
       "      <td>2.162846</td>\n",
       "    </tr>\n",
       "    <tr>\n",
       "      <th>1008</th>\n",
       "      <td>-0.615105</td>\n",
       "      <td>-0.408288</td>\n",
       "      <td>2.374567</td>\n",
       "      <td>-0.323886</td>\n",
       "      <td>-0.413497</td>\n",
       "      <td>2.603360</td>\n",
       "    </tr>\n",
       "  </tbody>\n",
       "</table>\n",
       "<p>1009 rows × 6 columns</p>\n",
       "</div>"
      ],
      "text/plain": [
       "         점포수_x  총_직장_인구_수_x  총_생활인구_수_x     점포수_y  총_직장_인구_수_y  총_생활인구_수_y\n",
       "0     1.466482     1.423805   -1.635368  1.082146     0.790915   -1.809769\n",
       "1     0.114631     0.317615   -0.133935 -0.064296     0.578999   -0.461570\n",
       "2     1.623943     3.717765   -0.894809  1.535069     3.628849   -1.462965\n",
       "3     0.055405     0.104818   -0.662271 -0.121498    -0.529187   -0.770622\n",
       "4    -0.621573    -0.464787   -2.145716 -0.659611    -0.248099   -2.138868\n",
       "...        ...          ...         ...       ...          ...         ...\n",
       "1004 -0.571948    -0.537758    0.334939 -0.556788    -0.482339    0.614503\n",
       "1005 -0.179106    -0.300550   -1.856283 -0.164806    -0.609466   -1.672894\n",
       "1006  0.593050    -0.272964    1.660022  0.648123    -0.440440    1.360518\n",
       "1007  0.262246    -0.185773    2.216647  0.022808    -0.048830    2.162846\n",
       "1008 -0.615105    -0.408288    2.374567 -0.323886    -0.413497    2.603360\n",
       "\n",
       "[1009 rows x 6 columns]"
      ]
     },
     "execution_count": 9,
     "metadata": {},
     "output_type": "execute_result"
    }
   ],
   "source": [
    "x_scaler = StandardScaler()\n",
    "x_scale = x_scaler.fit_transform(tmp)\n",
    "x_scale_df = DataFrame(x_scale, columns=tmp.columns, index=tmp.index)\n",
    "x_scale_df"
   ]
  },
  {
   "cell_type": "markdown",
   "metadata": {},
   "source": [
    "#### 표준화 결과에 명목형 변수를 결합"
   ]
  },
  {
   "cell_type": "code",
   "execution_count": 10,
   "metadata": {},
   "outputs": [
    {
     "data": {
      "text/html": [
       "<div>\n",
       "<style scoped>\n",
       "    .dataframe tbody tr th:only-of-type {\n",
       "        vertical-align: middle;\n",
       "    }\n",
       "\n",
       "    .dataframe tbody tr th {\n",
       "        vertical-align: top;\n",
       "    }\n",
       "\n",
       "    .dataframe thead th {\n",
       "        text-align: right;\n",
       "    }\n",
       "</style>\n",
       "<table border=\"1\" class=\"dataframe\">\n",
       "  <thead>\n",
       "    <tr style=\"text-align: right;\">\n",
       "      <th></th>\n",
       "      <th>점포수_x</th>\n",
       "      <th>총_직장_인구_수_x</th>\n",
       "      <th>총_생활인구_수_x</th>\n",
       "      <th>점포수_y</th>\n",
       "      <th>총_직장_인구_수_y</th>\n",
       "      <th>총_생활인구_수_y</th>\n",
       "      <th>도심</th>\n",
       "    </tr>\n",
       "  </thead>\n",
       "  <tbody>\n",
       "    <tr>\n",
       "      <th>0</th>\n",
       "      <td>1.466482</td>\n",
       "      <td>1.423805</td>\n",
       "      <td>-1.635368</td>\n",
       "      <td>1.082146</td>\n",
       "      <td>0.790915</td>\n",
       "      <td>-1.809769</td>\n",
       "      <td>1</td>\n",
       "    </tr>\n",
       "    <tr>\n",
       "      <th>1</th>\n",
       "      <td>0.114631</td>\n",
       "      <td>0.317615</td>\n",
       "      <td>-0.133935</td>\n",
       "      <td>-0.064296</td>\n",
       "      <td>0.578999</td>\n",
       "      <td>-0.461570</td>\n",
       "      <td>1</td>\n",
       "    </tr>\n",
       "    <tr>\n",
       "      <th>2</th>\n",
       "      <td>1.623943</td>\n",
       "      <td>3.717765</td>\n",
       "      <td>-0.894809</td>\n",
       "      <td>1.535069</td>\n",
       "      <td>3.628849</td>\n",
       "      <td>-1.462965</td>\n",
       "      <td>1</td>\n",
       "    </tr>\n",
       "    <tr>\n",
       "      <th>3</th>\n",
       "      <td>0.055405</td>\n",
       "      <td>0.104818</td>\n",
       "      <td>-0.662271</td>\n",
       "      <td>-0.121498</td>\n",
       "      <td>-0.529187</td>\n",
       "      <td>-0.770622</td>\n",
       "      <td>1</td>\n",
       "    </tr>\n",
       "    <tr>\n",
       "      <th>4</th>\n",
       "      <td>-0.621573</td>\n",
       "      <td>-0.464787</td>\n",
       "      <td>-2.145716</td>\n",
       "      <td>-0.659611</td>\n",
       "      <td>-0.248099</td>\n",
       "      <td>-2.138868</td>\n",
       "      <td>1</td>\n",
       "    </tr>\n",
       "    <tr>\n",
       "      <th>...</th>\n",
       "      <td>...</td>\n",
       "      <td>...</td>\n",
       "      <td>...</td>\n",
       "      <td>...</td>\n",
       "      <td>...</td>\n",
       "      <td>...</td>\n",
       "      <td>...</td>\n",
       "    </tr>\n",
       "    <tr>\n",
       "      <th>1004</th>\n",
       "      <td>-0.571948</td>\n",
       "      <td>-0.537758</td>\n",
       "      <td>0.334939</td>\n",
       "      <td>-0.556788</td>\n",
       "      <td>-0.482339</td>\n",
       "      <td>0.614503</td>\n",
       "      <td>0</td>\n",
       "    </tr>\n",
       "    <tr>\n",
       "      <th>1005</th>\n",
       "      <td>-0.179106</td>\n",
       "      <td>-0.300550</td>\n",
       "      <td>-1.856283</td>\n",
       "      <td>-0.164806</td>\n",
       "      <td>-0.609466</td>\n",
       "      <td>-1.672894</td>\n",
       "      <td>0</td>\n",
       "    </tr>\n",
       "    <tr>\n",
       "      <th>1006</th>\n",
       "      <td>0.593050</td>\n",
       "      <td>-0.272964</td>\n",
       "      <td>1.660022</td>\n",
       "      <td>0.648123</td>\n",
       "      <td>-0.440440</td>\n",
       "      <td>1.360518</td>\n",
       "      <td>0</td>\n",
       "    </tr>\n",
       "    <tr>\n",
       "      <th>1007</th>\n",
       "      <td>0.262246</td>\n",
       "      <td>-0.185773</td>\n",
       "      <td>2.216647</td>\n",
       "      <td>0.022808</td>\n",
       "      <td>-0.048830</td>\n",
       "      <td>2.162846</td>\n",
       "      <td>0</td>\n",
       "    </tr>\n",
       "    <tr>\n",
       "      <th>1008</th>\n",
       "      <td>-0.615105</td>\n",
       "      <td>-0.408288</td>\n",
       "      <td>2.374567</td>\n",
       "      <td>-0.323886</td>\n",
       "      <td>-0.413497</td>\n",
       "      <td>2.603360</td>\n",
       "      <td>0</td>\n",
       "    </tr>\n",
       "  </tbody>\n",
       "</table>\n",
       "<p>1009 rows × 7 columns</p>\n",
       "</div>"
      ],
      "text/plain": [
       "         점포수_x  총_직장_인구_수_x  총_생활인구_수_x     점포수_y  총_직장_인구_수_y  총_생활인구_수_y  도심\n",
       "0     1.466482     1.423805   -1.635368  1.082146     0.790915   -1.809769   1\n",
       "1     0.114631     0.317615   -0.133935 -0.064296     0.578999   -0.461570   1\n",
       "2     1.623943     3.717765   -0.894809  1.535069     3.628849   -1.462965   1\n",
       "3     0.055405     0.104818   -0.662271 -0.121498    -0.529187   -0.770622   1\n",
       "4    -0.621573    -0.464787   -2.145716 -0.659611    -0.248099   -2.138868   1\n",
       "...        ...          ...         ...       ...          ...         ...  ..\n",
       "1004 -0.571948    -0.537758    0.334939 -0.556788    -0.482339    0.614503   0\n",
       "1005 -0.179106    -0.300550   -1.856283 -0.164806    -0.609466   -1.672894   0\n",
       "1006  0.593050    -0.272964    1.660022  0.648123    -0.440440    1.360518   0\n",
       "1007  0.262246    -0.185773    2.216647  0.022808    -0.048830    2.162846   0\n",
       "1008 -0.615105    -0.408288    2.374567 -0.323886    -0.413497    2.603360   0\n",
       "\n",
       "[1009 rows x 7 columns]"
      ]
     },
     "execution_count": 10,
     "metadata": {},
     "output_type": "execute_result"
    }
   ],
   "source": [
    "x_scale_df['도심'] = x['도심_x']\n",
    "x_scale_df"
   ]
  },
  {
   "cell_type": "markdown",
   "metadata": {},
   "source": [
    "### 훈련데이터와 검증데이터 분할"
   ]
  },
  {
   "cell_type": "code",
   "execution_count": 11,
   "metadata": {},
   "outputs": [
    {
     "data": {
      "text/plain": [
       "((706, 7), (303, 7), (706,), (303,))"
      ]
     },
     "execution_count": 11,
     "metadata": {},
     "output_type": "execute_result"
    }
   ],
   "source": [
    "x_train, x_test, y_train, y_test = train_test_split(x_scale_df, y, test_size=0.3, random_state=777)\n",
    "x_train.shape, x_test.shape, y_train.shape, y_test.shape"
   ]
  },
  {
   "cell_type": "markdown",
   "metadata": {},
   "source": [
    "## #06. 모델개발\n",
    "\n",
    "### 모델정의"
   ]
  },
  {
   "cell_type": "code",
   "execution_count": 12,
   "metadata": {},
   "outputs": [
    {
     "data": {
      "text/plain": [
       "7"
      ]
     },
     "execution_count": 12,
     "metadata": {},
     "output_type": "execute_result"
    }
   ],
   "source": [
    "len(x_scale_df.columns)"
   ]
  },
  {
   "cell_type": "code",
   "execution_count": 13,
   "metadata": {},
   "outputs": [
    {
     "name": "stdout",
     "output_type": "stream",
     "text": [
      "Model: \"sequential\"\n",
      "_________________________________________________________________\n",
      " Layer (type)                Output Shape              Param #   \n",
      "=================================================================\n",
      " dense (Dense)               (None, 64)                512       \n",
      "                                                                 \n",
      " dense_1 (Dense)             (None, 1)                 65        \n",
      "                                                                 \n",
      "=================================================================\n",
      "Total params: 577 (2.25 KB)\n",
      "Trainable params: 577 (2.25 KB)\n",
      "Non-trainable params: 0 (0.00 Byte)\n",
      "_________________________________________________________________\n"
     ]
    }
   ],
   "source": [
    "model = Sequential()\n",
    "model.add(Dense(64, activation='relu', input_shape=(7, )))\n",
    "model.add(Dense(1, activation='sigmoid'))\n",
    "model.compile(optimizer='rmsprop', loss='binary_crossentropy', metrics=['acc'])\n",
    "model.summary()"
   ]
  },
  {
   "cell_type": "markdown",
   "metadata": {},
   "source": [
    "### 학습하기"
   ]
  },
  {
   "cell_type": "code",
   "execution_count": 14,
   "metadata": {},
   "outputs": [
    {
     "name": "stdout",
     "output_type": "stream",
     "text": [
      "Epoch 1/500\n",
      "23/23 [==============================] - 1s 17ms/step - loss: 0.7061 - acc: 0.5099 - val_loss: 0.6911 - val_acc: 0.5347 - lr: 0.0010\n",
      "Epoch 2/500\n",
      "23/23 [==============================] - 0s 5ms/step - loss: 0.6934 - acc: 0.5000 - val_loss: 0.6896 - val_acc: 0.5215 - lr: 0.0010\n",
      "Epoch 3/500\n",
      "23/23 [==============================] - 0s 4ms/step - loss: 0.6904 - acc: 0.5368 - val_loss: 0.6883 - val_acc: 0.5380 - lr: 0.0010\n",
      "Epoch 4/500\n",
      "23/23 [==============================] - 0s 5ms/step - loss: 0.6870 - acc: 0.5496 - val_loss: 0.6912 - val_acc: 0.5215 - lr: 0.0010\n",
      "Epoch 5/500\n",
      "23/23 [==============================] - 0s 4ms/step - loss: 0.6860 - acc: 0.5538 - val_loss: 0.6905 - val_acc: 0.5347 - lr: 0.0010\n",
      "Epoch 6/500\n",
      "17/23 [=====================>........] - ETA: 0s - loss: 0.6849 - acc: 0.5588\n",
      "Epoch 6: ReduceLROnPlateau reducing learning rate to 0.0005000000237487257.\n",
      "23/23 [==============================] - 0s 5ms/step - loss: 0.6837 - acc: 0.5666 - val_loss: 0.6912 - val_acc: 0.5347 - lr: 0.0010\n",
      "Epoch 7/500\n",
      "23/23 [==============================] - 0s 4ms/step - loss: 0.6821 - acc: 0.5567 - val_loss: 0.6912 - val_acc: 0.5314 - lr: 5.0000e-04\n",
      "Epoch 8/500\n",
      "23/23 [==============================] - 0s 14ms/step - loss: 0.6813 - acc: 0.5581 - val_loss: 0.6902 - val_acc: 0.5347 - lr: 5.0000e-04\n",
      "Epoch 8: early stopping\n"
     ]
    }
   ],
   "source": [
    "result = model.fit(x_train, y_train, epochs=500, validation_data=(x_test, y_test), callbacks=\n",
    "                   [EarlyStopping(monitor='val_loss', patience=5, verbose=1),\n",
    "                    ReduceLROnPlateau(monitor='val_loss', patience=3, factor=0.5, min_lr=0.0001, verbose=1)])"
   ]
  },
  {
   "cell_type": "markdown",
   "metadata": {},
   "source": [
    "## #07. 학습 결과 평가"
   ]
  },
  {
   "cell_type": "code",
   "execution_count": 18,
   "metadata": {},
   "outputs": [
    {
     "data": {
      "text/html": [
       "<div>\n",
       "<style scoped>\n",
       "    .dataframe tbody tr th:only-of-type {\n",
       "        vertical-align: middle;\n",
       "    }\n",
       "\n",
       "    .dataframe tbody tr th {\n",
       "        vertical-align: top;\n",
       "    }\n",
       "\n",
       "    .dataframe thead th {\n",
       "        text-align: right;\n",
       "    }\n",
       "</style>\n",
       "<table border=\"1\" class=\"dataframe\">\n",
       "  <thead>\n",
       "    <tr style=\"text-align: right;\">\n",
       "      <th></th>\n",
       "      <th>loss</th>\n",
       "      <th>acc</th>\n",
       "      <th>val_loss</th>\n",
       "      <th>val_acc</th>\n",
       "      <th>lr</th>\n",
       "    </tr>\n",
       "    <tr>\n",
       "      <th>epochs</th>\n",
       "      <th></th>\n",
       "      <th></th>\n",
       "      <th></th>\n",
       "      <th></th>\n",
       "      <th></th>\n",
       "    </tr>\n",
       "  </thead>\n",
       "  <tbody>\n",
       "    <tr>\n",
       "      <th>1</th>\n",
       "      <td>0.706147</td>\n",
       "      <td>0.509915</td>\n",
       "      <td>0.691053</td>\n",
       "      <td>0.534653</td>\n",
       "      <td>0.0010</td>\n",
       "    </tr>\n",
       "    <tr>\n",
       "      <th>2</th>\n",
       "      <td>0.693429</td>\n",
       "      <td>0.500000</td>\n",
       "      <td>0.689561</td>\n",
       "      <td>0.521452</td>\n",
       "      <td>0.0010</td>\n",
       "    </tr>\n",
       "    <tr>\n",
       "      <th>3</th>\n",
       "      <td>0.690399</td>\n",
       "      <td>0.536827</td>\n",
       "      <td>0.688320</td>\n",
       "      <td>0.537954</td>\n",
       "      <td>0.0010</td>\n",
       "    </tr>\n",
       "    <tr>\n",
       "      <th>4</th>\n",
       "      <td>0.686957</td>\n",
       "      <td>0.549575</td>\n",
       "      <td>0.691227</td>\n",
       "      <td>0.521452</td>\n",
       "      <td>0.0010</td>\n",
       "    </tr>\n",
       "    <tr>\n",
       "      <th>5</th>\n",
       "      <td>0.686040</td>\n",
       "      <td>0.553824</td>\n",
       "      <td>0.690491</td>\n",
       "      <td>0.534653</td>\n",
       "      <td>0.0010</td>\n",
       "    </tr>\n",
       "    <tr>\n",
       "      <th>6</th>\n",
       "      <td>0.683724</td>\n",
       "      <td>0.566572</td>\n",
       "      <td>0.691231</td>\n",
       "      <td>0.534653</td>\n",
       "      <td>0.0010</td>\n",
       "    </tr>\n",
       "    <tr>\n",
       "      <th>7</th>\n",
       "      <td>0.682052</td>\n",
       "      <td>0.556657</td>\n",
       "      <td>0.691181</td>\n",
       "      <td>0.531353</td>\n",
       "      <td>0.0005</td>\n",
       "    </tr>\n",
       "    <tr>\n",
       "      <th>8</th>\n",
       "      <td>0.681295</td>\n",
       "      <td>0.558074</td>\n",
       "      <td>0.690152</td>\n",
       "      <td>0.534653</td>\n",
       "      <td>0.0005</td>\n",
       "    </tr>\n",
       "  </tbody>\n",
       "</table>\n",
       "</div>"
      ],
      "text/plain": [
       "            loss       acc  val_loss   val_acc      lr\n",
       "epochs                                                \n",
       "1       0.706147  0.509915  0.691053  0.534653  0.0010\n",
       "2       0.693429  0.500000  0.689561  0.521452  0.0010\n",
       "3       0.690399  0.536827  0.688320  0.537954  0.0010\n",
       "4       0.686957  0.549575  0.691227  0.521452  0.0010\n",
       "5       0.686040  0.553824  0.690491  0.534653  0.0010\n",
       "6       0.683724  0.566572  0.691231  0.534653  0.0010\n",
       "7       0.682052  0.556657  0.691181  0.531353  0.0005\n",
       "8       0.681295  0.558074  0.690152  0.534653  0.0005"
      ]
     },
     "execution_count": 18,
     "metadata": {},
     "output_type": "execute_result"
    }
   ],
   "source": [
    "result_df = DataFrame(result.history)\n",
    "result_df['epochs'] = result_df.index + 1\n",
    "result_df.set_index('epochs', inplace=True)\n",
    "result_df"
   ]
  },
  {
   "cell_type": "code",
   "execution_count": 19,
   "metadata": {},
   "outputs": [
    {
     "data": {
      "text/plain": [
       "Index(['loss', 'acc', 'val_loss', 'val_acc', 'lr'], dtype='object')"
      ]
     },
     "execution_count": 19,
     "metadata": {},
     "output_type": "execute_result"
    }
   ],
   "source": [
    "column_names = result_df.columns\n",
    "column_names"
   ]
  },
  {
   "cell_type": "code",
   "execution_count": 20,
   "metadata": {},
   "outputs": [],
   "source": [
    "train_column_name = [column_names[0], column_names[1]]\n",
    "test_column_name = [column_names[2], column_names[3]]"
   ]
  },
  {
   "cell_type": "code",
   "execution_count": 22,
   "metadata": {},
   "outputs": [
    {
     "data": {
      "image/png": "[encoded data removed]",
      "text/plain": [
       "<Figure size 2000x800 with 2 Axes>"
      ]
     },
     "metadata": {},
     "output_type": "display_data"
    }
   ],
   "source": [
    "fig, ax = plt.subplots(1,2,figsize=(20,8))\n",
    "for i, v in enumerate(ax):\n",
    "    sb.lineplot(x=result_df.index, y=train_column_name[i], data=result_df, color='blue', label=train_column_name[i], ax=v)\n",
    "    sb.lineplot(x=result_df.index, y=test_column_name[i], data=result_df, color='orange', label=test_column_name[i], ax=v)\n",
    "    v.set_title(train_column_name[i])\n",
    "    v.set_xlabel('ephocs')\n",
    "    v.set_ylabel(train_column_name[i])\n",
    "    v.grid()\n",
    "    v.legend()\n",
    "\n",
    "plt.show()\n",
    "plt.close()"
   ]
  },
  {
   "cell_type": "code",
   "execution_count": null,
   "metadata": {},
   "outputs": [],
   "source": []
  },
  {
   "cell_type": "markdown",
   "metadata": {},
   "source": []
  }
 ],
 "metadata": {
  "kernelspec": {
   "display_name": "Python 3",
   "language": "python",
   "name": "python3"
  },
  "language_info": {
   "codemirror_mode": {
    "name": "ipython",
    "version": 3
   },
   "file_extension": ".py",
   "mimetype": "text/x-python",
   "name": "python",
   "nbconvert_exporter": "python",
   "pygments_lexer": "ipython3",
   "version": "3.9.13"
  },
  "orig_nbformat": 4
 },
 "nbformat": 4,
 "nbformat_minor": 2
}
