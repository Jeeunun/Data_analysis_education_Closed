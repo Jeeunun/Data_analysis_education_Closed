{
 "cells": [
  {
   "cell_type": "markdown",
   "metadata": {},
   "source": [
    "# 연습문제"
   ]
  },
  {
   "cell_type": "code",
   "execution_count": 4,
   "metadata": {},
   "outputs": [],
   "source": [
    "import sys\n",
    "\n",
    "sys.path.append(\"../../\")\n",
    "import helper\n",
    "\n",
    "import numpy as np\n",
    "import seaborn as sb\n",
    "from pandas import read_excel, DataFrame\n",
    "from matplotlib import pyplot as plt\n",
    "\n",
    "from sklearn.linear_model import LinearRegression\n",
    "from sklearn.model_selection import train_test_split\n",
    "from sklearn.preprocessing import PolynomialFeatures\n",
    "\n",
    "# 성능 측정 지표 모듈 (실제값과 예측값 측정 = 잔차를 통해 성능을 측정하는 것)\n",
    "from sklearn.metrics import mean_squared_error, r2_score, mean_absolute_error, mean_squared_log_error"
   ]
  },
  {
   "cell_type": "markdown",
   "metadata": {},
   "source": [
    "# 문1"
   ]
  },
  {
   "cell_type": "code",
   "execution_count": 10,
   "metadata": {},
   "outputs": [
    {
     "data": {
      "text/html": [
       "<div>\n",
       "<style scoped>\n",
       "    .dataframe tbody tr th:only-of-type {\n",
       "        vertical-align: middle;\n",
       "    }\n",
       "\n",
       "    .dataframe tbody tr th {\n",
       "        vertical-align: top;\n",
       "    }\n",
       "\n",
       "    .dataframe thead th {\n",
       "        text-align: right;\n",
       "    }\n",
       "</style>\n",
       "<table border=\"1\" class=\"dataframe\">\n",
       "  <thead>\n",
       "    <tr style=\"text-align: right;\">\n",
       "      <th></th>\n",
       "      <th>수분함유량</th>\n",
       "      <th>강도</th>\n",
       "    </tr>\n",
       "  </thead>\n",
       "  <tbody>\n",
       "    <tr>\n",
       "      <th>0</th>\n",
       "      <td>36</td>\n",
       "      <td>29</td>\n",
       "    </tr>\n",
       "    <tr>\n",
       "      <th>1</th>\n",
       "      <td>40</td>\n",
       "      <td>32</td>\n",
       "    </tr>\n",
       "    <tr>\n",
       "      <th>2</th>\n",
       "      <td>34</td>\n",
       "      <td>29</td>\n",
       "    </tr>\n",
       "    <tr>\n",
       "      <th>3</th>\n",
       "      <td>44</td>\n",
       "      <td>40</td>\n",
       "    </tr>\n",
       "    <tr>\n",
       "      <th>4</th>\n",
       "      <td>33</td>\n",
       "      <td>31</td>\n",
       "    </tr>\n",
       "    <tr>\n",
       "      <th>5</th>\n",
       "      <td>36</td>\n",
       "      <td>29</td>\n",
       "    </tr>\n",
       "    <tr>\n",
       "      <th>6</th>\n",
       "      <td>40</td>\n",
       "      <td>34</td>\n",
       "    </tr>\n",
       "    <tr>\n",
       "      <th>7</th>\n",
       "      <td>33</td>\n",
       "      <td>30</td>\n",
       "    </tr>\n",
       "    <tr>\n",
       "      <th>8</th>\n",
       "      <td>26</td>\n",
       "      <td>25</td>\n",
       "    </tr>\n",
       "    <tr>\n",
       "      <th>9</th>\n",
       "      <td>36</td>\n",
       "      <td>31</td>\n",
       "    </tr>\n",
       "  </tbody>\n",
       "</table>\n",
       "</div>"
      ],
      "text/plain": [
       "   수분함유량  강도\n",
       "0     36  29\n",
       "1     40  32\n",
       "2     34  29\n",
       "3     44  40\n",
       "4     33  31\n",
       "5     36  29\n",
       "6     40  34\n",
       "7     33  30\n",
       "8     26  25\n",
       "9     36  31"
      ]
     },
     "execution_count": 10,
     "metadata": {},
     "output_type": "execute_result"
    }
   ],
   "source": [
    "# 데이터 가져오기\n",
    "# 수분함유량 (독립변수) . 강도(종속변수)\n",
    "df1 = read_excel(\"https://data.hossam.kr/E04/beans.xlsx\")\n",
    "df1"
   ]
  },
  {
   "cell_type": "code",
   "execution_count": 11,
   "metadata": {},
   "outputs": [
    {
     "data": {
      "text/plain": [
       "array([[  36., 1296.],\n",
       "       [  40., 1600.],\n",
       "       [  34., 1156.],\n",
       "       [  44., 1936.],\n",
       "       [  33., 1089.],\n",
       "       [  36., 1296.],\n",
       "       [  40., 1600.],\n",
       "       [  33., 1089.],\n",
       "       [  26.,  676.],\n",
       "       [  36., 1296.]])"
      ]
     },
     "execution_count": 11,
     "metadata": {},
     "output_type": "execute_result"
    }
   ],
   "source": [
    "# 다항식 생성\n",
    "poly = PolynomialFeatures(include_bias=False)\n",
    "\n",
    "# 훈련시키기\n",
    "fit = poly.fit_transform(df1[['수분함유량']])\n",
    "fit\n"
   ]
  },
  {
   "cell_type": "code",
   "execution_count": 13,
   "metadata": {},
   "outputs": [
    {
     "data": {
      "text/html": [
       "<div>\n",
       "<style scoped>\n",
       "    .dataframe tbody tr th:only-of-type {\n",
       "        vertical-align: middle;\n",
       "    }\n",
       "\n",
       "    .dataframe tbody tr th {\n",
       "        vertical-align: top;\n",
       "    }\n",
       "\n",
       "    .dataframe thead th {\n",
       "        text-align: right;\n",
       "    }\n",
       "</style>\n",
       "<table border=\"1\" class=\"dataframe\">\n",
       "  <thead>\n",
       "    <tr style=\"text-align: right;\">\n",
       "      <th></th>\n",
       "      <th>수분함유량</th>\n",
       "      <th>수분함유량^2</th>\n",
       "    </tr>\n",
       "  </thead>\n",
       "  <tbody>\n",
       "    <tr>\n",
       "      <th>0</th>\n",
       "      <td>36.0</td>\n",
       "      <td>1296.0</td>\n",
       "    </tr>\n",
       "    <tr>\n",
       "      <th>1</th>\n",
       "      <td>40.0</td>\n",
       "      <td>1600.0</td>\n",
       "    </tr>\n",
       "    <tr>\n",
       "      <th>2</th>\n",
       "      <td>34.0</td>\n",
       "      <td>1156.0</td>\n",
       "    </tr>\n",
       "    <tr>\n",
       "      <th>3</th>\n",
       "      <td>44.0</td>\n",
       "      <td>1936.0</td>\n",
       "    </tr>\n",
       "    <tr>\n",
       "      <th>4</th>\n",
       "      <td>33.0</td>\n",
       "      <td>1089.0</td>\n",
       "    </tr>\n",
       "    <tr>\n",
       "      <th>5</th>\n",
       "      <td>36.0</td>\n",
       "      <td>1296.0</td>\n",
       "    </tr>\n",
       "    <tr>\n",
       "      <th>6</th>\n",
       "      <td>40.0</td>\n",
       "      <td>1600.0</td>\n",
       "    </tr>\n",
       "    <tr>\n",
       "      <th>7</th>\n",
       "      <td>33.0</td>\n",
       "      <td>1089.0</td>\n",
       "    </tr>\n",
       "    <tr>\n",
       "      <th>8</th>\n",
       "      <td>26.0</td>\n",
       "      <td>676.0</td>\n",
       "    </tr>\n",
       "    <tr>\n",
       "      <th>9</th>\n",
       "      <td>36.0</td>\n",
       "      <td>1296.0</td>\n",
       "    </tr>\n",
       "  </tbody>\n",
       "</table>\n",
       "</div>"
      ],
      "text/plain": [
       "   수분함유량  수분함유량^2\n",
       "0   36.0   1296.0\n",
       "1   40.0   1600.0\n",
       "2   34.0   1156.0\n",
       "3   44.0   1936.0\n",
       "4   33.0   1089.0\n",
       "5   36.0   1296.0\n",
       "6   40.0   1600.0\n",
       "7   33.0   1089.0\n",
       "8   26.0    676.0\n",
       "9   36.0   1296.0"
      ]
     },
     "execution_count": 13,
     "metadata": {},
     "output_type": "execute_result"
    }
   ],
   "source": [
    "# 데이터프레임으로 만들기\n",
    "x = DataFrame(fit, columns=poly.get_feature_names_out())\n",
    "x"
   ]
  },
  {
   "cell_type": "code",
   "execution_count": 14,
   "metadata": {},
   "outputs": [
    {
     "data": {
      "text/html": [
       "<div>\n",
       "<style scoped>\n",
       "    .dataframe tbody tr th:only-of-type {\n",
       "        vertical-align: middle;\n",
       "    }\n",
       "\n",
       "    .dataframe tbody tr th {\n",
       "        vertical-align: top;\n",
       "    }\n",
       "\n",
       "    .dataframe thead th {\n",
       "        text-align: right;\n",
       "    }\n",
       "</style>\n",
       "<table border=\"1\" class=\"dataframe\">\n",
       "  <thead>\n",
       "    <tr style=\"text-align: right;\">\n",
       "      <th></th>\n",
       "      <th>강도</th>\n",
       "    </tr>\n",
       "  </thead>\n",
       "  <tbody>\n",
       "    <tr>\n",
       "      <th>0</th>\n",
       "      <td>29</td>\n",
       "    </tr>\n",
       "    <tr>\n",
       "      <th>1</th>\n",
       "      <td>32</td>\n",
       "    </tr>\n",
       "    <tr>\n",
       "      <th>2</th>\n",
       "      <td>29</td>\n",
       "    </tr>\n",
       "    <tr>\n",
       "      <th>3</th>\n",
       "      <td>40</td>\n",
       "    </tr>\n",
       "    <tr>\n",
       "      <th>4</th>\n",
       "      <td>31</td>\n",
       "    </tr>\n",
       "    <tr>\n",
       "      <th>5</th>\n",
       "      <td>29</td>\n",
       "    </tr>\n",
       "    <tr>\n",
       "      <th>6</th>\n",
       "      <td>34</td>\n",
       "    </tr>\n",
       "    <tr>\n",
       "      <th>7</th>\n",
       "      <td>30</td>\n",
       "    </tr>\n",
       "    <tr>\n",
       "      <th>8</th>\n",
       "      <td>25</td>\n",
       "    </tr>\n",
       "    <tr>\n",
       "      <th>9</th>\n",
       "      <td>31</td>\n",
       "    </tr>\n",
       "  </tbody>\n",
       "</table>\n",
       "</div>"
      ],
      "text/plain": [
       "   강도\n",
       "0  29\n",
       "1  32\n",
       "2  29\n",
       "3  40\n",
       "4  31\n",
       "5  29\n",
       "6  34\n",
       "7  30\n",
       "8  25\n",
       "9  31"
      ]
     },
     "execution_count": 14,
     "metadata": {},
     "output_type": "execute_result"
    }
   ],
   "source": [
    "# 종속변수만 추출\n",
    "y = df1[['강도']]\n",
    "y"
   ]
  },
  {
   "cell_type": "code",
   "execution_count": 15,
   "metadata": {},
   "outputs": [
    {
     "data": {
      "text/plain": [
       "((7, 2), (3, 2), (7, 1), (3, 1))"
      ]
     },
     "execution_count": 15,
     "metadata": {},
     "output_type": "execute_result"
    }
   ],
   "source": [
    "# 데이터 분리\n",
    "x_train, x_test, y_train, y_test = train_test_split(x,y,test_size=0.3, random_state=123)\n",
    "x_train.shape, x_test.shape, y_train.shape, y_test.shape"
   ]
  },
  {
   "cell_type": "code",
   "execution_count": 16,
   "metadata": {},
   "outputs": [
    {
     "name": "stdout",
     "output_type": "stream",
     "text": [
      "계수:  [[-2.05422407  0.04045876]]\n",
      "절편:  [51.29936854]\n",
      "훈련데이터 설명력:  0.948987598169573\n",
      "검증데이터 설명력:  -8.143084034528927\n"
     ]
    }
   ],
   "source": [
    "# 회귀분석 수행\n",
    "# 객체 생성\n",
    "model = LinearRegression()\n",
    "# 훈련\n",
    "fit = model.fit(x_train, y_train)\n",
    "\n",
    "print(\"계수: \", fit.coef_)\n",
    "print(\"절편: \", fit.intercept_)\n",
    "print(\"훈련데이터 설명력: \", fit.score(x_train, y_train))\n",
    "print(\"검증데이터 설명력: \", fit.score(x_test, y_test))"
   ]
  },
  {
   "cell_type": "code",
   "execution_count": 35,
   "metadata": {},
   "outputs": [
    {
     "data": {
      "text/plain": [
       "array([29.78185993, 25.23966705, 39.24167623, 33.86442786, 33.86442786,\n",
       "       29.78185993, 28.22608113])"
      ]
     },
     "execution_count": 35,
     "metadata": {},
     "output_type": "execute_result"
    }
   ],
   "source": [
    "# 훈련데이터 예측값 구하기\n",
    "y_train_pred = fit.predict(x_train)\n",
    "y_train_pred = y_train_pred.reshape(-1)\n",
    "y_train_pred"
   ]
  },
  {
   "cell_type": "code",
   "execution_count": 36,
   "metadata": {},
   "outputs": [
    {
     "data": {
      "text/plain": [
       "array([27.56956803, 29.78185993, 27.56956803])"
      ]
     },
     "execution_count": 36,
     "metadata": {},
     "output_type": "execute_result"
    }
   ],
   "source": [
    "# 검증데이터 예측값 구하기\n",
    "y_test_pred = fit.predict(x_test)\n",
    "y_test_pred = y_test_pred.reshape(-1)\n",
    "y_test_pred"
   ]
  },
  {
   "cell_type": "code",
   "execution_count": 19,
   "metadata": {},
   "outputs": [
    {
     "name": "stdout",
     "output_type": "stream",
     "text": [
      "훈련데이터 설명력:  0.948987598169573\n",
      "검증데이터 설명력:  -8.143084034528927\n"
     ]
    }
   ],
   "source": [
    "# 설명력 구하기\n",
    "print(\"훈련데이터 설명력: \", r2_score(y_train, y_train_pred))\n",
    "print(\"검증데이터 설명력: \", r2_score(y_test, y_test_pred))"
   ]
  },
  {
   "cell_type": "code",
   "execution_count": 20,
   "metadata": {},
   "outputs": [
    {
     "name": "stdout",
     "output_type": "stream",
     "text": [
      "훈련데이터_MAE: 0.8245585260510643\n",
      "검증데이터_MAE:  2.214241293532337\n"
     ]
    }
   ],
   "source": [
    "# 에러율 구하기\n",
    "print(\"훈련데이터_MAE:\", mean_absolute_error(y_train, y_train_pred))\n",
    "print(\"검증데이터_MAE: \", mean_absolute_error(y_test, y_test_pred))"
   ]
  },
  {
   "cell_type": "code",
   "execution_count": 21,
   "metadata": {},
   "outputs": [
    {
     "name": "stdout",
     "output_type": "stream",
     "text": [
      "훈련데이터_MSE: 0.9744409819036656\n",
      "검증데이터_MSE:  6.0953893563526185\n"
     ]
    }
   ],
   "source": [
    "print(\"훈련데이터_MSE:\", mean_squared_error(y_train, y_train_pred))\n",
    "print(\"검증데이터_MSE: \", mean_squared_error(y_test, y_test_pred))"
   ]
  },
  {
   "cell_type": "code",
   "execution_count": 22,
   "metadata": {},
   "outputs": [
    {
     "name": "stdout",
     "output_type": "stream",
     "text": [
      "훈련데이터_RMSE: 0.9080520502983649\n",
      "검증데이터_RMSE:  1.4880326923600626\n"
     ]
    }
   ],
   "source": [
    "print(\"훈련데이터_RMSE:\", np.sqrt(mean_absolute_error(y_train, y_train_pred)))\n",
    "print(\"검증데이터_RMSE: \", np.sqrt(mean_absolute_error(y_test, y_test_pred)))"
   ]
  },
  {
   "cell_type": "code",
   "execution_count": 23,
   "metadata": {},
   "outputs": [
    {
     "name": "stdout",
     "output_type": "stream",
     "text": [
      "훈련데이터_MAPE: 2.6248278332767847\n",
      "검증데이터_MAPE:  7.287806079908203\n"
     ]
    }
   ],
   "source": [
    "print(\"훈련데이터_MAPE:\", np.mean(np.abs((y_train.values - y_train_pred)/y_train.values)) * 100)\n",
    "print(\"검증데이터_MAPE: \", np.mean(np.abs((y_test.values - y_test_pred)/y_test.values)) * 100)"
   ]
  },
  {
   "cell_type": "code",
   "execution_count": 24,
   "metadata": {},
   "outputs": [
    {
     "name": "stdout",
     "output_type": "stream",
     "text": [
      "훈련데이터_MPE: -0.08405044961718743\n",
      "검증데이터_MPE:  5.490426927922783\n"
     ]
    }
   ],
   "source": [
    "print(\"훈련데이터_MPE:\", np.mean((y_train.values - y_train_pred)/y_train.values) * 100)\n",
    "print(\"검증데이터_MPE: \", np.mean((y_test.values - y_test_pred)/y_test.values) * 100)"
   ]
  },
  {
   "cell_type": "code",
   "execution_count": 28,
   "metadata": {},
   "outputs": [],
   "source": [
    "plt.rcParams['font.family'] = 'Malgun Gothic'\n",
    "plt.rcParams['font.size'] = 10\n",
    "plt.rcParams['axes.unicode_minus'] = False"
   ]
  },
  {
   "cell_type": "code",
   "execution_count": 38,
   "metadata": {},
   "outputs": [
    {
     "data": {
      "image/png": "[encoded data removed]",
      "text/plain": [
       "<Figure size 1500x500 with 2 Axes>"
      ]
     },
     "metadata": {},
     "output_type": "display_data"
    }
   ],
   "source": [
    "# 관측치와 예측치 시각화 \n",
    "fig, (ax1, ax2) = plt.subplots(1,2,figsize=(15,5))\n",
    "\n",
    "#훈련데이터관측값 + 훈련데이터예측값\n",
    "sb.scatterplot(x=x_train['수분함유량'], y=y_train['강도'], label='훈련데이터_관측값',ax=ax1)\n",
    "sb.scatterplot(x=x_train['수분함유량'], y=y_train_pred, label='훈련데이터_예측값', ax=ax1)\n",
    "\n",
    "ax1.set_title(\"훈련데이터\")\n",
    "ax1.legend()\n",
    "ax1.grid()\n",
    "\n",
    "# 검증데이터관측값 + 검증데이터예측값\n",
    "sb.scatterplot(x=x_test['수분함유량'], y=y_test['강도'], label='검증데이터_관측값', ax=ax2)\n",
    "sb.scatterplot(x=x_test['수분함유량'], y=y_test_pred, label='검증데이터_예측값', ax=ax2)\n",
    "\n",
    "ax2.set_title(\"검증데이터\")\n",
    "ax2.legend()\n",
    "ax2.grid()\n",
    "\n",
    "plt.show()\n",
    "plt.close()"
   ]
  },
  {
   "cell_type": "markdown",
   "metadata": {},
   "source": [
    "************\n",
    "# 문2"
   ]
  },
  {
   "cell_type": "code",
   "execution_count": 39,
   "metadata": {},
   "outputs": [
    {
     "data": {
      "text/html": [
       "<div>\n",
       "<style scoped>\n",
       "    .dataframe tbody tr th:only-of-type {\n",
       "        vertical-align: middle;\n",
       "    }\n",
       "\n",
       "    .dataframe tbody tr th {\n",
       "        vertical-align: top;\n",
       "    }\n",
       "\n",
       "    .dataframe thead th {\n",
       "        text-align: right;\n",
       "    }\n",
       "</style>\n",
       "<table border=\"1\" class=\"dataframe\">\n",
       "  <thead>\n",
       "    <tr style=\"text-align: right;\">\n",
       "      <th></th>\n",
       "      <th>예약대수</th>\n",
       "      <th>판매대수</th>\n",
       "    </tr>\n",
       "  </thead>\n",
       "  <tbody>\n",
       "    <tr>\n",
       "      <th>0</th>\n",
       "      <td>19</td>\n",
       "      <td>33</td>\n",
       "    </tr>\n",
       "    <tr>\n",
       "      <th>1</th>\n",
       "      <td>23</td>\n",
       "      <td>51</td>\n",
       "    </tr>\n",
       "    <tr>\n",
       "      <th>2</th>\n",
       "      <td>26</td>\n",
       "      <td>40</td>\n",
       "    </tr>\n",
       "    <tr>\n",
       "      <th>3</th>\n",
       "      <td>29</td>\n",
       "      <td>49</td>\n",
       "    </tr>\n",
       "    <tr>\n",
       "      <th>4</th>\n",
       "      <td>30</td>\n",
       "      <td>50</td>\n",
       "    </tr>\n",
       "    <tr>\n",
       "      <th>5</th>\n",
       "      <td>38</td>\n",
       "      <td>69</td>\n",
       "    </tr>\n",
       "    <tr>\n",
       "      <th>6</th>\n",
       "      <td>39</td>\n",
       "      <td>70</td>\n",
       "    </tr>\n",
       "    <tr>\n",
       "      <th>7</th>\n",
       "      <td>46</td>\n",
       "      <td>64</td>\n",
       "    </tr>\n",
       "    <tr>\n",
       "      <th>8</th>\n",
       "      <td>49</td>\n",
       "      <td>89</td>\n",
       "    </tr>\n",
       "    <tr>\n",
       "      <th>9</th>\n",
       "      <td>58</td>\n",
       "      <td>98</td>\n",
       "    </tr>\n",
       "  </tbody>\n",
       "</table>\n",
       "</div>"
      ],
      "text/plain": [
       "   예약대수  판매대수\n",
       "0    19    33\n",
       "1    23    51\n",
       "2    26    40\n",
       "3    29    49\n",
       "4    30    50\n",
       "5    38    69\n",
       "6    39    70\n",
       "7    46    64\n",
       "8    49    89\n",
       "9    58    98"
      ]
     },
     "execution_count": 39,
     "metadata": {},
     "output_type": "execute_result"
    }
   ],
   "source": [
    "# 데이터 가져오기\n",
    "df2 = read_excel(\"https://data.hossam.kr/E04/aircon.xlsx\")\n",
    "df2"
   ]
  },
  {
   "cell_type": "code",
   "execution_count": 40,
   "metadata": {},
   "outputs": [
    {
     "data": {
      "text/plain": [
       "array([[  19.,  361.],\n",
       "       [  23.,  529.],\n",
       "       [  26.,  676.],\n",
       "       [  29.,  841.],\n",
       "       [  30.,  900.],\n",
       "       [  38., 1444.],\n",
       "       [  39., 1521.],\n",
       "       [  46., 2116.],\n",
       "       [  49., 2401.],\n",
       "       [  58., 3364.]])"
      ]
     },
     "execution_count": 40,
     "metadata": {},
     "output_type": "execute_result"
    }
   ],
   "source": [
    "# 다항식 생성\n",
    "poly = PolynomialFeatures(include_bias=False)\n",
    "fit = poly.fit_transform(df2[['예약대수']])\n",
    "fit"
   ]
  },
  {
   "cell_type": "code",
   "execution_count": 45,
   "metadata": {},
   "outputs": [
    {
     "data": {
      "text/html": [
       "<div>\n",
       "<style scoped>\n",
       "    .dataframe tbody tr th:only-of-type {\n",
       "        vertical-align: middle;\n",
       "    }\n",
       "\n",
       "    .dataframe tbody tr th {\n",
       "        vertical-align: top;\n",
       "    }\n",
       "\n",
       "    .dataframe thead th {\n",
       "        text-align: right;\n",
       "    }\n",
       "</style>\n",
       "<table border=\"1\" class=\"dataframe\">\n",
       "  <thead>\n",
       "    <tr style=\"text-align: right;\">\n",
       "      <th></th>\n",
       "      <th>예약대수</th>\n",
       "      <th>예약대수^2</th>\n",
       "    </tr>\n",
       "  </thead>\n",
       "  <tbody>\n",
       "    <tr>\n",
       "      <th>0</th>\n",
       "      <td>19.0</td>\n",
       "      <td>361.0</td>\n",
       "    </tr>\n",
       "    <tr>\n",
       "      <th>1</th>\n",
       "      <td>23.0</td>\n",
       "      <td>529.0</td>\n",
       "    </tr>\n",
       "    <tr>\n",
       "      <th>2</th>\n",
       "      <td>26.0</td>\n",
       "      <td>676.0</td>\n",
       "    </tr>\n",
       "    <tr>\n",
       "      <th>3</th>\n",
       "      <td>29.0</td>\n",
       "      <td>841.0</td>\n",
       "    </tr>\n",
       "    <tr>\n",
       "      <th>4</th>\n",
       "      <td>30.0</td>\n",
       "      <td>900.0</td>\n",
       "    </tr>\n",
       "    <tr>\n",
       "      <th>5</th>\n",
       "      <td>38.0</td>\n",
       "      <td>1444.0</td>\n",
       "    </tr>\n",
       "    <tr>\n",
       "      <th>6</th>\n",
       "      <td>39.0</td>\n",
       "      <td>1521.0</td>\n",
       "    </tr>\n",
       "    <tr>\n",
       "      <th>7</th>\n",
       "      <td>46.0</td>\n",
       "      <td>2116.0</td>\n",
       "    </tr>\n",
       "    <tr>\n",
       "      <th>8</th>\n",
       "      <td>49.0</td>\n",
       "      <td>2401.0</td>\n",
       "    </tr>\n",
       "    <tr>\n",
       "      <th>9</th>\n",
       "      <td>58.0</td>\n",
       "      <td>3364.0</td>\n",
       "    </tr>\n",
       "  </tbody>\n",
       "</table>\n",
       "</div>"
      ],
      "text/plain": [
       "   예약대수  예약대수^2\n",
       "0  19.0   361.0\n",
       "1  23.0   529.0\n",
       "2  26.0   676.0\n",
       "3  29.0   841.0\n",
       "4  30.0   900.0\n",
       "5  38.0  1444.0\n",
       "6  39.0  1521.0\n",
       "7  46.0  2116.0\n",
       "8  49.0  2401.0\n",
       "9  58.0  3364.0"
      ]
     },
     "execution_count": 45,
     "metadata": {},
     "output_type": "execute_result"
    }
   ],
   "source": [
    "# 데이터프레임으로 만들기\n",
    "x = DataFrame(fit, columns=poly.get_feature_names_out())\n",
    "x"
   ]
  },
  {
   "cell_type": "code",
   "execution_count": 42,
   "metadata": {},
   "outputs": [
    {
     "data": {
      "text/html": [
       "<div>\n",
       "<style scoped>\n",
       "    .dataframe tbody tr th:only-of-type {\n",
       "        vertical-align: middle;\n",
       "    }\n",
       "\n",
       "    .dataframe tbody tr th {\n",
       "        vertical-align: top;\n",
       "    }\n",
       "\n",
       "    .dataframe thead th {\n",
       "        text-align: right;\n",
       "    }\n",
       "</style>\n",
       "<table border=\"1\" class=\"dataframe\">\n",
       "  <thead>\n",
       "    <tr style=\"text-align: right;\">\n",
       "      <th></th>\n",
       "      <th>판매대수</th>\n",
       "    </tr>\n",
       "  </thead>\n",
       "  <tbody>\n",
       "    <tr>\n",
       "      <th>0</th>\n",
       "      <td>33</td>\n",
       "    </tr>\n",
       "    <tr>\n",
       "      <th>1</th>\n",
       "      <td>51</td>\n",
       "    </tr>\n",
       "    <tr>\n",
       "      <th>2</th>\n",
       "      <td>40</td>\n",
       "    </tr>\n",
       "    <tr>\n",
       "      <th>3</th>\n",
       "      <td>49</td>\n",
       "    </tr>\n",
       "    <tr>\n",
       "      <th>4</th>\n",
       "      <td>50</td>\n",
       "    </tr>\n",
       "    <tr>\n",
       "      <th>5</th>\n",
       "      <td>69</td>\n",
       "    </tr>\n",
       "    <tr>\n",
       "      <th>6</th>\n",
       "      <td>70</td>\n",
       "    </tr>\n",
       "    <tr>\n",
       "      <th>7</th>\n",
       "      <td>64</td>\n",
       "    </tr>\n",
       "    <tr>\n",
       "      <th>8</th>\n",
       "      <td>89</td>\n",
       "    </tr>\n",
       "    <tr>\n",
       "      <th>9</th>\n",
       "      <td>98</td>\n",
       "    </tr>\n",
       "  </tbody>\n",
       "</table>\n",
       "</div>"
      ],
      "text/plain": [
       "   판매대수\n",
       "0    33\n",
       "1    51\n",
       "2    40\n",
       "3    49\n",
       "4    50\n",
       "5    69\n",
       "6    70\n",
       "7    64\n",
       "8    89\n",
       "9    98"
      ]
     },
     "execution_count": 42,
     "metadata": {},
     "output_type": "execute_result"
    }
   ],
   "source": [
    "# 종속변수 추출\n",
    "y = df2[['판매대수']]\n",
    "y"
   ]
  },
  {
   "cell_type": "code",
   "execution_count": 52,
   "metadata": {},
   "outputs": [
    {
     "data": {
      "text/plain": [
       "(7, 2)"
      ]
     },
     "execution_count": 52,
     "metadata": {},
     "output_type": "execute_result"
    }
   ],
   "source": [
    "# 데이터 분리하기\n",
    "x_train, x_test, y_train, y_test = train_test_split(x,y,test_size=0.3, random_state=123)\n",
    "x_train.shape, x_test.shape, y_train.shape, y_test.shape"
   ]
  },
  {
   "cell_type": "code",
   "execution_count": 56,
   "metadata": {},
   "outputs": [
    {
     "name": "stdout",
     "output_type": "stream",
     "text": [
      "계수: [[ 1.72732907e+00 -1.10258345e-03]]\n",
      "절편: [3.61731765]\n",
      "훈련데이터_설명력 0.9418315846138151\n",
      "검증데이터_설명력 0.3583742568809699\n"
     ]
    }
   ],
   "source": [
    "#회귀분석 수행\n",
    "model = LinearRegression()\n",
    "# 훈련\n",
    "fit = model.fit(x_train, y_train)\n",
    "\n",
    "print(\"계수:\", fit.coef_)\n",
    "print(\"절편:\", fit.intercept_)\n",
    "print(\"훈련데이터_설명력\",fit.score(x_train, y_train))\n",
    "print(\"검증데이터_설명력\",fit.score(x_test, y_test))"
   ]
  },
  {
   "cell_type": "code",
   "execution_count": 58,
   "metadata": {},
   "outputs": [
    {
     "data": {
      "text/plain": [
       "array([54.44486457, 36.03853731, 80.74138818])"
      ]
     },
     "execution_count": 58,
     "metadata": {},
     "output_type": "execute_result"
    }
   ],
   "source": [
    "# 예측값 생성\n",
    "# 훈련데이터 예측값\n",
    "y_train_pred = fit.predict(x_train).reshape(-1)\n",
    "y_train_pred\n",
    "\n",
    "# 검증데이터 예측값\n",
    "y_test_pred = fit.predict(x_test).reshape(-1)\n",
    "y_test_pred"
   ]
  },
  {
   "cell_type": "code",
   "execution_count": 59,
   "metadata": {},
   "outputs": [
    {
     "name": "stdout",
     "output_type": "stream",
     "text": [
      "훈련데이터_설명력 0.9418315846138151\n",
      "검증데이터_설명력 0.3583742568809699\n"
     ]
    }
   ],
   "source": [
    "# 설명력\n",
    "print(\"훈련데이터_설명력\",r2_score(y_train, y_train_pred))\n",
    "print(\"검증데이터_설명력\",r2_score(y_test, y_test_pred))"
   ]
  },
  {
   "cell_type": "code",
   "execution_count": 61,
   "metadata": {},
   "outputs": [
    {
     "name": "stdout",
     "output_type": "stream",
     "text": [
      "훈련데이터_MAE: 3.902407933472026\n",
      "검증데이터_MAE:  8.074930020670541\n",
      "훈련데이터_MSE: 22.982459630133462\n",
      "검증데이터_MSE:  103.08786939445751\n",
      "훈련데이터_RMSE: 4.794002464552293\n",
      "검증데이터_RMSE:  10.153219656564982\n",
      "훈련데이터_MAPE: 35.99688023729883\n",
      "검증데이터_MAPE:  44.65961496142603\n",
      "훈련데이터_MPE: -9.59037168599632\n",
      "검증데이터_MPE:  -25.42792386487005\n"
     ]
    }
   ],
   "source": [
    "# 에러율\n",
    "print(\"훈련데이터_MAE:\", mean_absolute_error(y_train, y_train_pred))\n",
    "print(\"검증데이터_MAE: \", mean_absolute_error(y_test, y_test_pred))\n",
    "\n",
    "print(\"훈련데이터_MSE:\", mean_squared_error(y_train, y_train_pred))\n",
    "print(\"검증데이터_MSE: \", mean_squared_error(y_test, y_test_pred))\n",
    "\n",
    "print(\"훈련데이터_RMSE:\", np.sqrt(mean_squared_error(y_train, y_train_pred)))\n",
    "print(\"검증데이터_RMSE: \", np.sqrt(mean_squared_error(y_test, y_test_pred)))\n",
    "\n",
    "print(\"훈련데이터_MAPE:\", np.mean(np.abs((y_train.values - y_train_pred)/y_train.values))*100)\n",
    "print(\"검증데이터_MAPE: \", np.mean(np.abs((y_test.values - y_test_pred)/y_test.values))*100)\n",
    "\n",
    "print(\"훈련데이터_MPE:\", np.mean(((y_train.values - y_train_pred)/y_train.values))*100)\n",
    "print(\"검증데이터_MPE: \", np.mean(((y_test.values - y_test_pred)/y_test.values))*100)"
   ]
  },
  {
   "cell_type": "code",
   "execution_count": 65,
   "metadata": {},
   "outputs": [
    {
     "data": {
      "image/png": "[encoded data removed]",
      "text/plain": [
       "<Figure size 1500x500 with 2 Axes>"
      ]
     },
     "metadata": {},
     "output_type": "display_data"
    }
   ],
   "source": [
    "# 시각화\n",
    "fig, (ax1, ax2) = plt.subplots(1,2,figsize=(15,5))\n",
    "\n",
    "# 훈련데이터 관측값 + 예측값\n",
    "sb.scatterplot(x=x_train['예약대수'], y=y_train['판매대수'], label='훈련데이터_관측값', ax=ax1)\n",
    "sb.scatterplot(x=x_train['예약대수'], y=y_train_pred, label='훈련데이터_예측값', ax=ax1)\n",
    "\n",
    "ax1.set_title('훈련데이터')\n",
    "ax1.grid()\n",
    "ax1.legend()\n",
    "\n",
    "# 감증데이터 관측값 + 예측값\n",
    "sb.scatterplot(x=x_test['예약대수'], y=y_test['판매대수'], label='검증데이터_관측값', ax=ax2)\n",
    "sb.scatterplot(x=x_test['예약대수'], y=y_test_pred, label='검증데이터_예측값', ax=ax2)\n",
    "\n",
    "ax2.set_title('검증데이터')\n",
    "ax2.grid()\n",
    "ax2.legend()\n",
    "\n",
    "\n",
    "plt.show()\n",
    "plt.close()"
   ]
  },
  {
   "cell_type": "markdown",
   "metadata": {},
   "source": [
    "# 문3"
   ]
  },
  {
   "cell_type": "code",
   "execution_count": 68,
   "metadata": {},
   "outputs": [
    {
     "data": {
      "text/html": [
       "<div>\n",
       "<style scoped>\n",
       "    .dataframe tbody tr th:only-of-type {\n",
       "        vertical-align: middle;\n",
       "    }\n",
       "\n",
       "    .dataframe tbody tr th {\n",
       "        vertical-align: top;\n",
       "    }\n",
       "\n",
       "    .dataframe thead th {\n",
       "        text-align: right;\n",
       "    }\n",
       "</style>\n",
       "<table border=\"1\" class=\"dataframe\">\n",
       "  <thead>\n",
       "    <tr style=\"text-align: right;\">\n",
       "      <th></th>\n",
       "      <th>child</th>\n",
       "      <th>parent</th>\n",
       "    </tr>\n",
       "  </thead>\n",
       "  <tbody>\n",
       "    <tr>\n",
       "      <th>0</th>\n",
       "      <td>61.7</td>\n",
       "      <td>70.5</td>\n",
       "    </tr>\n",
       "    <tr>\n",
       "      <th>1</th>\n",
       "      <td>61.7</td>\n",
       "      <td>68.5</td>\n",
       "    </tr>\n",
       "    <tr>\n",
       "      <th>2</th>\n",
       "      <td>61.7</td>\n",
       "      <td>65.5</td>\n",
       "    </tr>\n",
       "    <tr>\n",
       "      <th>3</th>\n",
       "      <td>61.7</td>\n",
       "      <td>64.5</td>\n",
       "    </tr>\n",
       "    <tr>\n",
       "      <th>4</th>\n",
       "      <td>61.7</td>\n",
       "      <td>64.0</td>\n",
       "    </tr>\n",
       "  </tbody>\n",
       "</table>\n",
       "</div>"
      ],
      "text/plain": [
       "   child  parent\n",
       "0   61.7    70.5\n",
       "1   61.7    68.5\n",
       "2   61.7    65.5\n",
       "3   61.7    64.5\n",
       "4   61.7    64.0"
      ]
     },
     "execution_count": 68,
     "metadata": {},
     "output_type": "execute_result"
    }
   ],
   "source": [
    "#데이터 가져오기\n",
    "df3 = read_excel(\"https://data.hossam.kr/E04/galton.xlsx\")\n",
    "df3.head()"
   ]
  },
  {
   "cell_type": "code",
   "execution_count": 71,
   "metadata": {},
   "outputs": [
    {
     "data": {
      "text/html": [
       "<div>\n",
       "<style scoped>\n",
       "    .dataframe tbody tr th:only-of-type {\n",
       "        vertical-align: middle;\n",
       "    }\n",
       "\n",
       "    .dataframe tbody tr th {\n",
       "        vertical-align: top;\n",
       "    }\n",
       "\n",
       "    .dataframe thead th {\n",
       "        text-align: right;\n",
       "    }\n",
       "</style>\n",
       "<table border=\"1\" class=\"dataframe\">\n",
       "  <thead>\n",
       "    <tr style=\"text-align: right;\">\n",
       "      <th></th>\n",
       "      <th>parent</th>\n",
       "      <th>parent^2</th>\n",
       "    </tr>\n",
       "  </thead>\n",
       "  <tbody>\n",
       "    <tr>\n",
       "      <th>0</th>\n",
       "      <td>70.5</td>\n",
       "      <td>4970.25</td>\n",
       "    </tr>\n",
       "    <tr>\n",
       "      <th>1</th>\n",
       "      <td>68.5</td>\n",
       "      <td>4692.25</td>\n",
       "    </tr>\n",
       "    <tr>\n",
       "      <th>2</th>\n",
       "      <td>65.5</td>\n",
       "      <td>4290.25</td>\n",
       "    </tr>\n",
       "    <tr>\n",
       "      <th>3</th>\n",
       "      <td>64.5</td>\n",
       "      <td>4160.25</td>\n",
       "    </tr>\n",
       "    <tr>\n",
       "      <th>4</th>\n",
       "      <td>64.0</td>\n",
       "      <td>4096.00</td>\n",
       "    </tr>\n",
       "    <tr>\n",
       "      <th>...</th>\n",
       "      <td>...</td>\n",
       "      <td>...</td>\n",
       "    </tr>\n",
       "    <tr>\n",
       "      <th>923</th>\n",
       "      <td>69.5</td>\n",
       "      <td>4830.25</td>\n",
       "    </tr>\n",
       "    <tr>\n",
       "      <th>924</th>\n",
       "      <td>69.5</td>\n",
       "      <td>4830.25</td>\n",
       "    </tr>\n",
       "    <tr>\n",
       "      <th>925</th>\n",
       "      <td>69.5</td>\n",
       "      <td>4830.25</td>\n",
       "    </tr>\n",
       "    <tr>\n",
       "      <th>926</th>\n",
       "      <td>69.5</td>\n",
       "      <td>4830.25</td>\n",
       "    </tr>\n",
       "    <tr>\n",
       "      <th>927</th>\n",
       "      <td>69.5</td>\n",
       "      <td>4830.25</td>\n",
       "    </tr>\n",
       "  </tbody>\n",
       "</table>\n",
       "<p>928 rows × 2 columns</p>\n",
       "</div>"
      ],
      "text/plain": [
       "     parent  parent^2\n",
       "0      70.5   4970.25\n",
       "1      68.5   4692.25\n",
       "2      65.5   4290.25\n",
       "3      64.5   4160.25\n",
       "4      64.0   4096.00\n",
       "..      ...       ...\n",
       "923    69.5   4830.25\n",
       "924    69.5   4830.25\n",
       "925    69.5   4830.25\n",
       "926    69.5   4830.25\n",
       "927    69.5   4830.25\n",
       "\n",
       "[928 rows x 2 columns]"
      ]
     },
     "execution_count": 71,
     "metadata": {},
     "output_type": "execute_result"
    }
   ],
   "source": [
    "# 다항식 생성 및 데이터프레임 만들기\n",
    "poly = PolynomialFeatures(include_bias = False)\n",
    "fit = poly.fit_transform(df3[['parent']])\n",
    "x = DataFrame(fit, columns = poly.get_feature_names_out())\n",
    "x"
   ]
  },
  {
   "cell_type": "code",
   "execution_count": 72,
   "metadata": {},
   "outputs": [
    {
     "data": {
      "text/html": [
       "<div>\n",
       "<style scoped>\n",
       "    .dataframe tbody tr th:only-of-type {\n",
       "        vertical-align: middle;\n",
       "    }\n",
       "\n",
       "    .dataframe tbody tr th {\n",
       "        vertical-align: top;\n",
       "    }\n",
       "\n",
       "    .dataframe thead th {\n",
       "        text-align: right;\n",
       "    }\n",
       "</style>\n",
       "<table border=\"1\" class=\"dataframe\">\n",
       "  <thead>\n",
       "    <tr style=\"text-align: right;\">\n",
       "      <th></th>\n",
       "      <th>child</th>\n",
       "    </tr>\n",
       "  </thead>\n",
       "  <tbody>\n",
       "    <tr>\n",
       "      <th>0</th>\n",
       "      <td>61.7</td>\n",
       "    </tr>\n",
       "    <tr>\n",
       "      <th>1</th>\n",
       "      <td>61.7</td>\n",
       "    </tr>\n",
       "    <tr>\n",
       "      <th>2</th>\n",
       "      <td>61.7</td>\n",
       "    </tr>\n",
       "    <tr>\n",
       "      <th>3</th>\n",
       "      <td>61.7</td>\n",
       "    </tr>\n",
       "    <tr>\n",
       "      <th>4</th>\n",
       "      <td>61.7</td>\n",
       "    </tr>\n",
       "  </tbody>\n",
       "</table>\n",
       "</div>"
      ],
      "text/plain": [
       "   child\n",
       "0   61.7\n",
       "1   61.7\n",
       "2   61.7\n",
       "3   61.7\n",
       "4   61.7"
      ]
     },
     "execution_count": 72,
     "metadata": {},
     "output_type": "execute_result"
    }
   ],
   "source": [
    "# 종속변수 추출\n",
    "y = df3[['child']]\n",
    "y.head()"
   ]
  },
  {
   "cell_type": "code",
   "execution_count": 79,
   "metadata": {},
   "outputs": [
    {
     "data": {
      "text/plain": [
       "((649, 2), (279, 2), (649, 1), (279, 1))"
      ]
     },
     "execution_count": 79,
     "metadata": {},
     "output_type": "execute_result"
    }
   ],
   "source": [
    "# 훈련/검증데이터 분리\n",
    "x_train, x_test, y_train, y_test = train_test_split(x,y,test_size=0.3, random_state=123)\n",
    "x_train.shape, x_test.shape, y_train.shape, y_test.shape"
   ]
  },
  {
   "cell_type": "code",
   "execution_count": 80,
   "metadata": {},
   "outputs": [
    {
     "name": "stdout",
     "output_type": "stream",
     "text": [
      "계수: [[-6.14018278  0.04983418]]\n",
      "절편: [254.8071062]\n",
      "훈련데이터_설명력: 0.21158873072593132\n",
      "검증데이터_설명력: 0.21619722340979886\n"
     ]
    }
   ],
   "source": [
    "# 회귀분석 수행\n",
    "model = LinearRegression()\n",
    "fit = model.fit(x_train, y_train)\n",
    "\n",
    "print(\"계수:\", fit.coef_)\n",
    "print(\"절편:\", fit.intercept_)\n",
    "print(\"훈련데이터_설명력:\", fit.score(x_train, y_train))\n",
    "print(\"검증데이터_설명력:\", fit.score(x_test, y_test))"
   ]
  },
  {
   "cell_type": "code",
   "execution_count": 81,
   "metadata": {},
   "outputs": [
    {
     "data": {
      "text/plain": [
       "array([66.42620674, 68.03899707, 66.86413516, 67.40173194, 68.03899707,\n",
       "       67.40173194, 68.77593054, 66.86413516, 66.86413516, 68.03899707,\n",
       "       68.03899707, 68.03899707, 68.77593054, 68.77593054, 68.03899707,\n",
       "       68.77593054, 69.61253238, 67.40173194, 70.54880256, 69.61253238,\n",
       "       68.77593054, 66.42620674, 69.61253238, 66.86413516, 67.40173194,\n",
       "       68.03899707, 66.42620674, 66.42620674, 68.03899707, 68.03899707,\n",
       "       67.40173194, 66.86413516, 67.40173194, 68.77593054, 67.40173194,\n",
       "       68.03899707, 67.40173194, 66.42620674, 65.95619226, 70.54880256,\n",
       "       67.40173194, 68.03899707, 68.77593054, 68.77593054, 68.77593054,\n",
       "       68.03899707, 68.03899707, 68.77593054, 67.40173194, 67.40173194,\n",
       "       67.40173194, 69.61253238, 66.86413516, 68.03899707, 66.42620674,\n",
       "       66.08794666, 66.86413516, 67.40173194, 67.40173194, 68.77593054,\n",
       "       66.86413516, 67.40173194, 67.40173194, 68.03899707, 67.40173194,\n",
       "       66.42620674, 67.40173194, 66.42620674, 68.77593054, 66.86413516,\n",
       "       68.77593054, 67.40173194, 69.61253238, 67.40173194, 68.77593054,\n",
       "       66.86413516, 67.40173194, 66.42620674, 66.86413516, 66.86413516,\n",
       "       68.77593054, 67.40173194, 67.40173194, 65.95619226, 68.03899707,\n",
       "       66.42620674, 67.40173194, 69.61253238, 68.03899707, 67.40173194,\n",
       "       68.77593054, 69.61253238, 69.61253238, 67.40173194, 68.03899707,\n",
       "       69.61253238, 68.77593054, 69.61253238, 71.58474109, 67.40173194,\n",
       "       68.77593054, 67.40173194, 68.03899707, 68.77593054, 68.77593054,\n",
       "       68.03899707, 66.42620674, 66.42620674, 68.77593054, 67.40173194,\n",
       "       66.86413516, 66.08794666, 68.03899707, 69.61253238, 67.40173194,\n",
       "       70.54880256, 68.03899707, 68.03899707, 68.03899707, 68.03899707,\n",
       "       68.77593054, 68.77593054, 68.03899707, 67.40173194, 68.77593054,\n",
       "       68.77593054, 68.03899707, 70.54880256, 67.40173194, 67.40173194,\n",
       "       66.86413516, 66.42620674, 68.03899707, 68.77593054, 66.42620674,\n",
       "       70.54880256, 70.54880256, 68.03899707, 68.77593054, 70.54880256,\n",
       "       65.95619226, 70.54880256, 69.61253238, 71.58474109, 70.54880256,\n",
       "       68.03899707, 71.58474109, 67.40173194, 68.03899707, 67.40173194,\n",
       "       69.61253238, 67.40173194, 68.77593054, 67.40173194, 68.77593054,\n",
       "       68.77593054, 66.86413516, 71.58474109, 67.40173194, 67.40173194,\n",
       "       67.40173194, 66.42620674, 65.95619226, 66.42620674, 67.40173194,\n",
       "       68.77593054, 72.14008599, 66.86413516, 70.54880256, 68.77593054,\n",
       "       68.03899707, 68.03899707, 68.03899707, 70.54880256, 68.77593054,\n",
       "       68.77593054, 67.40173194, 67.40173194, 68.03899707, 68.03899707,\n",
       "       68.03899707, 66.86413516, 67.40173194, 68.77593054, 67.40173194,\n",
       "       68.03899707, 68.77593054, 68.03899707, 68.77593054, 67.40173194,\n",
       "       68.03899707, 67.40173194, 70.54880256, 69.61253238, 66.08794666,\n",
       "       70.54880256, 68.03899707, 68.03899707, 66.42620674, 68.03899707,\n",
       "       68.03899707, 66.08794666, 68.77593054, 66.86413516, 69.61253238,\n",
       "       67.40173194, 70.54880256, 67.40173194, 71.58474109, 66.42620674,\n",
       "       65.95619226, 67.40173194, 70.54880256, 68.03899707, 66.86413516,\n",
       "       66.08794666, 67.40173194, 70.54880256, 68.03899707, 68.77593054,\n",
       "       68.03899707, 69.61253238, 68.77593054, 66.08794666, 68.77593054,\n",
       "       66.42620674, 65.95619226, 71.58474109, 68.03899707, 68.03899707,\n",
       "       67.40173194, 68.77593054, 68.77593054, 67.40173194, 68.77593054,\n",
       "       66.42620674, 70.54880256, 71.58474109, 65.95619226, 68.77593054,\n",
       "       68.03899707, 68.77593054, 68.77593054, 68.77593054, 66.86413516,\n",
       "       66.08794666, 68.03899707, 68.77593054, 68.03899707, 69.61253238,\n",
       "       71.58474109, 68.03899707, 69.61253238, 66.86413516, 66.42620674,\n",
       "       68.77593054, 68.77593054, 68.03899707, 69.61253238, 68.77593054,\n",
       "       69.61253238, 66.86413516, 66.86413516, 67.40173194, 68.77593054,\n",
       "       69.61253238, 68.03899707, 68.77593054, 69.61253238, 68.77593054,\n",
       "       67.40173194, 67.40173194, 68.77593054, 68.77593054, 66.86413516,\n",
       "       66.08794666, 66.42620674, 67.40173194, 65.95619226])"
      ]
     },
     "execution_count": 81,
     "metadata": {},
     "output_type": "execute_result"
    }
   ],
   "source": [
    "# 훈련데이터와 검증데이터의 예측값 생성\n",
    "y_train_pred = fit.predict(x_train).reshape(-1)\n",
    "y_train_pred\n",
    "\n",
    "y_test_pred = fit.predict(x_test).reshape(-1)\n",
    "y_test_pred"
   ]
  },
  {
   "cell_type": "code",
   "execution_count": 82,
   "metadata": {},
   "outputs": [
    {
     "name": "stdout",
     "output_type": "stream",
     "text": [
      "훈련데이터_설명력: 0.21158873072593132\n",
      "검증데이터_설명력: 0.21619722340979886\n",
      "훈련데이터_MAE: 1.788252802476529\n",
      "검증데이터_MAE:  1.8152110560405572\n",
      "훈련데이터_MSE: 4.991654433992567\n",
      "검증데이터_MSE:  4.958742499024318\n",
      "훈련데이터_RMSE: 2.2342010728653245\n",
      "검증데이터_RMSE:  2.2268234099327047\n",
      "훈련데이터_MAPE: 3.2720114628697248\n",
      "검증데이터_MAPE:  3.3858037503297806\n",
      "훈련데이터_MPE: -0.13766392526720336\n",
      "검증데이터_MPE:  -0.03736449807302859\n"
     ]
    }
   ],
   "source": [
    "# 설명력과 에러율\n",
    "print(\"훈련데이터_설명력:\", r2_score(y_train, y_train_pred))\n",
    "print(\"검증데이터_설명력:\", r2_score(y_test, y_test_pred))\n",
    "\n",
    "print(\"훈련데이터_MAE:\", mean_absolute_error(y_train, y_train_pred))\n",
    "print(\"검증데이터_MAE: \", mean_absolute_error(y_test, y_test_pred))\n",
    "\n",
    "print(\"훈련데이터_MSE:\", mean_squared_error(y_train, y_train_pred))\n",
    "print(\"검증데이터_MSE: \", mean_squared_error(y_test, y_test_pred))\n",
    "\n",
    "print(\"훈련데이터_RMSE:\", np.sqrt(mean_squared_error(y_train, y_train_pred)))\n",
    "print(\"검증데이터_RMSE: \", np.sqrt(mean_squared_error(y_test, y_test_pred)))\n",
    "\n",
    "print(\"훈련데이터_MAPE:\", np.mean(np.abs((y_train.values - y_train_pred)/y_train.values))*100)\n",
    "print(\"검증데이터_MAPE: \", np.mean(np.abs((y_test.values - y_test_pred)/y_test.values))*100)\n",
    "\n",
    "print(\"훈련데이터_MPE:\", np.mean(((y_train.values - y_train_pred)/y_train.values))*100)\n",
    "print(\"검증데이터_MPE: \", np.mean(((y_test.values - y_test_pred)/y_test.values))*100)"
   ]
  },
  {
   "cell_type": "code",
   "execution_count": 84,
   "metadata": {},
   "outputs": [
    {
     "data": {
      "image/png": "[encoded data removed]",
      "text/plain": [
       "<Figure size 1500x500 with 2 Axes>"
      ]
     },
     "metadata": {},
     "output_type": "display_data"
    }
   ],
   "source": [
    "# 시각화\n",
    "fig, (ax1, ax2) = plt.subplots(1,2,figsize=(15,5))\n",
    "\n",
    "#훈련데이터의 관측+예측값\n",
    "sb.scatterplot(x=x_train['parent'], y=y_train['child'], label='훈련데이터_관측값', ax=ax1)\n",
    "sb.scatterplot(x=x_train['parent'], y=y_train_pred, label='훈련데이터_예측값', ax=ax1)\n",
    "\n",
    "ax1.set_title('훈련데이터')\n",
    "ax1.legend()\n",
    "ax1.grid()\n",
    "\n",
    "#검증데이터의 관측+예측값\n",
    "sb.scatterplot(x=x_test['parent'], y=y_test['child'], label='검증데이터_관측값', ax=ax2)\n",
    "sb.scatterplot(x=x_test['parent'], y=y_test_pred, label='검증데이터_예측값', ax=ax2)\n",
    "\n",
    "ax2.set_title('검증데이터')\n",
    "ax2.legend()\n",
    "ax2.grid()\n",
    "\n",
    "plt.show()\n",
    "plt.close()"
   ]
  }
 ],
 "metadata": {
  "kernelspec": {
   "display_name": "Python 3",
   "language": "python",
   "name": "python3"
  },
  "language_info": {
   "codemirror_mode": {
    "name": "ipython",
    "version": 3
   },
   "file_extension": ".py",
   "mimetype": "text/x-python",
   "name": "python",
   "nbconvert_exporter": "python",
   "pygments_lexer": "ipython3",
   "version": "3.11.4"
  },
  "orig_nbformat": 4
 },
 "nbformat": 4,
 "nbformat_minor": 2
}
