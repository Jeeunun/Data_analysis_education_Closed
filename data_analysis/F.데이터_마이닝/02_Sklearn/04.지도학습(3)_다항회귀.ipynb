{
 "cells": [
  {
   "cell_type": "markdown",
   "metadata": {},
   "source": [
    "# 다항회귀분석\n",
    "\n",
    "피쳐들(독립변수)과 레이블(종속변수)이 2차 함수 이상의 관계를 가지는 것으로 곡선이나 좀 더 복잡한 모양을 표현하는 것이 가능\n",
    "\n",
    "## 피쳐들(독립변수)의 차수를 높이는 형태\n",
    "다항회귀 역시 선형회귀로 간주되는데 선형회귀의 정의가 단순히 직선이나 곡선과 같은 모양에 있는 것이 아니라 가중치와 피쳐들의 선형 결합에 있기 때문\n",
    "\n",
    "다항회귀는 별도의 알고리즘이 있는 것이 아니라 피쳐들의 제곱, 서로 곱한 값 등 좀 더 복잡한 값으로 만들어 선형회귀에 넣어서 학습시킴\n",
    "\n",
    "scikit-learn에서는 PolynomialFeatures 클래스로 원본 단항 Features들을 다항 Feature들로 변환한 데이터 세트에 LinearRegression 객체를 적용하는 것으로 다항회귀기능 제공\n",
    "\n",
    "## #01. 작업준비\n",
    "### 패키지 가져오기"
   ]
  },
  {
   "cell_type": "code",
   "execution_count": 1,
   "metadata": {},
   "outputs": [],
   "source": [
    "import sys\n",
    "\n",
    "sys.path.append(\"../../\")\n",
    "import helper\n",
    "\n",
    "import numpy as np\n",
    "import seaborn as sb\n",
    "from pandas import read_excel, DataFrame\n",
    "from matplotlib import pyplot as plt\n",
    "\n",
    "from sklearn.linear_model import LinearRegression\n",
    "from sklearn.model_selection import train_test_split\n",
    "from sklearn.preprocessing import PolynomialFeatures"
   ]
  },
  {
   "cell_type": "markdown",
   "metadata": {},
   "source": [
    "### 그래프 전역 설정"
   ]
  },
  {
   "cell_type": "code",
   "execution_count": 2,
   "metadata": {},
   "outputs": [],
   "source": [
    "plt.rcParams['font.family'] = 'Malgun Gothic'\n",
    "plt.rcParams['font.size'] = 12\n",
    "plt.rcParams['figure.figsize'] = (10,5)\n",
    "plt.rcParams['axes.unicode_minus'] = False"
   ]
  },
  {
   "cell_type": "markdown",
   "metadata": {},
   "source": [
    "## #02. 자동차의 속도(speed)에 따른 제동거리(dist) 예측\n",
    "\n",
    "### 1) 데이터 가져오기"
   ]
  },
  {
   "cell_type": "code",
   "execution_count": 3,
   "metadata": {},
   "outputs": [
    {
     "data": {
      "text/html": [
       "<div>\n",
       "<style scoped>\n",
       "    .dataframe tbody tr th:only-of-type {\n",
       "        vertical-align: middle;\n",
       "    }\n",
       "\n",
       "    .dataframe tbody tr th {\n",
       "        vertical-align: top;\n",
       "    }\n",
       "\n",
       "    .dataframe thead th {\n",
       "        text-align: right;\n",
       "    }\n",
       "</style>\n",
       "<table border=\"1\" class=\"dataframe\">\n",
       "  <thead>\n",
       "    <tr style=\"text-align: right;\">\n",
       "      <th></th>\n",
       "      <th>speed</th>\n",
       "      <th>dist</th>\n",
       "    </tr>\n",
       "  </thead>\n",
       "  <tbody>\n",
       "    <tr>\n",
       "      <th>0</th>\n",
       "      <td>4</td>\n",
       "      <td>2</td>\n",
       "    </tr>\n",
       "    <tr>\n",
       "      <th>1</th>\n",
       "      <td>4</td>\n",
       "      <td>10</td>\n",
       "    </tr>\n",
       "    <tr>\n",
       "      <th>2</th>\n",
       "      <td>7</td>\n",
       "      <td>4</td>\n",
       "    </tr>\n",
       "    <tr>\n",
       "      <th>3</th>\n",
       "      <td>7</td>\n",
       "      <td>22</td>\n",
       "    </tr>\n",
       "    <tr>\n",
       "      <th>4</th>\n",
       "      <td>8</td>\n",
       "      <td>16</td>\n",
       "    </tr>\n",
       "  </tbody>\n",
       "</table>\n",
       "</div>"
      ],
      "text/plain": [
       "   speed  dist\n",
       "0      4     2\n",
       "1      4    10\n",
       "2      7     4\n",
       "3      7    22\n",
       "4      8    16"
      ]
     },
     "execution_count": 3,
     "metadata": {},
     "output_type": "execute_result"
    }
   ],
   "source": [
    "origin = read_excel(\"https://data.hossam.kr/E04/cars.xlsx\")\n",
    "origin.head()"
   ]
  },
  {
   "cell_type": "markdown",
   "metadata": {},
   "source": [
    "### 2) 0차항(1)을 포함하는 2차식으로 변환\n",
    "\n",
    "`PolynominalFeatures` 클래스를 사용하여 $ y = ax + b $ 라는 회귀식을 $ y = ax^2 + bx + c $ 형태로 바꾼다\n",
    "\n",
    "- degree : 변환할 차수(기본값=2)\n",
    "- include_bias : True인 경우 0차항(1)도 함께 생성한다.(기본값=True)"
   ]
  },
  {
   "cell_type": "code",
   "execution_count": 4,
   "metadata": {},
   "outputs": [
    {
     "data": {
      "text/plain": [
       "array([[  1.,   4.,  16.],\n",
       "       [  1.,   4.,  16.],\n",
       "       [  1.,   7.,  49.],\n",
       "       [  1.,   7.,  49.],\n",
       "       [  1.,   8.,  64.],\n",
       "       [  1.,   9.,  81.],\n",
       "       [  1.,  10., 100.],\n",
       "       [  1.,  10., 100.],\n",
       "       [  1.,  10., 100.],\n",
       "       [  1.,  11., 121.],\n",
       "       [  1.,  11., 121.],\n",
       "       [  1.,  12., 144.],\n",
       "       [  1.,  12., 144.],\n",
       "       [  1.,  12., 144.],\n",
       "       [  1.,  12., 144.],\n",
       "       [  1.,  13., 169.],\n",
       "       [  1.,  13., 169.],\n",
       "       [  1.,  13., 169.],\n",
       "       [  1.,  13., 169.],\n",
       "       [  1.,  14., 196.],\n",
       "       [  1.,  14., 196.],\n",
       "       [  1.,  14., 196.],\n",
       "       [  1.,  14., 196.],\n",
       "       [  1.,  15., 225.],\n",
       "       [  1.,  15., 225.],\n",
       "       [  1.,  15., 225.],\n",
       "       [  1.,  16., 256.],\n",
       "       [  1.,  16., 256.],\n",
       "       [  1.,  17., 289.],\n",
       "       [  1.,  17., 289.],\n",
       "       [  1.,  17., 289.],\n",
       "       [  1.,  18., 324.],\n",
       "       [  1.,  18., 324.],\n",
       "       [  1.,  18., 324.],\n",
       "       [  1.,  18., 324.],\n",
       "       [  1.,  19., 361.],\n",
       "       [  1.,  19., 361.],\n",
       "       [  1.,  19., 361.],\n",
       "       [  1.,  20., 400.],\n",
       "       [  1.,  20., 400.],\n",
       "       [  1.,  20., 400.],\n",
       "       [  1.,  20., 400.],\n",
       "       [  1.,  20., 400.],\n",
       "       [  1.,  22., 484.],\n",
       "       [  1.,  23., 529.],\n",
       "       [  1.,  24., 576.],\n",
       "       [  1.,  24., 576.],\n",
       "       [  1.,  24., 576.],\n",
       "       [  1.,  24., 576.],\n",
       "       [  1.,  25., 625.]])"
      ]
     },
     "execution_count": 4,
     "metadata": {},
     "output_type": "execute_result"
    }
   ],
   "source": [
    "#객체 생성\n",
    "poly = PolynomialFeatures(degree=2, include_bias=True) #기본값\n",
    "\n",
    "# 훈련시키기\n",
    "fit = poly.fit_transform(origin[['speed']])\n",
    "fit"
   ]
  },
  {
   "cell_type": "code",
   "execution_count": 5,
   "metadata": {},
   "outputs": [
    {
     "data": {
      "text/plain": [
       "array(['1', 'speed', 'speed^2'], dtype=object)"
      ]
     },
     "execution_count": 5,
     "metadata": {},
     "output_type": "execute_result"
    }
   ],
   "source": [
    "# 생성된 피처의 이름 확인\n",
    "poly.get_feature_names_out()"
   ]
  },
  {
   "cell_type": "markdown",
   "metadata": {},
   "source": [
    "### 3) 0차항(1)을 포함하지 않는 2차식으로 변환(권장)"
   ]
  },
  {
   "cell_type": "code",
   "execution_count": 6,
   "metadata": {},
   "outputs": [
    {
     "data": {
      "text/plain": [
       "array([[  4.,  16.],\n",
       "       [  4.,  16.],\n",
       "       [  7.,  49.],\n",
       "       [  7.,  49.],\n",
       "       [  8.,  64.],\n",
       "       [  9.,  81.],\n",
       "       [ 10., 100.],\n",
       "       [ 10., 100.],\n",
       "       [ 10., 100.],\n",
       "       [ 11., 121.],\n",
       "       [ 11., 121.],\n",
       "       [ 12., 144.],\n",
       "       [ 12., 144.],\n",
       "       [ 12., 144.],\n",
       "       [ 12., 144.],\n",
       "       [ 13., 169.],\n",
       "       [ 13., 169.],\n",
       "       [ 13., 169.],\n",
       "       [ 13., 169.],\n",
       "       [ 14., 196.],\n",
       "       [ 14., 196.],\n",
       "       [ 14., 196.],\n",
       "       [ 14., 196.],\n",
       "       [ 15., 225.],\n",
       "       [ 15., 225.],\n",
       "       [ 15., 225.],\n",
       "       [ 16., 256.],\n",
       "       [ 16., 256.],\n",
       "       [ 17., 289.],\n",
       "       [ 17., 289.],\n",
       "       [ 17., 289.],\n",
       "       [ 18., 324.],\n",
       "       [ 18., 324.],\n",
       "       [ 18., 324.],\n",
       "       [ 18., 324.],\n",
       "       [ 19., 361.],\n",
       "       [ 19., 361.],\n",
       "       [ 19., 361.],\n",
       "       [ 20., 400.],\n",
       "       [ 20., 400.],\n",
       "       [ 20., 400.],\n",
       "       [ 20., 400.],\n",
       "       [ 20., 400.],\n",
       "       [ 22., 484.],\n",
       "       [ 23., 529.],\n",
       "       [ 24., 576.],\n",
       "       [ 24., 576.],\n",
       "       [ 24., 576.],\n",
       "       [ 24., 576.],\n",
       "       [ 25., 625.]])"
      ]
     },
     "execution_count": 6,
     "metadata": {},
     "output_type": "execute_result"
    }
   ],
   "source": [
    "poly = PolynomialFeatures(include_bias = False)\n",
    "fit = poly.fit_transform(origin[['speed']])\n",
    "fit"
   ]
  },
  {
   "cell_type": "code",
   "execution_count": 7,
   "metadata": {},
   "outputs": [
    {
     "data": {
      "text/plain": [
       "array(['speed', 'speed^2'], dtype=object)"
      ]
     },
     "execution_count": 7,
     "metadata": {},
     "output_type": "execute_result"
    }
   ],
   "source": [
    "# 생성된 피쳐의 이름확인\n",
    "poly.get_feature_names_out()"
   ]
  },
  {
   "cell_type": "code",
   "execution_count": 8,
   "metadata": {},
   "outputs": [
    {
     "data": {
      "text/html": [
       "<div>\n",
       "<style scoped>\n",
       "    .dataframe tbody tr th:only-of-type {\n",
       "        vertical-align: middle;\n",
       "    }\n",
       "\n",
       "    .dataframe tbody tr th {\n",
       "        vertical-align: top;\n",
       "    }\n",
       "\n",
       "    .dataframe thead th {\n",
       "        text-align: right;\n",
       "    }\n",
       "</style>\n",
       "<table border=\"1\" class=\"dataframe\">\n",
       "  <thead>\n",
       "    <tr style=\"text-align: right;\">\n",
       "      <th></th>\n",
       "      <th>speed</th>\n",
       "      <th>speed^2</th>\n",
       "    </tr>\n",
       "  </thead>\n",
       "  <tbody>\n",
       "    <tr>\n",
       "      <th>0</th>\n",
       "      <td>4.0</td>\n",
       "      <td>16.0</td>\n",
       "    </tr>\n",
       "    <tr>\n",
       "      <th>1</th>\n",
       "      <td>4.0</td>\n",
       "      <td>16.0</td>\n",
       "    </tr>\n",
       "    <tr>\n",
       "      <th>2</th>\n",
       "      <td>7.0</td>\n",
       "      <td>49.0</td>\n",
       "    </tr>\n",
       "    <tr>\n",
       "      <th>3</th>\n",
       "      <td>7.0</td>\n",
       "      <td>49.0</td>\n",
       "    </tr>\n",
       "    <tr>\n",
       "      <th>4</th>\n",
       "      <td>8.0</td>\n",
       "      <td>64.0</td>\n",
       "    </tr>\n",
       "  </tbody>\n",
       "</table>\n",
       "</div>"
      ],
      "text/plain": [
       "   speed  speed^2\n",
       "0    4.0     16.0\n",
       "1    4.0     16.0\n",
       "2    7.0     49.0\n",
       "3    7.0     49.0\n",
       "4    8.0     64.0"
      ]
     },
     "execution_count": 8,
     "metadata": {},
     "output_type": "execute_result"
    }
   ],
   "source": [
    "# 데이터 프레임으로 재구성\n",
    "x = DataFrame(fit, columns=poly.get_feature_names_out())\n",
    "x.head()"
   ]
  },
  {
   "cell_type": "markdown",
   "metadata": {},
   "source": [
    "### 4) 종속변수만 추출한 데이터 프레임 만들기"
   ]
  },
  {
   "cell_type": "code",
   "execution_count": 9,
   "metadata": {},
   "outputs": [
    {
     "data": {
      "text/html": [
       "<div>\n",
       "<style scoped>\n",
       "    .dataframe tbody tr th:only-of-type {\n",
       "        vertical-align: middle;\n",
       "    }\n",
       "\n",
       "    .dataframe tbody tr th {\n",
       "        vertical-align: top;\n",
       "    }\n",
       "\n",
       "    .dataframe thead th {\n",
       "        text-align: right;\n",
       "    }\n",
       "</style>\n",
       "<table border=\"1\" class=\"dataframe\">\n",
       "  <thead>\n",
       "    <tr style=\"text-align: right;\">\n",
       "      <th></th>\n",
       "      <th>dist</th>\n",
       "    </tr>\n",
       "  </thead>\n",
       "  <tbody>\n",
       "    <tr>\n",
       "      <th>0</th>\n",
       "      <td>2</td>\n",
       "    </tr>\n",
       "    <tr>\n",
       "      <th>1</th>\n",
       "      <td>10</td>\n",
       "    </tr>\n",
       "    <tr>\n",
       "      <th>2</th>\n",
       "      <td>4</td>\n",
       "    </tr>\n",
       "    <tr>\n",
       "      <th>3</th>\n",
       "      <td>22</td>\n",
       "    </tr>\n",
       "    <tr>\n",
       "      <th>4</th>\n",
       "      <td>16</td>\n",
       "    </tr>\n",
       "  </tbody>\n",
       "</table>\n",
       "</div>"
      ],
      "text/plain": [
       "   dist\n",
       "0     2\n",
       "1    10\n",
       "2     4\n",
       "3    22\n",
       "4    16"
      ]
     },
     "execution_count": 9,
     "metadata": {},
     "output_type": "execute_result"
    }
   ],
   "source": [
    "y = origin[['dist']]\n",
    "y.head()"
   ]
  },
  {
   "cell_type": "markdown",
   "metadata": {},
   "source": [
    "### 5) 테스트 데이터와 검증 데이터로 분리"
   ]
  },
  {
   "cell_type": "code",
   "execution_count": 10,
   "metadata": {},
   "outputs": [
    {
     "data": {
      "text/plain": [
       "((35, 2), (15, 2), (35, 1), (15, 1))"
      ]
     },
     "execution_count": 10,
     "metadata": {},
     "output_type": "execute_result"
    }
   ],
   "source": [
    "x_train, x_test, y_train, y_test = train_test_split(x, y, train_size=0.7, random_state=123)\n",
    "x_train.shape, x_test.shape, y_train.shape, y_test.shape # 크기확인해보기"
   ]
  },
  {
   "cell_type": "markdown",
   "metadata": {},
   "source": [
    "### 6) 회귀분석 수행\n",
    "\n",
    "데이터 표본수(35)가 작기 때문에 과적합이 발생하지만 예제 데이터셋이므로 과적합은 무시하고 진행하도록 한다. "
   ]
  },
  {
   "cell_type": "code",
   "execution_count": 11,
   "metadata": {},
   "outputs": [
    {
     "name": "stdout",
     "output_type": "stream",
     "text": [
      "계수:  [[0.73773403 0.09986278]]\n",
      "절편:  [4.70067321]\n",
      "훈련데이터 설명력:  0.5941347702404498\n",
      "검증데이터 설명력:  0.818350403785495\n"
     ]
    }
   ],
   "source": [
    "# 객체 생성\n",
    "model = LinearRegression()\n",
    "\n",
    "# 훈련시키기\n",
    "fit = model.fit(x_train, y_train)\n",
    "\n",
    "print(\"계수: \", fit.coef_)\n",
    "print(\"절편: \", fit.intercept_)\n",
    "print(\"훈련데이터 설명력: \", fit.score(x_train, y_train))\n",
    "print(\"검증데이터 설명력: \", fit.score(x_test, y_test))"
   ]
  },
  {
   "cell_type": "markdown",
   "metadata": {},
   "source": [
    "### 7) 회귀식 추정"
   ]
  },
  {
   "cell_type": "code",
   "execution_count": 12,
   "metadata": {},
   "outputs": [
    {
     "data": {
      "text/plain": [
       "'y = 0.737734 x speed + 0.099863 x speed^2 + 4.700673'"
      ]
     },
     "execution_count": 12,
     "metadata": {},
     "output_type": "execute_result"
    }
   ],
   "source": [
    "feature_names = x.columns\n",
    "# print(feature_names)\n",
    "\n",
    "expr = []\n",
    "for i,v in enumerate(feature_names):\n",
    "    expr.append(\"%f x %s\" % (fit.coef_[0][i], v))\n",
    "\n",
    "expr = ' + '.join(expr)\n",
    "expr = 'y = ' + expr + ' + %f' % fit.intercept_[0]\n",
    "expr"
   ]
  },
  {
   "cell_type": "markdown",
   "metadata": {},
   "source": [
    "### 8) 훈련 데이터에 따른 예측값"
   ]
  },
  {
   "cell_type": "code",
   "execution_count": 13,
   "metadata": {},
   "outputs": [
    {
     "data": {
      "text/plain": [
       "array([ 9.24941376, 22.06429118, 42.06928848, 85.55825922, 38.23580838,\n",
       "       50.33542533, 31.16802484, 54.76808209, 42.06928848, 22.06429118,\n",
       "       34.60205383, 79.92724915, 14.75808748, 38.23580838, 74.49596463,\n",
       "       16.99376316, 31.16802484, 54.76808209, 27.9337214 , 69.26440567,\n",
       "       38.23580838, 54.76808209, 59.40046439, 24.89914351, 50.33542533,\n",
       "       50.33542533, 34.60205383, 59.40046439, 34.60205383, 31.16802484,\n",
       "       59.40046439, 50.33542533, 46.10249413, 14.75808748, 79.92724915])"
      ]
     },
     "execution_count": 13,
     "metadata": {},
     "output_type": "execute_result"
    }
   ],
   "source": [
    "y_train_pred = fit.predict(x_train)\n",
    "y_train_pred = y_train_pred.reshape(-1) # 차수를 1 감소시켜라\n",
    "y_train_pred"
   ]
  },
  {
   "cell_type": "markdown",
   "metadata": {},
   "source": [
    "### 9) 검증데이터에 따른 예측값"
   ]
  },
  {
   "cell_type": "code",
   "execution_count": 14,
   "metadata": {},
   "outputs": [
    {
     "data": {
      "text/plain": [
       "array([24.89914351, 27.9337214 , 46.10249413, 79.92724915, 31.16802484,\n",
       "        9.24941376, 59.40046439, 27.9337214 , 46.10249413, 22.06429118,\n",
       "       34.60205383, 79.92724915, 27.9337214 , 59.40046439, 19.42916439])"
      ]
     },
     "execution_count": 14,
     "metadata": {},
     "output_type": "execute_result"
    }
   ],
   "source": [
    "y_test_pred = fit.predict(x_test)\n",
    "y_test_pred = y_test_pred.reshape(-1)\n",
    "y_test_pred"
   ]
  },
  {
   "cell_type": "markdown",
   "metadata": {},
   "source": [
    "### 학습 결과 시각화"
   ]
  },
  {
   "cell_type": "code",
   "execution_count": 15,
   "metadata": {},
   "outputs": [
    {
     "data": {
      "image/png": "[encoded data removed]",
      "text/plain": [
       "<Figure size 1500x500 with 2 Axes>"
      ]
     },
     "metadata": {},
     "output_type": "display_data"
    }
   ],
   "source": [
    "fig, (ax1, ax2) = plt.subplots(1,2, figsize=(15,5))\n",
    "\n",
    "#학습에 사용한 데이터와 예측값의 차이를 시각화\n",
    "sb.scatterplot(x=x_train['speed'], y=y_train['dist'], label='train data', ax=ax1)\n",
    "sb.scatterplot(x=x_train['speed'], y=y_train_pred, label='train predict', ax=ax1)\n",
    "\n",
    "# 그래프가 그려진 범위 안에서 1씩 증가하는 좌표를 생성\n",
    "xmin, xmax = ax1.get_xlim()\n",
    "xrange = np.arange(xmin.round(), xmax.round(), 1)\n",
    "# y값에 대한 추정치를 계산\n",
    "y_pred = xrange + fit.coef_[0][0] + xrange**2 + fit.coef_[0][1] + fit.intercept_[0]\n",
    "\n",
    "#추세선(파이썬은 직선으로 밖에 못그려서 추세선은 직접 그려줘야함. sb.lineplot)\n",
    "sb.lineplot(x=xrange, y=y_pred, color='red', ax = ax1)\n",
    "\n",
    "ax1.set_title('훈련데이터')\n",
    "ax1.legend()\n",
    "ax1.grid()\n",
    "\n",
    "\n",
    "#검증에 사용한 데이터와 예측값의 차이를 시각화\n",
    "sb.scatterplot(x=x_test['speed'], y=y_test['dist'], label='test data', ax=ax2)\n",
    "sb.scatterplot(x=x_test['speed'], y=y_test_pred, label='test predict', ax=ax2)\n",
    "\n",
    "# 그래프가 그려진 범위 안에서 1씩 증가하는 좌표를 생성\n",
    "xmin, xmax = ax2.get_xlim()\n",
    "xrange = np.arange(xmin.round(), xmax.round(), 1)\n",
    "# y값에 대한 추정치를 계산\n",
    "y_pred = xrange + fit.coef_[0][0] + xrange**2 + fit.coef_[0][1] + fit.intercept_[0]\n",
    "\n",
    "#추세선(파이썬은 직선으로 밖에 못그려서 추세선은 직접 그려줘야함. sb.lineplot)\n",
    "sb.lineplot(x=xrange, y=y_pred, color='red', ax = ax2)\n",
    "\n",
    "ax2.set_title('검증데이터')\n",
    "ax2.legend()\n",
    "ax2.grid()\n",
    "\n",
    "plt.show()\n",
    "plt.close()"
   ]
  },
  {
   "cell_type": "markdown",
   "metadata": {},
   "source": [
    "## #03. 농어의 크기에 따른 무게 예측\n",
    "\n",
    "### 1) 데이터 가져오기"
   ]
  },
  {
   "cell_type": "code",
   "execution_count": 16,
   "metadata": {},
   "outputs": [
    {
     "data": {
      "text/html": [
       "<div>\n",
       "<style scoped>\n",
       "    .dataframe tbody tr th:only-of-type {\n",
       "        vertical-align: middle;\n",
       "    }\n",
       "\n",
       "    .dataframe tbody tr th {\n",
       "        vertical-align: top;\n",
       "    }\n",
       "\n",
       "    .dataframe thead th {\n",
       "        text-align: right;\n",
       "    }\n",
       "</style>\n",
       "<table border=\"1\" class=\"dataframe\">\n",
       "  <thead>\n",
       "    <tr style=\"text-align: right;\">\n",
       "      <th></th>\n",
       "      <th>길이</th>\n",
       "      <th>높이</th>\n",
       "      <th>두께</th>\n",
       "      <th>무게</th>\n",
       "    </tr>\n",
       "  </thead>\n",
       "  <tbody>\n",
       "    <tr>\n",
       "      <th>0</th>\n",
       "      <td>8.4</td>\n",
       "      <td>2.11</td>\n",
       "      <td>1.41</td>\n",
       "      <td>5.9</td>\n",
       "    </tr>\n",
       "    <tr>\n",
       "      <th>1</th>\n",
       "      <td>13.7</td>\n",
       "      <td>3.53</td>\n",
       "      <td>2.00</td>\n",
       "      <td>32.0</td>\n",
       "    </tr>\n",
       "    <tr>\n",
       "      <th>2</th>\n",
       "      <td>15.0</td>\n",
       "      <td>3.82</td>\n",
       "      <td>2.43</td>\n",
       "      <td>40.0</td>\n",
       "    </tr>\n",
       "    <tr>\n",
       "      <th>3</th>\n",
       "      <td>16.2</td>\n",
       "      <td>4.59</td>\n",
       "      <td>2.63</td>\n",
       "      <td>51.5</td>\n",
       "    </tr>\n",
       "    <tr>\n",
       "      <th>4</th>\n",
       "      <td>17.4</td>\n",
       "      <td>4.59</td>\n",
       "      <td>2.94</td>\n",
       "      <td>70.0</td>\n",
       "    </tr>\n",
       "  </tbody>\n",
       "</table>\n",
       "</div>"
      ],
      "text/plain": [
       "     길이    높이    두께    무게\n",
       "0   8.4  2.11  1.41   5.9\n",
       "1  13.7  3.53  2.00  32.0\n",
       "2  15.0  3.82  2.43  40.0\n",
       "3  16.2  4.59  2.63  51.5\n",
       "4  17.4  4.59  2.94  70.0"
      ]
     },
     "execution_count": 16,
     "metadata": {},
     "output_type": "execute_result"
    }
   ],
   "source": [
    "origin = read_excel(\"https://data.hossam.kr/F02/fish2.xlsx\")\n",
    "origin.head()"
   ]
  },
  {
   "cell_type": "markdown",
   "metadata": {},
   "source": [
    "### 2) 데이터 전처리\n",
    "\n",
    "다항식으로 변환하기"
   ]
  },
  {
   "cell_type": "code",
   "execution_count": 17,
   "metadata": {},
   "outputs": [
    {
     "data": {
      "text/html": [
       "<div>\n",
       "<style scoped>\n",
       "    .dataframe tbody tr th:only-of-type {\n",
       "        vertical-align: middle;\n",
       "    }\n",
       "\n",
       "    .dataframe tbody tr th {\n",
       "        vertical-align: top;\n",
       "    }\n",
       "\n",
       "    .dataframe thead th {\n",
       "        text-align: right;\n",
       "    }\n",
       "</style>\n",
       "<table border=\"1\" class=\"dataframe\">\n",
       "  <thead>\n",
       "    <tr style=\"text-align: right;\">\n",
       "      <th></th>\n",
       "      <th>길이</th>\n",
       "      <th>높이</th>\n",
       "      <th>두께</th>\n",
       "      <th>길이^2</th>\n",
       "      <th>길이 높이</th>\n",
       "      <th>길이 두께</th>\n",
       "      <th>높이^2</th>\n",
       "      <th>높이 두께</th>\n",
       "      <th>두께^2</th>\n",
       "    </tr>\n",
       "  </thead>\n",
       "  <tbody>\n",
       "    <tr>\n",
       "      <th>0</th>\n",
       "      <td>8.4</td>\n",
       "      <td>2.11</td>\n",
       "      <td>1.41</td>\n",
       "      <td>70.56</td>\n",
       "      <td>17.724</td>\n",
       "      <td>11.844</td>\n",
       "      <td>4.4521</td>\n",
       "      <td>2.9751</td>\n",
       "      <td>1.9881</td>\n",
       "    </tr>\n",
       "    <tr>\n",
       "      <th>1</th>\n",
       "      <td>13.7</td>\n",
       "      <td>3.53</td>\n",
       "      <td>2.00</td>\n",
       "      <td>187.69</td>\n",
       "      <td>48.361</td>\n",
       "      <td>27.400</td>\n",
       "      <td>12.4609</td>\n",
       "      <td>7.0600</td>\n",
       "      <td>4.0000</td>\n",
       "    </tr>\n",
       "    <tr>\n",
       "      <th>2</th>\n",
       "      <td>15.0</td>\n",
       "      <td>3.82</td>\n",
       "      <td>2.43</td>\n",
       "      <td>225.00</td>\n",
       "      <td>57.300</td>\n",
       "      <td>36.450</td>\n",
       "      <td>14.5924</td>\n",
       "      <td>9.2826</td>\n",
       "      <td>5.9049</td>\n",
       "    </tr>\n",
       "    <tr>\n",
       "      <th>3</th>\n",
       "      <td>16.2</td>\n",
       "      <td>4.59</td>\n",
       "      <td>2.63</td>\n",
       "      <td>262.44</td>\n",
       "      <td>74.358</td>\n",
       "      <td>42.606</td>\n",
       "      <td>21.0681</td>\n",
       "      <td>12.0717</td>\n",
       "      <td>6.9169</td>\n",
       "    </tr>\n",
       "    <tr>\n",
       "      <th>4</th>\n",
       "      <td>17.4</td>\n",
       "      <td>4.59</td>\n",
       "      <td>2.94</td>\n",
       "      <td>302.76</td>\n",
       "      <td>79.866</td>\n",
       "      <td>51.156</td>\n",
       "      <td>21.0681</td>\n",
       "      <td>13.4946</td>\n",
       "      <td>8.6436</td>\n",
       "    </tr>\n",
       "  </tbody>\n",
       "</table>\n",
       "</div>"
      ],
      "text/plain": [
       "     길이    높이    두께    길이^2   길이 높이   길이 두께     높이^2    높이 두께    두께^2\n",
       "0   8.4  2.11  1.41   70.56  17.724  11.844   4.4521   2.9751  1.9881\n",
       "1  13.7  3.53  2.00  187.69  48.361  27.400  12.4609   7.0600  4.0000\n",
       "2  15.0  3.82  2.43  225.00  57.300  36.450  14.5924   9.2826  5.9049\n",
       "3  16.2  4.59  2.63  262.44  74.358  42.606  21.0681  12.0717  6.9169\n",
       "4  17.4  4.59  2.94  302.76  79.866  51.156  21.0681  13.4946  8.6436"
      ]
     },
     "execution_count": 17,
     "metadata": {},
     "output_type": "execute_result"
    }
   ],
   "source": [
    "# 객체 만들기\n",
    "poly = PolynomialFeatures(degree=2, include_bias=False)\n",
    "# 훈련 시키기\n",
    "fit = poly.fit_transform(origin[['길이','높이','두께']])\n",
    "x = DataFrame(fit, columns=poly.get_feature_names_out())\n",
    "x.head()"
   ]
  },
  {
   "cell_type": "markdown",
   "metadata": {},
   "source": [
    "모듈을 이용한 다항식 변환"
   ]
  },
  {
   "cell_type": "code",
   "execution_count": 19,
   "metadata": {},
   "outputs": [
    {
     "data": {
      "text/html": [
       "<div>\n",
       "<style scoped>\n",
       "    .dataframe tbody tr th:only-of-type {\n",
       "        vertical-align: middle;\n",
       "    }\n",
       "\n",
       "    .dataframe tbody tr th {\n",
       "        vertical-align: top;\n",
       "    }\n",
       "\n",
       "    .dataframe thead th {\n",
       "        text-align: right;\n",
       "    }\n",
       "</style>\n",
       "<table border=\"1\" class=\"dataframe\">\n",
       "  <thead>\n",
       "    <tr style=\"text-align: right;\">\n",
       "      <th></th>\n",
       "      <th>길이</th>\n",
       "      <th>높이</th>\n",
       "      <th>두께</th>\n",
       "      <th>길이^2</th>\n",
       "      <th>길이 높이</th>\n",
       "      <th>길이 두께</th>\n",
       "      <th>높이^2</th>\n",
       "      <th>높이 두께</th>\n",
       "      <th>두께^2</th>\n",
       "    </tr>\n",
       "  </thead>\n",
       "  <tbody>\n",
       "    <tr>\n",
       "      <th>0</th>\n",
       "      <td>8.4</td>\n",
       "      <td>2.11</td>\n",
       "      <td>1.41</td>\n",
       "      <td>70.56</td>\n",
       "      <td>17.724</td>\n",
       "      <td>11.844</td>\n",
       "      <td>4.4521</td>\n",
       "      <td>2.9751</td>\n",
       "      <td>1.9881</td>\n",
       "    </tr>\n",
       "    <tr>\n",
       "      <th>1</th>\n",
       "      <td>13.7</td>\n",
       "      <td>3.53</td>\n",
       "      <td>2.00</td>\n",
       "      <td>187.69</td>\n",
       "      <td>48.361</td>\n",
       "      <td>27.400</td>\n",
       "      <td>12.4609</td>\n",
       "      <td>7.0600</td>\n",
       "      <td>4.0000</td>\n",
       "    </tr>\n",
       "    <tr>\n",
       "      <th>2</th>\n",
       "      <td>15.0</td>\n",
       "      <td>3.82</td>\n",
       "      <td>2.43</td>\n",
       "      <td>225.00</td>\n",
       "      <td>57.300</td>\n",
       "      <td>36.450</td>\n",
       "      <td>14.5924</td>\n",
       "      <td>9.2826</td>\n",
       "      <td>5.9049</td>\n",
       "    </tr>\n",
       "    <tr>\n",
       "      <th>3</th>\n",
       "      <td>16.2</td>\n",
       "      <td>4.59</td>\n",
       "      <td>2.63</td>\n",
       "      <td>262.44</td>\n",
       "      <td>74.358</td>\n",
       "      <td>42.606</td>\n",
       "      <td>21.0681</td>\n",
       "      <td>12.0717</td>\n",
       "      <td>6.9169</td>\n",
       "    </tr>\n",
       "    <tr>\n",
       "      <th>4</th>\n",
       "      <td>17.4</td>\n",
       "      <td>4.59</td>\n",
       "      <td>2.94</td>\n",
       "      <td>302.76</td>\n",
       "      <td>79.866</td>\n",
       "      <td>51.156</td>\n",
       "      <td>21.0681</td>\n",
       "      <td>13.4946</td>\n",
       "      <td>8.6436</td>\n",
       "    </tr>\n",
       "  </tbody>\n",
       "</table>\n",
       "</div>"
      ],
      "text/plain": [
       "     길이    높이    두께    길이^2   길이 높이   길이 두께     높이^2    높이 두께    두께^2\n",
       "0   8.4  2.11  1.41   70.56  17.724  11.844   4.4521   2.9751  1.9881\n",
       "1  13.7  3.53  2.00  187.69  48.361  27.400  12.4609   7.0600  4.0000\n",
       "2  15.0  3.82  2.43  225.00  57.300  36.450  14.5924   9.2826  5.9049\n",
       "3  16.2  4.59  2.63  262.44  74.358  42.606  21.0681  12.0717  6.9169\n",
       "4  17.4  4.59  2.94  302.76  79.866  51.156  21.0681  13.4946  8.6436"
      ]
     },
     "execution_count": 19,
     "metadata": {},
     "output_type": "execute_result"
    }
   ],
   "source": [
    "x = helper.convertPoly(origin[['길이','높이','두께']])\n",
    "x.head()"
   ]
  },
  {
   "cell_type": "markdown",
   "metadata": {},
   "source": [
    "훈련 데이터와 검증 데이터로 분리"
   ]
  },
  {
   "cell_type": "code",
   "execution_count": 21,
   "metadata": {},
   "outputs": [
    {
     "data": {
      "text/plain": [
       "((39, 9), (17, 9), (39, 1), (17, 1))"
      ]
     },
     "execution_count": 21,
     "metadata": {},
     "output_type": "execute_result"
    }
   ],
   "source": [
    "x_train, x_test, y_train, y_test = train_test_split(x,origin[['무게']],train_size=0.7,random_state=123)\n",
    "x_train.shape, x_test.shape, y_train.shape, y_test.shape"
   ]
  },
  {
   "cell_type": "markdown",
   "metadata": {},
   "source": [
    "### 3) 회귀분석 수행"
   ]
  },
  {
   "cell_type": "code",
   "execution_count": 22,
   "metadata": {},
   "outputs": [
    {
     "name": "stdout",
     "output_type": "stream",
     "text": [
      "계수:  [[  37.41440758 -122.88132493  -97.18063962   -6.02888567    6.3426341\n",
      "    55.66996142   49.79134062 -170.93573464   -6.00162745]]\n",
      "절편:  [47.16932806]\n",
      "훈련데이터 설명력:  0.9902576456970866\n",
      "검증데이터 설명력:  0.9004397794100227\n"
     ]
    }
   ],
   "source": [
    "model = LinearRegression()\n",
    "fit = model.fit(x_train, y_train)\n",
    "\n",
    "print(\"계수: \", fit.coef_)\n",
    "print(\"절편: \", fit.intercept_)\n",
    "print(\"훈련데이터 설명력: \", fit.score(x_train, y_train))\n",
    "print(\"검증데이터 설명력: \", fit.score(x_test, y_test))"
   ]
  },
  {
   "cell_type": "markdown",
   "metadata": {},
   "source": [
    "#### 회귀식 추정"
   ]
  },
  {
   "cell_type": "code",
   "execution_count": 25,
   "metadata": {},
   "outputs": [
    {
     "data": {
      "text/plain": [
       "'y = 37.41 * 길이+-122.88 * 높이+-97.18 * 두께+-6.03 * 길이^2+6.34 * 길이 높이+55.67 * 길이 두께+49.79 * 높이^2+-170.94 * 높이 두께+-6.0 * 두께^2 + 47.17'"
      ]
     },
     "execution_count": 25,
     "metadata": {},
     "output_type": "execute_result"
    }
   ],
   "source": [
    "feature_names = x.columns\n",
    "\n",
    "expr = []\n",
    "for i,v in enumerate(feature_names):\n",
    "    expr.append(f'{round(fit.coef_[0][i], 2)} * {v}')\n",
    "\n",
    "expr = '+'.join(expr)\n",
    "expr = f'y = {expr} + {round(fit.intercept_[0],2)}'\n",
    "expr"
   ]
  },
  {
   "cell_type": "markdown",
   "metadata": {},
   "source": [
    "#### 예측값 생성\n",
    "\n",
    "훈련데이터에 대한 예측값"
   ]
  },
  {
   "cell_type": "code",
   "execution_count": 26,
   "metadata": {},
   "outputs": [
    {
     "data": {
      "text/plain": [
       "array([ 128.33370832,  883.83256839,  283.87720565,   21.77799523,\n",
       "         75.83145366,  216.99327745,  938.39657569,  836.74358002,\n",
       "        236.24624195, 1059.06921078,  222.57260812,  131.1820701 ,\n",
       "        520.06151948,  879.22572679,   85.49063898,  169.39734992,\n",
       "       1091.11155683,   38.96295379,   67.97550628,  131.18728322,\n",
       "        869.36496752,  301.47510957,  126.61679479,  914.5832725 ,\n",
       "        165.44141159,  671.60388692, 1044.70953338,   52.54927901,\n",
       "        234.12069536,  270.70141026,  172.25433459,  691.90023498,\n",
       "        140.65938096,  128.43625012,  587.73188249,  259.38435621,\n",
       "        223.86802028,   43.34167721,  704.4884716 ])"
      ]
     },
     "execution_count": 26,
     "metadata": {},
     "output_type": "execute_result"
    }
   ],
   "source": [
    "y_train_pred = fit.predict(x_train)\n",
    "y_train_pred = y_train_pred.reshape(-1)\n",
    "y_train_pred"
   ]
  },
  {
   "cell_type": "markdown",
   "metadata": {},
   "source": [
    "검증데이터에 대한 예측값"
   ]
  },
  {
   "cell_type": "code",
   "execution_count": 27,
   "metadata": {},
   "outputs": [
    {
     "data": {
      "text/plain": [
       "array([ 201.35925469,  131.74411912,  764.54132634,  201.37347997,\n",
       "        660.89831696,  141.00557179, 1019.15355072,  285.76056495,\n",
       "        438.67935317,  141.57027174,  688.68240944,  112.87613858,\n",
       "         12.7130393 ,   54.17763473,  122.18773841,  153.76869217,\n",
       "         82.44640206])"
      ]
     },
     "execution_count": 27,
     "metadata": {},
     "output_type": "execute_result"
    }
   ],
   "source": [
    "y_test_pred = fit.predict(x_test)\n",
    "y_test_pred = y_test_pred.reshape(-1)\n",
    "y_test_pred"
   ]
  },
  {
   "cell_type": "markdown",
   "metadata": {},
   "source": [
    "#### 학습결과 시각화"
   ]
  },
  {
   "cell_type": "code",
   "execution_count": 31,
   "metadata": {},
   "outputs": [
    {
     "data": {
      "image/png": "[encoded data removed]",
      "text/plain": [
       "<Figure size 1500x500 with 2 Axes>"
      ]
     },
     "metadata": {},
     "output_type": "display_data"
    }
   ],
   "source": [
    "fig, (ax1, ax2) = plt.subplots(1,2, figsize=(15,5))\n",
    "\n",
    "# 훈련데이터 + 훈련데이터 예측값\n",
    "sb.scatterplot(x=x_train['길이'], y=y_train['무게'], label='train data', ax=ax1)\n",
    "sb.scatterplot(x=x_train['길이'], y=y_train_pred, label='train predict', ax=ax1)\n",
    "\n",
    "ax1.set_title('훈련데이터')\n",
    "ax1.legend()\n",
    "ax1.grid()\n",
    "\n",
    "# 검증데이터 + 검증데이터 예측값\n",
    "sb.scatterplot(x=x_test['길이'], y=y_test['무게'], label='test data', ax=ax2)\n",
    "sb.scatterplot(x=x_test['길이'], y=y_test_pred, label='test predict', ax=ax2)\n",
    "\n",
    "ax2.set_title('검증데이터')\n",
    "ax2.legend()\n",
    "ax2.grid()\n",
    "\n",
    "plt.show()\n",
    "plt.close()"
   ]
  },
  {
   "cell_type": "code",
   "execution_count": null,
   "metadata": {},
   "outputs": [],
   "source": []
  }
 ],
 "metadata": {
  "kernelspec": {
   "display_name": "Python 3",
   "language": "python",
   "name": "python3"
  },
  "language_info": {
   "codemirror_mode": {
    "name": "ipython",
    "version": 3
   },
   "file_extension": ".py",
   "mimetype": "text/x-python",
   "name": "python",
   "nbconvert_exporter": "python",
   "pygments_lexer": "ipython3",
   "version": "3.11.4"
  },
  "orig_nbformat": 4
 },
 "nbformat": 4,
 "nbformat_minor": 2
}
