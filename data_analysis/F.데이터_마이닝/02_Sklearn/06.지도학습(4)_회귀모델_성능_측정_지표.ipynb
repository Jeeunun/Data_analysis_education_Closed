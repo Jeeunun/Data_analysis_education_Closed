{
 "cells": [
  {
   "cell_type": "markdown",
   "metadata": {},
   "source": [
    "# 지도학습(4) - 회귀모델 성능 측정 지표\n",
    "\n",
    "회귀분석을 통해 예측 모델을 만들고 해당 모델의 성능을 파악하기 위해 제동되는 사이킷런의 성능 측정 지표 모듈\n",
    "\n",
    "## #01. 작업준비\n",
    "\n",
    "### 패키지 가져오기"
   ]
  },
  {
   "cell_type": "code",
   "execution_count": 2,
   "metadata": {},
   "outputs": [],
   "source": [
    "import sys\n",
    "\n",
    "sys.path.append(\"../../\")\n",
    "import helper\n",
    "\n",
    "import numpy as np\n",
    "import seaborn as sb\n",
    "from pandas import read_excel, DataFrame\n",
    "from matplotlib import pyplot as plt\n",
    "\n",
    "from sklearn.linear_model import LinearRegression\n",
    "from sklearn.model_selection import train_test_split\n",
    "from sklearn.preprocessing import PolynomialFeatures\n",
    "\n",
    "# 성능 측정 지표 모듈 (실제값과 예측값 측정 = 잔차를 통해 성능을 측정하는 것)\n",
    "from sklearn.metrics import mean_squared_error, r2_score, mean_absolute_error, mean_squared_log_error"
   ]
  },
  {
   "cell_type": "markdown",
   "metadata": {},
   "source": [
    "## #02. 자동차 속도에 따른 제동거리 회귀모델(샘플 회귀분석 모델 만들기)\n",
    "### 데이터 가져오기"
   ]
  },
  {
   "cell_type": "code",
   "execution_count": 3,
   "metadata": {},
   "outputs": [
    {
     "data": {
      "text/html": [
       "<div>\n",
       "<style scoped>\n",
       "    .dataframe tbody tr th:only-of-type {\n",
       "        vertical-align: middle;\n",
       "    }\n",
       "\n",
       "    .dataframe tbody tr th {\n",
       "        vertical-align: top;\n",
       "    }\n",
       "\n",
       "    .dataframe thead th {\n",
       "        text-align: right;\n",
       "    }\n",
       "</style>\n",
       "<table border=\"1\" class=\"dataframe\">\n",
       "  <thead>\n",
       "    <tr style=\"text-align: right;\">\n",
       "      <th></th>\n",
       "      <th>speed</th>\n",
       "      <th>dist</th>\n",
       "    </tr>\n",
       "  </thead>\n",
       "  <tbody>\n",
       "    <tr>\n",
       "      <th>0</th>\n",
       "      <td>4</td>\n",
       "      <td>2</td>\n",
       "    </tr>\n",
       "    <tr>\n",
       "      <th>1</th>\n",
       "      <td>4</td>\n",
       "      <td>10</td>\n",
       "    </tr>\n",
       "    <tr>\n",
       "      <th>2</th>\n",
       "      <td>7</td>\n",
       "      <td>4</td>\n",
       "    </tr>\n",
       "    <tr>\n",
       "      <th>3</th>\n",
       "      <td>7</td>\n",
       "      <td>22</td>\n",
       "    </tr>\n",
       "    <tr>\n",
       "      <th>4</th>\n",
       "      <td>8</td>\n",
       "      <td>16</td>\n",
       "    </tr>\n",
       "  </tbody>\n",
       "</table>\n",
       "</div>"
      ],
      "text/plain": [
       "   speed  dist\n",
       "0      4     2\n",
       "1      4    10\n",
       "2      7     4\n",
       "3      7    22\n",
       "4      8    16"
      ]
     },
     "execution_count": 3,
     "metadata": {},
     "output_type": "execute_result"
    }
   ],
   "source": [
    "origin = read_excel(\"https://data.hossam.kr/E04/cars.xlsx\")\n",
    "origin.head()"
   ]
  },
  {
   "cell_type": "markdown",
   "metadata": {},
   "source": [
    "### 독립변수에 대한 다항식 생성"
   ]
  },
  {
   "cell_type": "code",
   "execution_count": 4,
   "metadata": {},
   "outputs": [
    {
     "data": {
      "text/html": [
       "<div>\n",
       "<style scoped>\n",
       "    .dataframe tbody tr th:only-of-type {\n",
       "        vertical-align: middle;\n",
       "    }\n",
       "\n",
       "    .dataframe tbody tr th {\n",
       "        vertical-align: top;\n",
       "    }\n",
       "\n",
       "    .dataframe thead th {\n",
       "        text-align: right;\n",
       "    }\n",
       "</style>\n",
       "<table border=\"1\" class=\"dataframe\">\n",
       "  <thead>\n",
       "    <tr style=\"text-align: right;\">\n",
       "      <th></th>\n",
       "      <th>speed</th>\n",
       "      <th>speed^2</th>\n",
       "    </tr>\n",
       "  </thead>\n",
       "  <tbody>\n",
       "    <tr>\n",
       "      <th>0</th>\n",
       "      <td>4.0</td>\n",
       "      <td>16.0</td>\n",
       "    </tr>\n",
       "    <tr>\n",
       "      <th>1</th>\n",
       "      <td>4.0</td>\n",
       "      <td>16.0</td>\n",
       "    </tr>\n",
       "    <tr>\n",
       "      <th>2</th>\n",
       "      <td>7.0</td>\n",
       "      <td>49.0</td>\n",
       "    </tr>\n",
       "    <tr>\n",
       "      <th>3</th>\n",
       "      <td>7.0</td>\n",
       "      <td>49.0</td>\n",
       "    </tr>\n",
       "    <tr>\n",
       "      <th>4</th>\n",
       "      <td>8.0</td>\n",
       "      <td>64.0</td>\n",
       "    </tr>\n",
       "  </tbody>\n",
       "</table>\n",
       "</div>"
      ],
      "text/plain": [
       "   speed  speed^2\n",
       "0    4.0     16.0\n",
       "1    4.0     16.0\n",
       "2    7.0     49.0\n",
       "3    7.0     49.0\n",
       "4    8.0     64.0"
      ]
     },
     "execution_count": 4,
     "metadata": {},
     "output_type": "execute_result"
    }
   ],
   "source": [
    "poly = PolynomialFeatures(include_bias = False) #1을 포함하지 않는 다항식 객체 생성\n",
    "fit = poly.fit_transform(origin[['speed']]) # 훈련\n",
    "x = DataFrame(fit, columns=poly.get_feature_names_out()) # 데이터프레임으로 \n",
    "x.head()"
   ]
  },
  {
   "cell_type": "markdown",
   "metadata": {},
   "source": [
    "### 종속변수 추출"
   ]
  },
  {
   "cell_type": "code",
   "execution_count": 5,
   "metadata": {},
   "outputs": [
    {
     "data": {
      "text/html": [
       "<div>\n",
       "<style scoped>\n",
       "    .dataframe tbody tr th:only-of-type {\n",
       "        vertical-align: middle;\n",
       "    }\n",
       "\n",
       "    .dataframe tbody tr th {\n",
       "        vertical-align: top;\n",
       "    }\n",
       "\n",
       "    .dataframe thead th {\n",
       "        text-align: right;\n",
       "    }\n",
       "</style>\n",
       "<table border=\"1\" class=\"dataframe\">\n",
       "  <thead>\n",
       "    <tr style=\"text-align: right;\">\n",
       "      <th></th>\n",
       "      <th>dist</th>\n",
       "    </tr>\n",
       "  </thead>\n",
       "  <tbody>\n",
       "    <tr>\n",
       "      <th>0</th>\n",
       "      <td>2</td>\n",
       "    </tr>\n",
       "    <tr>\n",
       "      <th>1</th>\n",
       "      <td>10</td>\n",
       "    </tr>\n",
       "    <tr>\n",
       "      <th>2</th>\n",
       "      <td>4</td>\n",
       "    </tr>\n",
       "    <tr>\n",
       "      <th>3</th>\n",
       "      <td>22</td>\n",
       "    </tr>\n",
       "    <tr>\n",
       "      <th>4</th>\n",
       "      <td>16</td>\n",
       "    </tr>\n",
       "  </tbody>\n",
       "</table>\n",
       "</div>"
      ],
      "text/plain": [
       "   dist\n",
       "0     2\n",
       "1    10\n",
       "2     4\n",
       "3    22\n",
       "4    16"
      ]
     },
     "execution_count": 5,
     "metadata": {},
     "output_type": "execute_result"
    }
   ],
   "source": [
    "y = origin[['dist']] # 데이터프레임\n",
    "y.head()"
   ]
  },
  {
   "cell_type": "markdown",
   "metadata": {},
   "source": [
    "### 데이터 분할"
   ]
  },
  {
   "cell_type": "code",
   "execution_count": 6,
   "metadata": {},
   "outputs": [
    {
     "data": {
      "text/plain": [
       "((35, 2), (15, 2), (35, 1), (15, 1))"
      ]
     },
     "execution_count": 6,
     "metadata": {},
     "output_type": "execute_result"
    }
   ],
   "source": [
    "x_train, x_test, y_train, y_test = train_test_split(x, y, train_size=0.7, random_state=245) \n",
    "x_train.shape, x_test.shape, y_train.shape, y_test.shape "
   ]
  },
  {
   "cell_type": "markdown",
   "metadata": {},
   "source": [
    "### 회귀분석 수행"
   ]
  },
  {
   "cell_type": "code",
   "execution_count": 7,
   "metadata": {},
   "outputs": [
    {
     "name": "stdout",
     "output_type": "stream",
     "text": [
      "계수:  [[2.66217443 0.01877458]]\n",
      "절편:  [-5.59048856]\n",
      "훈련데이터 설명력:  0.6369324456365243\n",
      "검증데이터 설명력:  0.6033674309812221\n"
     ]
    }
   ],
   "source": [
    "# 객체 생성\n",
    "model = LinearRegression()\n",
    "\n",
    "# 훈련시키기\n",
    "fit = model.fit(x_train, y_train)\n",
    "\n",
    "print(\"계수: \", fit.coef_)\n",
    "print(\"절편: \", fit.intercept_)\n",
    "print(\"훈련데이터 설명력: \", fit.score(x_train, y_train))\n",
    "print(\"검증데이터 설명력: \", fit.score(x_test, y_test))"
   ]
  },
  {
   "cell_type": "markdown",
   "metadata": {},
   "source": [
    "### 예측값 생성\n",
    "\n",
    "#### 훈련데이터에 대한 예측값"
   ]
  },
  {
   "cell_type": "code",
   "execution_count": 8,
   "metadata": {},
   "outputs": [
    {
     "data": {
      "text/plain": [
       "array([32.19068386, 45.09233173, 72.69798759, 48.41161662, 48.41161662,\n",
       "       55.16283391, 41.81059601, 25.96515493, 38.56640946, 45.09233173,\n",
       "       22.90871422, 35.35977207, 35.35977207, 55.16283391, 29.05914481,\n",
       "       35.35977207, 51.76845068, 29.05914481, 19.88982269,  5.35860252,\n",
       "       51.76845068, 48.41161662, 55.16283391, 29.05914481, 13.96468711,\n",
       "       45.09233173, 25.96515493, 22.90871422, 32.19068386, 29.05914481,\n",
       "       55.16283391, 51.76845068, 55.16283391, 65.57127861, 62.06424788])"
      ]
     },
     "execution_count": 8,
     "metadata": {},
     "output_type": "execute_result"
    }
   ],
   "source": [
    "y_train_pred = fit.predict(x_train)\n",
    "y_train_pred = y_train_pred.reshape(-1) #차수 감소시키기\n",
    "y_train_pred\n",
    "\n",
    "# 차수를 1 감소시켜라 (squeez()쓰먼 된다.)\n",
    "#y_train_pred = fit.predict(x_train)\n",
    "#y_train_pred.squeeze()"
   ]
  },
  {
   "cell_type": "markdown",
   "metadata": {},
   "source": [
    "#### 검증데이터에 대한 예측값"
   ]
  },
  {
   "cell_type": "code",
   "execution_count": 10,
   "metadata": {},
   "outputs": [
    {
     "data": {
      "text/plain": [
       "array([69.11585852,  5.35860252, 32.19068386, 69.11585852, 22.90871422,\n",
       "       35.35977207, 41.81059601, 16.90848032, 69.11585852, 38.56640946,\n",
       "       13.96468711, 32.19068386, 38.56640946, 69.11585852, 48.41161662])"
      ]
     },
     "execution_count": 10,
     "metadata": {},
     "output_type": "execute_result"
    }
   ],
   "source": [
    "y_test_pred = fit.predict(x_test)\n",
    "y_test_pred = y_test_pred.reshape(-1)\n",
    "y_test_pred"
   ]
  },
  {
   "cell_type": "markdown",
   "metadata": {},
   "source": [
    "## #03. 회귀분석 모델의 성능 평가\n",
    "\n",
    "회귀분석 모델의 평가를 위한 지표는 실제값(관측치)과 회귀 예측값의 차이를 기반으로 한다.\n",
    "\n",
    "| 구분 | 설명 |\n",
    "|---|---|\n",
    "| 에러율 | 낮을수록 좋음 (0에 가까울 수록 좋음) |\n",
    "| 설명력 | 높을수록 좋음 (1에 가까울 수록 좋음) |\n",
    "\n",
    "### 1) 설명력\n",
    "#### $ R^2 $ (결정계수)\n",
    "\n",
    "회귀분석에서 가장 많이 채택되는 설명력 값\n",
    "\n",
    "기본적으로 모델의 학습 결과를 갖고 있는 `fit` 객체의 `score()` 메서드를 통해서 조회 가능"
   ]
  },
  {
   "cell_type": "code",
   "execution_count": 11,
   "metadata": {},
   "outputs": [
    {
     "name": "stdout",
     "output_type": "stream",
     "text": [
      "훈련 데이터 설명력: 0.6369324456365243\n",
      "검증 데이터 설명력: 0.6033674309812221\n"
     ]
    }
   ],
   "source": [
    "print(\"훈련 데이터 설명력:\", fit.score(x_train, y_train))\n",
    "print(\"검증 데이터 설명력:\", fit.score(x_test, y_test))"
   ]
  },
  {
   "cell_type": "markdown",
   "metadata": {},
   "source": [
    "fit.score()는 학습을 통해 성능판단 <-> r2_score()는 잔차를 이용해 성능 판단\n",
    "\n",
    "sklearn이 제공하는 `metrics객체`의 `r2_score()`메서드를 통해서도 조회할 수 있다.\n",
    "\n",
    "이때 파라미터는 관측치와 예측치를 전달한다."
   ]
  },
  {
   "cell_type": "code",
   "execution_count": 12,
   "metadata": {},
   "outputs": [
    {
     "name": "stdout",
     "output_type": "stream",
     "text": [
      "훈련 데이터 설명력: 0.6369324456365243\n",
      "검증 데이터 설명력: 0.6033674309812221\n"
     ]
    }
   ],
   "source": [
    "print(\"훈련 데이터 설명력:\", r2_score(y_train, y_train_pred))\n",
    "print(\"검증 데이터 설명력:\", r2_score(y_test, y_test_pred))"
   ]
  },
  {
   "cell_type": "markdown",
   "metadata": {},
   "source": [
    "### 2) 에러율\n",
    "\n",
    "| 종류 | 이름 | 한글명 | 잔차계산 | 이상치에 영향 여부 |\n",
    "|----|----|----|----|----|\n",
    "| MAE | Mean Absoulte Error | 평균절대오차 | 절대값 | YES |\n",
    "| MSE | Mean Squared Error | 평균제곱오차 | 제곱값 | NO |\n",
    "| RMSE | Root Mean Squared Error | 평균오차 | 제곱값 | NO |\n",
    "| MAPE | Mean Absolute Percentage Error | 평균 절대 백분 오차 비율 | 절대값 | YES |\n",
    "| MPE | Mean Percentage Error | 평균 비율 오차 | N/A | YES |\n",
    "\n",
    "#### $MAE$ (Mean Absolute Error) : 평균 절대 오차\n",
    "\n",
    "![mae_expr](./res/mae_expr.png)\n",
    "\n",
    "모델의 예측값과 실제값의 차이 (=오차) 를 모두 더하는 개념이다. (-> MAE값은 작아야한다. )\n",
    "\n",
    "절대값을 취하기 때문에 직관적으로 알 수 있는 지표다.\n",
    "\n",
    "이상치에 영향을 미치지 않는다.\n",
    "\n",
    "MAE는 절대값을 취하는 지표이기 때문에 실제보다 낮은 값(umderperformance)인지 큰(overperformance) 값인지 알 수 있다.\n",
    "\n",
    "![mae](./res/mae.jpg)\n"
   ]
  },
  {
   "cell_type": "code",
   "execution_count": 13,
   "metadata": {},
   "outputs": [
    {
     "name": "stdout",
     "output_type": "stream",
     "text": [
      "훈련데이터 MAE: 9.303627957215797\n",
      "검증데이터 MAE: 16.00879141924198\n"
     ]
    }
   ],
   "source": [
    "print(\"훈련데이터 MAE:\", mean_absolute_error(y_train, y_train_pred))\n",
    "print(\"검증데이터 MAE:\", mean_absolute_error(y_test, y_test_pred))"
   ]
  },
  {
   "cell_type": "markdown",
   "metadata": {},
   "source": [
    "#### $ MSE $ (Mean Squared Error) : 평균 제곱 오차\n",
    "\n",
    "![mse](./res/mse_expr.png)\n",
    "\n",
    "MAE와는 다르게 제곱을 하기 때문에 모델의 실제값과 예측값의 차이의 면적의 합이다.\n",
    "\n",
    "제곱을 하기 때문에 특이값이 존재하면 수치가 많이 늘어난다 (=특이치에 민감함)\n",
    "\n",
    "![mse](./res/mse.jpg)"
   ]
  },
  {
   "cell_type": "code",
   "execution_count": 14,
   "metadata": {},
   "outputs": [
    {
     "name": "stdout",
     "output_type": "stream",
     "text": [
      "훈련데이터 MSE: 130.10977792672625\n",
      "검증데이터 MSE: 509.11051434683174\n"
     ]
    }
   ],
   "source": [
    "print(\"훈련데이터 MSE:\", mean_squared_error(y_train, y_train_pred))\n",
    "print(\"검증데이터 MSE:\", mean_squared_error(y_test, y_test_pred))"
   ]
  },
  {
   "cell_type": "markdown",
   "metadata": {},
   "source": [
    "#### $ RMSE $ (Root MEan Squared Error) : 평균 오차\n",
    "\n",
    "![RMSE](./res/rmse_expr.png)\n",
    "\n",
    "MSE를 구한 값에 루트를 씌운다.\n",
    "\n",
    "오류 지표를 실제 값과 유사한 단위로 변환하여 해석을 쉽게 한다. "
   ]
  },
  {
   "cell_type": "code",
   "execution_count": 15,
   "metadata": {},
   "outputs": [
    {
     "name": "stdout",
     "output_type": "stream",
     "text": [
      "훈련데이터 RMSE: 11.406567315661897\n",
      "검증데이터 RMSE: 22.563477443577526\n"
     ]
    }
   ],
   "source": [
    "print(\"훈련데이터 RMSE:\", np.sqrt(mean_squared_error(y_train, y_train_pred)))\n",
    "print(\"검증데이터 RMSE:\", np.sqrt(mean_squared_error(y_test, y_test_pred)))"
   ]
  },
  {
   "cell_type": "markdown",
   "metadata": {},
   "source": [
    "#### $ MAPE $ (Mean Absolute Percentage Error) : 평균 절대 백분오차 비율\n",
    "\n",
    "![mape](./res/mape_expr.png)\n",
    "\n",
    "MAE를 퍼센트로 변환한 것이다.\n",
    "\n",
    "MAE와 동일하게 MSE보다 이상치에 민감하며 실제값보다 낮은 값인지 높은 값인지 알 수 없다.\n",
    "\n",
    "모델에 대한 편향이 있다.(이를 대응하기 위해 MPE도 추가로 확인하는 것을 추천)\n",
    "\n",
    "![mape](./res/mape.jpg)"
   ]
  },
  {
   "cell_type": "code",
   "execution_count": 16,
   "metadata": {},
   "outputs": [
    {
     "name": "stdout",
     "output_type": "stream",
     "text": [
      "훈련데이터 MAPE: 31.953140481807633\n",
      "검증데이터 MAPE: 146.53926751162095\n"
     ]
    }
   ],
   "source": [
    "# API로 제공되는 기능이 아니고, 직접 계산해야 하기 때문에 관측치와 예측치의 데이터 타입이 일치해야 한다.\n",
    "# -> numpy 배열 혹은 Series 타입으로 통일해야 한다.\n",
    "print(\"훈련데이터 MAPE:\", np.mean(np.abs((y_train.values - y_train_pred)/y_train.values))*100)\n",
    "print(\"검증데이터 MAPE:\", np.mean(np.abs((y_test.values - y_test_pred)/y_test.values))*100)"
   ]
  },
  {
   "cell_type": "markdown",
   "metadata": {},
   "source": [
    "#### $ MPE $ (Mean Percentage Error) : 평균 비율 오차\n",
    "\n",
    "![mpe](./res/mpe_expr.png)\n",
    "\n",
    "MAPE와 비슷하지만 MAPE에서 절대값을 제외한 지표다.\n",
    "\n",
    "장점은 모델이 실제값보다 낮은 값인지 큰 값인지 판단 할 수 있다.\n",
    "\n",
    "![mpe](./res/mpe.jpg)\n"
   ]
  },
  {
   "cell_type": "code",
   "execution_count": 17,
   "metadata": {},
   "outputs": [
    {
     "name": "stdout",
     "output_type": "stream",
     "text": [
      "훈련데이터 MAPE: -13.990507735807734\n",
      "검증데이터 MAPE: -92.33806169557141\n"
     ]
    }
   ],
   "source": [
    "# API로 제공되는 기능이 아니고, 직접 계산해야 하기 때문에 관측치와 예측치의 데이터 타입이 일치해야 한다.\n",
    "# -> numpy 배열 혹은 Series 타입으로 통일해야 한다.\n",
    "print(\"훈련데이터 MAPE:\", np.mean((y_train.values - y_train_pred)/y_train.values)*100)\n",
    "print(\"검증데이터 MAPE:\", np.mean((y_test.values - y_test_pred)/y_test.values)*100)"
   ]
  },
  {
   "cell_type": "code",
   "execution_count": null,
   "metadata": {},
   "outputs": [],
   "source": []
  }
 ],
 "metadata": {
  "kernelspec": {
   "display_name": "Python 3",
   "language": "python",
   "name": "python3"
  },
  "language_info": {
   "codemirror_mode": {
    "name": "ipython",
    "version": 3
   },
   "file_extension": ".py",
   "mimetype": "text/x-python",
   "name": "python",
   "nbconvert_exporter": "python",
   "pygments_lexer": "ipython3",
   "version": "3.11.4"
  },
  "orig_nbformat": 4
 },
 "nbformat": 4,
 "nbformat_minor": 2
}
