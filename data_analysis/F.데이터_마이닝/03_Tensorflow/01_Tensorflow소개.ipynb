{
 "cells": [
  {
   "cell_type": "markdown",
   "metadata": {},
   "source": [
    "# 텐서프로우 소개\n",
    "\n",
    "구글에서 공개한 오픈소스 딥러닝 라이브러리.\n",
    "\n",
    "인공신경망(딥러닝)을 기반으로 하는 머신러닝 기법을 제공한다.\n",
    "\n"
   ]
  },
  {
   "cell_type": "markdown",
   "metadata": {},
   "source": []
  },
  {
   "cell_type": "code",
   "execution_count": null,
   "metadata": {},
   "outputs": [],
   "source": []
  }
 ],
 "metadata": {
  "kernelspec": {
   "display_name": "Python 3",
   "language": "python",
   "name": "python3"
  },
  "language_info": {
   "name": "python",
   "version": "3.9.13"
  },
  "orig_nbformat": 4
 },
 "nbformat": 4,
 "nbformat_minor": 2
}
