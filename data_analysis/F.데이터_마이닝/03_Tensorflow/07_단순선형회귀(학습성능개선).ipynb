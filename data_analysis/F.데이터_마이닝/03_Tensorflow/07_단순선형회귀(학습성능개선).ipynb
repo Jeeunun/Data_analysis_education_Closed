{
 "cells": [
  {
   "cell_type": "markdown",
   "metadata": {},
   "source": [
    "# 단순선형회귀 (학습성능개선)\n",
    "\n",
    "텐서플로우의 학습성능을 개선하기 위해 아래의 기능을 사용할 수 있음. \n",
    "\n",
    "1. 데이터 표준화 : 학습률 향상에 도움을 줌\n",
    "2. 콜백함수 : 모델의 학습 방향, 저장 시점, 학습 정지 시점 등에 관한 상황을 모니터링 하기 위한 도구. (적당한 시점에 break)\n",
    "\n",
    "## 데이터 정규화(Normalization, 표준화)\n",
    "\n",
    "### 1) 데이터 정규화의 이해\n",
    "\n",
    "#### 데이터 정규화란?\n",
    "\n",
    "모든 데이터가 동일한 정도의 스케일(중요도)로 반영되도록 해 주는 처리\n",
    "\n",
    "#### 정규화를 해야 하는 이유\n",
    "\n",
    "머신러닝 알고리즘은 데이터가 가진 feature(특성)들을 비교하여 데이터의 패턴을 찾는다.\n",
    "\n",
    "이 때, 데이터가 가진 feature의 스케일이 심하게 차이가 나는 경우 수많은 학습 단계를 거쳐서 최적값에 도달하게 된다.\n",
    "\n",
    "데이터에 정규화 처리를 적용하면 쉽게 최적값에 도달할 수 있으며 학습률을 상대적으로 높여서 사용할 수 있기 때문에 빠르게 훈련시킬 수 있다. \n",
    "\n",
    "### 2) 데이터 정규화 방법\n",
    "\n",
    "#### 최소-최대 정규화(Min-Max Normalization)\n",
    "\n",
    "모든 feature에 대해 각각의 최소값 0, 최대값 1로, 그리고 다른 값들은 0과 1 사이의 값으로 변환.\n",
    "\n",
    "예를 들어 어떤 특성의 최소값이 20이고, 최대값이 40인 경우, 30이라는 데이터가 있을 경우, 20은 `0`, 40은 `1`로 환산되기 때문에 30은 중간치인 `0.5`로 변환됨.\n",
    "\n",
    "## 콜백함수\n",
    "모델의 학습 방향, 저장 시점, 학습 정지 시점 등에 관한 상황을 모니터링하기 위한 도구\n",
    "\n",
    "### 콜백함수 사용방법\n",
    "#### 콜백정의\n",
    "\n",
    "```python\n",
    "callback = [ 콜백1, 콜백2, .... 콜백n ]\n",
    "```\n",
    "\n",
    "학습을 위한 fit()함수에서 callbacks파라미터에 미리 정의한 리스트를 지정\n",
    "\n",
    "```callbacks = [콜백1, 콜백2, ... , 콜백n]\n",
    "model.fit(x_train, y_train, validation_data = (x_val, y_val), epochs=500, callbacks=callbacks)\n",
    "```\n",
    "혹은\n",
    "```\n",
    "model.fit(x_train, y_train, validation_data = (x_val, y_val), epochs=500, callbacks=[콜백1, 콜백2, ... , 콜백n])\n",
    "```\n",
    "\n",
    "### 콜백함수 종류\n",
    "#### 1) `EarlyStopping()`\n",
    "모델 학습 시에 지정된 기간 동안 모니터링하는 평가지표에서 더 이상 성능 향상이 일어나지 ㅏㄶ은 경우 학습을 스스로 중단\n",
    "\n",
    "EarlyStopping(monitor='평가지표', patience=10, verbose=1)\n",
    "- patience : 지정한 수만큼의 기간에서 평가지표의 향상이 일어나지 않을 경우 학습을 중단\n",
    "(기간이라 함은 에폭을 의미)\n",
    "\n",
    "예를 들어 patience=`10`일때, `10`에폭 동안 성능 향상이 일어나지 않으면 학습을 중단. 즉, 10회 이상 성능향상이 발견되지 않으면 중단함\n",
    "- verbose : 콜백의 수행 과정 노출 여부를 지정\n",
    "    - 0 : 아무런 표시 하지 않음(기본값)\n",
    "    - 1 : 프로그래스바로 실시\n",
    "    - 2 : 매 에폭마다 수행과정을 자세하게 출력함.\n",
    "\n",
    "#### 2) `ReducdLRonPlateau()`\n",
    "EarlyStopping 콜백과 같이 patience인자를 지정하여, 지정된 기간 동안 평가지표에서 성능향상이 일어나지 않으면 학습률을 조정하는 콜백\n",
    "\n",
    "```\n",
    "ReduceLROnPlateau(monitor='평가지표', factor=0.1, patience=10, min_lr=0, verbose=1)\n",
    "```\n",
    "\n",
    "- factor:학습률 조정에 사용되는 값 (새로운 학습률 = facotr * 기존 학습률)\n",
    "- patience:지정한 수만큼의 기간에서 성능 향상이 일어나지 않을 경우, 학습률을 조정\n",
    "- min_lr:학습률의 하한을 지정\n",
    "- verbose:콜백의 수행 과정 노출 여부를 지정\n",
    "\n",
    "#### 3) `ModelCheckpoint()`\n",
    "지정한 평가지표를 기준으로 가장 뛰어난 성능을 보여주는 모델을 저장할 때 사용\n",
    "```\n",
    "ModelCheckpoint(filepath, monitor='평가지표', verbose=1, save_best_only=True|False, save_weights_only=False)\n",
    "```\n",
    "- filepath: 모델의 저장 경로를 지정\n",
    "- save_best_only: True인 경우, 가장 성능이 뛰어난 모델만 저장. 그보다 좋지 않은 모델의 경우는 덮어쓰지 않는다. \n",
    "- save_weights_only: 모델의 가중치만 저장"
   ]
  },
  {
   "cell_type": "code",
   "execution_count": 1,
   "metadata": {},
   "outputs": [],
   "source": [
    "import sys, os\n",
    "sys.path.append('../../')\n",
    "import helper\n",
    "\n",
    "from pandas import read_excel, DataFrame\n",
    "from matplotlib import pyplot as plt\n",
    "import seaborn as sb\n",
    "import numpy as np\n",
    "\n",
    "# 데이터를 훈련용과 테스트용으로 나누는 기능\n",
    "from sklearn.model_selection import train_test_split\n",
    "\n",
    "# 모델을 구성하기 위한 객체\n",
    "from tensorflow.keras.models import Sequential\n",
    "\n",
    "# 모델에 학습층을 쌓기 위한 클래스\n",
    "from tensorflow.keras.layers import Dense\n",
    "\n",
    "#--------추가 패키지---------------------#\n",
    "# 데이터 정규화를 위한 패키지\n",
    "from sklearn.preprocessing import MinMaxScaler # 보통 StandardScaler를 사용한다. \n",
    "\n",
    "# 학습에 대한 콜백함수 참조\n",
    "from tensorflow.keras.callbacks import EarlyStopping\n",
    "from tensorflow.keras.callbacks import ReduceLROnPlateau\n",
    "from tensorflow.keras.callbacks import ModelCheckpoint"
   ]
  },
  {
   "cell_type": "markdown",
   "metadata": {},
   "source": [
    "## #02. 데이터 셋 준비"
   ]
  },
  {
   "cell_type": "code",
   "execution_count": 2,
   "metadata": {},
   "outputs": [
    {
     "data": {
      "text/html": [
       "<div>\n",
       "<style scoped>\n",
       "    .dataframe tbody tr th:only-of-type {\n",
       "        vertical-align: middle;\n",
       "    }\n",
       "\n",
       "    .dataframe tbody tr th {\n",
       "        vertical-align: top;\n",
       "    }\n",
       "\n",
       "    .dataframe thead th {\n",
       "        text-align: right;\n",
       "    }\n",
       "</style>\n",
       "<table border=\"1\" class=\"dataframe\">\n",
       "  <thead>\n",
       "    <tr style=\"text-align: right;\">\n",
       "      <th></th>\n",
       "      <th>speed</th>\n",
       "      <th>dist</th>\n",
       "    </tr>\n",
       "  </thead>\n",
       "  <tbody>\n",
       "    <tr>\n",
       "      <th>0</th>\n",
       "      <td>4</td>\n",
       "      <td>2</td>\n",
       "    </tr>\n",
       "    <tr>\n",
       "      <th>1</th>\n",
       "      <td>4</td>\n",
       "      <td>10</td>\n",
       "    </tr>\n",
       "    <tr>\n",
       "      <th>2</th>\n",
       "      <td>7</td>\n",
       "      <td>4</td>\n",
       "    </tr>\n",
       "    <tr>\n",
       "      <th>3</th>\n",
       "      <td>7</td>\n",
       "      <td>22</td>\n",
       "    </tr>\n",
       "    <tr>\n",
       "      <th>4</th>\n",
       "      <td>8</td>\n",
       "      <td>16</td>\n",
       "    </tr>\n",
       "    <tr>\n",
       "      <th>5</th>\n",
       "      <td>9</td>\n",
       "      <td>10</td>\n",
       "    </tr>\n",
       "    <tr>\n",
       "      <th>6</th>\n",
       "      <td>10</td>\n",
       "      <td>18</td>\n",
       "    </tr>\n",
       "    <tr>\n",
       "      <th>7</th>\n",
       "      <td>10</td>\n",
       "      <td>26</td>\n",
       "    </tr>\n",
       "    <tr>\n",
       "      <th>8</th>\n",
       "      <td>10</td>\n",
       "      <td>34</td>\n",
       "    </tr>\n",
       "    <tr>\n",
       "      <th>9</th>\n",
       "      <td>11</td>\n",
       "      <td>17</td>\n",
       "    </tr>\n",
       "    <tr>\n",
       "      <th>10</th>\n",
       "      <td>11</td>\n",
       "      <td>28</td>\n",
       "    </tr>\n",
       "    <tr>\n",
       "      <th>11</th>\n",
       "      <td>12</td>\n",
       "      <td>14</td>\n",
       "    </tr>\n",
       "    <tr>\n",
       "      <th>12</th>\n",
       "      <td>12</td>\n",
       "      <td>20</td>\n",
       "    </tr>\n",
       "    <tr>\n",
       "      <th>13</th>\n",
       "      <td>12</td>\n",
       "      <td>24</td>\n",
       "    </tr>\n",
       "    <tr>\n",
       "      <th>14</th>\n",
       "      <td>12</td>\n",
       "      <td>28</td>\n",
       "    </tr>\n",
       "    <tr>\n",
       "      <th>15</th>\n",
       "      <td>13</td>\n",
       "      <td>26</td>\n",
       "    </tr>\n",
       "    <tr>\n",
       "      <th>16</th>\n",
       "      <td>13</td>\n",
       "      <td>34</td>\n",
       "    </tr>\n",
       "    <tr>\n",
       "      <th>17</th>\n",
       "      <td>13</td>\n",
       "      <td>34</td>\n",
       "    </tr>\n",
       "    <tr>\n",
       "      <th>18</th>\n",
       "      <td>13</td>\n",
       "      <td>46</td>\n",
       "    </tr>\n",
       "    <tr>\n",
       "      <th>19</th>\n",
       "      <td>14</td>\n",
       "      <td>26</td>\n",
       "    </tr>\n",
       "    <tr>\n",
       "      <th>20</th>\n",
       "      <td>14</td>\n",
       "      <td>36</td>\n",
       "    </tr>\n",
       "    <tr>\n",
       "      <th>21</th>\n",
       "      <td>14</td>\n",
       "      <td>60</td>\n",
       "    </tr>\n",
       "    <tr>\n",
       "      <th>22</th>\n",
       "      <td>14</td>\n",
       "      <td>80</td>\n",
       "    </tr>\n",
       "    <tr>\n",
       "      <th>23</th>\n",
       "      <td>15</td>\n",
       "      <td>20</td>\n",
       "    </tr>\n",
       "    <tr>\n",
       "      <th>24</th>\n",
       "      <td>15</td>\n",
       "      <td>26</td>\n",
       "    </tr>\n",
       "    <tr>\n",
       "      <th>25</th>\n",
       "      <td>15</td>\n",
       "      <td>54</td>\n",
       "    </tr>\n",
       "    <tr>\n",
       "      <th>26</th>\n",
       "      <td>16</td>\n",
       "      <td>32</td>\n",
       "    </tr>\n",
       "    <tr>\n",
       "      <th>27</th>\n",
       "      <td>16</td>\n",
       "      <td>40</td>\n",
       "    </tr>\n",
       "    <tr>\n",
       "      <th>28</th>\n",
       "      <td>17</td>\n",
       "      <td>32</td>\n",
       "    </tr>\n",
       "    <tr>\n",
       "      <th>29</th>\n",
       "      <td>17</td>\n",
       "      <td>40</td>\n",
       "    </tr>\n",
       "    <tr>\n",
       "      <th>30</th>\n",
       "      <td>17</td>\n",
       "      <td>50</td>\n",
       "    </tr>\n",
       "    <tr>\n",
       "      <th>31</th>\n",
       "      <td>18</td>\n",
       "      <td>42</td>\n",
       "    </tr>\n",
       "    <tr>\n",
       "      <th>32</th>\n",
       "      <td>18</td>\n",
       "      <td>56</td>\n",
       "    </tr>\n",
       "    <tr>\n",
       "      <th>33</th>\n",
       "      <td>18</td>\n",
       "      <td>76</td>\n",
       "    </tr>\n",
       "    <tr>\n",
       "      <th>34</th>\n",
       "      <td>18</td>\n",
       "      <td>84</td>\n",
       "    </tr>\n",
       "    <tr>\n",
       "      <th>35</th>\n",
       "      <td>19</td>\n",
       "      <td>36</td>\n",
       "    </tr>\n",
       "    <tr>\n",
       "      <th>36</th>\n",
       "      <td>19</td>\n",
       "      <td>46</td>\n",
       "    </tr>\n",
       "    <tr>\n",
       "      <th>37</th>\n",
       "      <td>19</td>\n",
       "      <td>68</td>\n",
       "    </tr>\n",
       "    <tr>\n",
       "      <th>38</th>\n",
       "      <td>20</td>\n",
       "      <td>32</td>\n",
       "    </tr>\n",
       "    <tr>\n",
       "      <th>39</th>\n",
       "      <td>20</td>\n",
       "      <td>48</td>\n",
       "    </tr>\n",
       "    <tr>\n",
       "      <th>40</th>\n",
       "      <td>20</td>\n",
       "      <td>52</td>\n",
       "    </tr>\n",
       "    <tr>\n",
       "      <th>41</th>\n",
       "      <td>20</td>\n",
       "      <td>56</td>\n",
       "    </tr>\n",
       "    <tr>\n",
       "      <th>42</th>\n",
       "      <td>20</td>\n",
       "      <td>64</td>\n",
       "    </tr>\n",
       "    <tr>\n",
       "      <th>43</th>\n",
       "      <td>22</td>\n",
       "      <td>66</td>\n",
       "    </tr>\n",
       "    <tr>\n",
       "      <th>44</th>\n",
       "      <td>23</td>\n",
       "      <td>54</td>\n",
       "    </tr>\n",
       "    <tr>\n",
       "      <th>45</th>\n",
       "      <td>24</td>\n",
       "      <td>70</td>\n",
       "    </tr>\n",
       "    <tr>\n",
       "      <th>46</th>\n",
       "      <td>24</td>\n",
       "      <td>92</td>\n",
       "    </tr>\n",
       "    <tr>\n",
       "      <th>47</th>\n",
       "      <td>24</td>\n",
       "      <td>93</td>\n",
       "    </tr>\n",
       "    <tr>\n",
       "      <th>48</th>\n",
       "      <td>24</td>\n",
       "      <td>120</td>\n",
       "    </tr>\n",
       "    <tr>\n",
       "      <th>49</th>\n",
       "      <td>25</td>\n",
       "      <td>85</td>\n",
       "    </tr>\n",
       "  </tbody>\n",
       "</table>\n",
       "</div>"
      ],
      "text/plain": [
       "    speed  dist\n",
       "0       4     2\n",
       "1       4    10\n",
       "2       7     4\n",
       "3       7    22\n",
       "4       8    16\n",
       "5       9    10\n",
       "6      10    18\n",
       "7      10    26\n",
       "8      10    34\n",
       "9      11    17\n",
       "10     11    28\n",
       "11     12    14\n",
       "12     12    20\n",
       "13     12    24\n",
       "14     12    28\n",
       "15     13    26\n",
       "16     13    34\n",
       "17     13    34\n",
       "18     13    46\n",
       "19     14    26\n",
       "20     14    36\n",
       "21     14    60\n",
       "22     14    80\n",
       "23     15    20\n",
       "24     15    26\n",
       "25     15    54\n",
       "26     16    32\n",
       "27     16    40\n",
       "28     17    32\n",
       "29     17    40\n",
       "30     17    50\n",
       "31     18    42\n",
       "32     18    56\n",
       "33     18    76\n",
       "34     18    84\n",
       "35     19    36\n",
       "36     19    46\n",
       "37     19    68\n",
       "38     20    32\n",
       "39     20    48\n",
       "40     20    52\n",
       "41     20    56\n",
       "42     20    64\n",
       "43     22    66\n",
       "44     23    54\n",
       "45     24    70\n",
       "46     24    92\n",
       "47     24    93\n",
       "48     24   120\n",
       "49     25    85"
      ]
     },
     "execution_count": 2,
     "metadata": {},
     "output_type": "execute_result"
    }
   ],
   "source": [
    "origin = read_excel(\"https://data.hossam.kr/E04/cars.xlsx\")\n",
    "origin"
   ]
  },
  {
   "cell_type": "markdown",
   "metadata": {},
   "source": [
    "## #03. 데이터 전처리\n",
    "\n",
    "### 결측치 확인"
   ]
  },
  {
   "cell_type": "code",
   "execution_count": 3,
   "metadata": {},
   "outputs": [
    {
     "data": {
      "text/plain": [
       "speed    0\n",
       "dist     0\n",
       "dtype: int64"
      ]
     },
     "execution_count": 3,
     "metadata": {},
     "output_type": "execute_result"
    }
   ],
   "source": [
    "origin.isna().sum()"
   ]
  },
  {
   "cell_type": "markdown",
   "metadata": {},
   "source": [
    "## #04. 탐색적 데이터 분석\n",
    "\n",
    "### 기본통계확인"
   ]
  },
  {
   "cell_type": "code",
   "execution_count": 4,
   "metadata": {},
   "outputs": [
    {
     "data": {
      "text/html": [
       "<div>\n",
       "<style scoped>\n",
       "    .dataframe tbody tr th:only-of-type {\n",
       "        vertical-align: middle;\n",
       "    }\n",
       "\n",
       "    .dataframe tbody tr th {\n",
       "        vertical-align: top;\n",
       "    }\n",
       "\n",
       "    .dataframe thead th {\n",
       "        text-align: right;\n",
       "    }\n",
       "</style>\n",
       "<table border=\"1\" class=\"dataframe\">\n",
       "  <thead>\n",
       "    <tr style=\"text-align: right;\">\n",
       "      <th></th>\n",
       "      <th>speed</th>\n",
       "      <th>dist</th>\n",
       "    </tr>\n",
       "  </thead>\n",
       "  <tbody>\n",
       "    <tr>\n",
       "      <th>count</th>\n",
       "      <td>50.000000</td>\n",
       "      <td>50.000000</td>\n",
       "    </tr>\n",
       "    <tr>\n",
       "      <th>mean</th>\n",
       "      <td>15.400000</td>\n",
       "      <td>42.980000</td>\n",
       "    </tr>\n",
       "    <tr>\n",
       "      <th>std</th>\n",
       "      <td>5.287644</td>\n",
       "      <td>25.769377</td>\n",
       "    </tr>\n",
       "    <tr>\n",
       "      <th>min</th>\n",
       "      <td>4.000000</td>\n",
       "      <td>2.000000</td>\n",
       "    </tr>\n",
       "    <tr>\n",
       "      <th>25%</th>\n",
       "      <td>12.000000</td>\n",
       "      <td>26.000000</td>\n",
       "    </tr>\n",
       "    <tr>\n",
       "      <th>50%</th>\n",
       "      <td>15.000000</td>\n",
       "      <td>36.000000</td>\n",
       "    </tr>\n",
       "    <tr>\n",
       "      <th>75%</th>\n",
       "      <td>19.000000</td>\n",
       "      <td>56.000000</td>\n",
       "    </tr>\n",
       "    <tr>\n",
       "      <th>max</th>\n",
       "      <td>25.000000</td>\n",
       "      <td>120.000000</td>\n",
       "    </tr>\n",
       "  </tbody>\n",
       "</table>\n",
       "</div>"
      ],
      "text/plain": [
       "           speed        dist\n",
       "count  50.000000   50.000000\n",
       "mean   15.400000   42.980000\n",
       "std     5.287644   25.769377\n",
       "min     4.000000    2.000000\n",
       "25%    12.000000   26.000000\n",
       "50%    15.000000   36.000000\n",
       "75%    19.000000   56.000000\n",
       "max    25.000000  120.000000"
      ]
     },
     "execution_count": 4,
     "metadata": {},
     "output_type": "execute_result"
    }
   ],
   "source": [
    "origin.describe()"
   ]
  },
  {
   "cell_type": "markdown",
   "metadata": {},
   "source": [
    "### (수정) 산점도 그래프와 추세선 확인"
   ]
  },
  {
   "cell_type": "code",
   "execution_count": 5,
   "metadata": {},
   "outputs": [
    {
     "data": {
      "image/png": "[encoded data removed]",
      "text/plain": [
       "<Figure size 1000x500 with 1 Axes>"
      ]
     },
     "metadata": {},
     "output_type": "display_data"
    }
   ],
   "source": [
    "plt.rcParams['font.family'] = 'Malgun Gothic'\n",
    "plt.rcParams['font.size'] = 16\n",
    "plt.rcParams['axes.unicode_minus'] = False\n",
    "\n",
    "plt.figure(figsize=(10,5))\n",
    "sb.regplot(data=origin, x='speed', y='dist', color='#ff6600')\n",
    "plt.grid()\n",
    "\n",
    "plt.show()\n",
    "plt.close()"
   ]
  },
  {
   "cell_type": "markdown",
   "metadata": {},
   "source": [
    "> 추세선을 보고 선형을 띈다면 다항식 X = degree 결정 <br> 곡선보다는 선형 분포에 더 가까우므로 단순선형회귀모델을 적용하기로 함"
   ]
  },
  {
   "cell_type": "markdown",
   "metadata": {},
   "source": [
    "## #05. 데이터 분할\n",
    "\n",
    "### 1. 랜덤시드 고정"
   ]
  },
  {
   "cell_type": "code",
   "execution_count": 6,
   "metadata": {},
   "outputs": [],
   "source": [
    "np.random.seed(777)"
   ]
  },
  {
   "cell_type": "markdown",
   "metadata": {},
   "source": [
    "### 2. 훈련데이터(독립변수)와 레이블(종속변수) 구분하기"
   ]
  },
  {
   "cell_type": "code",
   "execution_count": 7,
   "metadata": {},
   "outputs": [
    {
     "name": "stdout",
     "output_type": "stream",
     "text": [
      "훈련데이터크기: (50, 1) /레이블크기: (50, 1)\n"
     ]
    }
   ],
   "source": [
    "x = origin.drop(['dist'], axis=1)\n",
    "y = origin[['dist']]\n",
    "print(\"훈련데이터크기:\", x.shape, '/레이블크기:', y.shape)"
   ]
  },
  {
   "cell_type": "markdown",
   "metadata": {},
   "source": [
    "### (추가) 데이터 정규화(표준화) 수행\n",
    "\n",
    "#### 독립변수 표준화"
   ]
  },
  {
   "cell_type": "code",
   "execution_count": 8,
   "metadata": {},
   "outputs": [
    {
     "data": {
      "text/plain": [
       "array([[0.        ],\n",
       "       [0.        ],\n",
       "       [0.14285714],\n",
       "       [0.14285714],\n",
       "       [0.19047619],\n",
       "       [0.23809524],\n",
       "       [0.28571429],\n",
       "       [0.28571429],\n",
       "       [0.28571429],\n",
       "       [0.33333333],\n",
       "       [0.33333333],\n",
       "       [0.38095238],\n",
       "       [0.38095238],\n",
       "       [0.38095238],\n",
       "       [0.38095238],\n",
       "       [0.42857143],\n",
       "       [0.42857143],\n",
       "       [0.42857143],\n",
       "       [0.42857143],\n",
       "       [0.47619048],\n",
       "       [0.47619048],\n",
       "       [0.47619048],\n",
       "       [0.47619048],\n",
       "       [0.52380952],\n",
       "       [0.52380952],\n",
       "       [0.52380952],\n",
       "       [0.57142857],\n",
       "       [0.57142857],\n",
       "       [0.61904762],\n",
       "       [0.61904762],\n",
       "       [0.61904762],\n",
       "       [0.66666667],\n",
       "       [0.66666667],\n",
       "       [0.66666667],\n",
       "       [0.66666667],\n",
       "       [0.71428571],\n",
       "       [0.71428571],\n",
       "       [0.71428571],\n",
       "       [0.76190476],\n",
       "       [0.76190476],\n",
       "       [0.76190476],\n",
       "       [0.76190476],\n",
       "       [0.76190476],\n",
       "       [0.85714286],\n",
       "       [0.9047619 ],\n",
       "       [0.95238095],\n",
       "       [0.95238095],\n",
       "       [0.95238095],\n",
       "       [0.95238095],\n",
       "       [1.        ]])"
      ]
     },
     "execution_count": 8,
     "metadata": {},
     "output_type": "execute_result"
    }
   ],
   "source": [
    "x_scaler = MinMaxScaler()\n",
    "x_scale = x_scaler.fit_transform(x)\n",
    "x_scale"
   ]
  },
  {
   "cell_type": "markdown",
   "metadata": {},
   "source": [
    "#### 종속변수 표준화"
   ]
  },
  {
   "cell_type": "code",
   "execution_count": 9,
   "metadata": {},
   "outputs": [
    {
     "data": {
      "text/plain": [
       "array([[0.        ],\n",
       "       [0.06779661],\n",
       "       [0.01694915],\n",
       "       [0.16949153],\n",
       "       [0.11864407],\n",
       "       [0.06779661],\n",
       "       [0.13559322],\n",
       "       [0.20338983],\n",
       "       [0.27118644],\n",
       "       [0.12711864],\n",
       "       [0.22033898],\n",
       "       [0.10169492],\n",
       "       [0.15254237],\n",
       "       [0.18644068],\n",
       "       [0.22033898],\n",
       "       [0.20338983],\n",
       "       [0.27118644],\n",
       "       [0.27118644],\n",
       "       [0.37288136],\n",
       "       [0.20338983],\n",
       "       [0.28813559],\n",
       "       [0.49152542],\n",
       "       [0.66101695],\n",
       "       [0.15254237],\n",
       "       [0.20338983],\n",
       "       [0.44067797],\n",
       "       [0.25423729],\n",
       "       [0.3220339 ],\n",
       "       [0.25423729],\n",
       "       [0.3220339 ],\n",
       "       [0.40677966],\n",
       "       [0.33898305],\n",
       "       [0.45762712],\n",
       "       [0.62711864],\n",
       "       [0.69491525],\n",
       "       [0.28813559],\n",
       "       [0.37288136],\n",
       "       [0.55932203],\n",
       "       [0.25423729],\n",
       "       [0.38983051],\n",
       "       [0.42372881],\n",
       "       [0.45762712],\n",
       "       [0.52542373],\n",
       "       [0.54237288],\n",
       "       [0.44067797],\n",
       "       [0.57627119],\n",
       "       [0.76271186],\n",
       "       [0.77118644],\n",
       "       [1.        ],\n",
       "       [0.70338983]])"
      ]
     },
     "execution_count": 9,
     "metadata": {},
     "output_type": "execute_result"
    }
   ],
   "source": [
    "y_scaler = MinMaxScaler()\n",
    "y_scale = y_scaler.fit_transform(y)\n",
    "y_scale"
   ]
  },
  {
   "cell_type": "markdown",
   "metadata": {},
   "source": [
    "### 3. 훈련데이터와 검증데이터 분할"
   ]
  },
  {
   "cell_type": "code",
   "execution_count": 10,
   "metadata": {},
   "outputs": [
    {
     "name": "stdout",
     "output_type": "stream",
     "text": [
      "훈련용 데이터셋 크기 : 35, 검증용 데이터셋 크기: 15\n"
     ]
    }
   ],
   "source": [
    "x_train, x_test, y_train, y_test = train_test_split(x_scale,y_scale,test_size=0.3, random_state=777)\n",
    "print(\"훈련용 데이터셋 크기 : %d, 검증용 데이터셋 크기: %d\" % (len(x_train), len(x_test)))"
   ]
  },
  {
   "cell_type": "markdown",
   "metadata": {},
   "source": [
    "## #06. 모델 개발\n",
    "\n",
    "### 1. 모델정의"
   ]
  },
  {
   "cell_type": "code",
   "execution_count": 11,
   "metadata": {},
   "outputs": [
    {
     "name": "stdout",
     "output_type": "stream",
     "text": [
      "Model: \"sequential\"\n",
      "_________________________________________________________________\n",
      " Layer (type)                Output Shape              Param #   \n",
      "=================================================================\n",
      " dense (Dense)               (None, 32)                64        \n",
      "                                                                 \n",
      " dense_1 (Dense)             (None, 1)                 33        \n",
      "                                                                 \n",
      "=================================================================\n",
      "Total params: 97 (388.00 Byte)\n",
      "Trainable params: 97 (388.00 Byte)\n",
      "Non-trainable params: 0 (0.00 Byte)\n",
      "_________________________________________________________________\n"
     ]
    }
   ],
   "source": [
    "#객체 만들기\n",
    "model = Sequential() \n",
    "\n",
    "#1 차원의 데이터를 입력받고, 32개의 출력을 가지는 \"첫번째 Dense층\"\n",
    "# input_shape = 독립변수의 갯수\n",
    "model.add(Dense(32, activation='relu', input_shape=(1, )))\n",
    "# 하나의 값을 출력\n",
    "# -> 정답의 범위가 정해지지 않기 때문에 활성화 함수는 linear\n",
    "# -> linear는 기본값이므로 생략 가능함\n",
    "# \"마지막 Dense층\"만 제시 ; model.add(Dense(1, activation='linear')) 하면 중간층은 알아서 해줌\n",
    "model.add(Dense(1, activation='linear'))\n",
    "\n",
    "model.compile(optimizer='adam', loss='mse', metrics=['mae'])\n",
    "model.summary()"
   ]
  },
  {
   "cell_type": "markdown",
   "metadata": {},
   "source": [
    "### 2. (수정) 학습하기"
   ]
  },
  {
   "cell_type": "code",
   "execution_count": 13,
   "metadata": {},
   "outputs": [
    {
     "name": "stdout",
     "output_type": "stream",
     "text": [
      "Epoch 1/500\n",
      "1/2 [==============>...............] - ETA: 0s - loss: 0.1562 - mae: 0.3298\n",
      "Epoch 1: val_loss improved from inf to 0.09093, saving model to C;\\tensorflow_checkpoint\\mode107-cp-0001-ckpt\n"
     ]
    },
    {
     "ename": "FailedPreconditionError",
     "evalue": "C;\\tensorflow_checkpoint is not a directory",
     "output_type": "error",
     "traceback": [
      "\u001b[1;31m---------------------------------------------------------------------------\u001b[0m",
      "\u001b[1;31mFailedPreconditionError\u001b[0m                   Traceback (most recent call last)",
      "Cell \u001b[1;32mIn[13], line 6\u001b[0m\n\u001b[0;32m      1\u001b[0m \u001b[39m#result = model.fit(x_train, y_train, epochs=500, validation_data=(x_test, y_test))\u001b[39;00m\n\u001b[0;32m      2\u001b[0m \n\u001b[0;32m      3\u001b[0m \u001b[39m# 파일이 저장될 경로(폴더) 지정(한글, 공백, 점(.)이 포함되어 있을 경우 에러 발생함)\u001b[39;00m\n\u001b[0;32m      4\u001b[0m checkpoint_path \u001b[39m=\u001b[39m os\u001b[39m.\u001b[39mpath\u001b[39m.\u001b[39mjoin(\u001b[39m\"\u001b[39m\u001b[39mC;\u001b[39m\u001b[39m\\\\\u001b[39;00m\u001b[39mtensorflow_checkpoint\u001b[39m\u001b[39m\\\\\u001b[39;00m\u001b[39mmode107-cp-\u001b[39m\u001b[39m{epoch:04d}\u001b[39;00m\u001b[39m-ckpt\u001b[39m\u001b[39m\"\u001b[39m)\n\u001b[1;32m----> 6\u001b[0m result \u001b[39m=\u001b[39m model\u001b[39m.\u001b[39;49mfit(x_train, y_train, epochs\u001b[39m=\u001b[39;49m\u001b[39m500\u001b[39;49m, validation_data\u001b[39m=\u001b[39;49m(x_test, y_test), callbacks\u001b[39m=\u001b[39;49m[\n\u001b[0;32m      7\u001b[0m     EarlyStopping(monitor\u001b[39m=\u001b[39;49m\u001b[39m'\u001b[39;49m\u001b[39mval_loss\u001b[39;49m\u001b[39m'\u001b[39;49m, patience\u001b[39m=\u001b[39;49m\u001b[39m10\u001b[39;49m, verbose\u001b[39m=\u001b[39;49m\u001b[39m1\u001b[39;49m),\n\u001b[0;32m      8\u001b[0m     ReduceLROnPlateau(monitor\u001b[39m=\u001b[39;49m \u001b[39m\"\u001b[39;49m\u001b[39mval_loss\u001b[39;49m\u001b[39m\"\u001b[39;49m, patience\u001b[39m=\u001b[39;49m\u001b[39m3\u001b[39;49m, factor \u001b[39m=\u001b[39;49m \u001b[39m0.5\u001b[39;49m, min_lr\u001b[39m=\u001b[39;49m\u001b[39m0.0001\u001b[39;49m, verbose\u001b[39m=\u001b[39;49m\u001b[39m1\u001b[39;49m),\n\u001b[0;32m      9\u001b[0m     ModelCheckpoint(filepath \u001b[39m=\u001b[39;49m checkpoint_path, monitor \u001b[39m=\u001b[39;49m \u001b[39m'\u001b[39;49m\u001b[39mval_loss\u001b[39;49m\u001b[39m'\u001b[39;49m, verbose\u001b[39m=\u001b[39;49m\u001b[39m1\u001b[39;49m, save_best_only \u001b[39m=\u001b[39;49m \u001b[39mTrue\u001b[39;49;00m)\n\u001b[0;32m     10\u001b[0m ])\n\u001b[0;32m     12\u001b[0m \u001b[39m# 학습결과\u001b[39;00m\n\u001b[0;32m     13\u001b[0m result_df \u001b[39m=\u001b[39m DataFrame(result\u001b[39m.\u001b[39mhistory)\n",
      "File \u001b[1;32mc:\\Users\\hanjieun_2\\AppData\\Local\\Programs\\Python\\Python39\\lib\\site-packages\\keras\\src\\utils\\traceback_utils.py:70\u001b[0m, in \u001b[0;36mfilter_traceback.<locals>.error_handler\u001b[1;34m(*args, **kwargs)\u001b[0m\n\u001b[0;32m     67\u001b[0m     filtered_tb \u001b[39m=\u001b[39m _process_traceback_frames(e\u001b[39m.\u001b[39m__traceback__)\n\u001b[0;32m     68\u001b[0m     \u001b[39m# To get the full stack trace, call:\u001b[39;00m\n\u001b[0;32m     69\u001b[0m     \u001b[39m# `tf.debugging.disable_traceback_filtering()`\u001b[39;00m\n\u001b[1;32m---> 70\u001b[0m     \u001b[39mraise\u001b[39;00m e\u001b[39m.\u001b[39mwith_traceback(filtered_tb) \u001b[39mfrom\u001b[39;00m \u001b[39mNone\u001b[39;00m\n\u001b[0;32m     71\u001b[0m \u001b[39mfinally\u001b[39;00m:\n\u001b[0;32m     72\u001b[0m     \u001b[39mdel\u001b[39;00m filtered_tb\n",
      "File \u001b[1;32mc:\\Users\\hanjieun_2\\AppData\\Local\\Programs\\Python\\Python39\\lib\\site-packages\\tensorflow\\python\\lib\\io\\file_io.py:513\u001b[0m, in \u001b[0;36mrecursive_create_dir_v2\u001b[1;34m(path)\u001b[0m\n\u001b[0;32m    501\u001b[0m \u001b[39m@tf_export\u001b[39m(\u001b[39m\"\u001b[39m\u001b[39mio.gfile.makedirs\u001b[39m\u001b[39m\"\u001b[39m)\n\u001b[0;32m    502\u001b[0m \u001b[39mdef\u001b[39;00m \u001b[39mrecursive_create_dir_v2\u001b[39m(path):\n\u001b[0;32m    503\u001b[0m \u001b[39m  \u001b[39m\u001b[39m\"\"\"Creates a directory and all parent/intermediate directories.\u001b[39;00m\n\u001b[0;32m    504\u001b[0m \n\u001b[0;32m    505\u001b[0m \u001b[39m  It succeeds if path already exists and is writable.\u001b[39;00m\n\u001b[1;32m   (...)\u001b[0m\n\u001b[0;32m    511\u001b[0m \u001b[39m    errors.OpError: If the operation fails.\u001b[39;00m\n\u001b[0;32m    512\u001b[0m \u001b[39m  \"\"\"\u001b[39;00m\n\u001b[1;32m--> 513\u001b[0m   _pywrap_file_io\u001b[39m.\u001b[39;49mRecursivelyCreateDir(compat\u001b[39m.\u001b[39;49mpath_to_bytes(path))\n",
      "\u001b[1;31mFailedPreconditionError\u001b[0m: C;\\tensorflow_checkpoint is not a directory"
     ]
    }
   ],
   "source": [
    "#result = model.fit(x_train, y_train, epochs=500, validation_data=(x_test, y_test))\n",
    "\n",
    "# 파일이 저장될 경로(폴더) 지정(한글, 공백, 점(.)이 포함되어 있을 경우 에러 발생함)\n",
    "checkpoint_path = os.path.join(\"C;\\\\tensorflow_checkpoint\\\\mode107-cp-{epoch:04d}-ckpt\")\n",
    "\n",
    "result = model.fit(x_train, y_train, epochs=500, validation_data=(x_test, y_test), callbacks=[\n",
    "    EarlyStopping(monitor='val_loss', patience=10, verbose=1),\n",
    "    ReduceLROnPlateau(monitor= \"val_loss\", patience=3, factor = 0.5, min_lr=0.0001, verbose=1),\n",
    "    ModelCheckpoint(filepath = checkpoint_path, monitor = 'val_loss', verbose=1, save_best_only = True)\n",
    "])\n",
    "\n",
    "# 학습결과\n",
    "result_df = DataFrame(result.history)\n",
    "result_df['epochs'] = result_df.index+1\n",
    "result_df.set_index('epochs', inplace=True)\n",
    "result_df"
   ]
  },
  {
   "cell_type": "markdown",
   "metadata": {},
   "source": [
    "## #07. 학습결과 평가\n",
    "\n",
    "### 1. 학습결과 시각화"
   ]
  },
  {
   "cell_type": "code",
   "execution_count": null,
   "metadata": {},
   "outputs": [
    {
     "data": {
      "image/png": "[encoded data removed]",
      "text/plain": [
       "<Figure size 2250x750 with 2 Axes>"
      ]
     },
     "metadata": {},
     "output_type": "display_data"
    }
   ],
   "source": [
    "# 그래프 기본 설정\n",
    "# ----------------------------------------\n",
    "plt.rcParams[\"font.family\"] = 'Malgun Gothic'\n",
    "plt.rcParams[\"font.size\"] = 16\n",
    "plt.rcParams['axes.unicode_minus'] = False\n",
    "\n",
    "# 그래프를 그리기 위한 객체 생성\n",
    "# -----------------------------------------\n",
    "fig, (ax1, ax2) = plt.subplots(1,2,figsize=(15,5), dpi=150)\n",
    "\n",
    "# 1) 훈련 및 검증 손실 그리기\n",
    "#-------------------------------------------\n",
    "sb.lineplot(x=result_df.index, y='loss', data=result_df, color='blue', label='훈련 손실률', ax=ax1)\n",
    "sb.lineplot(x=result_df.index, y='val_loss', data=result_df, color='orange', label='검증 손실률', ax=ax1)\n",
    "ax1.set_title('훈련 및 검증 손실률')\n",
    "ax1.set_xlabel('반복회차')\n",
    "ax1.set_ylabel('손실률')\n",
    "ax1.grid()\n",
    "ax1.legend()\n",
    "\n",
    "# 2) 훈련 및 검증 절대오차 그리기\n",
    "#-------------------------------------------\n",
    "sb.lineplot(x=result_df.index, y='mae', data=result_df, color='blue', label='훈련 절대오차', ax=ax2)\n",
    "sb.lineplot(x=result_df.index, y='val_mae', data=result_df, color='orange', label='검증 절대오차', ax=ax2)\n",
    "ax2.set_title('훈련 및 검증 절대오차')\n",
    "ax2.set_xlabel('반복회차')\n",
    "ax2.set_ylabel('정확도')\n",
    "ax2.grid()\n",
    "ax2.legend()\n",
    "\n",
    "plt.show()\n",
    "plt.close()\n"
   ]
  },
  {
   "cell_type": "markdown",
   "metadata": {},
   "source": [
    "> ephocs를 500으로 지정했지만 일찍 학습을 멈춘 것을 확인할 수 있다. 즉, 학습을 조기 종료함으로서 학습 성능을 향상시켰다고 할 수 있다."
   ]
  },
  {
   "cell_type": "markdown",
   "metadata": {},
   "source": [
    "### 2. 모델 성능 평가"
   ]
  },
  {
   "cell_type": "code",
   "execution_count": null,
   "metadata": {},
   "outputs": [
    {
     "name": "stdout",
     "output_type": "stream",
     "text": [
      "2/2 [==============================] - 0s 8ms/step - loss: 0.0230 - mae: 0.1183\n",
      "최종 훈련 손실률: 0.023048, 최종 훈련 절대오차: 0.118311\n",
      "1/1 [==============================] - 0s 32ms/step - loss: 0.0178 - mae: 0.1050\n",
      "최종 검증 손실률: 0.017839, 최종 검증 절대오차: 0.104980\n"
     ]
    }
   ],
   "source": [
    "evaluate1 = model.evaluate(x_train, y_train)\n",
    "print(\"최종 훈련 손실률: %f, 최종 훈련 절대오차: %f\" % (evaluate1[0], evaluate1[1]))\n",
    "\n",
    "evaluate2 = model.evaluate(x_test, y_test)\n",
    "print(\"최종 검증 손실률: %f, 최종 검증 절대오차: %f\" % (evaluate2[0], evaluate2[1]))"
   ]
  },
  {
   "cell_type": "markdown",
   "metadata": {},
   "source": [
    "## #08. 학습결과 적용\n",
    "\n",
    "### 1. 테스트 데이터에 대한 예측 결과 산정"
   ]
  },
  {
   "cell_type": "code",
   "execution_count": null,
   "metadata": {},
   "outputs": [
    {
     "name": "stdout",
     "output_type": "stream",
     "text": [
      "1/1 [==============================] - 0s 71ms/step\n",
      "[[0.4950133 ]\n",
      " [0.3022076 ]\n",
      " [0.2821999 ]\n",
      " [0.26219222]\n",
      " [0.41919953]\n",
      " [0.3222153 ]\n",
      " [0.3222153 ]\n",
      " [0.40024605]\n",
      " [0.2821999 ]\n",
      " [0.41919953]\n",
      " [0.3222153 ]\n",
      " [0.43815294]\n",
      " [0.1815202 ]\n",
      " [0.3022076 ]\n",
      " [0.10694815]]\n"
     ]
    }
   ],
   "source": [
    "results = model.predict(x_test)\n",
    "print(results)"
   ]
  },
  {
   "cell_type": "markdown",
   "metadata": {},
   "source": [
    "### 2. 결과 데이터 셋 구성"
   ]
  },
  {
   "cell_type": "code",
   "execution_count": null,
   "metadata": {},
   "outputs": [
    {
     "data": {
      "text/html": [
       "<div>\n",
       "<style scoped>\n",
       "    .dataframe tbody tr th:only-of-type {\n",
       "        vertical-align: middle;\n",
       "    }\n",
       "\n",
       "    .dataframe tbody tr th {\n",
       "        vertical-align: top;\n",
       "    }\n",
       "\n",
       "    .dataframe thead th {\n",
       "        text-align: right;\n",
       "    }\n",
       "</style>\n",
       "<table border=\"1\" class=\"dataframe\">\n",
       "  <thead>\n",
       "    <tr style=\"text-align: right;\">\n",
       "      <th></th>\n",
       "      <th>검증데이터</th>\n",
       "      <th>실제값</th>\n",
       "      <th>예측값</th>\n",
       "      <th>예측오차</th>\n",
       "    </tr>\n",
       "  </thead>\n",
       "  <tbody>\n",
       "    <tr>\n",
       "      <th>0</th>\n",
       "      <td>0.904762</td>\n",
       "      <td>0.440678</td>\n",
       "      <td>0.495013</td>\n",
       "      <td>-0.054335</td>\n",
       "    </tr>\n",
       "    <tr>\n",
       "      <th>1</th>\n",
       "      <td>0.428571</td>\n",
       "      <td>0.271186</td>\n",
       "      <td>0.302208</td>\n",
       "      <td>-0.031021</td>\n",
       "    </tr>\n",
       "    <tr>\n",
       "      <th>2</th>\n",
       "      <td>0.380952</td>\n",
       "      <td>0.101695</td>\n",
       "      <td>0.282200</td>\n",
       "      <td>-0.180505</td>\n",
       "    </tr>\n",
       "    <tr>\n",
       "      <th>3</th>\n",
       "      <td>0.333333</td>\n",
       "      <td>0.127119</td>\n",
       "      <td>0.262192</td>\n",
       "      <td>-0.135074</td>\n",
       "    </tr>\n",
       "    <tr>\n",
       "      <th>4</th>\n",
       "      <td>0.714286</td>\n",
       "      <td>0.372881</td>\n",
       "      <td>0.419200</td>\n",
       "      <td>-0.046318</td>\n",
       "    </tr>\n",
       "    <tr>\n",
       "      <th>5</th>\n",
       "      <td>0.476190</td>\n",
       "      <td>0.491525</td>\n",
       "      <td>0.322215</td>\n",
       "      <td>0.169310</td>\n",
       "    </tr>\n",
       "    <tr>\n",
       "      <th>6</th>\n",
       "      <td>0.476190</td>\n",
       "      <td>0.661017</td>\n",
       "      <td>0.322215</td>\n",
       "      <td>0.338802</td>\n",
       "    </tr>\n",
       "    <tr>\n",
       "      <th>7</th>\n",
       "      <td>0.666667</td>\n",
       "      <td>0.338983</td>\n",
       "      <td>0.400246</td>\n",
       "      <td>-0.061263</td>\n",
       "    </tr>\n",
       "    <tr>\n",
       "      <th>8</th>\n",
       "      <td>0.380952</td>\n",
       "      <td>0.152542</td>\n",
       "      <td>0.282200</td>\n",
       "      <td>-0.129658</td>\n",
       "    </tr>\n",
       "    <tr>\n",
       "      <th>9</th>\n",
       "      <td>0.714286</td>\n",
       "      <td>0.559322</td>\n",
       "      <td>0.419200</td>\n",
       "      <td>0.140123</td>\n",
       "    </tr>\n",
       "    <tr>\n",
       "      <th>10</th>\n",
       "      <td>0.476190</td>\n",
       "      <td>0.203390</td>\n",
       "      <td>0.322215</td>\n",
       "      <td>-0.118825</td>\n",
       "    </tr>\n",
       "    <tr>\n",
       "      <th>11</th>\n",
       "      <td>0.761905</td>\n",
       "      <td>0.457627</td>\n",
       "      <td>0.438153</td>\n",
       "      <td>0.019474</td>\n",
       "    </tr>\n",
       "    <tr>\n",
       "      <th>12</th>\n",
       "      <td>0.142857</td>\n",
       "      <td>0.169492</td>\n",
       "      <td>0.181520</td>\n",
       "      <td>-0.012029</td>\n",
       "    </tr>\n",
       "    <tr>\n",
       "      <th>13</th>\n",
       "      <td>0.428571</td>\n",
       "      <td>0.271186</td>\n",
       "      <td>0.302208</td>\n",
       "      <td>-0.031021</td>\n",
       "    </tr>\n",
       "    <tr>\n",
       "      <th>14</th>\n",
       "      <td>0.000000</td>\n",
       "      <td>0.000000</td>\n",
       "      <td>0.106948</td>\n",
       "      <td>-0.106948</td>\n",
       "    </tr>\n",
       "  </tbody>\n",
       "</table>\n",
       "</div>"
      ],
      "text/plain": [
       "       검증데이터       실제값       예측값      예측오차\n",
       "0   0.904762  0.440678  0.495013 -0.054335\n",
       "1   0.428571  0.271186  0.302208 -0.031021\n",
       "2   0.380952  0.101695  0.282200 -0.180505\n",
       "3   0.333333  0.127119  0.262192 -0.135074\n",
       "4   0.714286  0.372881  0.419200 -0.046318\n",
       "5   0.476190  0.491525  0.322215  0.169310\n",
       "6   0.476190  0.661017  0.322215  0.338802\n",
       "7   0.666667  0.338983  0.400246 -0.061263\n",
       "8   0.380952  0.152542  0.282200 -0.129658\n",
       "9   0.714286  0.559322  0.419200  0.140123\n",
       "10  0.476190  0.203390  0.322215 -0.118825\n",
       "11  0.761905  0.457627  0.438153  0.019474\n",
       "12  0.142857  0.169492  0.181520 -0.012029\n",
       "13  0.428571  0.271186  0.302208 -0.031021\n",
       "14  0.000000  0.000000  0.106948 -0.106948"
      ]
     },
     "execution_count": 16,
     "metadata": {},
     "output_type": "execute_result"
    }
   ],
   "source": [
    "kdf = DataFrame({\n",
    "    '검증데이터': x_test.flatten(),\n",
    "    '실제값': y_test.flatten(), \n",
    "    '예측값': results.flatten()\n",
    "})\n",
    "\n",
    "# 예측오차 = 잔차\n",
    "kdf['예측오차'] = kdf['실제값'] - kdf['예측값']\n",
    "\n",
    "kdf"
   ]
  },
  {
   "cell_type": "markdown",
   "metadata": {},
   "source": [
    "### 3. 실제 결과값과 머신러닝에 의한 예측값 비교"
   ]
  },
  {
   "cell_type": "code",
   "execution_count": null,
   "metadata": {},
   "outputs": [
    {
     "data": {
      "image/png": "[encoded data removed]",
      "text/plain": [
       "<Figure size 1000x500 with 1 Axes>"
      ]
     },
     "metadata": {},
     "output_type": "display_data"
    }
   ],
   "source": [
    "helper.regplot(x_left=kdf['검증데이터'], y_left=kdf['실제값'], y_left_pred=kdf['예측값'])"
   ]
  },
  {
   "cell_type": "markdown",
   "metadata": {},
   "source": [
    "### 4. 임의의 값에 대한 머신러닝 예측 결과"
   ]
  },
  {
   "cell_type": "code",
   "execution_count": null,
   "metadata": {},
   "outputs": [],
   "source": [
    "# 속도가 50일때의 제동거리를 예측해보자\n",
    "my_speed = 50"
   ]
  },
  {
   "cell_type": "code",
   "execution_count": null,
   "metadata": {},
   "outputs": [
    {
     "name": "stderr",
     "output_type": "stream",
     "text": [
      "c:\\Users\\hanjieun_2\\AppData\\Local\\Programs\\Python\\Python39\\lib\\site-packages\\sklearn\\base.py:464: UserWarning: X does not have valid feature names, but MinMaxScaler was fitted with feature names\n",
      "  warnings.warn(\n"
     ]
    },
    {
     "data": {
      "text/plain": [
       "array([[2.19047619]])"
      ]
     },
     "execution_count": 19,
     "metadata": {},
     "output_type": "execute_result"
    }
   ],
   "source": [
    "# 독립변수 표준화에 사용한 객체를 활용\n",
    "my_speed_scale = x_scaler.transform([[my_speed]])\n",
    "my_speed_scale"
   ]
  },
  {
   "cell_type": "code",
   "execution_count": null,
   "metadata": {},
   "outputs": [
    {
     "name": "stdout",
     "output_type": "stream",
     "text": [
      "1/1 [==============================] - 0s 24ms/step\n"
     ]
    },
    {
     "data": {
      "text/plain": [
       "array([[1.0067561]], dtype=float32)"
      ]
     },
     "execution_count": 20,
     "metadata": {},
     "output_type": "execute_result"
    }
   ],
   "source": [
    "results = model.predict(my_speed_scale)\n",
    "results"
   ]
  },
  {
   "cell_type": "code",
   "execution_count": null,
   "metadata": {},
   "outputs": [
    {
     "data": {
      "text/plain": [
       "array([[120.79722]], dtype=float32)"
      ]
     },
     "execution_count": 21,
     "metadata": {},
     "output_type": "execute_result"
    }
   ],
   "source": [
    "# 예측 결과는 표준화된 값으로 나오기 때문에 원래의 단위로 되돌리기 위해 역변환\n",
    "y_scaler.inverse_transform(results)"
   ]
  },
  {
   "cell_type": "markdown",
   "metadata": {},
   "source": [
    "fit은 규칙을 찾는 것\n",
    "transform은 수행하는 것."
   ]
  }
 ],
 "metadata": {
  "kernelspec": {
   "display_name": "Python 3",
   "language": "python",
   "name": "python3"
  },
  "language_info": {
   "codemirror_mode": {
    "name": "ipython",
    "version": 3
   },
   "file_extension": ".py",
   "mimetype": "text/x-python",
   "name": "python",
   "nbconvert_exporter": "python",
   "pygments_lexer": "ipython3",
   "version": "3.9.13"
  },
  "orig_nbformat": 4
 },
 "nbformat": 4,
 "nbformat_minor": 2
}
