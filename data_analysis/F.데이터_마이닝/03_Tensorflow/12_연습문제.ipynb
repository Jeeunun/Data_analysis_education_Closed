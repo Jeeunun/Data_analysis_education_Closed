{
 "cells": [
  {
   "cell_type": "markdown",
   "metadata": {},
   "source": [
    "## #01. 패키지 설치"
   ]
  },
  {
   "cell_type": "code",
   "execution_count": 2,
   "metadata": {},
   "outputs": [],
   "source": [
    "from pandas import read_excel"
   ]
  },
  {
   "cell_type": "markdown",
   "metadata": {},
   "source": [
    "## #02. 데이터셋준비\n",
    "\n",
    "|필드명|설명|비고|\n",
    "|----|---|---|\n",
    "|id\t|교유번호||\t\n",
    "|age|나이||\t\n",
    "|sex|성별|0=여성, 1=남성|\n",
    "|weight|체중||\t\n",
    "|OP_date|수술 날짜||\t\n",
    "|Recur|재발 여부|1=재발, 0=마지막 관찰시점까지 재발 안함|\n",
    "|Recur_1y|1년 내 재발 여부| 1=1년 내 재발, 0=1년 내 재발 안함|\n",
    "|Recur_date|재발 날짜|재발하지 않은 환자의 경우 마지막 검사 날짜|\n",
    "|SBP|수축기 혈압||\t\n",
    "|CA19.9|종양표지자의 일종인 CA19-9값||\t\n",
    "|CRP|C-반응 단백질 수치||\t\n",
    "|CEA|종용표지자의 일종인 CEA 값||\t\n",
    "|post.CEA|수술 직후 CEA 값||\t\n",
    "|stage|암의 병기|1, 2, 3|\n",
    "|smoking|흡연 여부|\t1=흡연, 0=비흡연|\n",
    "|obesity|비만 여부|\t1=비만, 0=정상|\n",
    "|post.CA19.9|수술 직후 CA19-9값||\t\n",
    "|post.CA19.9.binary|post.CA19.9가 37 초과이면 1, 37 이하이면 0||\t\n",
    "|post.CA19.9.3grp|post.CA19.9가 37 이하이면 1, 37초과 100 이히면 2, 70 초과이면 3||\n"
   ]
  },
  {
   "cell_type": "code",
   "execution_count": 3,
   "metadata": {},
   "outputs": [
    {
     "name": "stdout",
     "output_type": "stream",
     "text": [
      "<class 'pandas.core.frame.DataFrame'>\n",
      "RangeIndex: 156 entries, 0 to 155\n",
      "Data columns (total 19 columns):\n",
      " #   Column              Non-Null Count  Dtype         \n",
      "---  ------              --------------  -----         \n",
      " 0   id                  156 non-null    int64         \n",
      " 1   age                 156 non-null    int64         \n",
      " 2   sex                 156 non-null    int64         \n",
      " 3   weight              156 non-null    float64       \n",
      " 4   OP_date             156 non-null    datetime64[ns]\n",
      " 5   Recur               156 non-null    int64         \n",
      " 6   Recur_1y            156 non-null    int64         \n",
      " 7   Recur_date          156 non-null    datetime64[ns]\n",
      " 8   SBP                 156 non-null    float64       \n",
      " 9   CA19.9              156 non-null    float64       \n",
      " 10  CRP                 156 non-null    float64       \n",
      " 11  CEA                 156 non-null    float64       \n",
      " 12  post.CEA            156 non-null    float64       \n",
      " 13  stage               156 non-null    int64         \n",
      " 14  smoking             156 non-null    int64         \n",
      " 15  obesity             156 non-null    int64         \n",
      " 16  post.CA19.9         156 non-null    float64       \n",
      " 17  post.CA19.9.binary  156 non-null    int64         \n",
      " 18  post.CA19.9.3grp    156 non-null    int64         \n",
      "dtypes: datetime64[ns](2), float64(7), int64(10)\n",
      "memory usage: 23.3 KB\n"
     ]
    }
   ],
   "source": [
    "origin = read_excel(\"https://data.hossam.kr/F03/biostat.xlsx\")\n",
    "origin.info()"
   ]
  },
  {
   "cell_type": "markdown",
   "metadata": {},
   "source": [
    "## #03. 데이터 전처리\n",
    "\n",
    "### 불필요한 필드 제거 \n"
   ]
  },
  {
   "cell_type": "markdown",
   "metadata": {},
   "source": [
    "### 데이터 구분"
   ]
  },
  {
   "cell_type": "code",
   "execution_count": null,
   "metadata": {},
   "outputs": [],
   "source": []
  },
  {
   "cell_type": "markdown",
   "metadata": {},
   "source": [
    "### 연속형 변수의 데이터 분포 확인"
   ]
  },
  {
   "cell_type": "code",
   "execution_count": null,
   "metadata": {},
   "outputs": [],
   "source": []
  },
  {
   "cell_type": "markdown",
   "metadata": {},
   "source": [
    "### 연속형 변수의 이상치 처리"
   ]
  },
  {
   "cell_type": "code",
   "execution_count": null,
   "metadata": {},
   "outputs": [],
   "source": []
  },
  {
   "cell_type": "markdown",
   "metadata": {},
   "source": [
    "### 종속변수"
   ]
  },
  {
   "cell_type": "code",
   "execution_count": null,
   "metadata": {},
   "outputs": [],
   "source": [
    " "
   ]
  },
  {
   "cell_type": "markdown",
   "metadata": {},
   "source": [
    "### 데이터프레임 생성"
   ]
  },
  {
   "cell_type": "code",
   "execution_count": null,
   "metadata": {},
   "outputs": [],
   "source": []
  },
  {
   "cell_type": "markdown",
   "metadata": {},
   "source": [
    "### 차원축소\n",
    "#### 연속형변수"
   ]
  },
  {
   "cell_type": "code",
   "execution_count": null,
   "metadata": {},
   "outputs": [],
   "source": []
  },
  {
   "cell_type": "markdown",
   "metadata": {},
   "source": [
    "#### 범주형변수"
   ]
  },
  {
   "cell_type": "markdown",
   "metadata": {},
   "source": [
    "## #04. 탐색적 데이터 분석"
   ]
  },
  {
   "cell_type": "code",
   "execution_count": null,
   "metadata": {},
   "outputs": [],
   "source": []
  },
  {
   "cell_type": "markdown",
   "metadata": {},
   "source": [
    "## #05. 데이터 분리"
   ]
  },
  {
   "cell_type": "code",
   "execution_count": null,
   "metadata": {},
   "outputs": [],
   "source": []
  },
  {
   "cell_type": "markdown",
   "metadata": {},
   "source": [
    "## #06. 모델 생성"
   ]
  },
  {
   "cell_type": "code",
   "execution_count": null,
   "metadata": {},
   "outputs": [],
   "source": []
  },
  {
   "cell_type": "markdown",
   "metadata": {},
   "source": [
    "## #07. 학습 모델 평가"
   ]
  },
  {
   "cell_type": "code",
   "execution_count": null,
   "metadata": {},
   "outputs": [],
   "source": []
  },
  {
   "cell_type": "markdown",
   "metadata": {},
   "source": [
    "## #08. 학습 모델 적용"
   ]
  },
  {
   "cell_type": "code",
   "execution_count": null,
   "metadata": {},
   "outputs": [],
   "source": []
  }
 ],
 "metadata": {
  "kernelspec": {
   "display_name": "Python 3",
   "language": "python",
   "name": "python3"
  },
  "language_info": {
   "codemirror_mode": {
    "name": "ipython",
    "version": 3
   },
   "file_extension": ".py",
   "mimetype": "text/x-python",
   "name": "python",
   "nbconvert_exporter": "python",
   "pygments_lexer": "ipython3",
   "version": "3.9.13"
  },
  "orig_nbformat": 4
 },
 "nbformat": 4,
 "nbformat_minor": 2
}
