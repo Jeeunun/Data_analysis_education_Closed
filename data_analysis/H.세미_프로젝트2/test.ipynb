{
 "cells": [
  {
   "cell_type": "code",
   "execution_count": 2,
   "metadata": {},
   "outputs": [],
   "source": [
    "import pandas as pd"
   ]
  },
  {
   "cell_type": "code",
   "execution_count": 3,
   "metadata": {},
   "outputs": [],
   "source": [
    "D=pd.read_excel(\"./주소.xlsx\")"
   ]
  },
  {
   "cell_type": "code",
   "execution_count": 8,
   "metadata": {},
   "outputs": [],
   "source": [
    "data=pd.DataFrame(D)"
   ]
  },
  {
   "cell_type": "code",
   "execution_count": 9,
   "metadata": {},
   "outputs": [],
   "source": [
    "for i in data.index:\n",
    "    try:\n",
    "        n=data.loc[i][0].find(\"!3d\")\n",
    "        m=data.loc[i][0].find(\"!4d\")\n",
    "        t=data.loc[i][0].rfind(\"!\")\n",
    "        data.loc[i][0]=(data.loc[i][0][n+3:m],data.loc[i][0][m+3:t])\n",
    "    except:\n",
    "        continue"
   ]
  },
  {
   "cell_type": "code",
   "execution_count": 10,
   "metadata": {},
   "outputs": [
    {
     "data": {
      "text/html": [
       "<div>\n",
       "<style scoped>\n",
       "    .dataframe tbody tr th:only-of-type {\n",
       "        vertical-align: middle;\n",
       "    }\n",
       "\n",
       "    .dataframe tbody tr th {\n",
       "        vertical-align: top;\n",
       "    }\n",
       "\n",
       "    .dataframe thead th {\n",
       "        text-align: right;\n",
       "    }\n",
       "</style>\n",
       "<table border=\"1\" class=\"dataframe\">\n",
       "  <thead>\n",
       "    <tr style=\"text-align: right;\">\n",
       "      <th></th>\n",
       "      <th>Unnamed: 0</th>\n",
       "      <th>0</th>\n",
       "    </tr>\n",
       "  </thead>\n",
       "  <tbody>\n",
       "    <tr>\n",
       "      <th>0</th>\n",
       "      <td>공천포</td>\n",
       "      <td>(tps://www.google.co.kr/maps/search/%EA%B3%B5%...</td>\n",
       "    </tr>\n",
       "    <tr>\n",
       "      <th>1</th>\n",
       "      <td>제주민속촌</td>\n",
       "      <td>(33.322511, 126.841868)</td>\n",
       "    </tr>\n",
       "    <tr>\n",
       "      <th>2</th>\n",
       "      <td>제주빅볼랜드</td>\n",
       "      <td>(33.3892232, 126.3780046)</td>\n",
       "    </tr>\n",
       "    <tr>\n",
       "      <th>3</th>\n",
       "      <td>마오름(맞보기)(안덕)</td>\n",
       "      <td>(tps://www.google.co.kr/maps/search/%EB%A7%88%...</td>\n",
       "    </tr>\n",
       "    <tr>\n",
       "      <th>4</th>\n",
       "      <td>과오름(큰오름, 샛오름, 말젯오름)</td>\n",
       "      <td>(tps://www.google.co.kr/maps/search/%EA%B3%BC%...</td>\n",
       "    </tr>\n",
       "    <tr>\n",
       "      <th>...</th>\n",
       "      <td>...</td>\n",
       "      <td>...</td>\n",
       "    </tr>\n",
       "    <tr>\n",
       "      <th>415</th>\n",
       "      <td>남원 위미2리 어촌계</td>\n",
       "      <td>(33.2748754, 126.6694963)</td>\n",
       "    </tr>\n",
       "    <tr>\n",
       "      <th>416</th>\n",
       "      <td>팀케이</td>\n",
       "      <td>(tps://www.google.co.kr/maps/search/%ED%8C%80%...</td>\n",
       "    </tr>\n",
       "    <tr>\n",
       "      <th>417</th>\n",
       "      <td>제주소주 코스모스밭</td>\n",
       "      <td>(33.5167884, 126.5346988)</td>\n",
       "    </tr>\n",
       "    <tr>\n",
       "      <th>418</th>\n",
       "      <td>신엄포구</td>\n",
       "      <td>(33.4736668, 126.351791)</td>\n",
       "    </tr>\n",
       "    <tr>\n",
       "      <th>419</th>\n",
       "      <td>삼양방파제</td>\n",
       "      <td>(33.5250031, 126.5769008)</td>\n",
       "    </tr>\n",
       "  </tbody>\n",
       "</table>\n",
       "<p>420 rows × 2 columns</p>\n",
       "</div>"
      ],
      "text/plain": [
       "              Unnamed: 0                                                  0\n",
       "0                    공천포  (tps://www.google.co.kr/maps/search/%EA%B3%B5%...\n",
       "1                  제주민속촌                            (33.322511, 126.841868)\n",
       "2                 제주빅볼랜드                          (33.3892232, 126.3780046)\n",
       "3           마오름(맞보기)(안덕)  (tps://www.google.co.kr/maps/search/%EB%A7%88%...\n",
       "4    과오름(큰오름, 샛오름, 말젯오름)  (tps://www.google.co.kr/maps/search/%EA%B3%BC%...\n",
       "..                   ...                                                ...\n",
       "415          남원 위미2리 어촌계                          (33.2748754, 126.6694963)\n",
       "416                  팀케이  (tps://www.google.co.kr/maps/search/%ED%8C%80%...\n",
       "417           제주소주 코스모스밭                          (33.5167884, 126.5346988)\n",
       "418                 신엄포구                           (33.4736668, 126.351791)\n",
       "419                삼양방파제                          (33.5250031, 126.5769008)\n",
       "\n",
       "[420 rows x 2 columns]"
      ]
     },
     "execution_count": 10,
     "metadata": {},
     "output_type": "execute_result"
    }
   ],
   "source": [
    "data"
   ]
  },
  {
   "cell_type": "code",
   "execution_count": null,
   "metadata": {},
   "outputs": [],
   "source": []
  }
 ],
 "metadata": {
  "kernelspec": {
   "display_name": "Python 3",
   "language": "python",
   "name": "python3"
  },
  "language_info": {
   "codemirror_mode": {
    "name": "ipython",
    "version": 3
   },
   "file_extension": ".py",
   "mimetype": "text/x-python",
   "name": "python",
   "nbconvert_exporter": "python",
   "pygments_lexer": "ipython3",
   "version": "3.11.4"
  },
  "orig_nbformat": 4
 },
 "nbformat": 4,
 "nbformat_minor": 2
}
