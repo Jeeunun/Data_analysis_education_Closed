{
 "cells": [
  {
   "cell_type": "code",
   "execution_count": 1,
   "metadata": {},
   "outputs": [],
   "source": [
    "import os\n",
    "from smtplib import SMTP #smtp = 발신용 시스템\n",
    "from email.mime.text import MIMEText #메일에 포함되는 본문\n",
    "from email.mime.application import MIMEApplication  #파일을 multipart형식으로 변환\n",
    "from email.mime.multipart import MIMEMultipart #파일을 본문에 추가하는 기능 제공"
   ]
  },
  {
   "attachments": {},
   "cell_type": "markdown",
   "metadata": {},
   "source": [
    "1. 메일을 보내는데 필요한 내용 "
   ]
  },
  {
   "cell_type": "code",
   "execution_count": 2,
   "metadata": {},
   "outputs": [],
   "source": [
    "#1)발신인 / 수신인\n",
    "from_addr = \"hwill1113@naver.com\"\n",
    "to_addr = \"hanjieun7290@gmail.com\"\n",
    "\n",
    "#2) 메일 제목\n",
    "subject = \"파이썬 메일 발송 테스트입니다.\"\n",
    "\n",
    "#3) 메일 내용\n",
    "content = \"\"\"안녕하세요. 파이썬으로 발송하는 메일입니다.\n",
    "잘 발송되는지 확인해 보도록 하겠습니다.\n",
    "하나 ~ 둘 ~ 셋! \"\"\"\n",
    "\n",
    "#4) 첨부파일 (없으면 빈 리스트로 남겨두기)\n",
    "files = [\"grade.csv\"]"
   ]
  },
  {
   "attachments": {},
   "cell_type": "markdown",
   "metadata": {},
   "source": [
    "2. SMTP연동 정보 설정"
   ]
  },
  {
   "cell_type": "code",
   "execution_count": 3,
   "metadata": {},
   "outputs": [],
   "source": [
    "#1) 내용형식 (plain or html)\n",
    "content_type = \"plain\"\n",
    "\n",
    "#2) 로그인 계정 (아이디, 비번, smtp주소, port주소)\n",
    "username = \"hwill1113\"\n",
    "password = \"Hanwd201621613\" #if, 2단계인증 설정 => 애플리케이션 비밀번호 적어야함.\n",
    "\n",
    "smtp = \"smtp.naver.com\"\n",
    "port = 465"
   ]
  },
  {
   "attachments": {},
   "cell_type": "markdown",
   "metadata": {},
   "source": [
    "3. 메일 발송 정보 구성"
   ]
  },
  {
   "cell_type": "code",
   "execution_count": 4,
   "metadata": {},
   "outputs": [],
   "source": [
    "msg = MIMEMultipart() #=파일을 본문에 추가 \n",
    "\n",
    "msg['subject'] = subject #메일제목\n",
    "msg['From'] = from_addr #발신인\n",
    "msg['To'] = to_addr #수신인\n",
    "\n",
    "#MIMEText : 메일에 포함되는 본문\n",
    "#content, content_type을 msg에 첨부\n",
    "msg.attach(MIMEText(content,content_type))"
   ]
  },
  {
   "attachments": {},
   "cell_type": "markdown",
   "metadata": {},
   "source": [
    "4. 첨부파일"
   ]
  },
  {
   "cell_type": "code",
   "execution_count": 5,
   "metadata": {},
   "outputs": [],
   "source": [
    "if files:\n",
    "    for f in files: #파일대로(f) 읽어오기\n",
    "        with open(f, 'rb') as a_file: #각각의 파일(f)를 바이너리 형식으로 읽고 => a_file로 부를것.\n",
    "            basename = os.path.basename(f) #전체경로에서 f의 이름만 추출\n",
    "            part = MIMEApplication(a_file.read(), Name=basename) \n",
    "            #a_file을 읽어오고, 추출한 이름만 가져와 multipart로 변환 = part라 하겠다.\n",
    "\n",
    "            part['Content-Disposition'] = 'attachment; filename = \"%s\"' % basename\n",
    "            msg.attach(part)\n",
    "            #msg에 part첨부"
   ]
  },
  {
   "attachments": {},
   "cell_type": "markdown",
   "metadata": {},
   "source": [
    "5. 메일 보내기"
   ]
  },
  {
   "cell_type": "code",
   "execution_count": 7,
   "metadata": {},
   "outputs": [
    {
     "data": {
      "text/plain": [
       "<bound method SMTP.quit of <smtplib.SMTP object at 0x0000019C9F27B2D0>>"
      ]
     },
     "execution_count": 7,
     "metadata": {},
     "output_type": "execute_result"
    }
   ],
   "source": [
    "mail = SMTP(smtp) #smtp = \"smtp.naver.com\" \n",
    "mail.ehlo() #메일 서버 접속\n",
    "mail.starttls() #메일 서버 연동 설정\n",
    "mail.login(username, password) #메일 서버 로그인\n",
    "mail.sendmail(from_addr, to_addr, msg.as_string()) #메일 보내기\n",
    "mail.quit #접속종료"
   ]
  }
 ],
 "metadata": {
  "kernelspec": {
   "display_name": "Python 3",
   "language": "python",
   "name": "python3"
  },
  "language_info": {
   "codemirror_mode": {
    "name": "ipython",
    "version": 3
   },
   "file_extension": ".py",
   "mimetype": "text/x-python",
   "name": "python",
   "nbconvert_exporter": "python",
   "pygments_lexer": "ipython3",
   "version": "3.11.4"
  },
  "orig_nbformat": 4
 },
 "nbformat": 4,
 "nbformat_minor": 2
}
