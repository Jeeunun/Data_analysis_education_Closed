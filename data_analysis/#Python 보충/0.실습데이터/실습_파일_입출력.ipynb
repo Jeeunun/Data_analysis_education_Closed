{
 "cells": [
  {
   "attachments": {},
   "cell_type": "markdown",
   "metadata": {},
   "source": [
    "01. 파일 입출력 객체를 위한 Open 함수"
   ]
  },
  {
   "attachments": {},
   "cell_type": "markdown",
   "metadata": {},
   "source": [
    "파일쓰기"
   ]
  },
  {
   "cell_type": "code",
   "execution_count": 2,
   "metadata": {},
   "outputs": [],
   "source": [
    "f = open(\"helloworld.txt\",\"w\", encoding = 'utf-8') #'helloworld.html 파일을 쓰기모드로 불러오기\n",
    "f.write(\"Hello Python!!!\\n\") #불러와서 쓰기\n",
    "f.write(\"안녕하세요. 파이썬!!!\\n\")\n",
    "f.close() #쓰기 종료"
   ]
  },
  {
   "attachments": {},
   "cell_type": "markdown",
   "metadata": {},
   "source": [
    "파일읽기"
   ]
  },
  {
   "cell_type": "code",
   "execution_count": 3,
   "metadata": {},
   "outputs": [
    {
     "name": "stdout",
     "output_type": "stream",
     "text": [
      "Hello Python!!!\n",
      "안녕하세요. 파이썬!!!\n",
      "\n"
     ]
    }
   ],
   "source": [
    "f = open(\"helloworld.txt\",'r',encoding='utf-8') #helloworld.txt파일을 읽기모드로 불러오기\n",
    "data = f.read() #텍스트내용을 변수로 받아 출력\n",
    "print(data)\n",
    "\n",
    "f.close() #읽기 종료"
   ]
  },
  {
   "attachments": {},
   "cell_type": "markdown",
   "metadata": {},
   "source": [
    "02. with 블록을 활용한 파일 입출력"
   ]
  },
  {
   "cell_type": "code",
   "execution_count": 4,
   "metadata": {},
   "outputs": [
    {
     "name": "stdout",
     "output_type": "stream",
     "text": [
      "파일 저장이 완료되었습니다.\n"
     ]
    }
   ],
   "source": [
    "with open(\"hellopython.txt\",\"w\",encoding='utf-8') as f : \n",
    "    #open 함수를 f변수로 받는 것.\n",
    "    for i in range(0,10):\n",
    "        f.write(\"%d >>\" %i)\n",
    "        f.write(\"Life is so short, \")\n",
    "        f.write(\"you need python\\n\")\n",
    "    \n",
    "    print(\"파일 저장이 완료되었습니다.\")"
   ]
  },
  {
   "cell_type": "code",
   "execution_count": 5,
   "metadata": {},
   "outputs": [
    {
     "name": "stdout",
     "output_type": "stream",
     "text": [
      "0 >>Life is so short, you need python\n",
      "1 >>Life is so short, you need python\n",
      "2 >>Life is so short, you need python\n",
      "3 >>Life is so short, you need python\n",
      "4 >>Life is so short, you need python\n",
      "5 >>Life is so short, you need python\n",
      "6 >>Life is so short, you need python\n",
      "7 >>Life is so short, you need python\n",
      "8 >>Life is so short, you need python\n",
      "9 >>Life is so short, you need python\n",
      "\n"
     ]
    }
   ],
   "source": [
    "with open(\"hellopython.txt\", \"r\", encoding= 'utf-8') as f:\n",
    "    data = f.read()\n",
    "    print(data)"
   ]
  },
  {
   "cell_type": "code",
   "execution_count": 6,
   "metadata": {},
   "outputs": [
    {
     "name": "stdout",
     "output_type": "stream",
     "text": [
      "['Hello Python!!!\\n', '안녕하세요. 파이썬!!!\\n']\n",
      "------------------------------\n",
      "읽어들인 데이터는 총 2줄 입니다.\n",
      "------------------------------\n",
      "Hello Python!!!\n",
      "안녕하세요. 파이썬!!!\n"
     ]
    }
   ],
   "source": [
    "# 파일의 내용을 한 줄 씩 읽기\n",
    "with open(\"helloworld.txt\", \"r\", encoding='utf-8') as f:\n",
    "    lines = f.readlines()\n",
    "    print(lines)\n",
    "    print(\"-\" * 30)\n",
    "\n",
    "    size = len(lines)\n",
    "    print(\"읽어들인 데이터는 총 %d줄 입니다.\" %size)\n",
    "    print(\"-\" * 30)\n",
    "\n",
    "    for item in lines:\n",
    "        print(item.strip()) #읽어들인 데이터에 줄바꿈 문자가 포함되므로 공백제거가 필요."
   ]
  },
  {
   "attachments": {},
   "cell_type": "markdown",
   "metadata": {},
   "source": []
  }
 ],
 "metadata": {
  "kernelspec": {
   "display_name": "Python 3",
   "language": "python",
   "name": "python3"
  },
  "language_info": {
   "codemirror_mode": {
    "name": "ipython",
    "version": 3
   },
   "file_extension": ".py",
   "mimetype": "text/x-python",
   "name": "python",
   "nbconvert_exporter": "python",
   "pygments_lexer": "ipython3",
   "version": "3.11.4"
  },
  "orig_nbformat": 4
 },
 "nbformat": 4,
 "nbformat_minor": 2
}
