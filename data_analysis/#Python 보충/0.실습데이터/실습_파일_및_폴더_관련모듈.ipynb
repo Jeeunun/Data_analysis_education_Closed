{
 "cells": [
  {
   "attachments": {},
   "cell_type": "markdown",
   "metadata": {},
   "source": [
    "01. 파일 및 폴더 관련 모듈 활용"
   ]
  },
  {
   "cell_type": "code",
   "execution_count": 2,
   "metadata": {},
   "outputs": [],
   "source": [
    "# 모듈\n",
    "import sys #현재 시스템 정보 제공 모듈\n",
    "import os #현재 운영체제 기능에 접근할 수 있는 모듈"
   ]
  },
  {
   "cell_type": "code",
   "execution_count": 3,
   "metadata": {},
   "outputs": [
    {
     "name": "stdout",
     "output_type": "stream",
     "text": [
      "win32\n"
     ]
    }
   ],
   "source": [
    "# 현재 운영체제 확인\n",
    "print(sys.platform)"
   ]
  },
  {
   "cell_type": "code",
   "execution_count": 4,
   "metadata": {},
   "outputs": [
    {
     "name": "stdout",
     "output_type": "stream",
     "text": [
      "['01. Python보충 ipynb.pdf', 'Python_연구과제.pdf', 'Python_연구과제_풀이(1).ipynb.pdf', 'Python_연구과제_풀이(2).ipynb.pdf', 'Python보충-take02_파일_및_폴더_관련_모듈.ipynb.pdf', '별찍기 보충.ipynb', '실습 - 파일 및 폴더 관련 모듈.ipynb']\n"
     ]
    }
   ],
   "source": [
    "# 경로 문자열 관련 기능\n",
    "ls = os.listdir('./') #현재 폴더 파일을 리스트 형식으로 불러오기\n",
    "print(ls)"
   ]
  },
  {
   "cell_type": "code",
   "execution_count": 5,
   "metadata": {},
   "outputs": [
    {
     "name": "stdout",
     "output_type": "stream",
     "text": [
      "False\n"
     ]
    }
   ],
   "source": [
    "k = os.path.exists('./hello') #hello파일 (상대경로) 존재하는지 확인 -> True / False\n",
    "print(k)"
   ]
  },
  {
   "cell_type": "code",
   "execution_count": 6,
   "metadata": {},
   "outputs": [
    {
     "name": "stdout",
     "output_type": "stream",
     "text": [
      "c:\\Users\\한지은\\OneDrive\\바탕 화면\\데이터분석\\#Python 보충\\hello\n"
     ]
    }
   ],
   "source": [
    "print(os.path.abspath('./hello')) #hello파일(절대경로) 존재하는지 확인 -> 존재하지 않아도 경로값 확인가능"
   ]
  },
  {
   "cell_type": "code",
   "execution_count": 7,
   "metadata": {},
   "outputs": [
    {
     "name": "stdout",
     "output_type": "stream",
     "text": [
      "hello 폴더를 생성했습니다.\n"
     ]
    }
   ],
   "source": [
    "# 폴더의 생성과 삭제\n",
    "if os.path.exists('./hello')==False: #현재 운영체제(os)내 hello 파일의 상대경로가 false = 파일이 존재 X\n",
    "    os.mkdir('./hello') #hello 폴더 생성(mkdir)\n",
    "    print('hello 폴더를 생성했습니다.')\n",
    "else: # 파일이 존재한다면\n",
    "    os.rmdir('./hello') #hello폴더 삭제(rmdir)\n",
    "    print('hello 폴더를 삭제했습니다. ')"
   ]
  },
  {
   "cell_type": "code",
   "execution_count": 8,
   "metadata": {},
   "outputs": [],
   "source": [
    "# 파일이나 폴더 검색 (glob모듈)\n",
    "import glob as gl"
   ]
  },
  {
   "cell_type": "code",
   "execution_count": 9,
   "metadata": {},
   "outputs": [
    {
     "name": "stdout",
     "output_type": "stream",
     "text": [
      "['01. Python보충 ipynb.pdf', 'hello', 'Python_연구과제.pdf', 'Python_연구과제_풀이(1).ipynb.pdf', 'Python_연구과제_풀이(2).ipynb.pdf', 'Python보충-take02_파일_및_폴더_관련_모듈.ipynb.pdf', '별찍기 보충.ipynb', '실습 - 파일 및 폴더 관련 모듈.ipynb']\n"
     ]
    }
   ],
   "source": [
    "ls = gl.glob('*') #모든 파일 검색\n",
    "print(ls)"
   ]
  },
  {
   "cell_type": "code",
   "execution_count": 10,
   "metadata": {},
   "outputs": [
    {
     "name": "stdout",
     "output_type": "stream",
     "text": [
      "['별찍기 보충.ipynb', '실습 - 파일 및 폴더 관련 모듈.ipynb']\n"
     ]
    }
   ],
   "source": [
    "ls = gl.glob('*.ipynb') #.ipynb 파일 검색\n",
    "print(ls)"
   ]
  },
  {
   "cell_type": "code",
   "execution_count": 11,
   "metadata": {},
   "outputs": [
    {
     "name": "stdout",
     "output_type": "stream",
     "text": [
      "['Python_연구과제_풀이(2).ipynb.pdf', 'Python보충-take02_파일_및_폴더_관련_모듈.ipynb.pdf']\n"
     ]
    }
   ],
   "source": [
    "ls = gl.glob('*2*') # 2가 들어간 파일 검색\n",
    "print(ls)"
   ]
  },
  {
   "cell_type": "code",
   "execution_count": 12,
   "metadata": {},
   "outputs": [],
   "source": [
    "# 폴더 트리 생성 및 삭제 (shutil)\n",
    "import shutil"
   ]
  },
  {
   "cell_type": "code",
   "execution_count": 14,
   "metadata": {},
   "outputs": [
    {
     "name": "stdout",
     "output_type": "stream",
     "text": [
      "python 폴더가 삭제되었습니다.\n"
     ]
    }
   ],
   "source": [
    "if os.path.exists('python') == False: #현재경로에서 python파일이 없다면\n",
    "    os.makedirs('python/test/hello/world', exist_ok=True) # python안에 test안에 hello안에 world 파일(하위폴더) 생성해라. \n",
    "    print('python 폴더와 하위 폴더들을 생성했습니다.')\n",
    "#cf. 폴더의 생성 (mkdir) <-> 폴더트리의 생성(makedirs)\n",
    "else: # 현재경로에 python파일이 있다면\n",
    "    shutil.rmtree('python') # 삭제 \n",
    "    print('python 폴더가 삭제되었습니다.')\n",
    "#cf. 폴더의 삭제(rmdir) <-> 폴더트리의 삭제(rmtree)"
   ]
  },
  {
   "cell_type": "code",
   "execution_count": 15,
   "metadata": {},
   "outputs": [],
   "source": [
    "# 폴더의 이동과 폴더 트리의 복사\n",
    "#1)폴더의 이동(shutil.move)\n",
    "if os.path.exists('python'): #현재경로에 python폴더가 존재하면\n",
    "    shutil.move('python', '../created') #python폴더를 ../created로 이동시켜라.\n",
    "    print('python폴더가 ../created폴더로 이동되었습니다.')\n",
    "#2)폴더의 복사(shutil.copy)\n",
    "if os.path.exists('../created'):\n",
    "    shutil.copytree('../created','./copy')\n",
    "    print('python폴더가 copy로 복사되었습니다. ')"
   ]
  },
  {
   "cell_type": "code",
   "execution_count": 16,
   "metadata": {},
   "outputs": [
    {
     "name": "stdout",
     "output_type": "stream",
     "text": [
      "hello.txt 파일을 생성했습니다.\n",
      "hello.txt가 world.txt로 복사되었습니다.\n"
     ]
    }
   ],
   "source": [
    "#파일의 복사 및 삭제 작업\n",
    "if os.path.exists('hello.txt') == False:\n",
    "    with open(\"hello.txt\",\"w\",encoding='utf-8') as f:\n",
    "         f.write(\"Life is too short, you need python\")\n",
    "         print('hello.txt 파일을 생성했습니다.')\n",
    "    \n",
    "    shutil.copy('hello.txt','world.txt')\n",
    "    print('hello.txt가 world.txt로 복사되었습니다.')\n",
    "\n",
    "else:\n",
    "    os.remove('hello.txt')\n",
    "    print('hello.txt가 삭제되었습니다.')\n",
    "    os.remove('world.txt')\n",
    "    print('world.txt가 삭제되었습니다. ')"
   ]
  },
  {
   "cell_type": "code",
   "execution_count": null,
   "metadata": {},
   "outputs": [],
   "source": []
  }
 ],
 "metadata": {
  "kernelspec": {
   "display_name": "Python 3",
   "language": "python",
   "name": "python3"
  },
  "language_info": {
   "codemirror_mode": {
    "name": "ipython",
    "version": 3
   },
   "file_extension": ".py",
   "mimetype": "text/x-python",
   "name": "python",
   "nbconvert_exporter": "python",
   "pygments_lexer": "ipython3",
   "version": "3.11.4"
  },
  "orig_nbformat": 4
 },
 "nbformat": 4,
 "nbformat_minor": 2
}
