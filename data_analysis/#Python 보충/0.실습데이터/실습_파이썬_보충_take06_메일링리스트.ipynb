{
 "cells": [
  {
   "attachments": {},
   "cell_type": "markdown",
   "metadata": {},
   "source": [
    "## 메일 발송에 필요한 모듈 참조"
   ]
  },
  {
   "cell_type": "code",
   "execution_count": 24,
   "metadata": {},
   "outputs": [],
   "source": [
    "import Sendmail\n",
    "import datetime as dt"
   ]
  },
  {
   "attachments": {},
   "cell_type": "markdown",
   "metadata": {},
   "source": [
    "## 날짜 성분값 초기화"
   ]
  },
  {
   "cell_type": "code",
   "execution_count": 25,
   "metadata": {},
   "outputs": [
    {
     "name": "stdout",
     "output_type": "stream",
     "text": [
      "2023 6 23\n"
     ]
    }
   ],
   "source": [
    "today = dt.datetime.now()\n",
    "year = today.year\n",
    "month = today.month\n",
    "day = today.day\n",
    "print(year, month, day)"
   ]
  },
  {
   "attachments": {},
   "cell_type": "markdown",
   "metadata": {},
   "source": [
    "## 보내는 사람, 메일 제목"
   ]
  },
  {
   "cell_type": "code",
   "execution_count": 29,
   "metadata": {},
   "outputs": [],
   "source": [
    "fromAddr = \"hwill1113@naver.com\"\n",
    "subjectTmpl = \"{name}의 {yy}년 {mm}월 급여명세서 입니다. \""
   ]
  },
  {
   "attachments": {},
   "cell_type": "markdown",
   "metadata": {},
   "source": [
    "## 메일 본문 가져오기"
   ]
  },
  {
   "cell_type": "code",
   "execution_count": 30,
   "metadata": {},
   "outputs": [
    {
     "name": "stdout",
     "output_type": "stream",
     "text": [
      "안녕하세요 {name}님\n",
      "\n",
      "{yy}년도 {mm}월 급여명세서와 결산보고서 보내드립니다.\n",
      "\n",
      "귀하의 노고에 감사드립니다.\n",
      "\n",
      "- {yy}년 {mm}월 {dd}일 / 운영지원팀 드림\n"
     ]
    }
   ],
   "source": [
    "with open('mail/content.txt','r',encoding='utf-8') as f:\n",
    "    contentTmpl = f.read()\n",
    "    print(contentTmpl)"
   ]
  },
  {
   "attachments": {},
   "cell_type": "markdown",
   "metadata": {},
   "source": [
    "## 수신자 목록에 대한 csv파일 목록 반복수행"
   ]
  },
  {
   "cell_type": "code",
   "execution_count": 31,
   "metadata": {},
   "outputs": [
    {
     "name": "stdout",
     "output_type": "stream",
     "text": [
      "['Python학생1,hwill1113@naver.com,mail/document.pptx,mail/pay1.xlsx\\n', 'Python학생2,hanjiuen7290@gmail.com,mail/document.pptx,mail/pay2.xlsx\\n', 'Python학생3,hwill1113@naver.com,mail/document.pptx,mail/pay3.xlsx\\n', 'Python학생4,hanjiuen7290@gmail.com,mail/document.pptx,mail/pay4.xlsx\\n', 'Python학생5,hwill1113@naver.com,mail/document.pptx,mail/pay5.xlsx\\n']\n",
      "hwill1113@naver.com님에게 메일이 발송되었습니다.\n",
      "hanjiuen7290@gmail.com님에게 메일이 발송되었습니다.\n",
      "hwill1113@naver.com님에게 메일이 발송되었습니다.\n",
      "hanjiuen7290@gmail.com님에게 메일이 발송되었습니다.\n",
      "hwill1113@naver.com님에게 메일이 발송되었습니다.\n"
     ]
    }
   ],
   "source": [
    "with open(\"mail/mail_list.csv\",\"r\",encoding='euc-kr') as f:\n",
    "    csv = f.readlines()\n",
    "    print(csv)\n",
    "\n",
    "    #csv 파일의 라인 수 만큼 반복\n",
    "    for line in csv:\n",
    "        # print(line)\n",
    "        name, email, file1, file2 = line.strip().split(\",\")\n",
    "        # print(name, email, file1, file2)\n",
    "\n",
    "        \"호칭 = {name}\" \"<{email}>\" #네이버는 별칭이 안먹는다..ㅜㅜ\n",
    "        toAddr = \"{name} <{email}>\".format(name =name, email= email)\n",
    "        # print(toAddr)\n",
    "\n",
    "        # 메일 제목\n",
    "        subject = subjectTmpl.format(name=name, yy=year, mm=month)\n",
    "        \n",
    "        # 메일 내용\n",
    "        content = contentTmpl.format(name=name, yy=year, mm=month, dd=day)\n",
    "        # print(content)\n",
    "\n",
    "        Sendmail.sendMail(fromAddr, email, subject, content, [file1, file2])\n",
    "        print(\"%s님에게 메일이 발송되었습니다.\" %email)"
   ]
  },
  {
   "cell_type": "code",
   "execution_count": null,
   "metadata": {},
   "outputs": [],
   "source": []
  }
 ],
 "metadata": {
  "kernelspec": {
   "display_name": "Python 3",
   "language": "python",
   "name": "python3"
  },
  "language_info": {
   "codemirror_mode": {
    "name": "ipython",
    "version": 3
   },
   "file_extension": ".py",
   "mimetype": "text/x-python",
   "name": "python",
   "nbconvert_exporter": "python",
   "pygments_lexer": "ipython3",
   "version": "3.11.4"
  },
  "orig_nbformat": 4
 },
 "nbformat": 4,
 "nbformat_minor": 2
}
