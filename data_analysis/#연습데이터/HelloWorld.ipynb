{
 "cells": [
  {
   "cell_type": "code",
   "execution_count": null,
   "metadata": {},
   "outputs": [],
   "source": [
    "## 실행모드\n",
    "1. 이동모드 : 방향 키로 블록이동이 가능함. 엔터키를 눌러서 편집모드로 전환 가능\n",
    "2. 편집모드 : 코딩이 가능한 상태. ESC 눌러서 이동모드로 전환 가능.\n",
    "\n",
    "## 주요 단축기\n",
    "| 단축키 | 설명 |\n",
    "| 'Shift + Enter' | 현재 블록 실행 후 다음 블록으로 이동 ( 혹은 새 블록 생성 ) |\n",
    "| 'Ctrl + Enter' | 현재 블록 실행 후 머물러 있기 |\n",
    "\n",
    "### 코드 작성시 유의 사항\n",
    "블록의 순서는 중요하지 않음\n",
    "실행 순서가 중요함. \n",
    "재시작 전까지는 이전 실행 내역을 모두 기억하고 있기 때문에 블록을 삭제하더라도 변수값은 살아있다. "
   ]
  },
  {
   "cell_type": "code",
   "execution_count": 4,
   "metadata": {},
   "outputs": [],
   "source": [
    "a = 100\n",
    "b = 200"
   ]
  },
  {
   "cell_type": "code",
   "execution_count": null,
   "metadata": {},
   "outputs": [],
   "source": [
    "print(a+b)"
   ]
  }
 ],
 "metadata": {
  "kernelspec": {
   "display_name": "Python 3",
   "language": "python",
   "name": "python3"
  },
  "language_info": {
   "codemirror_mode": {
    "name": "ipython",
    "version": 3
   },
   "file_extension": ".py",
   "mimetype": "text/x-python",
   "name": "python",
   "nbconvert_exporter": "python",
   "pygments_lexer": "ipython3",
   "version": "3.11.4"
  },
  "orig_nbformat": 4
 },
 "nbformat": 4,
 "nbformat_minor": 2
}
