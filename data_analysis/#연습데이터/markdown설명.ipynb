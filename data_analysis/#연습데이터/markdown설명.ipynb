{
 "cells": [
  {
   "cell_type": "code",
   "execution_count": null,
   "metadata": {
    "vscode": {
     "languageId": "plaintext"
    }
   },
   "outputs": [],
   "source": [
    "# 제목 1 <h1>\n",
    "단순 줄바꿈은 적용되지 않음.\n",
    "두줄 바꿈은 '<p>'태그 효과\n",
    "\n",
    "## 제목2\n",
    "\n",
    "### 제목 3\n",
    "\n",
    "#### 제목 4\n",
    "\n",
    "##### 제목 5\n",
    "\n",
    "###### 제목 6\n"
   ]
  }
 ],
 "metadata": {
  "language_info": {
   "name": "python"
  },
  "orig_nbformat": 4
 },
 "nbformat": 4,
 "nbformat_minor": 2
}
