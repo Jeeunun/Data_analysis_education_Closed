{
 "cells": [
  {
   "cell_type": "markdown",
   "metadata": {},
   "source": [
    "# 회귀분석 개요\n",
    "\n",
    "대표적인 상태를 토대로 미래의 어떤 결과를 예측하는 분석"
   ]
  },
  {
   "cell_type": "markdown",
   "metadata": {},
   "source": [
    "## #01. 회귀분석(Regression analysis)의 이해\n",
    "\n",
    "### 1. 회귀분석의 의미\n",
    "하나나 그 이상의 독립변수들이 종속변수에 미치는 영향을 추정할 수 있는 통계기법\n",
    "\n",
    "규명된 함수식을 이용하여 설명변수들의 변화로부터 종속변수의 변화를 예측하는 분석\n",
    "\n",
    "독립변수 X(설명변수)에 대하여 종속변수 Y(반응변수)들 사이의 관계를 `수학적모형` 을 이용하여 규명하는 것.\n",
    "\n",
    "$y=f(x)$ 일때 함수 $f$를 규명하여 독립적인 값 $x$에 따라 $y$가 어떻게 변화하는지를 예측하는 것\n",
    "\n",
    "변수들 사이의 인과관계를 밝히고 모형을 적합하여 관심있는 변수를 예측하거나 추론하기 위한 분석방법이다."
   ]
  },
  {
   "cell_type": "markdown",
   "metadata": {},
   "source": [
    "### 2. 회귀분석의 변수\n",
    "영향을 받는 변수(y)\n",
    "- 반응변수(response variable), 종속변수(dependent variable), 결과변수(outcome variable)\n",
    "\n",
    "영향을 주는 변수(x)\n",
    "- 설명변수(explanatory variable), 독립변수(independent variable), 예측변수(predictor variable)"
   ]
  },
  {
   "cell_type": "markdown",
   "metadata": {},
   "source": [
    "머신러닝에서,, \n",
    "기울기 = 가중치\n",
    "절편 = 편향"
   ]
  },
  {
   "cell_type": "markdown",
   "metadata": {},
   "source": [
    "## #02. 회귀분석의 예시\n",
    "\n",
    "![회귀분석예시](./ols.png)\n",
    "\n",
    "$Weight = a + b * Height$\n",
    "\n",
    "|변수|내용|\n",
    "|---|---|\n",
    "|Weight|Height에 따라 결정되므로 종속변수|\n",
    "|Height|Weight를 결정하는 요인이 되므로 독립변수|\n",
    "|b|기울기(선의 경사도) <br> 기울기크기가 클수록 선이 더 경사지고 변화율이 더 커진다.|\n",
    "|a|절편(선과 y축이 교차하는 위치)"
   ]
  },
  {
   "cell_type": "markdown",
   "metadata": {},
   "source": [
    "## #03. 회귀분석의 조건\n",
    "\n",
    "|조건|설명|\n",
    "|---|---|\n",
    "|선형성|입력변수와 출력변수의 관계가 선형이다.(선형회귀분석에서 가장 중요한 가정)|\n",
    "|등분산성|오차의 분산이 입력변수와 무관하게 일정하다|\n",
    "|정규성|오차의 분포가 정규분포를 따른다. <br> Q-Q plot, Kolmogolov-Smirnov 검정, Shaprio-Wilk 검정 등을 활용하여 정규성을 확인|\n",
    "|독립성|입력변수와 오차는 관련이 없다. <br> 자기상관(독립성)을 알아보기 위해 Durbin-Waston 통계량을 사용|"
   ]
  },
  {
   "cell_type": "markdown",
   "metadata": {},
   "source": [
    "## #04. 회귀분석 종류"
   ]
  },
  {
   "cell_type": "markdown",
   "metadata": {},
   "source": [
    "![회귀분석종류](./ols_type.png)\n",
    "\n",
    "\n",
    "다항회귀 > 곡선회귀 > 비선형회귀"
   ]
  },
  {
   "cell_type": "markdown",
   "metadata": {},
   "source": [
    "## #05. 회귀분석의 검정"
   ]
  },
  {
   "cell_type": "markdown",
   "metadata": {},
   "source": [
    "### 1) 예측변수(회귀계수)들이 유의미한가?\n",
    "- 각 독립변수(x)의 회귀계수(b)가 유의한가?\n",
    "- t-검정을 사용\n",
    "- 해당 계수의 t통계량의 p-값이 0.05보다 작으면 해당 회귀계수가 통계적으로 유의하다고 볼 수 있다.\n",
    "\n",
    "### 2) 모형이 얼마나 설명력을 갖는가?\n",
    "- 만들어진 회귀모형(예측모형)이 유의한가?\n",
    "- 주어진 모든 변수들이 함께 어느 정도 예측변수의 변량을 설명(예측)하는가?\n",
    "- 결정계수($R^2$)를 확인한다. 결정계수는 0~1값을 가지며, 높은 값을 가질수록 추정된 회귀식의 설명력이 높다.\n",
    "\n",
    "### 3) 모형이 데이터를 잘 적합하고 있는가?\n",
    "- 잔차를 그래프로 그리고 회귀진단을 한다."
   ]
  },
  {
   "cell_type": "markdown",
   "metadata": {},
   "source": []
  }
 ],
 "metadata": {
  "kernelspec": {
   "display_name": "Python 3",
   "language": "python",
   "name": "python3"
  },
  "language_info": {
   "name": "python",
   "version": "3.11.4"
  },
  "orig_nbformat": 4
 },
 "nbformat": 4,
 "nbformat_minor": 2
}
