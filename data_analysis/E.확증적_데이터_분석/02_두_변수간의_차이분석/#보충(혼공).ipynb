{
 "cells": [
  {
   "cell_type": "markdown",
   "metadata": {},
   "source": [
    "# 두 변수 간의 차이"
   ]
  },
  {
   "cell_type": "raw",
   "metadata": {},
   "source": [
    "### 모수 : 모집단을 통해 얻을 수 있는 통계치 (모평균, 모분산, 모표준편차, 모표준편차 등)\n",
    "\n",
    "\n",
    "# 1. 가설 검정 개요\n",
    "- 가설검정이란? 표본의 정보를 사용해서 가설의 합당성 여부 판정하는 과정\n",
    "- 모집단 => 모수 => 추정(점추정/구간추정)\n",
    "\n",
    "# 2. 단일표본 T-test\n",
    "- 단일표본? 하나의 '모집단 평균'이 커졌는지(greater), 작아졌는지(less), 달라졌는지(two-sided) 통계적으로 알아보기 위함\n",
    "- 패키지 : from scipy import stats\n",
    "- EX] stats.ttest-1smap(df['체온'],24.3) : df['체온'] = 알아보고자 하는 대상 / 24.3 = 기존의  \n",
    "- 귀무가설(기존의 가설) / 대립가설(알아보기 위한 가설) \n",
    "- p-value : 귀무가설을 기각했을 때의 위험도 -> 0.05보다 작으면 (위험도가 낮으므로) 대립가설 채택 / 0.05 보다 크면 (위험도가 높으므로) 귀무가설 채택\n",
    "\n",
    "# 3. 신뢰구간\n",
    "- 신뢰구간이란? 신뢰수준(95% 혹은 99%)에 따라 모수가 존재할 것으로 예상되는 범위\n",
    "- 신뢰구간은 표본크기, 추정방법, 데이터의 변동성 등과 같은 요소에 따라 달라질 수 있다.\n",
    "- 패키지 : from scipy.stats import t \n",
    "- cmin, cmax = t.interval(clevel, dof, loc=sample.mean, scale=sample_std_error)\n",
    "- clevel : 신뢰구간 (보통 0.95), \n",
    "- dof : 샘플 사이즈(len)\n",
    "- loc: 모평균 \n",
    "- scale : 모표준오차 ( 모표준편차 ** 0.5 )\n"
   ]
  },
  {
   "cell_type": "markdown",
   "metadata": {},
   "source": [
    "## 자유도(df) -> F값 -> P-value-> 결과해석"
   ]
  },
  {
   "cell_type": "markdown",
   "metadata": {},
   "source": [
    "### 자유도 ?\n",
    "어떤 계(System)를 완벽하게 설명하기 위해서 `고정해야 할 독립변수의 수(N-1)`"
   ]
  },
  {
   "cell_type": "markdown",
   "metadata": {},
   "source": [
    "************"
   ]
  },
  {
   "cell_type": "markdown",
   "metadata": {},
   "source": [
    "### F값? = 표본 평균들의 차이\n",
    "= F-ratio = MST(SST/df) / MSE(SSE/df)\n",
    "= (그룹내의 변수와 평균의 차이)의 제곱의 합의 평균과 (그 예상값과 실제값간의 차이)의 제곱의 합의 평균의 비율\n",
    "\n",
    "ex. 5개의 데이터 : 4,5,6,3,7 <br>\n",
    "=> `평균(mean)` : 5 <br>\n",
    "데이터가 평균으로부터 얼마나 떨어져 있는지 : (4-5), (5-5),(6-5),(3-5),(7-5) <br>\n",
    "=> `편차(deviation)` : -1, 0, 1, -2, 2 (편차의 합은 언제나 0) <br>\n",
    "=> 그래서 편차만 가지고 데이터의 분포 수준을 알 수 없다. <br>\n",
    "=> 편차의 합이 0이 되는 것을 방지하기 위해 각각의 편차에 제곱: 1,0,1,4,4 (합 10) <br>\n",
    "=> `분산(variation)` : 편차제곱의합(10)/전체관측값(5) = 2 <br>\n",
    "=> `표준편차(standard deviation)` : 분산 **0.5 = 루트2 = 1.414 <br>\n",
    "\n",
    "ex. 품종별(X:독립변수) 수확량(Y:종속변수)의 차이\n",
    "|Reps.|A|B|C|\n",
    "|----|---|--|--|\n",
    "|1|39|46|41|\n",
    "|2|46|52|47|\n",
    "|3|48|49|39|\n",
    "|4|43|53|37|"
   ]
  },
  {
   "cell_type": "markdown",
   "metadata": {},
   "source": [
    "![통계F값](./통계-F-값.webp)"
   ]
  },
  {
   "cell_type": "markdown",
   "metadata": {},
   "source": [
    "df : TSS = N-1 (N은 전체 데이터 갯수) <br>\n",
    "df : SSTr = t-1 (t는 처리 갯수) <br>\n",
    "df : SSE = N-t  <br>\n",
    "\n",
    "F-ratio : MST(SST/df) / MSE(SSE/df) <br>\n",
    "=> F값이 커진다는 것은 MST가 커지거나(=처리의 효과가 커짐)/MSE이 작아지거나(=에러가 줄어듬) <br>"
   ]
  },
  {
   "cell_type": "markdown",
   "metadata": {},
   "source": [
    "![통계F값2](./통계-F-값2.webp)"
   ]
  },
  {
   "cell_type": "markdown",
   "metadata": {},
   "source": [
    "*****************"
   ]
  },
  {
   "cell_type": "markdown",
   "metadata": {},
   "source": [
    "### P-value\n",
    "유의수준 : (귀무가설이 참일 때 기각할 위험도)\n",
    "\n",
    "실제로 참인 귀무가설을 기각하는 오류를 \"제 1종 오류\"라고 한다.\n",
    "\n",
    "유의수준은 이러한 제 1종 오류를 범할 확률의 최대허용치로 일반적으로 0.05를 많이 사용한다.\n",
    "\n",
    "이는 '귀무가설이 참일 때, 5%의 확률로 일어나는 사건은 귀무가설을 반증하는 증거라고 하겠으며\n",
    " \n",
    "우연히 그렇더라도 어쩔 수 없다'라는 느낌으로 받아들일 수 있다."
   ]
  },
  {
   "cell_type": "markdown",
   "metadata": {},
   "source": []
  }
 ],
 "metadata": {
  "kernelspec": {
   "display_name": "Python 3",
   "language": "python",
   "name": "python3"
  },
  "language_info": {
   "name": "python",
   "version": "3.11.4"
  },
  "orig_nbformat": 4
 },
 "nbformat": 4,
 "nbformat_minor": 2
}
