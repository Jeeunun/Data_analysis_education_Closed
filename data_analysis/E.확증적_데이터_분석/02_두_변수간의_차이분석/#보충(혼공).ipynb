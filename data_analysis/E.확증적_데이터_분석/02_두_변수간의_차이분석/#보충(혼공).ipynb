{
 "cells": [
  {
   "cell_type": "markdown",
   "metadata": {},
   "source": [
    "## 자유도(df) -> F값 -> P-value-> 결과해석"
   ]
  },
  {
   "cell_type": "markdown",
   "metadata": {},
   "source": [
    "### 자유도 ?\n",
    "어떤 계(System)를 완벽하게 설명하기 위해서 `고정해야 할 독립변수의 수(N-1)`"
   ]
  },
  {
   "cell_type": "markdown",
   "metadata": {},
   "source": [
    "************"
   ]
  },
  {
   "cell_type": "markdown",
   "metadata": {},
   "source": [
    "### F값? = 표본 평균들의 차이\n",
    "= F-ratio = MST(SST/df) / MSE(SSE/df)\n",
    "= (그룹내의 변수와 평균의 차이)의 제곱의 합의 평균과 (그 예상값과 실제값간의 차이)의 제곱의 합의 평균의 비율\n",
    "\n",
    "ex. 5개의 데이터 : 4,5,6,3,7 <br>\n",
    "=> `평균(mean)` : 5 <br>\n",
    "데이터가 평균으로부터 얼마나 떨어져 있는지 : (4-5), (5-5),(6-5),(3-5),(7-5) <br>\n",
    "=> `편차(deviation)` : -1, 0, 1, -2, 2 (편차의 합은 언제나 0) <br>\n",
    "=> 그래서 편차만 가지고 데이터의 분포 수준을 알 수 없다. <br>\n",
    "=> 편차의 합이 0이 되는 것을 방지하기 위해 각각의 편차에 제곱: 1,0,1,4,4 (합 10) <br>\n",
    "=> `분산(variation)` : 편차제곱의합(10)/전체관측값(5) = 2 <br>\n",
    "=> `표준편차(standard deviation)` : 분산 **0.5 = 루트2 = 1.414 <br>\n",
    "\n",
    "ex. 품종별(X:독립변수) 수확량(Y:종속변수)의 차이\n",
    "|Reps.|A|B|C|\n",
    "|----|---|--|--|\n",
    "|1|39|46|41|\n",
    "|2|46|52|47|\n",
    "|3|48|49|39|\n",
    "|4|43|53|37|"
   ]
  },
  {
   "cell_type": "markdown",
   "metadata": {},
   "source": [
    "![통계F값](./통계-F-값.webp)"
   ]
  },
  {
   "cell_type": "markdown",
   "metadata": {},
   "source": [
    "df : TSS = N-1 (N은 전체 데이터 갯수) <br>\n",
    "df : SSTr = t-1 (t는 처리 갯수) <br>\n",
    "df : SSE = N-t  <br>\n",
    "\n",
    "F-ratio : MST(SST/df) / MSE(SSE/df) <br>\n",
    "=> F값이 커진다는 것은 MST가 커지거나(=처리의 효과가 커짐)/MSE이 작아지거나(=에러가 줄어듬) <br>"
   ]
  },
  {
   "cell_type": "markdown",
   "metadata": {},
   "source": [
    "![통계F값2](./통계-F-값2.webp)"
   ]
  },
  {
   "cell_type": "markdown",
   "metadata": {},
   "source": [
    "*****************"
   ]
  },
  {
   "cell_type": "markdown",
   "metadata": {},
   "source": [
    "### P-value\n",
    "유의수준 : (귀무가설이 참일 때 기각할 위험도)\n",
    "\n",
    "실제로 참인 귀무가설을 기각하는 오류를 \"제 1종 오류\"라고 한다.\n",
    "\n",
    "유의수준은 이러한 제 1종 오류를 범할 확률의 최대허용치로 일반적으로 0.05를 많이 사용한다.\n",
    "\n",
    "이는 '귀무가설이 참일 때, 5%의 확률로 일어나는 사건은 귀무가설을 반증하는 증거라고 하겠으며\n",
    " \n",
    "우연히 그렇더라도 어쩔 수 없다'라는 느낌으로 받아들일 수 있다."
   ]
  },
  {
   "cell_type": "markdown",
   "metadata": {},
   "source": []
  }
 ],
 "metadata": {
  "kernelspec": {
   "display_name": "Python 3",
   "language": "python",
   "name": "python3"
  },
  "language_info": {
   "name": "python",
   "version": "3.11.4"
  },
  "orig_nbformat": 4
 },
 "nbformat": 4,
 "nbformat_minor": 2
}
