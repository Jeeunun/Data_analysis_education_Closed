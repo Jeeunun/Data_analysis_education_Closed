{
 "cells": [
  {
   "cell_type": "markdown",
   "metadata": {},
   "source": [
    "## 가설검정 연습문제 (2)"
   ]
  },
  {
   "cell_type": "markdown",
   "metadata": {},
   "source": [
    "### 필요한 패키지 설치"
   ]
  },
  {
   "cell_type": "code",
   "execution_count": 1,
   "metadata": {},
   "outputs": [],
   "source": [
    "from pandas import read_excel\n",
    "from scipy import stats\n",
    "import seaborn as sb\n",
    "from matplotlib import pyplot as plt"
   ]
  },
  {
   "cell_type": "markdown",
   "metadata": {},
   "source": [
    "## 문제1"
   ]
  },
  {
   "cell_type": "markdown",
   "metadata": {},
   "source": [
    "어떤 화학약품의 제조에 상표가 다른 두 종류의 원료가 사용되고 있다.\n",
    "\n",
    "각 원료에서 주성분 A의 함량은 다음과 같다. 단, 함량은 정규분포를 따른다고 가정한다.\n",
    "\n",
    "이 두 원료의 주성분 A의 함량이 다른지를 분석하라. => 두 원료의 비교(=독립Ttest)"
   ]
  },
  {
   "cell_type": "markdown",
   "metadata": {},
   "source": [
    "### 데이터 불러오기"
   ]
  },
  {
   "cell_type": "code",
   "execution_count": 2,
   "metadata": {},
   "outputs": [
    {
     "data": {
      "text/html": [
       "<div>\n",
       "<style scoped>\n",
       "    .dataframe tbody tr th:only-of-type {\n",
       "        vertical-align: middle;\n",
       "    }\n",
       "\n",
       "    .dataframe tbody tr th {\n",
       "        vertical-align: top;\n",
       "    }\n",
       "\n",
       "    .dataframe thead th {\n",
       "        text-align: right;\n",
       "    }\n",
       "</style>\n",
       "<table border=\"1\" class=\"dataframe\">\n",
       "  <thead>\n",
       "    <tr style=\"text-align: right;\">\n",
       "      <th></th>\n",
       "      <th>상표1</th>\n",
       "      <th>상표2</th>\n",
       "    </tr>\n",
       "  </thead>\n",
       "  <tbody>\n",
       "    <tr>\n",
       "      <th>0</th>\n",
       "      <td>80.4</td>\n",
       "      <td>80.1</td>\n",
       "    </tr>\n",
       "    <tr>\n",
       "      <th>1</th>\n",
       "      <td>78.2</td>\n",
       "      <td>81.2</td>\n",
       "    </tr>\n",
       "    <tr>\n",
       "      <th>2</th>\n",
       "      <td>80.1</td>\n",
       "      <td>79.5</td>\n",
       "    </tr>\n",
       "    <tr>\n",
       "      <th>3</th>\n",
       "      <td>77.1</td>\n",
       "      <td>78.0</td>\n",
       "    </tr>\n",
       "    <tr>\n",
       "      <th>4</th>\n",
       "      <td>79.6</td>\n",
       "      <td>76.1</td>\n",
       "    </tr>\n",
       "    <tr>\n",
       "      <th>5</th>\n",
       "      <td>80.4</td>\n",
       "      <td>77.0</td>\n",
       "    </tr>\n",
       "    <tr>\n",
       "      <th>6</th>\n",
       "      <td>81.6</td>\n",
       "      <td>80.1</td>\n",
       "    </tr>\n",
       "    <tr>\n",
       "      <th>7</th>\n",
       "      <td>79.9</td>\n",
       "      <td>79.9</td>\n",
       "    </tr>\n",
       "    <tr>\n",
       "      <th>8</th>\n",
       "      <td>84.4</td>\n",
       "      <td>78.8</td>\n",
       "    </tr>\n",
       "    <tr>\n",
       "      <th>9</th>\n",
       "      <td>80.9</td>\n",
       "      <td>80.8</td>\n",
       "    </tr>\n",
       "    <tr>\n",
       "      <th>10</th>\n",
       "      <td>83.1</td>\n",
       "      <td>NaN</td>\n",
       "    </tr>\n",
       "  </tbody>\n",
       "</table>\n",
       "</div>"
      ],
      "text/plain": [
       "     상표1   상표2\n",
       "0   80.4  80.1\n",
       "1   78.2  81.2\n",
       "2   80.1  79.5\n",
       "3   77.1  78.0\n",
       "4   79.6  76.1\n",
       "5   80.4  77.0\n",
       "6   81.6  80.1\n",
       "7   79.9  79.9\n",
       "8   84.4  78.8\n",
       "9   80.9  80.8\n",
       "10  83.1   NaN"
      ]
     },
     "execution_count": 2,
     "metadata": {},
     "output_type": "execute_result"
    }
   ],
   "source": [
    "df1 = read_excel(\"https://data.hossam.kr/E02/material.xlsx\")\n",
    "df1"
   ]
  },
  {
   "cell_type": "code",
   "execution_count": 3,
   "metadata": {},
   "outputs": [
    {
     "data": {
      "text/plain": [
       "(4.153636363636368, 2.7538888888888917)"
      ]
     },
     "execution_count": 3,
     "metadata": {},
     "output_type": "execute_result"
    }
   ],
   "source": [
    "# 두 그룹의 분산 확인 \n",
    "vars1 = df1['상표1'].var()\n",
    "vars2 = df1['상표2'].var()\n",
    "vars1, vars2"
   ]
  },
  {
   "cell_type": "code",
   "execution_count": 4,
   "metadata": {},
   "outputs": [
    {
     "data": {
      "image/png": "[encoded data removed]",
      "text/plain": [
       "<Figure size 500x300 with 2 Axes>"
      ]
     },
     "metadata": {},
     "output_type": "display_data"
    }
   ],
   "source": [
    "# 커널 밀도 그래프 => 두 그룹은 공통분산O\n",
    "bins = [75,76,77,78,79,80,81,82,83,84,85,85]\n",
    "fig, ax1 = plt.subplots(1,1,figsize = (5,3))\n",
    "ax2 = ax1.twinx()\n",
    "sb.histplot(data=df1, x='상표1', bins=bins, kde=True, ax=ax2, color='#ff6600')\n",
    "sb.histplot(data=df1, x='상표2', bins=bins, kde=True, ax=ax2, color='#0066ff')\n",
    "plt.show()\n",
    "plt.close()"
   ]
  },
  {
   "cell_type": "markdown",
   "metadata": {},
   "source": [
    "### 가설설정\n",
    "\n",
    "|가설|내용|식|\n",
    "|----|---|---|\n",
    "|귀무가설|상표1과 상표2의 주성분 함량에는 차이가 없다.|$H_0 : \\mu_1 = \\mu_2$|\n",
    "|대립가설|상표1과 상표2의 주성분 함량에는 차이가 있다.|$H_1 : \\mu_1 \\neq \\mu_2$|"
   ]
  },
  {
   "cell_type": "code",
   "execution_count": null,
   "metadata": {},
   "outputs": [],
   "source": [
    "# 결측치 제거\n",
    "df1.dropna(inplace=True)\n",
    "df1"
   ]
  },
  {
   "cell_type": "code",
   "execution_count": 7,
   "metadata": {},
   "outputs": [
    {
     "data": {
      "text/plain": [
       "TtestResult(statistic=1.3710671216714043, pvalue=0.18720759661580608, df=18.0)"
      ]
     },
     "execution_count": 7,
     "metadata": {},
     "output_type": "execute_result"
    }
   ],
   "source": [
    "stats.ttest_ind(df1['상표1'], df1['상표2'], equal_var = True, alternative = 'two-sided')"
   ]
  },
  {
   "cell_type": "markdown",
   "metadata": {},
   "source": [
    "- 결과 해석 : <br>\n",
    "- 나 : 상표1과 상표2는 공통분산에 속해있다. 즉, 주성분A함량에 대한 데이터 분포가 일치하다고 볼 수 있기 때문에 두 그룹의 함량 차이는 없다. <br>\n",
    "- 쌤 : 검정통계량 1.3710에서 p-value가 유의수준 0.05보다 크므로 귀무가설을 기각할 수 없다. 즉, 상표1과 상표2의 함유량에는 차이가 없다. <br>"
   ]
  },
  {
   "cell_type": "markdown",
   "metadata": {},
   "source": [
    "*************"
   ]
  },
  {
   "cell_type": "markdown",
   "metadata": {},
   "source": [
    "## 문제2"
   ]
  },
  {
   "cell_type": "markdown",
   "metadata": {},
   "source": [
    "특정 피임약이 사용자의 혈압을 저하시키는지 조사하고자 한다.\n",
    "\n",
    "이를 위해 부인 15명을 대상으로 평상시 혈압을 측정한 뒤, 이들에게 이 피임약을 일정 기간 복용하게 한 후 이들의 혈압을 다시 측정한 결과를 기록했다.\n",
    "\n",
    "얻어진 데이터는 다음과 같다. 피임약 복용이 혈압에 영향을 주는지 분석하라. => before, after : 대응표본 T-test"
   ]
  },
  {
   "cell_type": "markdown",
   "metadata": {},
   "source": [
    "### 데이터 불러오기"
   ]
  },
  {
   "cell_type": "code",
   "execution_count": 4,
   "metadata": {},
   "outputs": [
    {
     "data": {
      "text/html": [
       "<div>\n",
       "<style scoped>\n",
       "    .dataframe tbody tr th:only-of-type {\n",
       "        vertical-align: middle;\n",
       "    }\n",
       "\n",
       "    .dataframe tbody tr th {\n",
       "        vertical-align: top;\n",
       "    }\n",
       "\n",
       "    .dataframe thead th {\n",
       "        text-align: right;\n",
       "    }\n",
       "</style>\n",
       "<table border=\"1\" class=\"dataframe\">\n",
       "  <thead>\n",
       "    <tr style=\"text-align: right;\">\n",
       "      <th></th>\n",
       "      <th>복용전</th>\n",
       "      <th>복용후</th>\n",
       "    </tr>\n",
       "  </thead>\n",
       "  <tbody>\n",
       "    <tr>\n",
       "      <th>0</th>\n",
       "      <td>70</td>\n",
       "      <td>68</td>\n",
       "    </tr>\n",
       "    <tr>\n",
       "      <th>1</th>\n",
       "      <td>80</td>\n",
       "      <td>72</td>\n",
       "    </tr>\n",
       "    <tr>\n",
       "      <th>2</th>\n",
       "      <td>72</td>\n",
       "      <td>62</td>\n",
       "    </tr>\n",
       "    <tr>\n",
       "      <th>3</th>\n",
       "      <td>76</td>\n",
       "      <td>70</td>\n",
       "    </tr>\n",
       "    <tr>\n",
       "      <th>4</th>\n",
       "      <td>76</td>\n",
       "      <td>58</td>\n",
       "    </tr>\n",
       "    <tr>\n",
       "      <th>5</th>\n",
       "      <td>76</td>\n",
       "      <td>66</td>\n",
       "    </tr>\n",
       "    <tr>\n",
       "      <th>6</th>\n",
       "      <td>72</td>\n",
       "      <td>68</td>\n",
       "    </tr>\n",
       "    <tr>\n",
       "      <th>7</th>\n",
       "      <td>78</td>\n",
       "      <td>52</td>\n",
       "    </tr>\n",
       "    <tr>\n",
       "      <th>8</th>\n",
       "      <td>82</td>\n",
       "      <td>64</td>\n",
       "    </tr>\n",
       "    <tr>\n",
       "      <th>9</th>\n",
       "      <td>64</td>\n",
       "      <td>72</td>\n",
       "    </tr>\n",
       "    <tr>\n",
       "      <th>10</th>\n",
       "      <td>74</td>\n",
       "      <td>74</td>\n",
       "    </tr>\n",
       "    <tr>\n",
       "      <th>11</th>\n",
       "      <td>92</td>\n",
       "      <td>60</td>\n",
       "    </tr>\n",
       "    <tr>\n",
       "      <th>12</th>\n",
       "      <td>74</td>\n",
       "      <td>74</td>\n",
       "    </tr>\n",
       "    <tr>\n",
       "      <th>13</th>\n",
       "      <td>68</td>\n",
       "      <td>72</td>\n",
       "    </tr>\n",
       "    <tr>\n",
       "      <th>14</th>\n",
       "      <td>84</td>\n",
       "      <td>74</td>\n",
       "    </tr>\n",
       "  </tbody>\n",
       "</table>\n",
       "</div>"
      ],
      "text/plain": [
       "    복용전  복용후\n",
       "0    70   68\n",
       "1    80   72\n",
       "2    72   62\n",
       "3    76   70\n",
       "4    76   58\n",
       "5    76   66\n",
       "6    72   68\n",
       "7    78   52\n",
       "8    82   64\n",
       "9    64   72\n",
       "10   74   74\n",
       "11   92   60\n",
       "12   74   74\n",
       "13   68   72\n",
       "14   84   74"
      ]
     },
     "execution_count": 4,
     "metadata": {},
     "output_type": "execute_result"
    }
   ],
   "source": [
    "df2 = read_excel(\"https://data.hossam.kr/E02/blood_pressure.xlsx\")\n",
    "df2"
   ]
  },
  {
   "cell_type": "markdown",
   "metadata": {},
   "source": [
    "> 가정 : 피임약의 복용전과 복용후의 혈압은 차이가 있다.\n",
    "\n",
    "|가설|내용|\n",
    "|---|----|\n",
    "|귀무가설| 복용전과 복용후의 혈압은 차이가 없다.|\n",
    "|대립가설| 복용전과 복용후의 혈압은 차이가 있다.|"
   ]
  },
  {
   "cell_type": "code",
   "execution_count": 17,
   "metadata": {},
   "outputs": [
    {
     "data": {
      "text/plain": [
       "TtestResult(statistic=3.105360487466109, pvalue=0.007749436106654119, df=14)"
      ]
     },
     "execution_count": 17,
     "metadata": {},
     "output_type": "execute_result"
    }
   ],
   "source": [
    "stats.ttest_rel(df2['복용전'], df2['복용후'], alternative = 'two-sided')"
   ]
  },
  {
   "cell_type": "markdown",
   "metadata": {},
   "source": [
    "- 결과해석:\n",
    "- 차이값에 대한 t 통계량의 값이 3.1, 대응되는 유의확률이 0.0077로 0.05보다 작으므로(귀무가설 기각) 유의수준 0.05에서 복용전의 혈압과 복용후의 혈압에 차이가 있다. 피임약 복용은 혈압에 영향을 준다고 할 수 있다."
   ]
  },
  {
   "cell_type": "markdown",
   "metadata": {},
   "source": [
    "********************"
   ]
  },
  {
   "cell_type": "markdown",
   "metadata": {},
   "source": [
    "## 문제3"
   ]
  },
  {
   "cell_type": "markdown",
   "metadata": {},
   "source": [
    "고등학교 육상선수에게 체중감량을 시키면 달리기에 어떤 변화가 일어나는지 조사하기 위 하여, 어떤 고등학교 육상선수 10명에게 감량훈련(2~4kg 정도)을 시킨 후 100m 달리기를 실시하여 다음의 데이터를 얻었다.\n",
    "\n",
    "감량 전과 후에 달리기 속도에 차이가 있는지 분석하라. => before, after : 대응표본 Ttest"
   ]
  },
  {
   "cell_type": "markdown",
   "metadata": {},
   "source": [
    "#### 데이터 불러오기"
   ]
  },
  {
   "cell_type": "code",
   "execution_count": null,
   "metadata": {},
   "outputs": [],
   "source": [
    "df3 = read_excel(\"https://data.hossam.kr/E02/runner_diet.xlsx\")\n",
    "df3"
   ]
  },
  {
   "cell_type": "code",
   "execution_count": 11,
   "metadata": {},
   "outputs": [
    {
     "data": {
      "text/html": [
       "<div>\n",
       "<style scoped>\n",
       "    .dataframe tbody tr th:only-of-type {\n",
       "        vertical-align: middle;\n",
       "    }\n",
       "\n",
       "    .dataframe tbody tr th {\n",
       "        vertical-align: top;\n",
       "    }\n",
       "\n",
       "    .dataframe thead th {\n",
       "        text-align: right;\n",
       "    }\n",
       "</style>\n",
       "<table border=\"1\" class=\"dataframe\">\n",
       "  <thead>\n",
       "    <tr style=\"text-align: right;\">\n",
       "      <th></th>\n",
       "      <th>감량전</th>\n",
       "      <th>감량후</th>\n",
       "    </tr>\n",
       "  </thead>\n",
       "  <tbody>\n",
       "    <tr>\n",
       "      <th>0</th>\n",
       "      <td>14.5</td>\n",
       "      <td>14.3</td>\n",
       "    </tr>\n",
       "    <tr>\n",
       "      <th>1</th>\n",
       "      <td>13.4</td>\n",
       "      <td>13.4</td>\n",
       "    </tr>\n",
       "    <tr>\n",
       "      <th>2</th>\n",
       "      <td>13.0</td>\n",
       "      <td>13.1</td>\n",
       "    </tr>\n",
       "    <tr>\n",
       "      <th>3</th>\n",
       "      <td>14.5</td>\n",
       "      <td>13.9</td>\n",
       "    </tr>\n",
       "    <tr>\n",
       "      <th>4</th>\n",
       "      <td>13.3</td>\n",
       "      <td>13.1</td>\n",
       "    </tr>\n",
       "    <tr>\n",
       "      <th>5</th>\n",
       "      <td>14.2</td>\n",
       "      <td>13.9</td>\n",
       "    </tr>\n",
       "    <tr>\n",
       "      <th>6</th>\n",
       "      <td>13.6</td>\n",
       "      <td>13.6</td>\n",
       "    </tr>\n",
       "    <tr>\n",
       "      <th>7</th>\n",
       "      <td>13.9</td>\n",
       "      <td>14.0</td>\n",
       "    </tr>\n",
       "    <tr>\n",
       "      <th>8</th>\n",
       "      <td>13.2</td>\n",
       "      <td>12.8</td>\n",
       "    </tr>\n",
       "    <tr>\n",
       "      <th>9</th>\n",
       "      <td>13.0</td>\n",
       "      <td>12.8</td>\n",
       "    </tr>\n",
       "  </tbody>\n",
       "</table>\n",
       "</div>"
      ],
      "text/plain": [
       "    감량전   감량후\n",
       "0  14.5  14.3\n",
       "1  13.4  13.4\n",
       "2  13.0  13.1\n",
       "3  14.5  13.9\n",
       "4  13.3  13.1\n",
       "5  14.2  13.9\n",
       "6  13.6  13.6\n",
       "7  13.9  14.0\n",
       "8  13.2  12.8\n",
       "9  13.0  12.8"
      ]
     },
     "execution_count": 11,
     "metadata": {},
     "output_type": "execute_result"
    }
   ],
   "source": [
    "df3.dropna(axis=1, inplace=True)\n",
    "df3"
   ]
  },
  {
   "cell_type": "markdown",
   "metadata": {},
   "source": [
    "> 가정 : 감량전과 감량후의 달리기 속도에 차이가 있다.\n",
    "\n",
    "|가설|내용|\n",
    "|---|----|\n",
    "|귀무가설| 감량전과 감량후의 달리기 속도에 차이가 없다.|\n",
    "|대립가설| 감량전과 감량후의 달리기 속도에 차이가 있다.|"
   ]
  },
  {
   "cell_type": "code",
   "execution_count": 19,
   "metadata": {},
   "outputs": [
    {
     "data": {
      "text/plain": [
       "TtestResult(statistic=2.375306807446375, pvalue=0.04154604923393679, df=9)"
      ]
     },
     "execution_count": 19,
     "metadata": {},
     "output_type": "execute_result"
    }
   ],
   "source": [
    "stats.ttest_rel(df3['감량전'],df3['감량후'], alternative='two-sided')"
   ]
  },
  {
   "cell_type": "markdown",
   "metadata": {},
   "source": [
    "- 결과 해석: \n",
    "- 차이값에 대한 t 통계량의 값이 2.38, 대응되는 유의확률이 0.04로 0.05보다 작으므로(귀무가설 기각) 유의수준 0.05에서 감량훈련전과 감량훈련후의 달리기 속도에 차이가 있다. 즉, 체중을 감량하는 것은 달리기 속도에 영향을 준다."
   ]
  },
  {
   "cell_type": "markdown",
   "metadata": {},
   "source": [
    "********************"
   ]
  },
  {
   "cell_type": "markdown",
   "metadata": {},
   "source": [
    "## 문제4"
   ]
  },
  {
   "cell_type": "markdown",
   "metadata": {},
   "source": [
    "고등학교 레슬링 선수에게 체중감량을 시키면 체력에 어떤 변화가 일어나는지 조사하기 위하여, 어느 고등학교의 레슬링 선수 12명을 표본추출하여 감량시킨 후 다음의 체력 데이터를 얻었다.\n",
    "\n",
    "감량 전과 감량 후 간에 차이가 있는가의 대응비교를 악력(우), 윗몸일으키기, 턱걸이에 대하여 실시하고 분석하라."
   ]
  },
  {
   "cell_type": "markdown",
   "metadata": {},
   "source": [
    "#### 데이터 불러오기"
   ]
  },
  {
   "cell_type": "code",
   "execution_count": 13,
   "metadata": {},
   "outputs": [
    {
     "data": {
      "text/html": [
       "<div>\n",
       "<style scoped>\n",
       "    .dataframe tbody tr th:only-of-type {\n",
       "        vertical-align: middle;\n",
       "    }\n",
       "\n",
       "    .dataframe tbody tr th {\n",
       "        vertical-align: top;\n",
       "    }\n",
       "\n",
       "    .dataframe thead th {\n",
       "        text-align: right;\n",
       "    }\n",
       "</style>\n",
       "<table border=\"1\" class=\"dataframe\">\n",
       "  <thead>\n",
       "    <tr style=\"text-align: right;\">\n",
       "      <th></th>\n",
       "      <th>이름</th>\n",
       "      <th>감량전 악력</th>\n",
       "      <th>감량후 악력</th>\n",
       "      <th>감량전 윗몸일으키기</th>\n",
       "      <th>감량후 윗몸일으키기</th>\n",
       "      <th>감량전 턱걸이</th>\n",
       "      <th>감량후 턱걸이</th>\n",
       "    </tr>\n",
       "  </thead>\n",
       "  <tbody>\n",
       "    <tr>\n",
       "      <th>0</th>\n",
       "      <td>B.S</td>\n",
       "      <td>43</td>\n",
       "      <td>41</td>\n",
       "      <td>35</td>\n",
       "      <td>41</td>\n",
       "      <td>25</td>\n",
       "      <td>29</td>\n",
       "    </tr>\n",
       "    <tr>\n",
       "      <th>1</th>\n",
       "      <td>P.J</td>\n",
       "      <td>42</td>\n",
       "      <td>41</td>\n",
       "      <td>40</td>\n",
       "      <td>44</td>\n",
       "      <td>25</td>\n",
       "      <td>29</td>\n",
       "    </tr>\n",
       "    <tr>\n",
       "      <th>2</th>\n",
       "      <td>G.G</td>\n",
       "      <td>52</td>\n",
       "      <td>50</td>\n",
       "      <td>36</td>\n",
       "      <td>41</td>\n",
       "      <td>22</td>\n",
       "      <td>23</td>\n",
       "    </tr>\n",
       "    <tr>\n",
       "      <th>3</th>\n",
       "      <td>A.L</td>\n",
       "      <td>53</td>\n",
       "      <td>52</td>\n",
       "      <td>38</td>\n",
       "      <td>42</td>\n",
       "      <td>10</td>\n",
       "      <td>15</td>\n",
       "    </tr>\n",
       "    <tr>\n",
       "      <th>4</th>\n",
       "      <td>I.H</td>\n",
       "      <td>44</td>\n",
       "      <td>40</td>\n",
       "      <td>36</td>\n",
       "      <td>42</td>\n",
       "      <td>15</td>\n",
       "      <td>19</td>\n",
       "    </tr>\n",
       "    <tr>\n",
       "      <th>5</th>\n",
       "      <td>B.Y</td>\n",
       "      <td>46</td>\n",
       "      <td>47</td>\n",
       "      <td>39</td>\n",
       "      <td>44</td>\n",
       "      <td>17</td>\n",
       "      <td>19</td>\n",
       "    </tr>\n",
       "    <tr>\n",
       "      <th>6</th>\n",
       "      <td>I.K</td>\n",
       "      <td>48</td>\n",
       "      <td>47</td>\n",
       "      <td>35</td>\n",
       "      <td>42</td>\n",
       "      <td>24</td>\n",
       "      <td>26</td>\n",
       "    </tr>\n",
       "    <tr>\n",
       "      <th>7</th>\n",
       "      <td>K.B</td>\n",
       "      <td>58</td>\n",
       "      <td>55</td>\n",
       "      <td>34</td>\n",
       "      <td>36</td>\n",
       "      <td>17</td>\n",
       "      <td>18</td>\n",
       "    </tr>\n",
       "    <tr>\n",
       "      <th>8</th>\n",
       "      <td>K.J</td>\n",
       "      <td>50</td>\n",
       "      <td>50</td>\n",
       "      <td>33</td>\n",
       "      <td>35</td>\n",
       "      <td>17</td>\n",
       "      <td>20</td>\n",
       "    </tr>\n",
       "    <tr>\n",
       "      <th>9</th>\n",
       "      <td>S.S</td>\n",
       "      <td>48</td>\n",
       "      <td>50</td>\n",
       "      <td>39</td>\n",
       "      <td>45</td>\n",
       "      <td>21</td>\n",
       "      <td>25</td>\n",
       "    </tr>\n",
       "    <tr>\n",
       "      <th>10</th>\n",
       "      <td>S.P</td>\n",
       "      <td>56</td>\n",
       "      <td>48</td>\n",
       "      <td>37</td>\n",
       "      <td>37</td>\n",
       "      <td>31</td>\n",
       "      <td>35</td>\n",
       "    </tr>\n",
       "    <tr>\n",
       "      <th>11</th>\n",
       "      <td>S.J</td>\n",
       "      <td>43</td>\n",
       "      <td>41</td>\n",
       "      <td>33</td>\n",
       "      <td>37</td>\n",
       "      <td>15</td>\n",
       "      <td>22</td>\n",
       "    </tr>\n",
       "  </tbody>\n",
       "</table>\n",
       "</div>"
      ],
      "text/plain": [
       "     이름  감량전 악력  감량후 악력  감량전 윗몸일으키기  감량후 윗몸일으키기  감량전 턱걸이  감량후 턱걸이\n",
       "0   B.S      43      41          35          41       25       29\n",
       "1   P.J      42      41          40          44       25       29\n",
       "2   G.G      52      50          36          41       22       23\n",
       "3   A.L      53      52          38          42       10       15\n",
       "4   I.H      44      40          36          42       15       19\n",
       "5   B.Y      46      47          39          44       17       19\n",
       "6   I.K      48      47          35          42       24       26\n",
       "7   K.B      58      55          34          36       17       18\n",
       "8   K.J      50      50          33          35       17       20\n",
       "9   S.S      48      50          39          45       21       25\n",
       "10  S.P      56      48          37          37       31       35\n",
       "11  S.J      43      41          33          37       15       22"
      ]
     },
     "execution_count": 13,
     "metadata": {},
     "output_type": "execute_result"
    }
   ],
   "source": [
    "df4 = read_excel(\"https://data.hossam.kr/E02/wrestler_diet.xlsx\")\n",
    "df4"
   ]
  },
  {
   "cell_type": "markdown",
   "metadata": {},
   "source": [
    "> 가정 : 감량전의 악력은 감량후의 악력와 차이가 있다.\n",
    "\n",
    "|가설|내용|\n",
    "|---|----|\n",
    "|귀무가설| 감량전의 악력은 감량후의 악력와 차이가 없다.|\n",
    "|대립가설| 감량전의 악력은 감량후의 악력와 차이가 있다.|"
   ]
  },
  {
   "cell_type": "code",
   "execution_count": 20,
   "metadata": {},
   "outputs": [
    {
     "data": {
      "text/plain": [
       "TtestResult(statistic=2.3654081485744824, pvalue=0.037454446305019644, df=11)"
      ]
     },
     "execution_count": 20,
     "metadata": {},
     "output_type": "execute_result"
    }
   ],
   "source": [
    "stats.ttest_rel(df4['감량전 악력'], df4['감량후 악력'], alternative = 'two-sided')"
   ]
  },
  {
   "cell_type": "markdown",
   "metadata": {},
   "source": [
    "- 결과해석 :\n",
    "- 차이값에 대한 t검정통계량은 2.37 대응되는 유의확률은 0.04로 유의수준0.05보다 작으므로 (귀무가설기각) 감량전의 악력과 감량후의 악력에 차이가 있다. 체중감량은 악력에 영향을 준다."
   ]
  },
  {
   "cell_type": "markdown",
   "metadata": {},
   "source": [
    "> 가정 : 감량전의 윗몸일으키기는 감량후의 윗몸일으키기와 차이가 있다.\n",
    "\n",
    "|가설|내용|\n",
    "|---|----|\n",
    "|귀무가설| 감량전의 윗몸일으키기는 감량후의 윗몸일으키기와 차이가 없다.|\n",
    "|대립가설| 감량전의 윗몸일으키기는 감량후의 윗몸일으키기와 차이가 있다.|"
   ]
  },
  {
   "cell_type": "code",
   "execution_count": 21,
   "metadata": {},
   "outputs": [
    {
     "data": {
      "text/plain": [
       "TtestResult(statistic=-7.179926973956724, pvalue=1.798236117030195e-05, df=11)"
      ]
     },
     "execution_count": 21,
     "metadata": {},
     "output_type": "execute_result"
    }
   ],
   "source": [
    "stats.ttest_rel(df4['감량전 윗몸일으키기'], df4['감량후 윗몸일으키기'], alternative = 'two-sided')"
   ]
  },
  {
   "cell_type": "markdown",
   "metadata": {},
   "source": [
    "- 결과해석:\n",
    "- 차이값에 대한 t검정통계량은 7.1 대응되는 유의확률은 -1.79로 유의수준 0.05보다 작으므로 귀무가설기각. 감량전의 윗몸일으키기는 감량전의 윗몸일으키기와 차이가 있다. 체중감량은 윗몸일으키기에 영향을 준다."
   ]
  },
  {
   "cell_type": "markdown",
   "metadata": {},
   "source": [
    "> 가정 : 감량전의 턱걸이는 감량후의 턱걸이와 차이가 있다.\n",
    "\n",
    "|가설|내용|\n",
    "|---|----|\n",
    "|귀무가설| 감량전의 턱걸이는 감량후의 턱걸이와 차이가 없다.|\n",
    "|대립가설| 감량전의 턱걸이는 감량후의 턱걸이와 차이가 있다.|"
   ]
  },
  {
   "cell_type": "code",
   "execution_count": 22,
   "metadata": {},
   "outputs": [
    {
     "data": {
      "text/plain": [
       "TtestResult(statistic=-6.841977654731714, pvalue=2.7937021187235204e-05, df=11)"
      ]
     },
     "execution_count": 22,
     "metadata": {},
     "output_type": "execute_result"
    }
   ],
   "source": [
    "stats.ttest_rel(df4['감량전 턱걸이'], df4['감량후 턱걸이'], alternative = 'two-sided')"
   ]
  },
  {
   "cell_type": "markdown",
   "metadata": {},
   "source": [
    "- 결과해석:\n",
    "- 차이값에 대한 t검정통계량은 6.8 대응되는 유의확률은 -2.79로 유의수준 0.05보다 작으므로 귀무가설기각. 감량전의 턱걸이는 감량전의 턱걸이와 차이가 있다. 체중감량은 턱걸이에 영향을 준다."
   ]
  },
  {
   "cell_type": "markdown",
   "metadata": {},
   "source": [
    "#### 반복문으로 풀기"
   ]
  },
  {
   "cell_type": "code",
   "execution_count": 14,
   "metadata": {},
   "outputs": [
    {
     "data": {
      "text/plain": [
       "Index(['감량전 악력', '감량후 악력', '감량전 윗몸일으키기', '감량후 윗몸일으키기', '감량전 턱걸이', '감량후 턱걸이'], dtype='object')"
      ]
     },
     "execution_count": 14,
     "metadata": {},
     "output_type": "execute_result"
    }
   ],
   "source": [
    "df4 = df4.set_index('이름')\n",
    "cols = df4.columns\n",
    "cols"
   ]
  },
  {
   "cell_type": "code",
   "execution_count": 16,
   "metadata": {},
   "outputs": [
    {
     "data": {
      "text/plain": [
       "6"
      ]
     },
     "execution_count": 16,
     "metadata": {},
     "output_type": "execute_result"
    }
   ],
   "source": [
    "n = len(cols)\n",
    "n"
   ]
  },
  {
   "cell_type": "code",
   "execution_count": 24,
   "metadata": {},
   "outputs": [
    {
     "name": "stdout",
     "output_type": "stream",
     "text": [
      "0 1\n",
      "TtestResult(statistic=2.3654081485744824, pvalue=0.037454446305019644, df=11)\n",
      "2 3\n",
      "TtestResult(statistic=-7.179926973956724, pvalue=1.798236117030195e-05, df=11)\n",
      "4 5\n",
      "TtestResult(statistic=-6.841977654731714, pvalue=2.7937021187235204e-05, df=11)\n"
     ]
    }
   ],
   "source": [
    "for i  in range(0,n,2):\n",
    "    print(i, i+1)\n",
    "    result = stats.ttest_rel(df4[df4.columns[i]], df4[df4.columns[i+1]], alternative = 'two-sided')\n",
    "    print(result)"
   ]
  },
  {
   "cell_type": "code",
   "execution_count": null,
   "metadata": {},
   "outputs": [],
   "source": []
  }
 ],
 "metadata": {
  "kernelspec": {
   "display_name": "Python 3",
   "language": "python",
   "name": "python3"
  },
  "language_info": {
   "codemirror_mode": {
    "name": "ipython",
    "version": 3
   },
   "file_extension": ".py",
   "mimetype": "text/x-python",
   "name": "python",
   "nbconvert_exporter": "python",
   "pygments_lexer": "ipython3",
   "version": "3.11.4"
  },
  "orig_nbformat": 4
 },
 "nbformat": 4,
 "nbformat_minor": 2
}
