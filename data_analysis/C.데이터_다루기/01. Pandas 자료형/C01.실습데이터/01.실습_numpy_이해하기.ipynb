{
 "cells": [
  {
   "attachments": {},
   "cell_type": "markdown",
   "metadata": {},
   "source": [
    "### Numpy\n",
    "# 다차원 배열을 쉽게 처리하고 효율적으로 사용할 수 있도록 지원하는 파이썬 패키지\n",
    "# 데이터 구조 외에도 수치 계산을 위해 효율적으로 구현된 기능을 제공(수학,과학에 쓰이는 공식이 내장되어 있음)\n",
    "# 데이터 분석에서 Pandas와 함께 자주 사용하는 도구\n",
    "\n",
    "# 자료구조의 발전과정 쉽게 이해하기 : List --> Numpy --> Series --> DataFrame"
   ]
  },
  {
   "attachments": {},
   "cell_type": "markdown",
   "metadata": {},
   "source": [
    "### 1. Numpy의 역할\n",
    "# 데이터를 숫자형식으로 변환\n",
    "# 파이썬의 list자료형의 경우 데이터의 크기가 커질수록 저장 및 가공에 효율성을 보장하지 못한다. => 보안 : Numpy"
   ]
  },
  {
   "cell_type": "code",
   "execution_count": null,
   "metadata": {},
   "outputs": [],
   "source": [
    "# 1. Numpy 설치하기\n",
    "!pip install --upgrade numpy"
   ]
  },
  {
   "cell_type": "code",
   "execution_count": 2,
   "metadata": {},
   "outputs": [],
   "source": [
    "# 2. Numpy 패키지 가져오기\n",
    "import numpy"
   ]
  },
  {
   "attachments": {},
   "cell_type": "markdown",
   "metadata": {},
   "source": [
    "1차배열"
   ]
  },
  {
   "cell_type": "code",
   "execution_count": null,
   "metadata": {},
   "outputs": [],
   "source": [
    "# 3. Numpy 패키지 사용하기\n",
    "# 1) 배열(array) 생성\n",
    "# 1차원 배열 \n",
    "arr = numpy.array([1,3,5,7,9])\n",
    "\n",
    "arr #array([1, 3, 5, 7, 9])\n",
    "\n",
    "# 2) List를 보완한 것이기 때문에 -> list에 관한 사항들을 쓸 수 있다.\n",
    "# -1. len() 사용 가능\n",
    "size = len(arr)\n",
    "print(\"배열의 원소는 %d개 입니다.\" % size) #배열의 원소는 5개 입니다.\n",
    "# -2. 인덱스 번호 접근 가능\n",
    "print(arr[0]) #1\n",
    "print(arr[1]) #3\n",
    "print(arr[2]) #5\n",
    "# -3. 반복문 통해 각 원소에 접근 가능\n",
    "for i, v in enumerate(arr):\n",
    "    print(\"%d번째 원소 >> %d\" % (i,v))\n",
    "        #0번째 원소 >> 1\n",
    "        #1번째 원소 >> 3\n",
    "        #2번째 원소 >> 5\n",
    "        #3번째 원소 >> 7\n",
    "        #4번째 원소 >> 9\n",
    "        "
   ]
  },
  {
   "cell_type": "code",
   "execution_count": null,
   "metadata": {},
   "outputs": [],
   "source": [
    "# 4. numpy배열의 특성\n",
    "# -1. List와 달리 배열은 원소의 타입이 서로 다른 것을 허용하지 않는다.\n",
    "#       = 가장 포괄적인 형태의 자료형으로 통일\n",
    "arr3 = numpy.array([1 ,2.4 ,3 ,4.6])\n",
    "arr3 #array([1. , 2.4, 3. , 4.6])\n",
    "\n",
    "# -2. 정수, 실수, 문자열이 포함된 리스트를 배열로 변환\n",
    "#       = 모든 타입이 문자열로 변환되어 있음\n",
    "arr4 = numpy.array([1.2, 3, '4'])\n",
    "arr4  #array(['1.2', '3', '4'], dtype='<U32')\n",
    "\n",
    "# -3. 모든 원소의 타입을 강제로 int(정수)fh wlwjd\n",
    "#       = 소수점 아래 값들은 모두 버려진다.\n",
    "arr5 = numpy.array([1, 2.4, 3, 4.6], dtype='int')\n",
    "arr5 #array([1, 2, 3, 4])"
   ]
  },
  {
   "cell_type": "code",
   "execution_count": null,
   "metadata": {},
   "outputs": [],
   "source": [
    "# 5. numpy배열의 기초 통계값\n",
    "grade = numpy.array([82, 77,91, 88])\n",
    "grade\n",
    "\n",
    "# 모든 원소의 합\n",
    "s1 = numpy.sum(grade)\n",
    "\n",
    "# 모든 원소의 평균\n",
    "s2 = numpy.average(grade)\n",
    "\n",
    "# 최대, 최소값\n",
    "s3 = numpy.max(grade)\n",
    "s4 = numpy.min(grade)"
   ]
  },
  {
   "cell_type": "code",
   "execution_count": 13,
   "metadata": {},
   "outputs": [],
   "source": [
    "# 6. numpy배열의 각 원소에 대한 연산\n",
    "grade = numpy.array([82, 77,91, 88])\n",
    "# 모든 원소에 대해 +2\n",
    "new1 = grade + 2\n",
    "# 모든 원소에 대해 -5\n",
    "new2 = grade -5"
   ]
  },
  {
   "cell_type": "code",
   "execution_count": null,
   "metadata": {},
   "outputs": [],
   "source": [
    "# 7. numpy배열끼리의 연산 \n",
    "arr1 = numpy.array([10,15,20,25,30])\n",
    "arr2 = numpy.array([2,3,4,5,6])\n",
    "print(arr1) #[10 15 20 25 30]\n",
    "print(arr2) #[2 3 4 5 6]\n",
    "\n",
    "a = arr1 + arr2\n",
    "a #array([12, 18, 24, 30, 36])\n",
    "\n",
    "a = numpy.add(arr1,arr2)\n",
    "a\n",
    "\n",
    "b = arr1 - arr2\n",
    "b #array([ 8, 12, 16, 20, 24])\n",
    "\n",
    "b = numpy.subtract(arr1, arr2)\n",
    "b\n",
    "\n",
    "c = arr1 * arr2\n",
    "c #array([ 20,  45,  80, 125, 180])\n",
    "\n",
    "c = numpy.multiply(arr1, arr2)\n",
    "c\n",
    "\n",
    "d = arr1 / arr2\n",
    "d #array([5., 5., 5., 5., 5.])\n",
    "\n",
    "d = numpy.divide(arr1, arr2)\n",
    "d\n",
    "\n"
   ]
  },
  {
   "cell_type": "code",
   "execution_count": null,
   "metadata": {},
   "outputs": [],
   "source": [
    "# 8. numpy배열의 기본인덱싱, 슬라이싱\n",
    "grade = numpy.array([82,77,91,88])\n",
    "grade\n",
    "\n",
    "# -1. 인덱싱\n",
    "grade[2] #array([91])\n",
    "\n",
    "# -2. 슬라이싱\n",
    "grade[1:3] #array([77, 91])\n",
    "grade[:2]  #array([82,77])\n",
    "grade[1:]  #array([77, 91, 88])"
   ]
  },
  {
   "cell_type": "code",
   "execution_count": null,
   "metadata": {},
   "outputs": [],
   "source": [
    "# 9. 조건에 맞는 값 추출하기\n",
    "grade = numpy.array([82,77,91,88])\n",
    "bool_array = numpy.array([True, False, True, False])\n",
    "bool_array #array([ True, False,  True, False])\n",
    "\n",
    "#조건에 맞는 항목만 1차 배열로 추출 \n",
    "result1 = grade[bool_array]\n",
    "result1 #array([82, 91])\n",
    "\n",
    "# 80점 이상인지 판별된 조건에 맞는 데이터만 추려냄\n",
    "result2 = grade[grade>=80]\n",
    "result2 #array([82, 91, 88])\n",
    "\n",
    "# logical_and함수를 사용하여 80점 이상이고 90점 이하인 데이터만 추려냄\n",
    "result3 = grade[numpy.logical_and(grade>=80, grade<=90)]\n",
    "result3 #array([82, 88])\n"
   ]
  },
  {
   "attachments": {},
   "cell_type": "markdown",
   "metadata": {},
   "source": [
    "2차배열"
   ]
  },
  {
   "cell_type": "code",
   "execution_count": 28,
   "metadata": {},
   "outputs": [
    {
     "data": {
      "text/plain": [
       "dtype('int32')"
      ]
     },
     "execution_count": 28,
     "metadata": {},
     "output_type": "execute_result"
    }
   ],
   "source": [
    "# 1. 2차배열 생성 및 조회\n",
    "# -1. 생성 조회\n",
    "grade = numpy.array([\n",
    "    [98, 72, 80, 64], #0행 = kor\n",
    "    [88, 90, 80, 72], #1행 = eng\n",
    "    [92, 88, 82, 76]  #2행 = math\n",
    "])\n",
    "grade\n",
    "\n",
    "# -2. 차원의 크기\n",
    "grade.ndim\n",
    "\n",
    "# -3. 각 차원의 원소수\n",
    "grade.shape  #(3, 4)\n",
    "\n",
    "# -4. 각 원소의 타입\n",
    "grade.dtype #dtype('int32')"
   ]
  },
  {
   "cell_type": "code",
   "execution_count": null,
   "metadata": {},
   "outputs": [],
   "source": [
    "# 2. 기본 인덱싱과 슬라이싱\n",
    "grade = numpy.array([\n",
    "    [98, 72, 80, 64], #0행 = kor\n",
    "    [88, 90, 80, 72], #1행 = eng\n",
    "    [92, 88, 82, 76]  #2행 = math\n",
    "])\n",
    "grade\n",
    "\n",
    "# -1. 정수형 인덱싱 (1행 2열 접근 방식)\n",
    "grade[1,2]\n",
    "\n",
    "# -2. 정수형 인덱싱 (1행 2열 접근 방식)\n",
    "grade[1][2]\n",
    "\n",
    "# 슬라이싱 (1~3행, 1~4열 범위 접근 방식)\n",
    "grade[1:3][1:4] "
   ]
  },
  {
   "cell_type": "code",
   "execution_count": null,
   "metadata": {},
   "outputs": [],
   "source": [
    "# 3. 기초통계산출\n",
    "s1 = numpy.sum(grade, axis=0) #세로로 더하기\n",
    "s2 = numpy.sum(grade, axis=1) #가로로 더하기"
   ]
  },
  {
   "cell_type": "code",
   "execution_count": 32,
   "metadata": {},
   "outputs": [
    {
     "data": {
      "text/plain": [
       "array([98, 72, 64, 72, 92, 76])"
      ]
     },
     "execution_count": 32,
     "metadata": {},
     "output_type": "execute_result"
    }
   ],
   "source": [
    "# 4. 조건에 맞는 값 추출하기\n",
    "bool_array = numpy.array([\n",
    "    [True, False, True, False],\n",
    "    [True, True, True, False],\n",
    "    [True, True, True, False],    \n",
    "])\n",
    "\n",
    "result1 = grade[bool_array] #True만 추출\n",
    "result1 #array([98, 80, 88, 90, 80, 92, 88, 82])\n",
    "\n",
    "result2 = grade[grade >= 80]\n",
    "result2\n",
    "\n",
    "result3 = grade[numpy.logical_and(grade>=80, grade<=90)]\n",
    "result3\n",
    "\n",
    "result4 = grade[numpy.logical_or(grade<80, grade>90)]\n",
    "result4"
   ]
  },
  {
   "cell_type": "code",
   "execution_count": null,
   "metadata": {},
   "outputs": [],
   "source": []
  }
 ],
 "metadata": {
  "kernelspec": {
   "display_name": "Python 3",
   "language": "python",
   "name": "python3"
  },
  "language_info": {
   "codemirror_mode": {
    "name": "ipython",
    "version": 3
   },
   "file_extension": ".py",
   "mimetype": "text/x-python",
   "name": "python",
   "nbconvert_exporter": "python",
   "pygments_lexer": "ipython3",
   "version": "3.11.4"
  },
  "orig_nbformat": 4
 },
 "nbformat": 4,
 "nbformat_minor": 2
}
