{
 "cells": [
  {
   "cell_type": "markdown",
   "metadata": {},
   "source": [
    "모델 개선\n",
    "===============\n",
    "\n",
    "모델 개선하는 과정이므로 참고해서 각자 진행하세요\n"
   ]
  },
  {
   "cell_type": "markdown",
   "metadata": {},
   "source": [
    "기준 : aic"
   ]
  },
  {
   "cell_type": "markdown",
   "metadata": {},
   "source": [
    "파이썬 모듈\n",
    "---------"
   ]
  },
  {
   "cell_type": "code",
   "execution_count": 1,
   "metadata": {},
   "outputs": [],
   "source": [
    "import pandas as pd\n",
    "from statsmodels.formula.api import ols, logit\n",
    "import numpy as np\n",
    "from scipy import stats\n",
    "import sys\n",
    "import seaborn as sb\n",
    "from matplotlib import pyplot as plt\n",
    "import os\n",
    "sys.path.append(r\"C:\\Users\\User\\Documents\\카카오톡 받은 파일\")\n",
    "import 부분별_분석_모델"
   ]
  },
  {
   "cell_type": "code",
   "execution_count": 10,
   "metadata": {},
   "outputs": [
    {
     "data": {
      "text/html": [
       "<div>\n",
       "<style scoped>\n",
       "    .dataframe tbody tr th:only-of-type {\n",
       "        vertical-align: middle;\n",
       "    }\n",
       "\n",
       "    .dataframe tbody tr th {\n",
       "        vertical-align: top;\n",
       "    }\n",
       "\n",
       "    .dataframe thead th {\n",
       "        text-align: right;\n",
       "    }\n",
       "</style>\n",
       "<table border=\"1\" class=\"dataframe\">\n",
       "  <thead>\n",
       "    <tr style=\"text-align: right;\">\n",
       "      <th></th>\n",
       "      <th>삶의 사다리 점수</th>\n",
       "      <th>(가)건강 만족도</th>\n",
       "      <th>(나)가족의 수입 만족도</th>\n",
       "      <th>(다)주거 환경 만족도</th>\n",
       "      <th>(라)가족관계 만족도</th>\n",
       "      <th>(마)직업 만족도</th>\n",
       "      <th>(바)사회적 친분관계 만족도</th>\n",
       "      <th>(사)여가생활 만족도</th>\n",
       "    </tr>\n",
       "  </thead>\n",
       "  <tbody>\n",
       "    <tr>\n",
       "      <th>0</th>\n",
       "      <td>6</td>\n",
       "      <td>2</td>\n",
       "      <td>1</td>\n",
       "      <td>3</td>\n",
       "      <td>3</td>\n",
       "      <td>2</td>\n",
       "      <td>3</td>\n",
       "      <td>3</td>\n",
       "    </tr>\n",
       "    <tr>\n",
       "      <th>1</th>\n",
       "      <td>5</td>\n",
       "      <td>2</td>\n",
       "      <td>4</td>\n",
       "      <td>4</td>\n",
       "      <td>4</td>\n",
       "      <td>4</td>\n",
       "      <td>4</td>\n",
       "      <td>4</td>\n",
       "    </tr>\n",
       "    <tr>\n",
       "      <th>2</th>\n",
       "      <td>4</td>\n",
       "      <td>5</td>\n",
       "      <td>2</td>\n",
       "      <td>4</td>\n",
       "      <td>2</td>\n",
       "      <td>4</td>\n",
       "      <td>4</td>\n",
       "      <td>3</td>\n",
       "    </tr>\n",
       "    <tr>\n",
       "      <th>3</th>\n",
       "      <td>4</td>\n",
       "      <td>2</td>\n",
       "      <td>2</td>\n",
       "      <td>3</td>\n",
       "      <td>2</td>\n",
       "      <td>3</td>\n",
       "      <td>2</td>\n",
       "      <td>2</td>\n",
       "    </tr>\n",
       "    <tr>\n",
       "      <th>4</th>\n",
       "      <td>9</td>\n",
       "      <td>4</td>\n",
       "      <td>2</td>\n",
       "      <td>4</td>\n",
       "      <td>2</td>\n",
       "      <td>4</td>\n",
       "      <td>3</td>\n",
       "      <td>4</td>\n",
       "    </tr>\n",
       "    <tr>\n",
       "      <th>...</th>\n",
       "      <td>...</td>\n",
       "      <td>...</td>\n",
       "      <td>...</td>\n",
       "      <td>...</td>\n",
       "      <td>...</td>\n",
       "      <td>...</td>\n",
       "      <td>...</td>\n",
       "      <td>...</td>\n",
       "    </tr>\n",
       "    <tr>\n",
       "      <th>3329</th>\n",
       "      <td>8</td>\n",
       "      <td>4</td>\n",
       "      <td>4</td>\n",
       "      <td>4</td>\n",
       "      <td>4</td>\n",
       "      <td>4</td>\n",
       "      <td>4</td>\n",
       "      <td>4</td>\n",
       "    </tr>\n",
       "    <tr>\n",
       "      <th>3330</th>\n",
       "      <td>9</td>\n",
       "      <td>4</td>\n",
       "      <td>4</td>\n",
       "      <td>4</td>\n",
       "      <td>4</td>\n",
       "      <td>4</td>\n",
       "      <td>4</td>\n",
       "      <td>3</td>\n",
       "    </tr>\n",
       "    <tr>\n",
       "      <th>3331</th>\n",
       "      <td>5</td>\n",
       "      <td>3</td>\n",
       "      <td>4</td>\n",
       "      <td>4</td>\n",
       "      <td>3</td>\n",
       "      <td>3</td>\n",
       "      <td>3</td>\n",
       "      <td>3</td>\n",
       "    </tr>\n",
       "    <tr>\n",
       "      <th>3332</th>\n",
       "      <td>8</td>\n",
       "      <td>4</td>\n",
       "      <td>3</td>\n",
       "      <td>4</td>\n",
       "      <td>4</td>\n",
       "      <td>4</td>\n",
       "      <td>4</td>\n",
       "      <td>4</td>\n",
       "    </tr>\n",
       "    <tr>\n",
       "      <th>3333</th>\n",
       "      <td>4</td>\n",
       "      <td>4</td>\n",
       "      <td>3</td>\n",
       "      <td>4</td>\n",
       "      <td>4</td>\n",
       "      <td>3</td>\n",
       "      <td>3</td>\n",
       "      <td>3</td>\n",
       "    </tr>\n",
       "  </tbody>\n",
       "</table>\n",
       "<p>3334 rows × 8 columns</p>\n",
       "</div>"
      ],
      "text/plain": [
       "      삶의 사다리 점수  (가)건강 만족도  (나)가족의 수입 만족도  (다)주거 환경 만족도  (라)가족관계 만족도  \\\n",
       "0             6          2              1             3            3   \n",
       "1             5          2              4             4            4   \n",
       "2             4          5              2             4            2   \n",
       "3             4          2              2             3            2   \n",
       "4             9          4              2             4            2   \n",
       "...         ...        ...            ...           ...          ...   \n",
       "3329          8          4              4             4            4   \n",
       "3330          9          4              4             4            4   \n",
       "3331          5          3              4             4            3   \n",
       "3332          8          4              3             4            4   \n",
       "3333          4          4              3             4            4   \n",
       "\n",
       "      (마)직업 만족도  (바)사회적 친분관계 만족도  (사)여가생활 만족도  \n",
       "0             2                3            3  \n",
       "1             4                4            4  \n",
       "2             4                4            3  \n",
       "3             3                2            2  \n",
       "4             4                3            4  \n",
       "...         ...              ...          ...  \n",
       "3329          4                4            4  \n",
       "3330          4                4            3  \n",
       "3331          3                3            3  \n",
       "3332          4                4            4  \n",
       "3333          3                3            3  \n",
       "\n",
       "[3334 rows x 8 columns]"
      ]
     },
     "execution_count": 10,
     "metadata": {},
     "output_type": "execute_result"
    }
   ],
   "source": [
    "data = pd.read_excel(r'C:\\Users\\User\\MDblue\\세미프로젝트3\\데이터분석\\카테고리_소분류완료.xlsx',usecols=['(가)건강 만족도',\n",
    " '(나)가족의 수입 만족도',\n",
    " '(다)주거 환경 만족도',\n",
    " '(라)가족관계 만족도',\n",
    " '(마)직업 만족도',\n",
    " '(바)사회적 친분관계 만족도',\n",
    " '(사)여가생활 만족도',\n",
    " '삶의 사다리 점수'])\n",
    "data"
   ]
  },
  {
   "cell_type": "code",
   "execution_count": 13,
   "metadata": {},
   "outputs": [
    {
     "name": "stdout",
     "output_type": "stream",
     "text": [
      "Optimization terminated successfully.\n",
      "         Current function value: 0.541904\n",
      "         Iterations 6\n",
      "Optimization terminated successfully.\n",
      "         Current function value: 0.652613\n",
      "         Iterations 5\n",
      "Optimization terminated successfully.\n",
      "         Current function value: 0.517124\n",
      "         Iterations 6\n",
      "Optimization terminated successfully.\n",
      "         Current function value: 0.517368\n",
      "         Iterations 6\n",
      "Optimization terminated successfully.\n",
      "         Current function value: 0.518016\n",
      "         Iterations 6\n"
     ]
    },
    {
     "name": "stderr",
     "output_type": "stream",
     "text": [
      "c:\\Users\\User\\Desktop\\부분별_분석_모델.py:69: SettingWithCopyWarning: \n",
      "A value is trying to be set on a copy of a slice from a DataFrame.\n",
      "Try using .loc[row_indexer,col_indexer] = value instead\n",
      "\n",
      "See the caveats in the documentation: https://pandas.pydata.org/pandas-docs/stable/user_guide/indexing.html#returning-a-view-versus-a-copy\n",
      "  top_df[\"삶의사다리점수_변형\"]=top_df[\"삶의사다리점수\"].apply(lambda x:1 if x>top_df[\"삶의사다리점수\"].mean() else 0)\n",
      "c:\\Users\\User\\Desktop\\부분별_분석_모델.py:77: SettingWithCopyWarning: \n",
      "A value is trying to be set on a copy of a slice from a DataFrame.\n",
      "Try using .loc[row_indexer,col_indexer] = value instead\n",
      "\n",
      "See the caveats in the documentation: https://pandas.pydata.org/pandas-docs/stable/user_guide/indexing.html#returning-a-view-versus-a-copy\n",
      "  low_df[\"삶의사다리점수_변형\"]=low_df[\"삶의사다리점수\"].apply(lambda x:1 if x>low_df[\"삶의사다리점수\"].mean() else 0)\n"
     ]
    }
   ],
   "source": [
    "result=부분별_분석_모델.lgt(data)"
   ]
  },
  {
   "cell_type": "code",
   "execution_count": 14,
   "metadata": {},
   "outputs": [
    {
     "data": {
      "text/plain": [
       "{'중상위': <statsmodels.discrete.discrete_model.BinaryResultsWrapper at 0x261a77ec890>,\n",
       " '최상위': <statsmodels.discrete.discrete_model.BinaryResultsWrapper at 0x261a845a950>,\n",
       " '최하위': <statsmodels.discrete.discrete_model.BinaryResultsWrapper at 0x261adcee190>}"
      ]
     },
     "execution_count": 14,
     "metadata": {},
     "output_type": "execute_result"
    }
   ],
   "source": [
    "result"
   ]
  },
  {
   "cell_type": "code",
   "execution_count": 15,
   "metadata": {},
   "outputs": [
    {
     "data": {
      "text/html": [
       "<table class=\"simpletable\">\n",
       "<caption>Logit Regression Results</caption>\n",
       "<tr>\n",
       "  <th>Dep. Variable:</th>      <td>삶의사다리점수_변형</td>    <th>  No. Observations:  </th>  <td>  1420</td>  \n",
       "</tr>\n",
       "<tr>\n",
       "  <th>Model:</th>                 <td>Logit</td>      <th>  Df Residuals:      </th>  <td>  1412</td>  \n",
       "</tr>\n",
       "<tr>\n",
       "  <th>Method:</th>                 <td>MLE</td>       <th>  Df Model:          </th>  <td>     7</td>  \n",
       "</tr>\n",
       "<tr>\n",
       "  <th>Date:</th>            <td>Fri, 18 Aug 2023</td> <th>  Pseudo R-squ.:     </th>  <td>0.04766</td> \n",
       "</tr>\n",
       "<tr>\n",
       "  <th>Time:</th>                <td>18:04:37</td>     <th>  Log-Likelihood:    </th> <td> -926.71</td> \n",
       "</tr>\n",
       "<tr>\n",
       "  <th>converged:</th>             <td>True</td>       <th>  LL-Null:           </th> <td> -973.08</td> \n",
       "</tr>\n",
       "<tr>\n",
       "  <th>Covariance Type:</th>     <td>nonrobust</td>    <th>  LLR p-value:       </th> <td>3.374e-17</td>\n",
       "</tr>\n",
       "</table>\n",
       "<table class=\"simpletable\">\n",
       "<tr>\n",
       "       <td></td>         <th>coef</th>     <th>std err</th>      <th>z</th>      <th>P>|z|</th>  <th>[0.025</th>    <th>0.975]</th>  \n",
       "</tr>\n",
       "<tr>\n",
       "  <th>Intercept</th>  <td>   -4.6671</td> <td>    0.652</td> <td>   -7.155</td> <td> 0.000</td> <td>   -5.946</td> <td>   -3.389</td>\n",
       "</tr>\n",
       "<tr>\n",
       "  <th>건강만족도</th>      <td>    0.2200</td> <td>    0.064</td> <td>    3.439</td> <td> 0.001</td> <td>    0.095</td> <td>    0.345</td>\n",
       "</tr>\n",
       "<tr>\n",
       "  <th>가족의수입만족도</th>   <td>    0.0648</td> <td>    0.075</td> <td>    0.868</td> <td> 0.385</td> <td>   -0.081</td> <td>    0.211</td>\n",
       "</tr>\n",
       "<tr>\n",
       "  <th>주거환경만족도</th>    <td>    0.1435</td> <td>    0.113</td> <td>    1.271</td> <td> 0.204</td> <td>   -0.078</td> <td>    0.365</td>\n",
       "</tr>\n",
       "<tr>\n",
       "  <th>가족관계만족도</th>    <td>    0.2079</td> <td>    0.108</td> <td>    1.926</td> <td> 0.054</td> <td>   -0.004</td> <td>    0.420</td>\n",
       "</tr>\n",
       "<tr>\n",
       "  <th>직업만족도</th>      <td>    0.4823</td> <td>    0.108</td> <td>    4.454</td> <td> 0.000</td> <td>    0.270</td> <td>    0.695</td>\n",
       "</tr>\n",
       "<tr>\n",
       "  <th>사회적친분관계만족도</th> <td>    0.1841</td> <td>    0.121</td> <td>    1.526</td> <td> 0.127</td> <td>   -0.052</td> <td>    0.421</td>\n",
       "</tr>\n",
       "<tr>\n",
       "  <th>여가생활만족도</th>    <td>    0.0381</td> <td>    0.095</td> <td>    0.402</td> <td> 0.688</td> <td>   -0.148</td> <td>    0.224</td>\n",
       "</tr>\n",
       "</table>"
      ],
      "text/latex": [
       "\\begin{center}\n",
       "\\begin{tabular}{lclc}\n",
       "\\toprule\n",
       "\\textbf{Dep. Variable:}   &   삶의사다리점수\\_변형    & \\textbf{  No. Observations:  } &     1420    \\\\\n",
       "\\textbf{Model:}           &      Logit       & \\textbf{  Df Residuals:      } &     1412    \\\\\n",
       "\\textbf{Method:}          &       MLE        & \\textbf{  Df Model:          } &        7    \\\\\n",
       "\\textbf{Date:}            & Fri, 18 Aug 2023 & \\textbf{  Pseudo R-squ.:     } &  0.04766    \\\\\n",
       "\\textbf{Time:}            &     18:04:37     & \\textbf{  Log-Likelihood:    } &   -926.71   \\\\\n",
       "\\textbf{converged:}       &       True       & \\textbf{  LL-Null:           } &   -973.08   \\\\\n",
       "\\textbf{Covariance Type:} &    nonrobust     & \\textbf{  LLR p-value:       } & 3.374e-17   \\\\\n",
       "\\bottomrule\n",
       "\\end{tabular}\n",
       "\\begin{tabular}{lcccccc}\n",
       "                    & \\textbf{coef} & \\textbf{std err} & \\textbf{z} & \\textbf{P$> |$z$|$} & \\textbf{[0.025} & \\textbf{0.975]}  \\\\\n",
       "\\midrule\n",
       "\\textbf{Intercept}  &      -4.6671  &        0.652     &    -7.155  &         0.000        &       -5.946    &       -3.389     \\\\\n",
       "\\textbf{건강만족도}      &       0.2200  &        0.064     &     3.439  &         0.001        &        0.095    &        0.345     \\\\\n",
       "\\textbf{가족의수입만족도}   &       0.0648  &        0.075     &     0.868  &         0.385        &       -0.081    &        0.211     \\\\\n",
       "\\textbf{주거환경만족도}    &       0.1435  &        0.113     &     1.271  &         0.204        &       -0.078    &        0.365     \\\\\n",
       "\\textbf{가족관계만족도}    &       0.2079  &        0.108     &     1.926  &         0.054        &       -0.004    &        0.420     \\\\\n",
       "\\textbf{직업만족도}      &       0.4823  &        0.108     &     4.454  &         0.000        &        0.270    &        0.695     \\\\\n",
       "\\textbf{사회적친분관계만족도} &       0.1841  &        0.121     &     1.526  &         0.127        &       -0.052    &        0.421     \\\\\n",
       "\\textbf{여가생활만족도}    &       0.0381  &        0.095     &     0.402  &         0.688        &       -0.148    &        0.224     \\\\\n",
       "\\bottomrule\n",
       "\\end{tabular}\n",
       "%\\caption{Logit Regression Results}\n",
       "\\end{center}"
      ],
      "text/plain": [
       "<class 'statsmodels.iolib.summary.Summary'>\n",
       "\"\"\"\n",
       "                           Logit Regression Results                           \n",
       "==============================================================================\n",
       "Dep. Variable:             삶의사다리점수_변형   No. Observations:                 1420\n",
       "Model:                          Logit   Df Residuals:                     1412\n",
       "Method:                           MLE   Df Model:                            7\n",
       "Date:                Fri, 18 Aug 2023   Pseudo R-squ.:                 0.04766\n",
       "Time:                        18:04:37   Log-Likelihood:                -926.71\n",
       "converged:                       True   LL-Null:                       -973.08\n",
       "Covariance Type:            nonrobust   LLR p-value:                 3.374e-17\n",
       "==============================================================================\n",
       "                 coef    std err          z      P>|z|      [0.025      0.975]\n",
       "------------------------------------------------------------------------------\n",
       "Intercept     -4.6671      0.652     -7.155      0.000      -5.946      -3.389\n",
       "건강만족도          0.2200      0.064      3.439      0.001       0.095       0.345\n",
       "가족의수입만족도       0.0648      0.075      0.868      0.385      -0.081       0.211\n",
       "주거환경만족도        0.1435      0.113      1.271      0.204      -0.078       0.365\n",
       "가족관계만족도        0.2079      0.108      1.926      0.054      -0.004       0.420\n",
       "직업만족도          0.4823      0.108      4.454      0.000       0.270       0.695\n",
       "사회적친분관계만족도     0.1841      0.121      1.526      0.127      -0.052       0.421\n",
       "여가생활만족도        0.0381      0.095      0.402      0.688      -0.148       0.224\n",
       "==============================================================================\n",
       "\"\"\""
      ]
     },
     "execution_count": 15,
     "metadata": {},
     "output_type": "execute_result"
    }
   ],
   "source": [
    "result[\"최상위\"].summary()"
   ]
  },
  {
   "cell_type": "code",
   "execution_count": null,
   "metadata": {},
   "outputs": [
    {
     "data": {
      "text/plain": [
       "0.6147887323943662"
      ]
     },
     "execution_count": 26,
     "metadata": {},
     "output_type": "execute_result"
    }
   ],
   "source": [
    "부분별_분석_모델.aucc(result[\"최상위\"])"
   ]
  },
  {
   "cell_type": "code",
   "execution_count": null,
   "metadata": {},
   "outputs": [
    {
     "name": "stdout",
     "output_type": "stream",
     "text": [
      "Optimization terminated successfully.\n",
      "         Current function value: 0.574306\n",
      "         Iterations 6\n",
      "Optimization terminated successfully.\n",
      "         Current function value: 0.654799\n",
      "         Iterations 5\n",
      "Optimization terminated successfully.\n",
      "         Current function value: 0.534753\n",
      "         Iterations 6\n"
     ]
    },
    {
     "name": "stderr",
     "output_type": "stream",
     "text": [
      "c:\\Users\\User\\Desktop\\부분별_분석_모델.py:42: SettingWithCopyWarning: \n",
      "A value is trying to be set on a copy of a slice from a DataFrame.\n",
      "Try using .loc[row_indexer,col_indexer] = value instead\n",
      "\n",
      "See the caveats in the documentation: https://pandas.pydata.org/pandas-docs/stable/user_guide/indexing.html#returning-a-view-versus-a-copy\n",
      "  top_df[\"삶의사다리점수_변형\"]=top_df[\"삶의사다리점수\"].apply(lambda x:1 if x>top_df[\"삶의사다리점수\"].mean() else 0)\n",
      "c:\\Users\\User\\Desktop\\부분별_분석_모델.py:46: SettingWithCopyWarning: \n",
      "A value is trying to be set on a copy of a slice from a DataFrame.\n",
      "Try using .loc[row_indexer,col_indexer] = value instead\n",
      "\n",
      "See the caveats in the documentation: https://pandas.pydata.org/pandas-docs/stable/user_guide/indexing.html#returning-a-view-versus-a-copy\n",
      "  low_df[\"삶의사다리점수_변형\"]=low_df[\"삶의사다리점수\"].apply(lambda x:1 if x>low_df[\"삶의사다리점수\"].mean() else 0)\n"
     ]
    }
   ],
   "source": [
    "임시=부분별_분석_모델.lgt(data[data.columns.difference([\"(사)여가생활 만족도\",'(나)가족의 수입 만족도','(다)주거 환경 만족도','(바)사회적 친분관계 만족도'])])"
   ]
  },
  {
   "cell_type": "code",
   "execution_count": null,
   "metadata": {},
   "outputs": [
    {
     "data": {
      "text/html": [
       "<table class=\"simpletable\">\n",
       "<caption>Logit Regression Results</caption>\n",
       "<tr>\n",
       "  <th>Dep. Variable:</th>      <td>삶의사다리점수_변형</td>    <th>  No. Observations:  </th>  <td>  1420</td>  \n",
       "</tr>\n",
       "<tr>\n",
       "  <th>Model:</th>                 <td>Logit</td>      <th>  Df Residuals:      </th>  <td>  1416</td>  \n",
       "</tr>\n",
       "<tr>\n",
       "  <th>Method:</th>                 <td>MLE</td>       <th>  Df Model:          </th>  <td>     3</td>  \n",
       "</tr>\n",
       "<tr>\n",
       "  <th>Date:</th>            <td>Fri, 18 Aug 2023</td> <th>  Pseudo R-squ.:     </th>  <td>0.04447</td> \n",
       "</tr>\n",
       "<tr>\n",
       "  <th>Time:</th>                <td>17:20:48</td>     <th>  Log-Likelihood:    </th> <td> -929.81</td> \n",
       "</tr>\n",
       "<tr>\n",
       "  <th>converged:</th>             <td>True</td>       <th>  LL-Null:           </th> <td> -973.08</td> \n",
       "</tr>\n",
       "<tr>\n",
       "  <th>Covariance Type:</th>     <td>nonrobust</td>    <th>  LLR p-value:       </th> <td>1.214e-18</td>\n",
       "</tr>\n",
       "</table>\n",
       "<table class=\"simpletable\">\n",
       "<tr>\n",
       "      <td></td>         <th>coef</th>     <th>std err</th>      <th>z</th>      <th>P>|z|</th>  <th>[0.025</th>    <th>0.975]</th>  \n",
       "</tr>\n",
       "<tr>\n",
       "  <th>Intercept</th> <td>   -3.7604</td> <td>    0.507</td> <td>   -7.424</td> <td> 0.000</td> <td>   -4.753</td> <td>   -2.768</td>\n",
       "</tr>\n",
       "<tr>\n",
       "  <th>건강만족도</th>     <td>    0.2489</td> <td>    0.062</td> <td>    4.039</td> <td> 0.000</td> <td>    0.128</td> <td>    0.370</td>\n",
       "</tr>\n",
       "<tr>\n",
       "  <th>가족관계만족도</th>   <td>    0.2776</td> <td>    0.103</td> <td>    2.690</td> <td> 0.007</td> <td>    0.075</td> <td>    0.480</td>\n",
       "</tr>\n",
       "<tr>\n",
       "  <th>직업만족도</th>     <td>    0.5723</td> <td>    0.100</td> <td>    5.702</td> <td> 0.000</td> <td>    0.376</td> <td>    0.769</td>\n",
       "</tr>\n",
       "</table>"
      ],
      "text/latex": [
       "\\begin{center}\n",
       "\\begin{tabular}{lclc}\n",
       "\\toprule\n",
       "\\textbf{Dep. Variable:}   &   삶의사다리점수\\_변형    & \\textbf{  No. Observations:  } &     1420    \\\\\n",
       "\\textbf{Model:}           &      Logit       & \\textbf{  Df Residuals:      } &     1416    \\\\\n",
       "\\textbf{Method:}          &       MLE        & \\textbf{  Df Model:          } &        3    \\\\\n",
       "\\textbf{Date:}            & Fri, 18 Aug 2023 & \\textbf{  Pseudo R-squ.:     } &  0.04447    \\\\\n",
       "\\textbf{Time:}            &     17:20:48     & \\textbf{  Log-Likelihood:    } &   -929.81   \\\\\n",
       "\\textbf{converged:}       &       True       & \\textbf{  LL-Null:           } &   -973.08   \\\\\n",
       "\\textbf{Covariance Type:} &    nonrobust     & \\textbf{  LLR p-value:       } & 1.214e-18   \\\\\n",
       "\\bottomrule\n",
       "\\end{tabular}\n",
       "\\begin{tabular}{lcccccc}\n",
       "                   & \\textbf{coef} & \\textbf{std err} & \\textbf{z} & \\textbf{P$> |$z$|$} & \\textbf{[0.025} & \\textbf{0.975]}  \\\\\n",
       "\\midrule\n",
       "\\textbf{Intercept} &      -3.7604  &        0.507     &    -7.424  &         0.000        &       -4.753    &       -2.768     \\\\\n",
       "\\textbf{건강만족도}     &       0.2489  &        0.062     &     4.039  &         0.000        &        0.128    &        0.370     \\\\\n",
       "\\textbf{가족관계만족도}   &       0.2776  &        0.103     &     2.690  &         0.007        &        0.075    &        0.480     \\\\\n",
       "\\textbf{직업만족도}     &       0.5723  &        0.100     &     5.702  &         0.000        &        0.376    &        0.769     \\\\\n",
       "\\bottomrule\n",
       "\\end{tabular}\n",
       "%\\caption{Logit Regression Results}\n",
       "\\end{center}"
      ],
      "text/plain": [
       "<class 'statsmodels.iolib.summary.Summary'>\n",
       "\"\"\"\n",
       "                           Logit Regression Results                           \n",
       "==============================================================================\n",
       "Dep. Variable:             삶의사다리점수_변형   No. Observations:                 1420\n",
       "Model:                          Logit   Df Residuals:                     1416\n",
       "Method:                           MLE   Df Model:                            3\n",
       "Date:                Fri, 18 Aug 2023   Pseudo R-squ.:                 0.04447\n",
       "Time:                        17:20:48   Log-Likelihood:                -929.81\n",
       "converged:                       True   LL-Null:                       -973.08\n",
       "Covariance Type:            nonrobust   LLR p-value:                 1.214e-18\n",
       "==============================================================================\n",
       "                 coef    std err          z      P>|z|      [0.025      0.975]\n",
       "------------------------------------------------------------------------------\n",
       "Intercept     -3.7604      0.507     -7.424      0.000      -4.753      -2.768\n",
       "건강만족도          0.2489      0.062      4.039      0.000       0.128       0.370\n",
       "가족관계만족도        0.2776      0.103      2.690      0.007       0.075       0.480\n",
       "직업만족도          0.5723      0.100      5.702      0.000       0.376       0.769\n",
       "==============================================================================\n",
       "\"\"\""
      ]
     },
     "execution_count": 36,
     "metadata": {},
     "output_type": "execute_result"
    }
   ],
   "source": [
    "임시[\"최상위\"].summary()"
   ]
  },
  {
   "cell_type": "code",
   "execution_count": null,
   "metadata": {},
   "outputs": [
    {
     "data": {
      "text/plain": [
       "False"
      ]
     },
     "execution_count": 49,
     "metadata": {},
     "output_type": "execute_result"
    }
   ],
   "source": [
    "any(임시[\"최상위\"].pvalues.to_frame()>0.05)"
   ]
  },
  {
   "cell_type": "code",
   "execution_count": null,
   "metadata": {},
   "outputs": [
    {
     "data": {
      "text/plain": [
       "0.6105633802816901"
      ]
     },
     "execution_count": 38,
     "metadata": {},
     "output_type": "execute_result"
    }
   ],
   "source": [
    "부분별_분석_모델.aucc(임시[\"최상위\"])"
   ]
  },
  {
   "cell_type": "markdown",
   "metadata": {},
   "source": [
    "1. \n",
    "모든 회귀계수가 통계적으로 유의미함\n",
    "2.\n",
    "aic값이 증가함\n",
    "3.\n",
    "남은 column의 개수가 ()보다 적어짐 "
   ]
  }
 ],
 "metadata": {
  "kernelspec": {
   "display_name": "Python 3",
   "language": "python",
   "name": "python3"
  },
  "language_info": {
   "codemirror_mode": {
    "name": "ipython",
    "version": 3
   },
   "file_extension": ".py",
   "mimetype": "text/x-python",
   "name": "python",
   "nbconvert_exporter": "python",
   "pygments_lexer": "ipython3",
   "version": "3.11.4"
  },
  "orig_nbformat": 4
 },
 "nbformat": 4,
 "nbformat_minor": 2
}
